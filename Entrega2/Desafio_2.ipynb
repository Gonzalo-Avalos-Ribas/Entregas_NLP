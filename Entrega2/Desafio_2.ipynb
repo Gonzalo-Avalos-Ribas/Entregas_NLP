{
 "cells": [
  {
   "cell_type": "markdown",
   "metadata": {},
   "source": [
    "# Dataset: Libros de Harry potter del 1 al 7"
   ]
  },
  {
   "cell_type": "code",
   "execution_count": 1,
   "metadata": {},
   "outputs": [],
   "source": [
    "import pandas as pd\n",
    "import matplotlib.pyplot as plt\n",
    "import seaborn as sns\n",
    "\n",
    "import multiprocessing\n",
    "from gensim.models import Word2Vec\n",
    "#Usando el dataset de kaggle => https://www.kaggle.com/datasets/shubhammaindola/harry-potter-books"
   ]
  },
  {
   "cell_type": "code",
   "execution_count": 2,
   "metadata": {},
   "outputs": [
    {
     "name": "stderr",
     "output_type": "stream",
     "text": [
      "C:\\Users\\Gonzalo\\AppData\\Local\\Temp\\ipykernel_8228\\6120507.py:3: ParserWarning: Falling back to the 'python' engine because the 'c' engine does not support regex separators (separators > 1 char and different from '\\s+' are interpreted as regex); you can avoid this warning by specifying engine='python'.\n",
      "  dataframes.append(pd.read_csv(f'{i}.txt', sep='\\\\n', header=None))\n",
      "C:\\Users\\Gonzalo\\AppData\\Local\\Temp\\ipykernel_8228\\6120507.py:3: ParserWarning: Falling back to the 'python' engine because the 'c' engine does not support regex separators (separators > 1 char and different from '\\s+' are interpreted as regex); you can avoid this warning by specifying engine='python'.\n",
      "  dataframes.append(pd.read_csv(f'{i}.txt', sep='\\\\n', header=None))\n",
      "C:\\Users\\Gonzalo\\AppData\\Local\\Temp\\ipykernel_8228\\6120507.py:3: ParserWarning: Falling back to the 'python' engine because the 'c' engine does not support regex separators (separators > 1 char and different from '\\s+' are interpreted as regex); you can avoid this warning by specifying engine='python'.\n",
      "  dataframes.append(pd.read_csv(f'{i}.txt', sep='\\\\n', header=None))\n",
      "C:\\Users\\Gonzalo\\AppData\\Local\\Temp\\ipykernel_8228\\6120507.py:3: ParserWarning: Falling back to the 'python' engine because the 'c' engine does not support regex separators (separators > 1 char and different from '\\s+' are interpreted as regex); you can avoid this warning by specifying engine='python'.\n",
      "  dataframes.append(pd.read_csv(f'{i}.txt', sep='\\\\n', header=None))\n",
      "C:\\Users\\Gonzalo\\AppData\\Local\\Temp\\ipykernel_8228\\6120507.py:3: ParserWarning: Falling back to the 'python' engine because the 'c' engine does not support regex separators (separators > 1 char and different from '\\s+' are interpreted as regex); you can avoid this warning by specifying engine='python'.\n",
      "  dataframes.append(pd.read_csv(f'{i}.txt', sep='\\\\n', header=None))\n",
      "C:\\Users\\Gonzalo\\AppData\\Local\\Temp\\ipykernel_8228\\6120507.py:3: ParserWarning: Falling back to the 'python' engine because the 'c' engine does not support regex separators (separators > 1 char and different from '\\s+' are interpreted as regex); you can avoid this warning by specifying engine='python'.\n",
      "  dataframes.append(pd.read_csv(f'{i}.txt', sep='\\\\n', header=None))\n",
      "C:\\Users\\Gonzalo\\AppData\\Local\\Temp\\ipykernel_8228\\6120507.py:3: ParserWarning: Falling back to the 'python' engine because the 'c' engine does not support regex separators (separators > 1 char and different from '\\s+' are interpreted as regex); you can avoid this warning by specifying engine='python'.\n",
      "  dataframes.append(pd.read_csv(f'{i}.txt', sep='\\\\n', header=None))\n"
     ]
    }
   ],
   "source": [
    "dataframes = []\n",
    "# Concatenamos los libros en un solo dataframe\n",
    "for i in range(1,8):\n",
    "    dataframes.append(pd.read_csv(f'{i}.txt', sep='\\\\n', header=None)) \n",
    "df = pd.concat(dataframes)"
   ]
  },
  {
   "cell_type": "code",
   "execution_count": 3,
   "metadata": {},
   "outputs": [
    {
     "name": "stdout",
     "output_type": "stream",
     "text": [
      "Cantidad de documentos: 38272\n"
     ]
    }
   ],
   "source": [
    "print(\"Cantidad de documentos:\", df.shape[0])"
   ]
  },
  {
   "cell_type": "code",
   "execution_count": 4,
   "metadata": {},
   "outputs": [],
   "source": [
    "from keras.preprocessing.text import text_to_word_sequence\n",
    "\n",
    "sentence_tokens = []\n",
    "# Recorrer todas las filas y transformar las oraciones\n",
    "# en una secuencia de palabras (esto podría realizarse con NLTK o spaCy también)\n",
    "for _, row in df[:None].iterrows():\n",
    "    sentence_tokens.append(text_to_word_sequence(row[0]))"
   ]
  },
  {
   "cell_type": "code",
   "execution_count": 5,
   "metadata": {},
   "outputs": [
    {
     "data": {
      "text/plain": [
       "[['mr',\n",
       "  'dursley',\n",
       "  'was',\n",
       "  'the',\n",
       "  'director',\n",
       "  'of',\n",
       "  'a',\n",
       "  'firm',\n",
       "  'called',\n",
       "  'grunnings',\n",
       "  'which',\n",
       "  'made',\n",
       "  'drills',\n",
       "  'he',\n",
       "  'was',\n",
       "  'a',\n",
       "  'big',\n",
       "  'beefy',\n",
       "  'man',\n",
       "  'with',\n",
       "  'hardly',\n",
       "  'any',\n",
       "  'neck',\n",
       "  'although',\n",
       "  'he',\n",
       "  'did',\n",
       "  'have',\n",
       "  'a',\n",
       "  'very',\n",
       "  'large',\n",
       "  'mustache',\n",
       "  'mrs',\n",
       "  'dursley',\n",
       "  'was',\n",
       "  'thin',\n",
       "  'and',\n",
       "  'blonde',\n",
       "  'and',\n",
       "  'had',\n",
       "  'nearly',\n",
       "  'twice',\n",
       "  'the',\n",
       "  'usual',\n",
       "  'amount',\n",
       "  'of',\n",
       "  'neck',\n",
       "  'which',\n",
       "  'came',\n",
       "  'in',\n",
       "  'very',\n",
       "  'useful',\n",
       "  'as',\n",
       "  'she',\n",
       "  'spent',\n",
       "  'so',\n",
       "  'much',\n",
       "  'of',\n",
       "  'her',\n",
       "  'time',\n",
       "  'craning',\n",
       "  'over',\n",
       "  'garden',\n",
       "  'fences',\n",
       "  'spying',\n",
       "  'on',\n",
       "  'the',\n",
       "  'neighbors',\n",
       "  'the',\n",
       "  'dursleys',\n",
       "  'had',\n",
       "  'a',\n",
       "  'small',\n",
       "  'son',\n",
       "  'called',\n",
       "  'dudley',\n",
       "  'and',\n",
       "  'in',\n",
       "  'their',\n",
       "  'opinion',\n",
       "  'there',\n",
       "  'was',\n",
       "  'no',\n",
       "  'finer',\n",
       "  'boy',\n",
       "  'anywhere']]"
      ]
     },
     "execution_count": 5,
     "metadata": {},
     "output_type": "execute_result"
    }
   ],
   "source": [
    "# Demos un vistazo\n",
    "sentence_tokens[1:2]"
   ]
  },
  {
   "cell_type": "code",
   "execution_count": 6,
   "metadata": {},
   "outputs": [],
   "source": [
    "from gensim.models.callbacks import CallbackAny2Vec\n",
    "# Durante el entrenamiento gensim por defecto no informa el \"loss\" en cada época\n",
    "# Sobrecargamos el callback para poder tener esta información\n",
    "class callback(CallbackAny2Vec):\n",
    "    \"\"\"\n",
    "    Callback to print loss after each epoch\n",
    "    \"\"\"\n",
    "    def __init__(self):\n",
    "        self.epoch = 0\n",
    "\n",
    "    def on_epoch_end(self, model):\n",
    "        loss = model.get_latest_training_loss()\n",
    "        if self.epoch == 0:\n",
    "            print('Loss after epoch {}: {}'.format(self.epoch, loss))\n",
    "        else:\n",
    "            print('Loss after epoch {}: {}'.format(self.epoch, loss- self.loss_previous_step))\n",
    "        self.epoch += 1\n",
    "        self.loss_previous_step = loss"
   ]
  },
  {
   "cell_type": "code",
   "execution_count": 7,
   "metadata": {},
   "outputs": [],
   "source": [
    "# Crearmos el modelo generador de vectores\n",
    "# En este caso utilizaremos la estructura modelo Skipgram\n",
    "w2v_model = Word2Vec(min_count=5,    # frecuencia mínima de palabra para incluirla en el vocabulario\n",
    "                     window=10,       # cant de palabras antes y desp de la predicha\n",
    "                     vector_size=300,       # dimensionalidad de los vectores \n",
    "                     negative=5,    # cantidad de negative samples... 0 es no se usa\n",
    "                     workers=6,      # si tienen más cores pueden cambiar este valor\n",
    "                     sg=1)           # modelo 0:CBOW  1:skipgram"
   ]
  },
  {
   "cell_type": "code",
   "execution_count": 8,
   "metadata": {},
   "outputs": [],
   "source": [
    "# Obtener el vocabulario con los tokens\n",
    "w2v_model.build_vocab(sentence_tokens)"
   ]
  },
  {
   "cell_type": "code",
   "execution_count": 9,
   "metadata": {},
   "outputs": [
    {
     "name": "stdout",
     "output_type": "stream",
     "text": [
      "Cantidad de docs en el corpus: 38272\n"
     ]
    }
   ],
   "source": [
    "# Cantidad de filas/docs encontradas en el corpus\n",
    "print(\"Cantidad de docs en el corpus:\", w2v_model.corpus_count)"
   ]
  },
  {
   "cell_type": "code",
   "execution_count": 10,
   "metadata": {},
   "outputs": [
    {
     "name": "stdout",
     "output_type": "stream",
     "text": [
      "Cantidad de words distintas en el corpus: 10163\n"
     ]
    }
   ],
   "source": [
    "# Cantidad de words encontradas en el corpus\n",
    "print(\"Cantidad de words distintas en el corpus:\", len(w2v_model.wv.index_to_key))"
   ]
  },
  {
   "cell_type": "code",
   "execution_count": 11,
   "metadata": {},
   "outputs": [
    {
     "name": "stdout",
     "output_type": "stream",
     "text": [
      "Loss after epoch 0: 3084895.75\n",
      "Loss after epoch 1: 2622288.75\n",
      "Loss after epoch 2: 2712124.5\n",
      "Loss after epoch 3: 2113660.0\n",
      "Loss after epoch 4: 2327628.0\n",
      "Loss after epoch 5: 2286750.0\n",
      "Loss after epoch 6: 2202929.0\n",
      "Loss after epoch 7: 1884844.0\n",
      "Loss after epoch 8: 2009040.0\n",
      "Loss after epoch 9: 1884380.0\n",
      "Loss after epoch 10: 1952580.0\n",
      "Loss after epoch 11: 1869538.0\n",
      "Loss after epoch 12: 1938254.0\n",
      "Loss after epoch 13: 1863456.0\n",
      "Loss after epoch 14: 1758618.0\n",
      "Loss after epoch 15: 1450894.0\n",
      "Loss after epoch 16: 1057060.0\n",
      "Loss after epoch 17: 996964.0\n",
      "Loss after epoch 18: 1039124.0\n",
      "Loss after epoch 19: 1076684.0\n",
      "Loss after epoch 20: 1082456.0\n",
      "Loss after epoch 21: 993520.0\n",
      "Loss after epoch 22: 1085432.0\n",
      "Loss after epoch 23: 989268.0\n",
      "Loss after epoch 24: 967252.0\n",
      "Loss after epoch 25: 1126832.0\n",
      "Loss after epoch 26: 966548.0\n",
      "Loss after epoch 27: 1000436.0\n",
      "Loss after epoch 28: 975732.0\n",
      "Loss after epoch 29: 1058508.0\n",
      "Loss after epoch 30: 995184.0\n",
      "Loss after epoch 31: 1051760.0\n",
      "Loss after epoch 32: 1028972.0\n",
      "Loss after epoch 33: 957100.0\n",
      "Loss after epoch 34: 1072328.0\n",
      "Loss after epoch 35: 1023264.0\n",
      "Loss after epoch 36: 948604.0\n",
      "Loss after epoch 37: 1041016.0\n",
      "Loss after epoch 38: 1091608.0\n",
      "Loss after epoch 39: 958848.0\n",
      "Loss after epoch 40: 1052032.0\n",
      "Loss after epoch 41: 1039368.0\n",
      "Loss after epoch 42: 1036112.0\n",
      "Loss after epoch 43: 1024636.0\n",
      "Loss after epoch 44: 1038348.0\n",
      "Loss after epoch 45: 929852.0\n",
      "Loss after epoch 46: 987640.0\n",
      "Loss after epoch 47: 931268.0\n",
      "Loss after epoch 48: 547108.0\n",
      "Loss after epoch 49: 50728.0\n",
      "Loss after epoch 50: 51440.0\n",
      "Loss after epoch 51: 46552.0\n",
      "Loss after epoch 52: 51280.0\n",
      "Loss after epoch 53: 52456.0\n",
      "Loss after epoch 54: 50128.0\n",
      "Loss after epoch 55: 50096.0\n",
      "Loss after epoch 56: 48728.0\n",
      "Loss after epoch 57: 48736.0\n",
      "Loss after epoch 58: 47184.0\n",
      "Loss after epoch 59: 45776.0\n",
      "Loss after epoch 60: 50648.0\n",
      "Loss after epoch 61: 40440.0\n",
      "Loss after epoch 62: 39536.0\n",
      "Loss after epoch 63: 43824.0\n",
      "Loss after epoch 64: 49000.0\n",
      "Loss after epoch 65: 44064.0\n",
      "Loss after epoch 66: 47736.0\n",
      "Loss after epoch 67: 41704.0\n",
      "Loss after epoch 68: 42192.0\n",
      "Loss after epoch 69: 45944.0\n",
      "Loss after epoch 70: 43048.0\n",
      "Loss after epoch 71: 44112.0\n",
      "Loss after epoch 72: 41752.0\n",
      "Loss after epoch 73: 43880.0\n",
      "Loss after epoch 74: 46096.0\n",
      "Loss after epoch 75: 42288.0\n",
      "Loss after epoch 76: 42016.0\n",
      "Loss after epoch 77: 37568.0\n",
      "Loss after epoch 78: 43800.0\n",
      "Loss after epoch 79: 42544.0\n",
      "Loss after epoch 80: 38792.0\n",
      "Loss after epoch 81: 41960.0\n",
      "Loss after epoch 82: 39920.0\n",
      "Loss after epoch 83: 39288.0\n",
      "Loss after epoch 84: 35336.0\n",
      "Loss after epoch 85: 37384.0\n",
      "Loss after epoch 86: 37912.0\n",
      "Loss after epoch 87: 36280.0\n",
      "Loss after epoch 88: 39000.0\n",
      "Loss after epoch 89: 34544.0\n",
      "Loss after epoch 90: 37944.0\n",
      "Loss after epoch 91: 38752.0\n",
      "Loss after epoch 92: 37632.0\n",
      "Loss after epoch 93: 37856.0\n",
      "Loss after epoch 94: 37784.0\n",
      "Loss after epoch 95: 36400.0\n",
      "Loss after epoch 96: 34312.0\n",
      "Loss after epoch 97: 35552.0\n",
      "Loss after epoch 98: 31608.0\n",
      "Loss after epoch 99: 33104.0\n"
     ]
    },
    {
     "data": {
      "text/plain": [
       "(83457992, 113333600)"
      ]
     },
     "execution_count": 11,
     "metadata": {},
     "output_type": "execute_result"
    }
   ],
   "source": [
    "# Entrenamos el modelo generador de vectores\n",
    "# Utilizamos nuestro callback\n",
    "w2v_model.train(sentence_tokens,\n",
    "                 total_examples=w2v_model.corpus_count,\n",
    "                 epochs=100,\n",
    "                 compute_loss = True,\n",
    "                 callbacks=[callback()]\n",
    "                 )"
   ]
  },
  {
   "cell_type": "code",
   "execution_count": 12,
   "metadata": {},
   "outputs": [
    {
     "data": {
      "text/plain": [
       "[('he', 0.6850086450576782),\n",
       " ('ron', 0.5960882902145386),\n",
       " ('hermione', 0.4831894338130951),\n",
       " ('him', 0.46857279539108276),\n",
       " ('and', 0.4490784704685211),\n",
       " ('said', 0.42848458886146545),\n",
       " ('his', 0.41926339268684387),\n",
       " ('it', 0.4162467420101166),\n",
       " ('”', 0.4122045636177063),\n",
       " ('as', 0.4089873731136322)]"
      ]
     },
     "execution_count": 12,
     "metadata": {},
     "output_type": "execute_result"
    }
   ],
   "source": [
    "# Palabras que MÁS se relacionan con...:\n",
    "w2v_model.wv.most_similar(positive=[\"harry\"], topn=10)"
   ]
  },
  {
   "cell_type": "code",
   "execution_count": 13,
   "metadata": {},
   "outputs": [
    {
     "data": {
      "text/plain": [
       "[('lord', 0.6292930245399475),\n",
       " ('voldemort’s', 0.38940370082855225),\n",
       " ('immortality', 0.36425358057022095),\n",
       " ('wormtail', 0.36049556732177734),\n",
       " ('he', 0.3439558744430542),\n",
       " ('feared', 0.33317017555236816),\n",
       " ('invincible', 0.3108333945274353),\n",
       " ('snake', 0.3100906014442444),\n",
       " ('circle', 0.3047996163368225),\n",
       " ('conquer', 0.30204200744628906)]"
      ]
     },
     "execution_count": 13,
     "metadata": {},
     "output_type": "execute_result"
    }
   ],
   "source": [
    "w2v_model.wv.most_similar(positive=[\"voldemort\"], topn=10)"
   ]
  },
  {
   "cell_type": "code",
   "execution_count": 14,
   "metadata": {},
   "outputs": [
    {
     "data": {
      "text/plain": [
       "[('witch', 0.4107772707939148),\n",
       " ('wheezes', 0.3700721859931946),\n",
       " ('greatest', 0.3216624855995178),\n",
       " ('medieval', 0.3148975372314453),\n",
       " ('prison', 0.31101515889167786),\n",
       " ('scrubby', 0.3020804524421692),\n",
       " ('‘welcome', 0.30207064747810364),\n",
       " ('skilled', 0.2969333529472351),\n",
       " ('theft', 0.29167717695236206),\n",
       " ('balding', 0.28956884145736694)]"
      ]
     },
     "execution_count": 14,
     "metadata": {},
     "output_type": "execute_result"
    }
   ],
   "source": [
    "w2v_model.wv.most_similar(positive=[\"wizard\"], topn=10)"
   ]
  },
  {
   "cell_type": "code",
   "execution_count": 15,
   "metadata": {},
   "outputs": [
    {
     "data": {
      "text/plain": [
       "[('crisp', 0.028767915442585945),\n",
       " ('revealed', 0.028761764988303185),\n",
       " ('currently', 0.024292947724461555),\n",
       " ('treatment', 0.021710041910409927),\n",
       " ('linked', 0.02014129050076008),\n",
       " ('olive', 0.017442792654037476),\n",
       " ('stains', 0.009978296235203743),\n",
       " ('follows', 0.006171269342303276),\n",
       " ('reported', 0.005646741483360529),\n",
       " ('grew', 0.004339051432907581)]"
      ]
     },
     "execution_count": 15,
     "metadata": {},
     "output_type": "execute_result"
    }
   ],
   "source": [
    "#Palabras que menos se relacionen con harry\n",
    "w2v_model.wv.most_similar(negative=[\"harry\"], topn=10)"
   ]
  },
  {
   "cell_type": "code",
   "execution_count": 16,
   "metadata": {},
   "outputs": [
    {
     "data": {
      "text/plain": [
       "[('woman', 0.6813039183616638),\n",
       " ('wizard', 0.5909514427185059),\n",
       " ('witch', 0.3089601993560791),\n",
       " ('wheezes', 0.30751878023147583),\n",
       " ('‘welcome', 0.26939547061920166),\n",
       " ('haughtily', 0.2688998281955719),\n",
       " ('despised', 0.2663593590259552),\n",
       " (\"'sturgis\", 0.2603462338447571),\n",
       " ('timid', 0.25758087635040283),\n",
       " ('“watch', 0.2551276683807373)]"
      ]
     },
     "execution_count": 16,
     "metadata": {},
     "output_type": "execute_result"
    }
   ],
   "source": [
    "# Por analogia, wizard (masculino) - hombre + mujer = witch (femenino)\n",
    "a = w2v_model.wv.get_vector(\"wizard\")\n",
    "b = w2v_model.wv.get_vector(\"man\")\n",
    "c = w2v_model.wv.get_vector(\"woman\")\n",
    "w2v_model.wv.most_similar(a-b+c)"
   ]
  },
  {
   "cell_type": "code",
   "execution_count": 17,
   "metadata": {},
   "outputs": [],
   "source": [
    "from sklearn.decomposition import IncrementalPCA    \n",
    "from sklearn.manifold import TSNE                   \n",
    "import numpy as np                                  \n",
    "\n",
    "def reduce_dimensions(model, num_dimensions = 2 ):\n",
    "     \n",
    "    vectors = np.asarray(model.wv.vectors)\n",
    "    labels = np.asarray(model.wv.index_to_key)  \n",
    "\n",
    "    tsne = TSNE(n_components=num_dimensions, random_state=0)\n",
    "    vectors = tsne.fit_transform(vectors)\n",
    "\n",
    "    return vectors, labels"
   ]
  },
  {
   "cell_type": "code",
   "execution_count": 18,
   "metadata": {},
   "outputs": [
    {
     "data": {
      "application/vnd.plotly.v1+json": {
       "config": {
        "plotlyServerURL": "https://plot.ly"
       },
       "data": [
        {
         "hovertemplate": "x=%{x}<br>y=%{y}<br>z=%{z}<br>text=%{text}<extra></extra>",
         "legendgroup": "",
         "marker": {
          "color": "#636efa",
          "size": 2,
          "symbol": "circle"
         },
         "mode": "markers+text",
         "name": "",
         "scene": "scene",
         "showlegend": false,
         "text": [
          "the",
          "to",
          "and",
          "of",
          "a",
          "”",
          "he",
          "harry",
          "was",
          "said",
          "his",
          "in",
          "it",
          "you",
          "had",
          "that",
          "at",
          "'",
          "as",
          "i",
          "on",
          "him",
          "with",
          "they",
          "ron",
          "for",
          "her",
          "not",
          "but",
          "hermione",
          "she",
          "be",
          "up",
          "out",
          "were",
          "them",
          "all",
          "have",
          "from",
          "’",
          "into",
          "what",
          "been",
          "there",
          "back",
          "this",
          "who",
          "is",
          "me",
          "could",
          "dumbledore",
          "so",
          "their",
          "then",
          "one",
          "about",
          "know",
          "over",
          "now",
          "like",
          "down",
          "looked",
          "if",
          "we",
          "an",
          "when",
          "would",
          "by",
          "do",
          "around",
          "just",
          "did",
          "got",
          "your",
          "very",
          "more",
          "“i",
          "no",
          "are",
          "professor",
          "again",
          "off",
          "see",
          "—",
          "though",
          "my",
          "looking",
          "think",
          "still",
          "time",
          "hagrid",
          "wand",
          "eyes",
          "get",
          "face",
          "through",
          "or",
          "snape",
          "right",
          "which",
          "going",
          "voice",
          "weasley",
          "before",
          "than",
          "how",
          "room",
          "go",
          "here",
          "will",
          "head",
          "door",
          "only",
          "–",
          "too",
          "look",
          "thought",
          "…",
          "can",
          "mr",
          "saw",
          "potter",
          "where",
          "something",
          "hand",
          "after",
          "behind",
          "other",
          "malfoy",
          "seemed",
          "way",
          "come",
          "himself",
          "away",
          "asked",
          "told",
          "turned",
          "never",
          "once",
          "last",
          "long",
          "two",
          "much",
          "dark",
          "us",
          "little",
          "knew",
          "even",
          "want",
          "first",
          "sirius",
          "well",
          "made",
          "any",
          "voldemort",
          "tell",
          "heard",
          "left",
          "some",
          "people",
          "black",
          "its",
          "felt",
          "mrs",
          "moment",
          "“you",
          "say",
          "fred",
          "good",
          "great",
          "really",
          "hogwarts",
          "don’t",
          "has",
          "front",
          "ever",
          "might",
          "didn’t",
          "because",
          "came",
          "feet",
          "death",
          "lupin",
          "three",
          "don't",
          "sure",
          "take",
          "took",
          "why",
          "next",
          "old",
          "trying",
          "george",
          "harry’s",
          "anything",
          "make",
          "open",
          "house",
          "another",
          "few"
         ],
         "type": "scatter3d",
         "x": [
          -11.969395,
          -9.48781,
          4.895649,
          -17.923723,
          -12.767157,
          17.511492,
          -6.4514246,
          -74.1158,
          -7.437228,
          163.64053,
          75.112785,
          299.7908,
          120.07726,
          -0.8260287,
          -28.759619,
          -157.24542,
          -0.7284067,
          18.601643,
          -4.135443,
          -10.928184,
          -16.65047,
          156.34604,
          -3.6178324,
          -6.885587,
          31.355484,
          -338.32697,
          -83.67519,
          31.857038,
          -2.5741596,
          32.428158,
          -33.20308,
          -9.467595,
          134.13997,
          -40.68454,
          -10.488165,
          191.44751,
          -258.6166,
          -17.51359,
          -233.06514,
          39.319393,
          2.086164,
          15.688328,
          -38.647137,
          -220.28052,
          6.3113647,
          -13.797171,
          -33.329483,
          -13.533273,
          -2.1634414,
          -4.363321,
          -100.28023,
          -34.12029,
          -15.323154,
          11.435407,
          -14.997863,
          6.1153927,
          4.3852367,
          10.196741,
          6.8037014,
          -9.219712,
          23.859673,
          32.601406,
          -7.3714385,
          2.6847374,
          -38.70138,
          -7.923722,
          -24.906582,
          -29.62082,
          -2.2024388,
          19.85305,
          -20.750046,
          13.10668,
          20.349543,
          -13.481545,
          -0.91186035,
          1.3543032,
          11.460922,
          -1.2048858,
          -7.390459,
          30.75169,
          15.209737,
          32.52032,
          11.578546,
          9.547334,
          -16.909536,
          -16.622082,
          40.106678,
          9.535301,
          18.039152,
          -19.09952,
          25.248644,
          20.237598,
          5.7036767,
          9.839486,
          -0.83917785,
          -1.9885168,
          -25.383469,
          22.943066,
          31.913435,
          -25.909773,
          25.502926,
          43.760387,
          48.52421,
          -15.664151,
          -2.183341,
          -6.4724298,
          4.3904657,
          16.306341,
          20.839653,
          -26.69468,
          6.8407855,
          19.091902,
          -18.939142,
          31.54934,
          12.232035,
          20.141727,
          -18.181236,
          0.5513117,
          3.6951995,
          48.155937,
          -1.3212531,
          -7.665139,
          -2.6089828,
          -7.93415,
          18.216682,
          5.8141165,
          9.762565,
          -7.5796266,
          26.397163,
          -37.659405,
          7.5435243,
          10.290559,
          -7.115027,
          20.530424,
          44.1763,
          3.6009312,
          20.597435,
          -24.90056,
          7.696141,
          -27.422033,
          -11.524254,
          -17.860416,
          -1.7716712,
          -32.160854,
          0.38733903,
          0.21088938,
          -32.42829,
          -8.079382,
          14.085413,
          -24.888199,
          9.699627,
          18.33915,
          3.3659384,
          -13.71916,
          -39.206463,
          2.153711,
          24.963898,
          1.2584144,
          1.2777449,
          -0.52988243,
          -10.984919,
          -12.561142,
          -29.463581,
          48.97618,
          26.19864,
          14.877133,
          12.109862,
          27.093548,
          6.519456,
          -7.0878444,
          23.429855,
          -37.40455,
          9.125607,
          -18.697199,
          13.95311,
          -5.585027,
          -25.153135,
          7.601201,
          -17.895674,
          30.026451,
          13.88434,
          -29.870506,
          47.010933,
          -17.962292,
          14.832686,
          -1.747046,
          -10.641663,
          7.2254157,
          -4.386755,
          0.90423447,
          -34.733402,
          52.425163,
          28.96194,
          -24.06736,
          14.067914,
          -10.658044,
          14.707509,
          -23.37643,
          1.6645255,
          -23.967712
         ],
         "y": [
          17.555891,
          -1.4568723,
          15.645905,
          12.787263,
          6.7395487,
          -36.200382,
          -2.260916,
          -191.757,
          3.601655,
          255.68443,
          48.110573,
          -42.26786,
          56.606594,
          -21.955452,
          -0.52080846,
          251.43582,
          7.1350756,
          -12.274623,
          3.2276564,
          -26.139978,
          -2.9164138,
          159.42233,
          1.0758724,
          31.107107,
          2.44485,
          -70.56668,
          -126.652565,
          18.26853,
          4.830456,
          0.3671482,
          -54.55339,
          -13.093188,
          308.01166,
          -31.172625,
          15.184552,
          67.84442,
          -115.59928,
          -13.455901,
          -12.688556,
          -30.13883,
          14.769552,
          3.209634,
          -11.939601,
          98.81608,
          -33.22194,
          -4.8273807,
          0.35835543,
          -24.941824,
          -33.524235,
          -2.553467,
          -48.951363,
          -15.232073,
          37.57405,
          -13.290446,
          9.577099,
          -1.0444442,
          -11.577832,
          6.3464317,
          6.6560163,
          -24.080729,
          6.7179837,
          6.19769,
          -13.403217,
          -19.25099,
          -0.17032176,
          4.4706006,
          -13.771842,
          23.789207,
          -18.256012,
          21.105455,
          -5.704838,
          -5.7434673,
          -22.701778,
          -37.053654,
          12.847393,
          23.455933,
          -52.081207,
          13.037396,
          -13.855477,
          15.167842,
          -4.143047,
          -11.167895,
          -8.1805105,
          -40.658356,
          -14.039732,
          -35.318756,
          4.669959,
          -17.292875,
          8.225797,
          20.144491,
          -25.540192,
          -28.705736,
          -15.610662,
          -21.33045,
          -24.97403,
          25.295927,
          5.15229,
          -3.0290728,
          -15.843601,
          23.79726,
          -5.118839,
          28.83341,
          1.0026815,
          -3.5931354,
          29.783064,
          2.4180877,
          46.836445,
          -33.71288,
          -36.77444,
          -32.658047,
          -2.2354183,
          38.537518,
          9.447457,
          -35.318428,
          10.006475,
          -28.207113,
          -15.195265,
          -36.81689,
          -36.596992,
          -1.9563725,
          1.4605128,
          -46.96319,
          -10.599153,
          -17.99826,
          -17.093313,
          2.459794,
          29.193222,
          20.894335,
          9.684646,
          0.048118073,
          27.940641,
          -33.60289,
          -6.0982275,
          -9.365192,
          -9.715068,
          -5.696436,
          5.6778045,
          -20.723192,
          10.904016,
          7.1059523,
          -6.408238,
          22.21258,
          25.537878,
          -11.759364,
          -25.331413,
          -7.5027986,
          -2.9430723,
          14.772088,
          -23.99873,
          26.982647,
          -43.06643,
          -11.66762,
          3.729948,
          9.3745775,
          -31.833073,
          -3.0069106,
          38.464764,
          6.4577875,
          26.714573,
          36.352592,
          -3.5816143,
          6.232724,
          -13.127514,
          3.7400856,
          -5.698211,
          -56.384018,
          -5.8322334,
          33.66529,
          11.242301,
          11.41023,
          -8.178834,
          12.716029,
          -33.529476,
          -15.384071,
          26.64173,
          23.068314,
          -27.09347,
          -10.152588,
          5.581267,
          22.22725,
          13.007932,
          36.16238,
          -30.481377,
          47.960716,
          -31.247768,
          0.431022,
          -47.43985,
          -44.224533,
          -2.863302,
          42.465206,
          8.913376,
          -12.82832,
          34.613968,
          -20.800503,
          4.5703444,
          -5.32757,
          34.595993,
          -5.547576,
          -40.976616,
          38.00197
         ],
         "z": [
          18.043222,
          -14.5873165,
          24.84895,
          14.751129,
          18.762817,
          -20.838987,
          7.4704566,
          -185.2656,
          12.109613,
          271.4488,
          325.46866,
          267.75027,
          127.30509,
          -28.659693,
          0.49594307,
          -744.4636,
          11.5383415,
          66.6236,
          22.243572,
          -23.182516,
          13.485956,
          310.08377,
          17.278498,
          2.726481,
          -3.2379115,
          -384.21103,
          -147.55386,
          77.018326,
          -8.816499,
          -5.4637847,
          -64.82959,
          -28.99095,
          -8.01842,
          27.77203,
          -43.62648,
          -71.0048,
          32.706287,
          -23.518705,
          -70.83285,
          -22.634052,
          27.61059,
          -26.382212,
          -0.5509891,
          91.81869,
          -2.2662644,
          -25.633522,
          2.3146346,
          -35.465523,
          -18.849743,
          3.2472963,
          -149.22089,
          -33.394627,
          6.083039,
          22.035822,
          2.092391,
          -26.983725,
          -2.1025462,
          26.724104,
          -4.06013,
          11.442872,
          26.132757,
          35.39815,
          -20.97838,
          -30.772474,
          13.832535,
          -15.75836,
          -16.038572,
          7.378448,
          -25.924166,
          23.34518,
          34.522057,
          -9.912998,
          -20.673712,
          -24.781565,
          -5.088887,
          -19.087313,
          -13.702726,
          -30.871668,
          -46.063953,
          -16.764027,
          18.283934,
          17.82699,
          1.9312098,
          -7.4190397,
          22.327835,
          -19.469774,
          15.1008415,
          -46.204777,
          10.530303,
          -15.0867,
          2.6679814,
          37.143047,
          33.107574,
          -19.424953,
          44.013077,
          25.45317,
          -20.75953,
          3.327695,
          -5.8460226,
          25.72036,
          -41.13437,
          -18.338358,
          -1.1624537,
          1.0712125,
          -22.210783,
          -33.65944,
          16.356325,
          -27.401793,
          -13.028573,
          -29.92194,
          31.135082,
          28.632124,
          -9.6952915,
          -13.906535,
          -13.784327,
          22.42927,
          -6.085302,
          2.9767315,
          -30.25744,
          -0.36437058,
          39.580353,
          0.43492106,
          1.6131376,
          1.2895004,
          48.286404,
          -9.253773,
          23.60355,
          7.432223,
          1.5659865,
          29.970072,
          0.73454344,
          -17.989801,
          20.601038,
          19.018278,
          -39.57796,
          -22.625662,
          46.289185,
          -0.49370927,
          4.6953435,
          -0.94008267,
          31.74374,
          3.2093554,
          -35.9815,
          24.06278,
          -28.645546,
          12.905755,
          -8.622688,
          -20.340279,
          -37.16971,
          -24.02645,
          10.435087,
          -17.655092,
          0.20995001,
          -44.92184,
          3.6640122,
          -33.179615,
          6.86889,
          6.686719,
          -7.9866757,
          -5.6774545,
          44.518024,
          38.919933,
          41.08103,
          -0.5290327,
          28.554996,
          -21.325333,
          -38.489223,
          -24.83779,
          -41.825825,
          22.001993,
          -32.37938,
          -23.909391,
          -37.559677,
          -26.599531,
          44.108208,
          -24.240263,
          -10.668176,
          -8.367536,
          -30.654188,
          13.445864,
          53.309807,
          11.808676,
          2.8531337,
          -4.0237136,
          -45.998726,
          -46.047546,
          -7.6999207,
          34.088234,
          -30.251966,
          0.9740537,
          21.134937,
          -10.219337,
          -23.874165,
          42.05284,
          -42.010414,
          -14.385258,
          36.277454,
          8.912659,
          32.295742,
          21.375229
         ]
        }
       ],
       "layout": {
        "legend": {
         "tracegroupgap": 0
        },
        "margin": {
         "t": 60
        },
        "scene": {
         "domain": {
          "x": [
           0,
           1
          ],
          "y": [
           0,
           1
          ]
         },
         "xaxis": {
          "title": {
           "text": "x"
          }
         },
         "yaxis": {
          "title": {
           "text": "y"
          }
         },
         "zaxis": {
          "title": {
           "text": "z"
          }
         }
        },
        "template": {
         "data": {
          "bar": [
           {
            "error_x": {
             "color": "#2a3f5f"
            },
            "error_y": {
             "color": "#2a3f5f"
            },
            "marker": {
             "line": {
              "color": "#E5ECF6",
              "width": 0.5
             },
             "pattern": {
              "fillmode": "overlay",
              "size": 10,
              "solidity": 0.2
             }
            },
            "type": "bar"
           }
          ],
          "barpolar": [
           {
            "marker": {
             "line": {
              "color": "#E5ECF6",
              "width": 0.5
             },
             "pattern": {
              "fillmode": "overlay",
              "size": 10,
              "solidity": 0.2
             }
            },
            "type": "barpolar"
           }
          ],
          "carpet": [
           {
            "aaxis": {
             "endlinecolor": "#2a3f5f",
             "gridcolor": "white",
             "linecolor": "white",
             "minorgridcolor": "white",
             "startlinecolor": "#2a3f5f"
            },
            "baxis": {
             "endlinecolor": "#2a3f5f",
             "gridcolor": "white",
             "linecolor": "white",
             "minorgridcolor": "white",
             "startlinecolor": "#2a3f5f"
            },
            "type": "carpet"
           }
          ],
          "choropleth": [
           {
            "colorbar": {
             "outlinewidth": 0,
             "ticks": ""
            },
            "type": "choropleth"
           }
          ],
          "contour": [
           {
            "colorbar": {
             "outlinewidth": 0,
             "ticks": ""
            },
            "colorscale": [
             [
              0,
              "#0d0887"
             ],
             [
              0.1111111111111111,
              "#46039f"
             ],
             [
              0.2222222222222222,
              "#7201a8"
             ],
             [
              0.3333333333333333,
              "#9c179e"
             ],
             [
              0.4444444444444444,
              "#bd3786"
             ],
             [
              0.5555555555555556,
              "#d8576b"
             ],
             [
              0.6666666666666666,
              "#ed7953"
             ],
             [
              0.7777777777777778,
              "#fb9f3a"
             ],
             [
              0.8888888888888888,
              "#fdca26"
             ],
             [
              1,
              "#f0f921"
             ]
            ],
            "type": "contour"
           }
          ],
          "contourcarpet": [
           {
            "colorbar": {
             "outlinewidth": 0,
             "ticks": ""
            },
            "type": "contourcarpet"
           }
          ],
          "heatmap": [
           {
            "colorbar": {
             "outlinewidth": 0,
             "ticks": ""
            },
            "colorscale": [
             [
              0,
              "#0d0887"
             ],
             [
              0.1111111111111111,
              "#46039f"
             ],
             [
              0.2222222222222222,
              "#7201a8"
             ],
             [
              0.3333333333333333,
              "#9c179e"
             ],
             [
              0.4444444444444444,
              "#bd3786"
             ],
             [
              0.5555555555555556,
              "#d8576b"
             ],
             [
              0.6666666666666666,
              "#ed7953"
             ],
             [
              0.7777777777777778,
              "#fb9f3a"
             ],
             [
              0.8888888888888888,
              "#fdca26"
             ],
             [
              1,
              "#f0f921"
             ]
            ],
            "type": "heatmap"
           }
          ],
          "heatmapgl": [
           {
            "colorbar": {
             "outlinewidth": 0,
             "ticks": ""
            },
            "colorscale": [
             [
              0,
              "#0d0887"
             ],
             [
              0.1111111111111111,
              "#46039f"
             ],
             [
              0.2222222222222222,
              "#7201a8"
             ],
             [
              0.3333333333333333,
              "#9c179e"
             ],
             [
              0.4444444444444444,
              "#bd3786"
             ],
             [
              0.5555555555555556,
              "#d8576b"
             ],
             [
              0.6666666666666666,
              "#ed7953"
             ],
             [
              0.7777777777777778,
              "#fb9f3a"
             ],
             [
              0.8888888888888888,
              "#fdca26"
             ],
             [
              1,
              "#f0f921"
             ]
            ],
            "type": "heatmapgl"
           }
          ],
          "histogram": [
           {
            "marker": {
             "pattern": {
              "fillmode": "overlay",
              "size": 10,
              "solidity": 0.2
             }
            },
            "type": "histogram"
           }
          ],
          "histogram2d": [
           {
            "colorbar": {
             "outlinewidth": 0,
             "ticks": ""
            },
            "colorscale": [
             [
              0,
              "#0d0887"
             ],
             [
              0.1111111111111111,
              "#46039f"
             ],
             [
              0.2222222222222222,
              "#7201a8"
             ],
             [
              0.3333333333333333,
              "#9c179e"
             ],
             [
              0.4444444444444444,
              "#bd3786"
             ],
             [
              0.5555555555555556,
              "#d8576b"
             ],
             [
              0.6666666666666666,
              "#ed7953"
             ],
             [
              0.7777777777777778,
              "#fb9f3a"
             ],
             [
              0.8888888888888888,
              "#fdca26"
             ],
             [
              1,
              "#f0f921"
             ]
            ],
            "type": "histogram2d"
           }
          ],
          "histogram2dcontour": [
           {
            "colorbar": {
             "outlinewidth": 0,
             "ticks": ""
            },
            "colorscale": [
             [
              0,
              "#0d0887"
             ],
             [
              0.1111111111111111,
              "#46039f"
             ],
             [
              0.2222222222222222,
              "#7201a8"
             ],
             [
              0.3333333333333333,
              "#9c179e"
             ],
             [
              0.4444444444444444,
              "#bd3786"
             ],
             [
              0.5555555555555556,
              "#d8576b"
             ],
             [
              0.6666666666666666,
              "#ed7953"
             ],
             [
              0.7777777777777778,
              "#fb9f3a"
             ],
             [
              0.8888888888888888,
              "#fdca26"
             ],
             [
              1,
              "#f0f921"
             ]
            ],
            "type": "histogram2dcontour"
           }
          ],
          "mesh3d": [
           {
            "colorbar": {
             "outlinewidth": 0,
             "ticks": ""
            },
            "type": "mesh3d"
           }
          ],
          "parcoords": [
           {
            "line": {
             "colorbar": {
              "outlinewidth": 0,
              "ticks": ""
             }
            },
            "type": "parcoords"
           }
          ],
          "pie": [
           {
            "automargin": true,
            "type": "pie"
           }
          ],
          "scatter": [
           {
            "fillpattern": {
             "fillmode": "overlay",
             "size": 10,
             "solidity": 0.2
            },
            "type": "scatter"
           }
          ],
          "scatter3d": [
           {
            "line": {
             "colorbar": {
              "outlinewidth": 0,
              "ticks": ""
             }
            },
            "marker": {
             "colorbar": {
              "outlinewidth": 0,
              "ticks": ""
             }
            },
            "type": "scatter3d"
           }
          ],
          "scattercarpet": [
           {
            "marker": {
             "colorbar": {
              "outlinewidth": 0,
              "ticks": ""
             }
            },
            "type": "scattercarpet"
           }
          ],
          "scattergeo": [
           {
            "marker": {
             "colorbar": {
              "outlinewidth": 0,
              "ticks": ""
             }
            },
            "type": "scattergeo"
           }
          ],
          "scattergl": [
           {
            "marker": {
             "colorbar": {
              "outlinewidth": 0,
              "ticks": ""
             }
            },
            "type": "scattergl"
           }
          ],
          "scattermapbox": [
           {
            "marker": {
             "colorbar": {
              "outlinewidth": 0,
              "ticks": ""
             }
            },
            "type": "scattermapbox"
           }
          ],
          "scatterpolar": [
           {
            "marker": {
             "colorbar": {
              "outlinewidth": 0,
              "ticks": ""
             }
            },
            "type": "scatterpolar"
           }
          ],
          "scatterpolargl": [
           {
            "marker": {
             "colorbar": {
              "outlinewidth": 0,
              "ticks": ""
             }
            },
            "type": "scatterpolargl"
           }
          ],
          "scatterternary": [
           {
            "marker": {
             "colorbar": {
              "outlinewidth": 0,
              "ticks": ""
             }
            },
            "type": "scatterternary"
           }
          ],
          "surface": [
           {
            "colorbar": {
             "outlinewidth": 0,
             "ticks": ""
            },
            "colorscale": [
             [
              0,
              "#0d0887"
             ],
             [
              0.1111111111111111,
              "#46039f"
             ],
             [
              0.2222222222222222,
              "#7201a8"
             ],
             [
              0.3333333333333333,
              "#9c179e"
             ],
             [
              0.4444444444444444,
              "#bd3786"
             ],
             [
              0.5555555555555556,
              "#d8576b"
             ],
             [
              0.6666666666666666,
              "#ed7953"
             ],
             [
              0.7777777777777778,
              "#fb9f3a"
             ],
             [
              0.8888888888888888,
              "#fdca26"
             ],
             [
              1,
              "#f0f921"
             ]
            ],
            "type": "surface"
           }
          ],
          "table": [
           {
            "cells": {
             "fill": {
              "color": "#EBF0F8"
             },
             "line": {
              "color": "white"
             }
            },
            "header": {
             "fill": {
              "color": "#C8D4E3"
             },
             "line": {
              "color": "white"
             }
            },
            "type": "table"
           }
          ]
         },
         "layout": {
          "annotationdefaults": {
           "arrowcolor": "#2a3f5f",
           "arrowhead": 0,
           "arrowwidth": 1
          },
          "autotypenumbers": "strict",
          "coloraxis": {
           "colorbar": {
            "outlinewidth": 0,
            "ticks": ""
           }
          },
          "colorscale": {
           "diverging": [
            [
             0,
             "#8e0152"
            ],
            [
             0.1,
             "#c51b7d"
            ],
            [
             0.2,
             "#de77ae"
            ],
            [
             0.3,
             "#f1b6da"
            ],
            [
             0.4,
             "#fde0ef"
            ],
            [
             0.5,
             "#f7f7f7"
            ],
            [
             0.6,
             "#e6f5d0"
            ],
            [
             0.7,
             "#b8e186"
            ],
            [
             0.8,
             "#7fbc41"
            ],
            [
             0.9,
             "#4d9221"
            ],
            [
             1,
             "#276419"
            ]
           ],
           "sequential": [
            [
             0,
             "#0d0887"
            ],
            [
             0.1111111111111111,
             "#46039f"
            ],
            [
             0.2222222222222222,
             "#7201a8"
            ],
            [
             0.3333333333333333,
             "#9c179e"
            ],
            [
             0.4444444444444444,
             "#bd3786"
            ],
            [
             0.5555555555555556,
             "#d8576b"
            ],
            [
             0.6666666666666666,
             "#ed7953"
            ],
            [
             0.7777777777777778,
             "#fb9f3a"
            ],
            [
             0.8888888888888888,
             "#fdca26"
            ],
            [
             1,
             "#f0f921"
            ]
           ],
           "sequentialminus": [
            [
             0,
             "#0d0887"
            ],
            [
             0.1111111111111111,
             "#46039f"
            ],
            [
             0.2222222222222222,
             "#7201a8"
            ],
            [
             0.3333333333333333,
             "#9c179e"
            ],
            [
             0.4444444444444444,
             "#bd3786"
            ],
            [
             0.5555555555555556,
             "#d8576b"
            ],
            [
             0.6666666666666666,
             "#ed7953"
            ],
            [
             0.7777777777777778,
             "#fb9f3a"
            ],
            [
             0.8888888888888888,
             "#fdca26"
            ],
            [
             1,
             "#f0f921"
            ]
           ]
          },
          "colorway": [
           "#636efa",
           "#EF553B",
           "#00cc96",
           "#ab63fa",
           "#FFA15A",
           "#19d3f3",
           "#FF6692",
           "#B6E880",
           "#FF97FF",
           "#FECB52"
          ],
          "font": {
           "color": "#2a3f5f"
          },
          "geo": {
           "bgcolor": "white",
           "lakecolor": "white",
           "landcolor": "#E5ECF6",
           "showlakes": true,
           "showland": true,
           "subunitcolor": "white"
          },
          "hoverlabel": {
           "align": "left"
          },
          "hovermode": "closest",
          "mapbox": {
           "style": "light"
          },
          "paper_bgcolor": "white",
          "plot_bgcolor": "#E5ECF6",
          "polar": {
           "angularaxis": {
            "gridcolor": "white",
            "linecolor": "white",
            "ticks": ""
           },
           "bgcolor": "#E5ECF6",
           "radialaxis": {
            "gridcolor": "white",
            "linecolor": "white",
            "ticks": ""
           }
          },
          "scene": {
           "xaxis": {
            "backgroundcolor": "#E5ECF6",
            "gridcolor": "white",
            "gridwidth": 2,
            "linecolor": "white",
            "showbackground": true,
            "ticks": "",
            "zerolinecolor": "white"
           },
           "yaxis": {
            "backgroundcolor": "#E5ECF6",
            "gridcolor": "white",
            "gridwidth": 2,
            "linecolor": "white",
            "showbackground": true,
            "ticks": "",
            "zerolinecolor": "white"
           },
           "zaxis": {
            "backgroundcolor": "#E5ECF6",
            "gridcolor": "white",
            "gridwidth": 2,
            "linecolor": "white",
            "showbackground": true,
            "ticks": "",
            "zerolinecolor": "white"
           }
          },
          "shapedefaults": {
           "line": {
            "color": "#2a3f5f"
           }
          },
          "ternary": {
           "aaxis": {
            "gridcolor": "white",
            "linecolor": "white",
            "ticks": ""
           },
           "baxis": {
            "gridcolor": "white",
            "linecolor": "white",
            "ticks": ""
           },
           "bgcolor": "#E5ECF6",
           "caxis": {
            "gridcolor": "white",
            "linecolor": "white",
            "ticks": ""
           }
          },
          "title": {
           "x": 0.05
          },
          "xaxis": {
           "automargin": true,
           "gridcolor": "white",
           "linecolor": "white",
           "ticks": "",
           "title": {
            "standoff": 15
           },
           "zerolinecolor": "white",
           "zerolinewidth": 2
          },
          "yaxis": {
           "automargin": true,
           "gridcolor": "white",
           "linecolor": "white",
           "ticks": "",
           "title": {
            "standoff": 15
           },
           "zerolinecolor": "white",
           "zerolinewidth": 2
          }
         }
        }
       }
      }
     },
     "metadata": {},
     "output_type": "display_data"
    }
   ],
   "source": [
    "import plotly.graph_objects as go\n",
    "import plotly.express as px\n",
    "MAX_WORDS=200\n",
    "# Graficar los embedddings en 3D\n",
    "\n",
    "vecs, labels = reduce_dimensions(w2v_model,3)\n",
    "\n",
    "fig = px.scatter_3d(x=vecs[:MAX_WORDS,0], y=vecs[:MAX_WORDS,1], z=vecs[:MAX_WORDS,2],text=labels[:MAX_WORDS])\n",
    "fig.update_traces(marker_size = 2)\n",
    "fig.show() "
   ]
  },
  {
   "cell_type": "code",
   "execution_count": 19,
   "metadata": {},
   "outputs": [
    {
     "data": {
      "application/vnd.plotly.v1+json": {
       "config": {
        "plotlyServerURL": "https://plot.ly"
       },
       "data": [
        {
         "hovertemplate": "x=%{x}<br>y=%{y}<br>text=%{text}<extra></extra>",
         "legendgroup": "",
         "marker": {
          "color": "#636efa",
          "symbol": "circle"
         },
         "mode": "markers+text",
         "name": "",
         "orientation": "v",
         "showlegend": false,
         "text": [
          "the",
          "to",
          "and",
          "of",
          "a",
          "”",
          "he",
          "harry",
          "was",
          "said",
          "his",
          "in",
          "it",
          "you",
          "had",
          "that",
          "at",
          "'",
          "as",
          "i",
          "on",
          "him",
          "with",
          "they",
          "ron",
          "for",
          "her",
          "not",
          "but",
          "hermione",
          "she",
          "be",
          "up",
          "out",
          "were",
          "them",
          "all",
          "have",
          "from",
          "’",
          "into",
          "what",
          "been",
          "there",
          "back",
          "this",
          "who",
          "is",
          "me",
          "could",
          "dumbledore",
          "so",
          "their",
          "then",
          "one",
          "about",
          "know",
          "over",
          "now",
          "like",
          "down",
          "looked",
          "if",
          "we",
          "an",
          "when",
          "would",
          "by",
          "do",
          "around",
          "just",
          "did",
          "got",
          "your",
          "very",
          "more",
          "“i",
          "no",
          "are",
          "professor",
          "again",
          "off",
          "see",
          "—",
          "though",
          "my",
          "looking",
          "think",
          "still",
          "time",
          "hagrid",
          "wand",
          "eyes",
          "get",
          "face",
          "through",
          "or",
          "snape",
          "right",
          "which",
          "going",
          "voice",
          "weasley",
          "before",
          "than",
          "how",
          "room",
          "go",
          "here",
          "will",
          "head",
          "door",
          "only",
          "–",
          "too",
          "look",
          "thought",
          "…",
          "can",
          "mr",
          "saw",
          "potter",
          "where",
          "something",
          "hand",
          "after",
          "behind",
          "other",
          "malfoy",
          "seemed",
          "way",
          "come",
          "himself",
          "away",
          "asked",
          "told",
          "turned",
          "never",
          "once",
          "last",
          "long",
          "two",
          "much",
          "dark",
          "us",
          "little",
          "knew",
          "even",
          "want",
          "first",
          "sirius",
          "well",
          "made",
          "any",
          "voldemort",
          "tell",
          "heard",
          "left",
          "some",
          "people",
          "black",
          "its",
          "felt",
          "mrs",
          "moment",
          "“you",
          "say",
          "fred",
          "good",
          "great",
          "really",
          "hogwarts",
          "don’t",
          "has",
          "front",
          "ever",
          "might",
          "didn’t",
          "because",
          "came",
          "feet",
          "death",
          "lupin",
          "three",
          "don't",
          "sure",
          "take",
          "took",
          "why",
          "next",
          "old",
          "trying",
          "george",
          "harry’s",
          "anything",
          "make",
          "open",
          "house",
          "another",
          "few"
         ],
         "type": "scatter",
         "x": [
          1.6248549,
          0.33405226,
          1.4698594,
          1.5287057,
          1.2619362,
          -1.776047,
          0.706099,
          0.3803859,
          1.1767058,
          -1.671537,
          1.2814407,
          1.2227312,
          0.3719022,
          -1.4394915,
          1.249622,
          0.4127569,
          0.9869007,
          -2.9592686,
          1.221028,
          -1.3103703,
          1.2457327,
          0.7762391,
          1.2275567,
          1.9622972,
          -0.2910327,
          0.48018384,
          0.4061163,
          -0.04594031,
          0.61880225,
          -0.39413613,
          -0.13571207,
          -0.44005495,
          0.7585271,
          1.1931821,
          2.3190405,
          1.7918246,
          0.45926335,
          -0.6351252,
          1.6707274,
          -4.1548767,
          1.8414559,
          -0.57221323,
          0.54368114,
          1.2413716,
          0.86094284,
          -0.13007244,
          0.43600187,
          -1.8537408,
          -1.6135069,
          0.83971363,
          -0.4248696,
          0.45180842,
          2.9427876,
          0.80889225,
          1.1793437,
          -0.58804864,
          -1.4969984,
          1.602662,
          0.55948675,
          0.6963834,
          1.2282193,
          1.3565413,
          -1.0659922,
          -2.0982857,
          0.9392114,
          0.32356277,
          -0.11366118,
          1.7593917,
          -1.3007723,
          2.0811653,
          -0.43103805,
          -0.28361607,
          -1.6021918,
          -1.8463749,
          0.44532186,
          0.95084774,
          -1.990823,
          0.57210165,
          -2.2559905,
          -1.6239079,
          0.62897176,
          0.79958767,
          -0.43112597,
          -2.0716105,
          0.9542914,
          -1.7327911,
          0.12774847,
          -1.6223925,
          0.85205966,
          0.5264822,
          -3.5716631,
          0.9702067,
          2.0636048,
          -1.6693069,
          1.8033553,
          2.4797132,
          0.40777174,
          -0.056203287,
          -0.703322,
          2.271464,
          -1.2901818,
          -2.1314423,
          -0.9237426,
          0.9767002,
          1.4898772,
          -0.5857837,
          3.5384905,
          -2.1853504,
          -1.353385,
          -1.7915132,
          1.689158,
          3.9368484,
          0.42473966,
          -3.422129,
          0.020266365,
          0.1364961,
          -0.009619254,
          -0.9741683,
          -2.1855042,
          -0.92916733,
          2.2532573,
          -2.8490562,
          1.7522761,
          -0.14667523,
          1.3138796,
          0.3022755,
          2.8701925,
          2.652237,
          -0.65933716,
          1.9387853,
          2.5951898,
          -1.3114685,
          1.181115,
          1.0885875,
          -2.8186343,
          -1.021215,
          1.8074836,
          -0.13799159,
          0.8241446,
          0.9213924,
          1.5296179,
          2.6898305,
          0.9201532,
          2.6404705,
          -2.207614,
          1.2978227,
          0.5187085,
          0.5259482,
          -1.925935,
          0.9073659,
          -0.6562133,
          -1.5740571,
          0.7793713,
          -0.025427816,
          -0.30461264,
          -1.4170884,
          3.4245625,
          0.8752095,
          1.246063,
          1.6292259,
          2.7259884,
          2.8523295,
          1.8086303,
          -0.9042917,
          0.99104667,
          -2.2610438,
          -1.331483,
          -1.6302947,
          -1.0743809,
          3.3443038,
          -1.4483258,
          0.697296,
          -2.5577254,
          -1.1006211,
          2.2353225,
          1.1760459,
          -0.20437825,
          -0.60285765,
          0.16030644,
          1.5167893,
          2.0065846,
          4.991618,
          -1.3891851,
          3.6135554,
          -2.8945298,
          -0.22306277,
          -1.0402516,
          1.3146766,
          -1.1207013,
          2.0931268,
          4.024455,
          0.76748884,
          -1.691294,
          1.4838291,
          -0.989038,
          -0.37378532,
          3.4032276,
          2.3535953,
          1.4022092,
          4.4444785
         ],
         "xaxis": "x",
         "y": [
          -0.652551,
          0.14274414,
          -0.9373883,
          -0.46665066,
          -0.6937662,
          -0.60864174,
          -0.5636426,
          -1.0481482,
          -0.53658676,
          -0.9414397,
          -1.5781897,
          -0.4292286,
          -0.22118945,
          0.6982706,
          -0.058607798,
          0.3827989,
          -0.97277963,
          -0.69937485,
          -0.8976836,
          0.9216162,
          -0.9395045,
          -0.7031705,
          -0.91903186,
          -0.03775682,
          -1.4408178,
          0.5026138,
          -2.2280276,
          0.32037678,
          -0.25388375,
          -1.4913812,
          -1.7591196,
          0.97843647,
          -1.1802139,
          -1.0188271,
          -0.47095802,
          -0.4966468,
          0.15940866,
          1.0703826,
          -1.0120083,
          0.16049948,
          -1.4328647,
          -0.036652826,
          0.8417095,
          -0.36074048,
          -1.4859923,
          0.4579418,
          -0.4081648,
          1.1676744,
          0.58781433,
          -0.1505016,
          -0.14990248,
          -0.008747349,
          -0.1008805,
          -1.4565952,
          -0.21544668,
          0.31921002,
          0.5444065,
          -1.5071638,
          -0.47052744,
          -0.5823169,
          -1.7216077,
          -2.045247,
          0.8375978,
          0.9477488,
          -0.43831167,
          0.054637812,
          1.188772,
          -0.017746052,
          0.6550554,
          -1.416084,
          -0.36297253,
          -0.2737648,
          -0.20292911,
          1.2893181,
          -0.20570181,
          0.82894,
          -0.43609384,
          1.042373,
          1.335584,
          -2.9552338,
          -1.3087642,
          -2.1214318,
          -0.48410746,
          -0.0812693,
          -0.62721145,
          1.5123044,
          -2.0515711,
          0.642556,
          -1.161419,
          0.5236885,
          -1.86131,
          -4.0874233,
          -3.7654448,
          0.08140914,
          -3.3173585,
          -1.2601991,
          0.88478124,
          -1.035725,
          -0.9329619,
          -0.6755932,
          0.16405863,
          -2.8099275,
          -3.8435495,
          -0.1588826,
          2.070927,
          0.6578982,
          -1.1117271,
          0.051385656,
          -0.1794134,
          1.8190297,
          -2.541402,
          -2.5889244,
          0.57762235,
          0.40252566,
          -0.264113,
          -1.5746449,
          0.17757638,
          0.63321584,
          0.56103504,
          -3.7888863,
          -1.8190988,
          -2.384646,
          -0.2669921,
          -0.4167438,
          -3.0696497,
          -0.16915943,
          -2.0208392,
          0.021682732,
          -3.1155336,
          0.08960683,
          0.07491645,
          0.2357238,
          -1.6797376,
          -2.035898,
          -1.0201882,
          0.21548459,
          -2.4209945,
          1.677126,
          -0.87698066,
          0.3315736,
          -0.995854,
          0.2042735,
          1.6211783,
          -0.4852076,
          0.65891755,
          -0.40601376,
          0.46410263,
          0.28312823,
          0.7715146,
          1.3517548,
          -0.65467525,
          0.21266975,
          -0.42323297,
          0.8870235,
          2.4030638,
          0.52627397,
          -1.9458531,
          -0.8161818,
          0.13071735,
          0.34154367,
          -2.408405,
          -1.9858301,
          -1.9418088,
          -3.963935,
          -2.0586255,
          -0.5138954,
          0.5171323,
          -3.890569,
          0.18798785,
          -1.0201802,
          0.010984797,
          2.4353142,
          0.55211145,
          1.6409007,
          -1.5571716,
          1.8200388,
          1.4069643,
          0.027939258,
          1.2380759,
          -1.1620421,
          -2.3369975,
          0.70571744,
          -2.8934915,
          1.1253663,
          0.058639105,
          0.40937543,
          1.6644835,
          -2.3591282,
          0.5858377,
          -0.98776126,
          0.15396717,
          1.5883856,
          -3.922254,
          -1.8995948,
          0.24624844,
          0.8615652,
          -2.502627,
          1.4912261,
          -0.8464452,
          0.0816275
         ],
         "yaxis": "y"
        }
       ],
       "layout": {
        "legend": {
         "tracegroupgap": 0
        },
        "margin": {
         "t": 60
        },
        "template": {
         "data": {
          "bar": [
           {
            "error_x": {
             "color": "#2a3f5f"
            },
            "error_y": {
             "color": "#2a3f5f"
            },
            "marker": {
             "line": {
              "color": "#E5ECF6",
              "width": 0.5
             },
             "pattern": {
              "fillmode": "overlay",
              "size": 10,
              "solidity": 0.2
             }
            },
            "type": "bar"
           }
          ],
          "barpolar": [
           {
            "marker": {
             "line": {
              "color": "#E5ECF6",
              "width": 0.5
             },
             "pattern": {
              "fillmode": "overlay",
              "size": 10,
              "solidity": 0.2
             }
            },
            "type": "barpolar"
           }
          ],
          "carpet": [
           {
            "aaxis": {
             "endlinecolor": "#2a3f5f",
             "gridcolor": "white",
             "linecolor": "white",
             "minorgridcolor": "white",
             "startlinecolor": "#2a3f5f"
            },
            "baxis": {
             "endlinecolor": "#2a3f5f",
             "gridcolor": "white",
             "linecolor": "white",
             "minorgridcolor": "white",
             "startlinecolor": "#2a3f5f"
            },
            "type": "carpet"
           }
          ],
          "choropleth": [
           {
            "colorbar": {
             "outlinewidth": 0,
             "ticks": ""
            },
            "type": "choropleth"
           }
          ],
          "contour": [
           {
            "colorbar": {
             "outlinewidth": 0,
             "ticks": ""
            },
            "colorscale": [
             [
              0,
              "#0d0887"
             ],
             [
              0.1111111111111111,
              "#46039f"
             ],
             [
              0.2222222222222222,
              "#7201a8"
             ],
             [
              0.3333333333333333,
              "#9c179e"
             ],
             [
              0.4444444444444444,
              "#bd3786"
             ],
             [
              0.5555555555555556,
              "#d8576b"
             ],
             [
              0.6666666666666666,
              "#ed7953"
             ],
             [
              0.7777777777777778,
              "#fb9f3a"
             ],
             [
              0.8888888888888888,
              "#fdca26"
             ],
             [
              1,
              "#f0f921"
             ]
            ],
            "type": "contour"
           }
          ],
          "contourcarpet": [
           {
            "colorbar": {
             "outlinewidth": 0,
             "ticks": ""
            },
            "type": "contourcarpet"
           }
          ],
          "heatmap": [
           {
            "colorbar": {
             "outlinewidth": 0,
             "ticks": ""
            },
            "colorscale": [
             [
              0,
              "#0d0887"
             ],
             [
              0.1111111111111111,
              "#46039f"
             ],
             [
              0.2222222222222222,
              "#7201a8"
             ],
             [
              0.3333333333333333,
              "#9c179e"
             ],
             [
              0.4444444444444444,
              "#bd3786"
             ],
             [
              0.5555555555555556,
              "#d8576b"
             ],
             [
              0.6666666666666666,
              "#ed7953"
             ],
             [
              0.7777777777777778,
              "#fb9f3a"
             ],
             [
              0.8888888888888888,
              "#fdca26"
             ],
             [
              1,
              "#f0f921"
             ]
            ],
            "type": "heatmap"
           }
          ],
          "heatmapgl": [
           {
            "colorbar": {
             "outlinewidth": 0,
             "ticks": ""
            },
            "colorscale": [
             [
              0,
              "#0d0887"
             ],
             [
              0.1111111111111111,
              "#46039f"
             ],
             [
              0.2222222222222222,
              "#7201a8"
             ],
             [
              0.3333333333333333,
              "#9c179e"
             ],
             [
              0.4444444444444444,
              "#bd3786"
             ],
             [
              0.5555555555555556,
              "#d8576b"
             ],
             [
              0.6666666666666666,
              "#ed7953"
             ],
             [
              0.7777777777777778,
              "#fb9f3a"
             ],
             [
              0.8888888888888888,
              "#fdca26"
             ],
             [
              1,
              "#f0f921"
             ]
            ],
            "type": "heatmapgl"
           }
          ],
          "histogram": [
           {
            "marker": {
             "pattern": {
              "fillmode": "overlay",
              "size": 10,
              "solidity": 0.2
             }
            },
            "type": "histogram"
           }
          ],
          "histogram2d": [
           {
            "colorbar": {
             "outlinewidth": 0,
             "ticks": ""
            },
            "colorscale": [
             [
              0,
              "#0d0887"
             ],
             [
              0.1111111111111111,
              "#46039f"
             ],
             [
              0.2222222222222222,
              "#7201a8"
             ],
             [
              0.3333333333333333,
              "#9c179e"
             ],
             [
              0.4444444444444444,
              "#bd3786"
             ],
             [
              0.5555555555555556,
              "#d8576b"
             ],
             [
              0.6666666666666666,
              "#ed7953"
             ],
             [
              0.7777777777777778,
              "#fb9f3a"
             ],
             [
              0.8888888888888888,
              "#fdca26"
             ],
             [
              1,
              "#f0f921"
             ]
            ],
            "type": "histogram2d"
           }
          ],
          "histogram2dcontour": [
           {
            "colorbar": {
             "outlinewidth": 0,
             "ticks": ""
            },
            "colorscale": [
             [
              0,
              "#0d0887"
             ],
             [
              0.1111111111111111,
              "#46039f"
             ],
             [
              0.2222222222222222,
              "#7201a8"
             ],
             [
              0.3333333333333333,
              "#9c179e"
             ],
             [
              0.4444444444444444,
              "#bd3786"
             ],
             [
              0.5555555555555556,
              "#d8576b"
             ],
             [
              0.6666666666666666,
              "#ed7953"
             ],
             [
              0.7777777777777778,
              "#fb9f3a"
             ],
             [
              0.8888888888888888,
              "#fdca26"
             ],
             [
              1,
              "#f0f921"
             ]
            ],
            "type": "histogram2dcontour"
           }
          ],
          "mesh3d": [
           {
            "colorbar": {
             "outlinewidth": 0,
             "ticks": ""
            },
            "type": "mesh3d"
           }
          ],
          "parcoords": [
           {
            "line": {
             "colorbar": {
              "outlinewidth": 0,
              "ticks": ""
             }
            },
            "type": "parcoords"
           }
          ],
          "pie": [
           {
            "automargin": true,
            "type": "pie"
           }
          ],
          "scatter": [
           {
            "fillpattern": {
             "fillmode": "overlay",
             "size": 10,
             "solidity": 0.2
            },
            "type": "scatter"
           }
          ],
          "scatter3d": [
           {
            "line": {
             "colorbar": {
              "outlinewidth": 0,
              "ticks": ""
             }
            },
            "marker": {
             "colorbar": {
              "outlinewidth": 0,
              "ticks": ""
             }
            },
            "type": "scatter3d"
           }
          ],
          "scattercarpet": [
           {
            "marker": {
             "colorbar": {
              "outlinewidth": 0,
              "ticks": ""
             }
            },
            "type": "scattercarpet"
           }
          ],
          "scattergeo": [
           {
            "marker": {
             "colorbar": {
              "outlinewidth": 0,
              "ticks": ""
             }
            },
            "type": "scattergeo"
           }
          ],
          "scattergl": [
           {
            "marker": {
             "colorbar": {
              "outlinewidth": 0,
              "ticks": ""
             }
            },
            "type": "scattergl"
           }
          ],
          "scattermapbox": [
           {
            "marker": {
             "colorbar": {
              "outlinewidth": 0,
              "ticks": ""
             }
            },
            "type": "scattermapbox"
           }
          ],
          "scatterpolar": [
           {
            "marker": {
             "colorbar": {
              "outlinewidth": 0,
              "ticks": ""
             }
            },
            "type": "scatterpolar"
           }
          ],
          "scatterpolargl": [
           {
            "marker": {
             "colorbar": {
              "outlinewidth": 0,
              "ticks": ""
             }
            },
            "type": "scatterpolargl"
           }
          ],
          "scatterternary": [
           {
            "marker": {
             "colorbar": {
              "outlinewidth": 0,
              "ticks": ""
             }
            },
            "type": "scatterternary"
           }
          ],
          "surface": [
           {
            "colorbar": {
             "outlinewidth": 0,
             "ticks": ""
            },
            "colorscale": [
             [
              0,
              "#0d0887"
             ],
             [
              0.1111111111111111,
              "#46039f"
             ],
             [
              0.2222222222222222,
              "#7201a8"
             ],
             [
              0.3333333333333333,
              "#9c179e"
             ],
             [
              0.4444444444444444,
              "#bd3786"
             ],
             [
              0.5555555555555556,
              "#d8576b"
             ],
             [
              0.6666666666666666,
              "#ed7953"
             ],
             [
              0.7777777777777778,
              "#fb9f3a"
             ],
             [
              0.8888888888888888,
              "#fdca26"
             ],
             [
              1,
              "#f0f921"
             ]
            ],
            "type": "surface"
           }
          ],
          "table": [
           {
            "cells": {
             "fill": {
              "color": "#EBF0F8"
             },
             "line": {
              "color": "white"
             }
            },
            "header": {
             "fill": {
              "color": "#C8D4E3"
             },
             "line": {
              "color": "white"
             }
            },
            "type": "table"
           }
          ]
         },
         "layout": {
          "annotationdefaults": {
           "arrowcolor": "#2a3f5f",
           "arrowhead": 0,
           "arrowwidth": 1
          },
          "autotypenumbers": "strict",
          "coloraxis": {
           "colorbar": {
            "outlinewidth": 0,
            "ticks": ""
           }
          },
          "colorscale": {
           "diverging": [
            [
             0,
             "#8e0152"
            ],
            [
             0.1,
             "#c51b7d"
            ],
            [
             0.2,
             "#de77ae"
            ],
            [
             0.3,
             "#f1b6da"
            ],
            [
             0.4,
             "#fde0ef"
            ],
            [
             0.5,
             "#f7f7f7"
            ],
            [
             0.6,
             "#e6f5d0"
            ],
            [
             0.7,
             "#b8e186"
            ],
            [
             0.8,
             "#7fbc41"
            ],
            [
             0.9,
             "#4d9221"
            ],
            [
             1,
             "#276419"
            ]
           ],
           "sequential": [
            [
             0,
             "#0d0887"
            ],
            [
             0.1111111111111111,
             "#46039f"
            ],
            [
             0.2222222222222222,
             "#7201a8"
            ],
            [
             0.3333333333333333,
             "#9c179e"
            ],
            [
             0.4444444444444444,
             "#bd3786"
            ],
            [
             0.5555555555555556,
             "#d8576b"
            ],
            [
             0.6666666666666666,
             "#ed7953"
            ],
            [
             0.7777777777777778,
             "#fb9f3a"
            ],
            [
             0.8888888888888888,
             "#fdca26"
            ],
            [
             1,
             "#f0f921"
            ]
           ],
           "sequentialminus": [
            [
             0,
             "#0d0887"
            ],
            [
             0.1111111111111111,
             "#46039f"
            ],
            [
             0.2222222222222222,
             "#7201a8"
            ],
            [
             0.3333333333333333,
             "#9c179e"
            ],
            [
             0.4444444444444444,
             "#bd3786"
            ],
            [
             0.5555555555555556,
             "#d8576b"
            ],
            [
             0.6666666666666666,
             "#ed7953"
            ],
            [
             0.7777777777777778,
             "#fb9f3a"
            ],
            [
             0.8888888888888888,
             "#fdca26"
            ],
            [
             1,
             "#f0f921"
            ]
           ]
          },
          "colorway": [
           "#636efa",
           "#EF553B",
           "#00cc96",
           "#ab63fa",
           "#FFA15A",
           "#19d3f3",
           "#FF6692",
           "#B6E880",
           "#FF97FF",
           "#FECB52"
          ],
          "font": {
           "color": "#2a3f5f"
          },
          "geo": {
           "bgcolor": "white",
           "lakecolor": "white",
           "landcolor": "#E5ECF6",
           "showlakes": true,
           "showland": true,
           "subunitcolor": "white"
          },
          "hoverlabel": {
           "align": "left"
          },
          "hovermode": "closest",
          "mapbox": {
           "style": "light"
          },
          "paper_bgcolor": "white",
          "plot_bgcolor": "#E5ECF6",
          "polar": {
           "angularaxis": {
            "gridcolor": "white",
            "linecolor": "white",
            "ticks": ""
           },
           "bgcolor": "#E5ECF6",
           "radialaxis": {
            "gridcolor": "white",
            "linecolor": "white",
            "ticks": ""
           }
          },
          "scene": {
           "xaxis": {
            "backgroundcolor": "#E5ECF6",
            "gridcolor": "white",
            "gridwidth": 2,
            "linecolor": "white",
            "showbackground": true,
            "ticks": "",
            "zerolinecolor": "white"
           },
           "yaxis": {
            "backgroundcolor": "#E5ECF6",
            "gridcolor": "white",
            "gridwidth": 2,
            "linecolor": "white",
            "showbackground": true,
            "ticks": "",
            "zerolinecolor": "white"
           },
           "zaxis": {
            "backgroundcolor": "#E5ECF6",
            "gridcolor": "white",
            "gridwidth": 2,
            "linecolor": "white",
            "showbackground": true,
            "ticks": "",
            "zerolinecolor": "white"
           }
          },
          "shapedefaults": {
           "line": {
            "color": "#2a3f5f"
           }
          },
          "ternary": {
           "aaxis": {
            "gridcolor": "white",
            "linecolor": "white",
            "ticks": ""
           },
           "baxis": {
            "gridcolor": "white",
            "linecolor": "white",
            "ticks": ""
           },
           "bgcolor": "#E5ECF6",
           "caxis": {
            "gridcolor": "white",
            "linecolor": "white",
            "ticks": ""
           }
          },
          "title": {
           "x": 0.05
          },
          "xaxis": {
           "automargin": true,
           "gridcolor": "white",
           "linecolor": "white",
           "ticks": "",
           "title": {
            "standoff": 15
           },
           "zerolinecolor": "white",
           "zerolinewidth": 2
          },
          "yaxis": {
           "automargin": true,
           "gridcolor": "white",
           "linecolor": "white",
           "ticks": "",
           "title": {
            "standoff": 15
           },
           "zerolinecolor": "white",
           "zerolinewidth": 2
          }
         }
        },
        "xaxis": {
         "anchor": "y",
         "domain": [
          0,
          1
         ],
         "title": {
          "text": "x"
         }
        },
        "yaxis": {
         "anchor": "x",
         "domain": [
          0,
          1
         ],
         "title": {
          "text": "y"
         }
        }
       }
      }
     },
     "metadata": {},
     "output_type": "display_data"
    }
   ],
   "source": [
    "vecs, labels = reduce_dimensions(w2v_model)\n",
    "\n",
    "fig = px.scatter(x=vecs[:MAX_WORDS,0], y=vecs[:MAX_WORDS,1], text=labels[:MAX_WORDS])\n",
    "fig.show() "
   ]
  },
  {
   "cell_type": "markdown",
   "metadata": {},
   "source": [
    "Representa muy bien el universo de harry potter y sus conceptos. Parece andar muy bien el embedding en esta situacion, al reducirle la dimensionalidad. Es un poco mas dificil de distinguir, en especial por que nuestro vocabulario es de mas de 10000 palabras, y solo representamos 200.\n",
    "A continuacion hacemos ejemplos con solo algunas palabras intentando ver las posiciones en las que las dispone el embedding:"
   ]
  },
  {
   "cell_type": "markdown",
   "metadata": {},
   "source": [
    "Podemos extraer las siguientes imagenes en 2D para que sean mas claras:\n"
   ]
  },
  {
   "cell_type": "code",
   "execution_count": 1,
   "metadata": {},
   "outputs": [
    {
     "data": {
      "image/png": "[encoded data removed]",
      "text/plain": [
       "<IPython.core.display.Image object>"
      ]
     },
     "execution_count": 1,
     "metadata": {},
     "output_type": "execute_result"
    }
   ],
   "source": [
    "from IPython.display import Image\n",
    "Image(filename='Picture1.png') "
   ]
  },
  {
   "cell_type": "markdown",
   "metadata": {},
   "source": [
    "Donde podemos ver algunos de los conceptos del mundo de harrypotter. 'Avada kadabra', 'crucio', 'expelliarmus','sectumsempra' son todos hechizos, por lo que se mantienen cercanos a la palabra 'spell', 'snape' es un hechizero, que puede usar hechizos, y en particular es el creador del 'sectumsempra', vemos que ambos conceptos son cercanos a el. Por ultimo, la palabra 'wand' y la palabra 'varita' rodean a la palabra 'hechizo' generalmente el hechizo es la magia que se libera usando una varita."
   ]
  },
  {
   "cell_type": "code",
   "execution_count": 2,
   "metadata": {},
   "outputs": [
    {
     "data": {
      "image/png": "[encoded data removed]",
      "text/plain": [
       "<IPython.core.display.Image object>"
      ]
     },
     "execution_count": 2,
     "metadata": {},
     "output_type": "execute_result"
    }
   ],
   "source": [
    "Image(filename='Picture2.png') "
   ]
  },
  {
   "cell_type": "markdown",
   "metadata": {},
   "source": [
    "Aqui podemos ver algunos de los protagonistas, los buenos del lazo izquierdo y voldemort, el enemigo lejos a la derecha. Notable ademas que Hermione y Ron siendo los dos compañeros de Harry esten tan cerca. Ademas ellos son pareja, quizas la cercania de los conceptos refleje eso."
   ]
  }
 ],
 "metadata": {
  "kernelspec": {
   "display_name": "base",
   "language": "python",
   "name": "python3"
  },
  "language_info": {
   "codemirror_mode": {
    "name": "ipython",
    "version": 3
   },
   "file_extension": ".py",
   "mimetype": "text/x-python",
   "name": "python",
   "nbconvert_exporter": "python",
   "pygments_lexer": "ipython3",
   "version": "3.10.14"
  }
 },
 "nbformat": 4,
 "nbformat_minor": 2
}
