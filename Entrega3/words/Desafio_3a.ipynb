{
  "cells": [
    {
      "cell_type": "markdown",
      "metadata": {
        "id": "g3yeJGnCYxuF"
      },
      "source": [
        "<img src=\"https://github.com/hernancontigiani/ceia_memorias_especializacion/raw/master/Figures/logoFIUBA.jpg\" width=\"500\" align=\"center\">\n",
        "\n",
        "\n",
        "# Procesamiento de lenguaje natural\n",
        "## Modelo de lenguaje con tokenización por palabras"
      ]
    },
    {
      "cell_type": "markdown",
      "metadata": {
        "id": "Iv5PEwGzZA9-"
      },
      "source": [
        "### Consigna\n",
        "- Seleccionar un corpus de texto sobre el cual entrenar el modelo de lenguaje.\n",
        "- Realizar el pre-procesamiento adecuado para tokenizar el corpus, estructurar el dataset y separar entre datos de entrenamiento y validación.\n",
        "- Proponer arquitecturas de redes neuronales basadas en unidades recurrentes para implementar un modelo de lenguaje.\n",
        "- Con el o los modelos que consideren adecuados, generar nuevas secuencias a partir de secuencias de contexto con las estrategias de greedy search y beam search determístico y estocástico. En este último caso observar el efecto de la temperatura en la generación de secuencias.\n",
        "\n",
        "\n",
        "### Sugerencias\n",
        "- Durante el entrenamiento, guiarse por el descenso de la perplejidad en los datos de validación para finalizar el entrenamiento. Para ello se provee un callback.\n",
        "- Explorar utilizar SimpleRNN (celda de Elman), LSTM y GRU.\n",
        "- rmsprop es el optimizador recomendado para la buena convergencia. No obstante se pueden explorar otros.\n"
      ]
    },
    {
      "cell_type": "markdown",
      "metadata": {},
      "source": [
        "## Explicacion\n",
        "\n",
        "- Se realizo una red basada en 3 capas GRU. Se utilizo GRU dado que minimiza la cantidad de parametros en comparacion con LSTM, dado una precision similar.\n",
        "- Se ajusto el context size para cubrir el 50% de las secuencias. Esto se hizo para minimizar el tamaño de contexto que tiene un gran impacto en la memoria a utilizar.\n",
        "- El embedding se utilizo de 50 dimensiones\n",
        "- El vocabulario, propio de un libro es de mas de 6000 palabras!\n",
        "- Se utilizo RMSProp con un LR de 0.01 para acelerar la convergencia.\n",
        "\n",
        "## Resultados\n",
        "- Los resultados no son excelentes, en general las perplexidad varia mucho, y no se pudo reducir mas de 18.000 que es una metrica muy mala considerando que el vocabulario es de 6.000.\n",
        "- En general, se tuvieron varios problemas para que la cantidad de memoria que utilice el entrenamiento no sea demasiada.\n",
        "- Se realizara una mejor exploracion de diferentes modelos y temperatura en la parte b del desafio.\n",
        "- El problema se dificulta dado que estamos tratando con una red que tiene mas de 6000 salidas, y no se consigue mucha representatividad para los datos de 6000 clases distintas."
      ]
    },
    {
      "cell_type": "code",
      "execution_count": 1,
      "metadata": {
        "id": "Y-QdFbHZYj7C"
      },
      "outputs": [],
      "source": [
        "import random\n",
        "import io\n",
        "import pickle\n",
        "\n",
        "import numpy as np\n",
        "import pandas as pd\n",
        "import matplotlib.pyplot as plt\n",
        "from sklearn.model_selection import train_test_split\n",
        "\n",
        "from tensorflow import keras\n",
        "from tensorflow.keras import layers\n",
        "from keras.utils import to_categorical\n",
        "from keras.models import Sequential\n",
        "from keras.layers import Dense, GRU, Embedding, Dropout\n",
        "from tensorflow.keras.losses import SparseCategoricalCrossentropy"
      ]
    },
    {
      "cell_type": "markdown",
      "metadata": {
        "id": "xTvXlEKQZdqx"
      },
      "source": [
        "### Datos\n",
        "Como ejemplo se utilizará como corpus un dataset del primer libro de harry potter"
      ]
    },
    {
      "cell_type": "markdown",
      "metadata": {},
      "source": []
    },
    {
      "cell_type": "code",
      "execution_count": 2,
      "metadata": {
        "colab": {
          "base_uri": "https://localhost:8080/",
          "height": 261
        },
        "id": "Gb39v3PaZmRH",
        "outputId": "7843cede-7548-4325-ff7f-7ec4891592c3"
      },
      "outputs": [
        {
          "name": "stderr",
          "output_type": "stream",
          "text": [
            "<ipython-input-2-6bd7078e426d>:1: ParserWarning: Falling back to the 'python' engine because the 'c' engine does not support regex separators (separators > 1 char and different from '\\s+' are interpreted as regex); you can avoid this warning by specifying engine='python'.\n",
            "  df = pd.read_csv(f'1.txt', sep='\\\\n', header=None)\n"
          ]
        },
        {
          "data": {
            "application/vnd.google.colaboratory.intrinsic+json": {
              "summary": "{\n  \"name\": \"df\",\n  \"rows\": 3094,\n  \"fields\": [\n    {\n      \"column\": 0,\n      \"properties\": {\n        \"dtype\": \"string\",\n        \"num_unique_values\": 3064,\n        \"samples\": [\n          \"A bundle of walking sticks was floating in midair ahead of them, and as Percy took a step toward them they started throwing themselves at him.\",\n          \"\\u201cOut of the way, you,\\u201d he said, punching Harry in the ribs. Caught by surprise, Harry fell hard on the concrete floor. What came next happened so fast no one saw how it happened \\u2014 one second, Piers and Dudley were leaning right up close to the glass, the next, they had leapt back with howls of horror.\",\n          \"THE POTIONS MASTER\"\n        ],\n        \"semantic_type\": \"\",\n        \"description\": \"\"\n      }\n    }\n  ]\n}",
              "type": "dataframe",
              "variable_name": "df"
            },
            "text/html": [
              "\n",
              "  <div id=\"df-22186539-b071-4e66-b77a-8ae035c84b99\" class=\"colab-df-container\">\n",
              "    <div>\n",
              "<style scoped>\n",
              "    .dataframe tbody tr th:only-of-type {\n",
              "        vertical-align: middle;\n",
              "    }\n",
              "\n",
              "    .dataframe tbody tr th {\n",
              "        vertical-align: top;\n",
              "    }\n",
              "\n",
              "    .dataframe thead th {\n",
              "        text-align: right;\n",
              "    }\n",
              "</style>\n",
              "<table border=\"1\" class=\"dataframe\">\n",
              "  <thead>\n",
              "    <tr style=\"text-align: right;\">\n",
              "      <th></th>\n",
              "      <th>0</th>\n",
              "    </tr>\n",
              "  </thead>\n",
              "  <tbody>\n",
              "    <tr>\n",
              "      <th>0</th>\n",
              "      <td>M r. and Mrs. Dursley, of number four, Privet ...</td>\n",
              "    </tr>\n",
              "    <tr>\n",
              "      <th>1</th>\n",
              "      <td>Mr. Dursley was the director of a firm called ...</td>\n",
              "    </tr>\n",
              "    <tr>\n",
              "      <th>2</th>\n",
              "      <td>The Dursleys had everything they wanted, but t...</td>\n",
              "    </tr>\n",
              "    <tr>\n",
              "      <th>3</th>\n",
              "      <td>When Mr. and Mrs. Dursley woke up on the dull,...</td>\n",
              "    </tr>\n",
              "    <tr>\n",
              "      <th>4</th>\n",
              "      <td>None of them noticed a large, tawny owl flutte...</td>\n",
              "    </tr>\n",
              "  </tbody>\n",
              "</table>\n",
              "</div>\n",
              "    <div class=\"colab-df-buttons\">\n",
              "\n",
              "  <div class=\"colab-df-container\">\n",
              "    <button class=\"colab-df-convert\" onclick=\"convertToInteractive('df-22186539-b071-4e66-b77a-8ae035c84b99')\"\n",
              "            title=\"Convert this dataframe to an interactive table.\"\n",
              "            style=\"display:none;\">\n",
              "\n",
              "  <svg xmlns=\"http://www.w3.org/2000/svg\" height=\"24px\" viewBox=\"0 -960 960 960\">\n",
              "    <path d=\"M120-120v-720h720v720H120Zm60-500h600v-160H180v160Zm220 220h160v-160H400v160Zm0 220h160v-160H400v160ZM180-400h160v-160H180v160Zm440 0h160v-160H620v160ZM180-180h160v-160H180v160Zm440 0h160v-160H620v160Z\"/>\n",
              "  </svg>\n",
              "    </button>\n",
              "\n",
              "  <style>\n",
              "    .colab-df-container {\n",
              "      display:flex;\n",
              "      gap: 12px;\n",
              "    }\n",
              "\n",
              "    .colab-df-convert {\n",
              "      background-color: #E8F0FE;\n",
              "      border: none;\n",
              "      border-radius: 50%;\n",
              "      cursor: pointer;\n",
              "      display: none;\n",
              "      fill: #1967D2;\n",
              "      height: 32px;\n",
              "      padding: 0 0 0 0;\n",
              "      width: 32px;\n",
              "    }\n",
              "\n",
              "    .colab-df-convert:hover {\n",
              "      background-color: #E2EBFA;\n",
              "      box-shadow: 0px 1px 2px rgba(60, 64, 67, 0.3), 0px 1px 3px 1px rgba(60, 64, 67, 0.15);\n",
              "      fill: #174EA6;\n",
              "    }\n",
              "\n",
              "    .colab-df-buttons div {\n",
              "      margin-bottom: 4px;\n",
              "    }\n",
              "\n",
              "    [theme=dark] .colab-df-convert {\n",
              "      background-color: #3B4455;\n",
              "      fill: #D2E3FC;\n",
              "    }\n",
              "\n",
              "    [theme=dark] .colab-df-convert:hover {\n",
              "      background-color: #434B5C;\n",
              "      box-shadow: 0px 1px 3px 1px rgba(0, 0, 0, 0.15);\n",
              "      filter: drop-shadow(0px 1px 2px rgba(0, 0, 0, 0.3));\n",
              "      fill: #FFFFFF;\n",
              "    }\n",
              "  </style>\n",
              "\n",
              "    <script>\n",
              "      const buttonEl =\n",
              "        document.querySelector('#df-22186539-b071-4e66-b77a-8ae035c84b99 button.colab-df-convert');\n",
              "      buttonEl.style.display =\n",
              "        google.colab.kernel.accessAllowed ? 'block' : 'none';\n",
              "\n",
              "      async function convertToInteractive(key) {\n",
              "        const element = document.querySelector('#df-22186539-b071-4e66-b77a-8ae035c84b99');\n",
              "        const dataTable =\n",
              "          await google.colab.kernel.invokeFunction('convertToInteractive',\n",
              "                                                    [key], {});\n",
              "        if (!dataTable) return;\n",
              "\n",
              "        const docLinkHtml = 'Like what you see? Visit the ' +\n",
              "          '<a target=\"_blank\" href=https://colab.research.google.com/notebooks/data_table.ipynb>data table notebook</a>'\n",
              "          + ' to learn more about interactive tables.';\n",
              "        element.innerHTML = '';\n",
              "        dataTable['output_type'] = 'display_data';\n",
              "        await google.colab.output.renderOutput(dataTable, element);\n",
              "        const docLink = document.createElement('div');\n",
              "        docLink.innerHTML = docLinkHtml;\n",
              "        element.appendChild(docLink);\n",
              "      }\n",
              "    </script>\n",
              "  </div>\n",
              "\n",
              "\n",
              "<div id=\"df-ccb6cba4-2547-4531-898a-08a34cbe2313\">\n",
              "  <button class=\"colab-df-quickchart\" onclick=\"quickchart('df-ccb6cba4-2547-4531-898a-08a34cbe2313')\"\n",
              "            title=\"Suggest charts\"\n",
              "            style=\"display:none;\">\n",
              "\n",
              "<svg xmlns=\"http://www.w3.org/2000/svg\" height=\"24px\"viewBox=\"0 0 24 24\"\n",
              "     width=\"24px\">\n",
              "    <g>\n",
              "        <path d=\"M19 3H5c-1.1 0-2 .9-2 2v14c0 1.1.9 2 2 2h14c1.1 0 2-.9 2-2V5c0-1.1-.9-2-2-2zM9 17H7v-7h2v7zm4 0h-2V7h2v10zm4 0h-2v-4h2v4z\"/>\n",
              "    </g>\n",
              "</svg>\n",
              "  </button>\n",
              "\n",
              "<style>\n",
              "  .colab-df-quickchart {\n",
              "      --bg-color: #E8F0FE;\n",
              "      --fill-color: #1967D2;\n",
              "      --hover-bg-color: #E2EBFA;\n",
              "      --hover-fill-color: #174EA6;\n",
              "      --disabled-fill-color: #AAA;\n",
              "      --disabled-bg-color: #DDD;\n",
              "  }\n",
              "\n",
              "  [theme=dark] .colab-df-quickchart {\n",
              "      --bg-color: #3B4455;\n",
              "      --fill-color: #D2E3FC;\n",
              "      --hover-bg-color: #434B5C;\n",
              "      --hover-fill-color: #FFFFFF;\n",
              "      --disabled-bg-color: #3B4455;\n",
              "      --disabled-fill-color: #666;\n",
              "  }\n",
              "\n",
              "  .colab-df-quickchart {\n",
              "    background-color: var(--bg-color);\n",
              "    border: none;\n",
              "    border-radius: 50%;\n",
              "    cursor: pointer;\n",
              "    display: none;\n",
              "    fill: var(--fill-color);\n",
              "    height: 32px;\n",
              "    padding: 0;\n",
              "    width: 32px;\n",
              "  }\n",
              "\n",
              "  .colab-df-quickchart:hover {\n",
              "    background-color: var(--hover-bg-color);\n",
              "    box-shadow: 0 1px 2px rgba(60, 64, 67, 0.3), 0 1px 3px 1px rgba(60, 64, 67, 0.15);\n",
              "    fill: var(--button-hover-fill-color);\n",
              "  }\n",
              "\n",
              "  .colab-df-quickchart-complete:disabled,\n",
              "  .colab-df-quickchart-complete:disabled:hover {\n",
              "    background-color: var(--disabled-bg-color);\n",
              "    fill: var(--disabled-fill-color);\n",
              "    box-shadow: none;\n",
              "  }\n",
              "\n",
              "  .colab-df-spinner {\n",
              "    border: 2px solid var(--fill-color);\n",
              "    border-color: transparent;\n",
              "    border-bottom-color: var(--fill-color);\n",
              "    animation:\n",
              "      spin 1s steps(1) infinite;\n",
              "  }\n",
              "\n",
              "  @keyframes spin {\n",
              "    0% {\n",
              "      border-color: transparent;\n",
              "      border-bottom-color: var(--fill-color);\n",
              "      border-left-color: var(--fill-color);\n",
              "    }\n",
              "    20% {\n",
              "      border-color: transparent;\n",
              "      border-left-color: var(--fill-color);\n",
              "      border-top-color: var(--fill-color);\n",
              "    }\n",
              "    30% {\n",
              "      border-color: transparent;\n",
              "      border-left-color: var(--fill-color);\n",
              "      border-top-color: var(--fill-color);\n",
              "      border-right-color: var(--fill-color);\n",
              "    }\n",
              "    40% {\n",
              "      border-color: transparent;\n",
              "      border-right-color: var(--fill-color);\n",
              "      border-top-color: var(--fill-color);\n",
              "    }\n",
              "    60% {\n",
              "      border-color: transparent;\n",
              "      border-right-color: var(--fill-color);\n",
              "    }\n",
              "    80% {\n",
              "      border-color: transparent;\n",
              "      border-right-color: var(--fill-color);\n",
              "      border-bottom-color: var(--fill-color);\n",
              "    }\n",
              "    90% {\n",
              "      border-color: transparent;\n",
              "      border-bottom-color: var(--fill-color);\n",
              "    }\n",
              "  }\n",
              "</style>\n",
              "\n",
              "  <script>\n",
              "    async function quickchart(key) {\n",
              "      const quickchartButtonEl =\n",
              "        document.querySelector('#' + key + ' button');\n",
              "      quickchartButtonEl.disabled = true;  // To prevent multiple clicks.\n",
              "      quickchartButtonEl.classList.add('colab-df-spinner');\n",
              "      try {\n",
              "        const charts = await google.colab.kernel.invokeFunction(\n",
              "            'suggestCharts', [key], {});\n",
              "      } catch (error) {\n",
              "        console.error('Error during call to suggestCharts:', error);\n",
              "      }\n",
              "      quickchartButtonEl.classList.remove('colab-df-spinner');\n",
              "      quickchartButtonEl.classList.add('colab-df-quickchart-complete');\n",
              "    }\n",
              "    (() => {\n",
              "      let quickchartButtonEl =\n",
              "        document.querySelector('#df-ccb6cba4-2547-4531-898a-08a34cbe2313 button');\n",
              "      quickchartButtonEl.style.display =\n",
              "        google.colab.kernel.accessAllowed ? 'block' : 'none';\n",
              "    })();\n",
              "  </script>\n",
              "</div>\n",
              "\n",
              "    </div>\n",
              "  </div>\n"
            ],
            "text/plain": [
              "                                                   0\n",
              "0  M r. and Mrs. Dursley, of number four, Privet ...\n",
              "1  Mr. Dursley was the director of a firm called ...\n",
              "2  The Dursleys had everything they wanted, but t...\n",
              "3  When Mr. and Mrs. Dursley woke up on the dull,...\n",
              "4  None of them noticed a large, tawny owl flutte..."
            ]
          },
          "execution_count": 2,
          "metadata": {},
          "output_type": "execute_result"
        }
      ],
      "source": [
        "df = pd.read_csv(f'1.txt', sep='\\\\n', header=None)\n",
        "df.head()"
      ]
    },
    {
      "cell_type": "markdown",
      "metadata": {
        "id": "VeMpWpiyG5Ya"
      },
      "source": [
        "Consideraremos que cada secuencia para este dataset es un parrafo.\n",
        "\n",
        "Una de las primeras decisiones que hay que tomar es el tamaño de contexto de tokens máximo que puede consumir el modelo. Este podría ser un hiperparámetro del problema.\n",
        "\n",
        "Para elegir el tamaño de contexto máximo para este problema se puede explorar el dataset, para ello:\n",
        "- se consideran las palabras como términos.\n",
        "- se segmentará el texto de todos los versos del dataset y ses explorará la cantidad de términos presentes.\n",
        "\n"
      ]
    },
    {
      "cell_type": "code",
      "execution_count": 3,
      "metadata": {
        "colab": {
          "base_uri": "https://localhost:8080/"
        },
        "id": "riT898QlZnmF",
        "outputId": "d8dab688-ed69-47fc-a2b3-fe9889be909d"
      },
      "outputs": [
        {
          "name": "stdout",
          "output_type": "stream",
          "text": [
            "Cantidad de documentos: 3094\n"
          ]
        }
      ],
      "source": [
        "print(\"Cantidad de documentos:\", df.shape[0])"
      ]
    },
    {
      "cell_type": "markdown",
      "metadata": {
        "id": "cP1JdiOIKQWi"
      },
      "source": [
        "### Elegir el tamaño del contexto"
      ]
    },
    {
      "cell_type": "code",
      "execution_count": 4,
      "metadata": {
        "id": "m5FeTaGvbDbw"
      },
      "outputs": [],
      "source": [
        "# Usaremos las utilidades de procesamiento de textos y secuencias de Keras\n",
        "from tensorflow.keras.preprocessing.text import Tokenizer # equivalente a ltokenizer de nltk\n",
        "from tensorflow.keras.preprocessing.text import text_to_word_sequence # equivalente a word_tokenize de nltk\n",
        "from tensorflow.keras.utils import pad_sequences # se utilizará para padding\n"
      ]
    },
    {
      "cell_type": "code",
      "execution_count": 5,
      "metadata": {
        "id": "jveeyMVKHn9J"
      },
      "outputs": [],
      "source": [
        "# cada parrafo lo guardamos en una lista\n",
        "text = list(df.loc[:,0])"
      ]
    },
    {
      "cell_type": "code",
      "execution_count": 6,
      "metadata": {
        "id": "CMu9CX34J8RQ"
      },
      "outputs": [],
      "source": [
        "# segmentamos el texto con la utilidad de Keras\n",
        "segmented_sentences = [text_to_word_sequence(sentence) for sentence in text]"
      ]
    },
    {
      "cell_type": "code",
      "execution_count": 7,
      "metadata": {
        "colab": {
          "base_uri": "https://localhost:8080/",
          "height": 70
        },
        "id": "neCJEVNvkkjE",
        "outputId": "4eb6c175-de7d-4a99-85f1-bf3288fa3c36"
      },
      "outputs": [
        {
          "data": {
            "application/vnd.google.colaboratory.intrinsic+json": {
              "type": "string"
            },
            "text/plain": [
              "'M r. and Mrs. Dursley, of number four, Privet Drive, were proud to say that they were perfectly normal, thank you very much. They were the last people you’d expect to be involved in anything strange or mysterious, because they just didn’t hold with such nonsense.'"
            ]
          },
          "execution_count": 7,
          "metadata": {},
          "output_type": "execute_result"
        }
      ],
      "source": [
        "text[0]"
      ]
    },
    {
      "cell_type": "code",
      "execution_count": 8,
      "metadata": {
        "id": "x35rV7QZH49n"
      },
      "outputs": [],
      "source": [
        "# calculamos la longitud de cada secuencia\n",
        "length_sentences = [len(sentence) for sentence in segmented_sentences]"
      ]
    },
    {
      "cell_type": "code",
      "execution_count": 9,
      "metadata": {
        "colab": {
          "base_uri": "https://localhost:8080/",
          "height": 430
        },
        "id": "R8P8vDXRII4c",
        "outputId": "83420436-d6fe-44e7-ba23-55521e6773b8"
      },
      "outputs": [
        {
          "data": {
            "image/png": "[encoded data removed]",
            "text/plain": [
              "<Figure size 640x480 with 1 Axes>"
            ]
          },
          "metadata": {},
          "output_type": "display_data"
        }
      ],
      "source": [
        "# podemos ver su distribución\n",
        "plt.hist(length_sentences,bins=200);"
      ]
    },
    {
      "cell_type": "code",
      "execution_count": 10,
      "metadata": {
        "colab": {
          "base_uri": "https://localhost:8080/"
        },
        "id": "wumBNwdjJM3j",
        "outputId": "01deea84-59e5-458b-8947-54a22a957555"
      },
      "outputs": [
        {
          "name": "stdout",
          "output_type": "stream",
          "text": [
            "max_context_size: 17\n"
          ]
        }
      ],
      "source": [
        "# a partir de la distribución de longitudes de secuencias elegimos algún criterio\n",
        "# para determinar el máximo tamaño de contexto. En este caso es un percentil, pero\n",
        "# otros criterios también pueden ser válidos con la justificación adecuada.\n",
        "# También puede ser una selección \"a mano\"\n",
        "\n",
        "# el -1 es porque el último token será el target\n",
        "max_context_size = int(np.percentile(length_sentences, 50)-1)\n",
        "\n",
        "# max_context_size = int(np.ceil(np.mean(length_sentences))) # criterio de media\n",
        "# max_context_size = int(np.ceil(np.median(length_sentences))) # criterio de mediana\n",
        "print(f'max_context_size: {max_context_size}')"
      ]
    },
    {
      "cell_type": "markdown",
      "metadata": {
        "id": "2oIUjVU0LB0r"
      },
      "source": [
        "###  Tokenizar"
      ]
    },
    {
      "cell_type": "code",
      "execution_count": 11,
      "metadata": {
        "id": "_XKQIpRiLNbg"
      },
      "outputs": [],
      "source": [
        "# instanciamos el tokenizador\n",
        "tok = Tokenizer()\n",
        "\n",
        "# El tokenizer \"aprende\" las palabras que se usaran\n",
        "# Se construye (fit) una vez por proyecto, se aplica N veces (tal cual un encoder)\n",
        "# El token 0 es reservado y no es asignado. Se utiliza para designar a palabras\n",
        "# fuera del vocabulario aprendido\n",
        "tok.fit_on_texts(segmented_sentences)\n",
        "\n",
        "# Convertimos las palabras a números\n",
        "# entran palabras -> salen números\n",
        "tokenized_sentences = tok.texts_to_sequences(segmented_sentences)"
      ]
    },
    {
      "cell_type": "code",
      "execution_count": 12,
      "metadata": {
        "colab": {
          "base_uri": "https://localhost:8080/"
        },
        "id": "AK2wfHyslrTz",
        "outputId": "f74f902e-cead-49a8-8f11-abd6dd9cbff9"
      },
      "outputs": [
        {
          "data": {
            "text/plain": [
              "[2161,\n",
              " 3679,\n",
              " 3,\n",
              " 273,\n",
              " 223,\n",
              " 7,\n",
              " 650,\n",
              " 331,\n",
              " 651,\n",
              " 534,\n",
              " 34,\n",
              " 1267,\n",
              " 4,\n",
              " 163,\n",
              " 19,\n",
              " 20,\n",
              " 34,\n",
              " 1585,\n",
              " 972,\n",
              " 1586,\n",
              " 13,\n",
              " 68,\n",
              " 156,\n",
              " 20,\n",
              " 34,\n",
              " 1,\n",
              " 140,\n",
              " 127,\n",
              " 652,\n",
              " 788,\n",
              " 4,\n",
              " 31,\n",
              " 1587,\n",
              " 11,\n",
              " 168,\n",
              " 489,\n",
              " 109,\n",
              " 1415,\n",
              " 141,\n",
              " 20,\n",
              " 67,\n",
              " 54,\n",
              " 908,\n",
              " 24,\n",
              " 504,\n",
              " 1787]"
            ]
          },
          "execution_count": 12,
          "metadata": {},
          "output_type": "execute_result"
        }
      ],
      "source": [
        "tokenized_sentences[0]"
      ]
    },
    {
      "cell_type": "markdown",
      "metadata": {
        "id": "pfpYcaypKcI9"
      },
      "source": [
        "### Organizando y estructurando el dataset"
      ]
    },
    {
      "cell_type": "markdown",
      "metadata": {
        "id": "l3iPTx-UJl6r"
      },
      "source": [
        "En este punto tenemos en la variable `tokenized_sentences` los versos tokenizados. Vamos a quedarnos con un conjunto de validación que utilizaremos para medir la calidad de la generación de secuencias con la métrica de Perplejidad."
      ]
    },
    {
      "cell_type": "code",
      "execution_count": 13,
      "metadata": {
        "id": "cSeqVGyV_wz5"
      },
      "outputs": [],
      "source": [
        "tokenized_sentences_train, tokenized_sentences_val, _, _ = train_test_split(tokenized_sentences, tokenized_sentences, test_size=0.2, random_state=42)"
      ]
    },
    {
      "cell_type": "markdown",
      "metadata": {
        "id": "gmsoPbV6LxcW"
      },
      "source": [
        "\\Vamos a splitear las oraciones que tienen tamaño mayor al contexto máximo, para generarnos más secuencias de entrenamiento. Este paso puede obviarse si el tamaño de contexto máximo es muy grande.\n",
        "\n",
        "Por ejemplo, si tenemos el texto *La bella y graciosa moza marchóse a lavar la ropa* y nuestro contexto es de 5 palabras, tendremos:\n",
        "\n",
        "- *La bella y graciosa moza*\n",
        "- *bella y graciosa moza marchóse*\n",
        "- *y graciosa moza marchóse a*\n",
        "- *graciosa moza marchóse a lavar*\n",
        "- *moza marchóse a lavar la*\n",
        "- *marchóse a lavar la ropa*"
      ]
    },
    {
      "cell_type": "code",
      "execution_count": 14,
      "metadata": {
        "id": "E5BPO4qPPnNR"
      },
      "outputs": [],
      "source": [
        "tok_sent = []\n",
        "\n",
        "for sent in tokenized_sentences_train:\n",
        "\n",
        "  # si la secuencia tiene más términos que el tamaño de contexto máximo,\n",
        "  # armo varias sub-secuencias de tamaño máximo\n",
        "  if len(sent) > (max_context_size+1):\n",
        "    extra = len(sent)-(max_context_size+1) + 1\n",
        "    for i in range(extra):\n",
        "      tok_sent.append(sent[i:i+max_context_size+1])\n",
        "  else: # si la secuencia tiene menos términos el tamaño de contexto máximo, dejo la secuencia como está\n",
        "    tok_sent.append(sent)\n"
      ]
    },
    {
      "cell_type": "code",
      "execution_count": 15,
      "metadata": {
        "colab": {
          "base_uri": "https://localhost:8080/"
        },
        "id": "RiEt0AAz_64v",
        "outputId": "6291a683-c93c-4263-d33e-2a63d5c01e85"
      },
      "outputs": [
        {
          "data": {
            "text/plain": [
              "33960"
            ]
          },
          "execution_count": 15,
          "metadata": {},
          "output_type": "execute_result"
        }
      ],
      "source": [
        "len(tok_sent)"
      ]
    },
    {
      "cell_type": "markdown",
      "metadata": {
        "id": "QnwSC7A_LWfd"
      },
      "source": [
        "Ahora aumentamos los datos aprovechando que de una secuencia grande se pueden generar varias más pequeñas:\n",
        "\n",
        "- *La hermosa casa en el prado*\n",
        "- *La hermosa*\n",
        "- *La hermosa casa*\n",
        "- *La hermosa casa en*\n",
        "- *La hermosa casa en el*\n",
        "- *La hermosa casa en el prado*"
      ]
    },
    {
      "cell_type": "code",
      "execution_count": 16,
      "metadata": {
        "id": "lWdhVV04htki"
      },
      "outputs": [],
      "source": [
        "tok_sent_augm = []\n",
        "\n",
        "for sent in tok_sent:\n",
        "\n",
        "  # generamos todas las sub-secuencias\n",
        "  subseq = [sent[:i+2] for i in range(len(sent)-1)]\n",
        "  # en esta línea paddeamos al tamaño de contexto máximo\n",
        "  tok_sent_augm.append(pad_sequences(subseq, maxlen=max_context_size+1, padding='pre'))\n"
      ]
    },
    {
      "cell_type": "code",
      "execution_count": 17,
      "metadata": {
        "id": "THXXBya1tnZ8"
      },
      "outputs": [],
      "source": [
        "# finalmente concatenamos todas las secuencias en un único array de numpy\n",
        "train_seqs = np.concatenate(tok_sent_augm, axis=0)"
      ]
    },
    {
      "cell_type": "code",
      "execution_count": 18,
      "metadata": {
        "colab": {
          "base_uri": "https://localhost:8080/"
        },
        "id": "o5Uiflnwt10J",
        "outputId": "e7a06f24-4c3f-4bab-cbfc-77e261ae9da0"
      },
      "outputs": [
        {
          "data": {
            "text/plain": [
              "(566537, 18)"
            ]
          },
          "execution_count": 18,
          "metadata": {},
          "output_type": "execute_result"
        }
      ],
      "source": [
        "train_seqs.shape"
      ]
    },
    {
      "cell_type": "code",
      "execution_count": 19,
      "metadata": {
        "id": "yprwJHiMBQIS"
      },
      "outputs": [],
      "source": [
        "# y de aquí sacamos las entradas y los targets que consumirá nuestro sistema en\n",
        "# tiempo de entrenamiento\n",
        "X = train_seqs[:,:-1]\n",
        "y = train_seqs[:,1:]"
      ]
    },
    {
      "cell_type": "markdown",
      "metadata": {
        "id": "YxuKNI05Ttct"
      },
      "source": [
        "Nótese que estamos estructurando el problema de aprendizaje como *many-to-many*:\n",
        "\n",
        "Entrada: secuencia de tokens [$x_0$, $x_1$, ..., $x_N$]\n",
        "\n",
        "Target: secuencia de tokens [$x_1$, $x_2$, ..., $x_{N+1}$]\n",
        "\n",
        "De manera que la red tiene que aprender que su salida deben ser los tokens desplazados en una posición y un nuevo token predicho (el N+1).\n",
        "\n",
        "La ventaja de estructurar el aprendizaje de esta manera es que para cada token de target se propaga una señal de gradiente por el grafo de cómputo recurrente, que es mejor que estructurar el problema como *many-to-one* en donde sólo una señal de gradiente se propaga."
      ]
    },
    {
      "cell_type": "code",
      "execution_count": 20,
      "metadata": {
        "colab": {
          "base_uri": "https://localhost:8080/"
        },
        "id": "KFAyA4zCWE-5",
        "outputId": "158008d9-c1c8-4bda-a60c-4b29d4bb9119"
      },
      "outputs": [
        {
          "data": {
            "text/plain": [
              "(566537, 17)"
            ]
          },
          "execution_count": 20,
          "metadata": {},
          "output_type": "execute_result"
        }
      ],
      "source": [
        "y.shape"
      ]
    },
    {
      "cell_type": "code",
      "execution_count": 21,
      "metadata": {
        "colab": {
          "base_uri": "https://localhost:8080/"
        },
        "id": "WtzINYjWCMf1",
        "outputId": "2037b770-fd96-4e19-bd0c-a8bbdbb5e0e4"
      },
      "outputs": [
        {
          "data": {
            "text/plain": [
              "6661"
            ]
          },
          "execution_count": 21,
          "metadata": {},
          "output_type": "execute_result"
        }
      ],
      "source": [
        "# Cantidad de palabras en el vocabulario\n",
        "vocab_size = len(tok.word_counts)\n",
        "vocab_size"
      ]
    },
    {
      "cell_type": "code",
      "execution_count": 22,
      "metadata": {
        "colab": {
          "base_uri": "https://localhost:8080/"
        },
        "id": "spTBxmFQc6h8",
        "outputId": "fc5c7526-6fca-4a81-906c-116d120d1b74"
      },
      "outputs": [
        {
          "name": "stdout",
          "output_type": "stream",
          "text": [
            "{'the': 1, '”': 2, 'and': 3, 'to': 4, 'a': 5, 'he': 6, 'of': 7, 'harry': 8, 'was': 9, 'it': 10, 'in': 11, 'his': 12, 'you': 13, 'said': 14, '—': 15, 'had': 16, 'on': 17, 'at': 18, 'that': 19, 'they': 20, 'as': 21, 'him': 22, 'i': 23, 'with': 24, 'but': 25, 'ron': 26, 'all': 27, 'out': 28, 'up': 29, 'for': 30, 'be': 31, 'them': 32, 'hagrid': 33, 'were': 34, 'have': 35, 'what': 36, 'there': 37, 'back': 38, 'hermione': 39, 'one': 40, 'from': 41, 'this': 42, 'not': 43, 'if': 44, 'she': 45, 'about': 46, 'into': 47, 'their': 48, 'been': 49, 'me': 50, 'know': 51, 'so': 52, 'off': 53, 'didn’t': 54, 'like': 55, 'could': 56, 'got': 57, 'get': 58, 'her': 59, 'down': 60, 'when': 61, 'over': 62, 'who': 63, 'looked': 64, '“i': 65, 'professor': 66, 'just': 67, 'very': 68, 'see': 69, 'is': 70, 'then': 71, 'no': 72, 'by': 73, 'do': 74, 'are': 75, 'your': 76, 'around': 77, 'now': 78, 'dumbledore': 79, 'he’d': 80, 'snape': 81, 'going': 82, 'an': 83, 'something': 84, 'through': 85, 'think': 86, 'uncle': 87, 'time': 88, 'we': 89, 'go': 90, 'don’t': 91, 'dudley': 92, 'never': 93, 'right': 94, 'first': 95, 'looking': 96, 'here': 97, 'harry’s': 98, 'look': 99, 'more': 100, 'how': 101, 'malfoy': 102, 'before': 103, 'it’s': 104, 'only': 105, 'would': 106, 'eyes': 107, 'door': 108, 'or': 109, 'couldn’t': 110, 'vernon': 111, 'even': 112, 'too': 113, 'again': 114, 'two': 115, 'potter': 116, 'head': 117, '—”': 118, 'neville': 119, 'next': 120, 'my': 121, 'yeh': 122, 'thought': 123, 'mcgonagall': 124, 'than': 125, 'way': 126, 'people': 127, 'told': 128, 'where': 129, 'did': 130, 'face': 131, 'still': 132, 'room': 133, 'other': 134, 'stone': 135, 'quirrell': 136, 'though': 137, 'will': 138, 'which': 139, 'last': 140, 'because': 141, 'its': 142, 'left': 143, '“you': 144, 'boy': 145, 'us': 146, 'gryffindor': 147, 'come': 148, 'an’': 149, 'mr': 150, 'behind': 151, 'some': 152, 'ter': 153, 'house': 154, 'turned': 155, 'much': 156, 'wasn’t': 157, 'came': 158, 'heard': 159, 'can': 160, 'three': 161, 'hogwarts': 162, 'say': 163, 'good': 164, 'seemed': 165, 'i’m': 166, 'once': 167, 'anything': 168, 'toward': 169, 'went': 170, 'long': 171, 'away': 172, 'little': 173, 'great': 174, 'suddenly': 175, 'really': 176, 'hand': 177, 'found': 178, 'want': 179, 'bit': 180, 'tell': 181, 'made': 182, 'school': 183, 'himself': 184, 'after': 185, 'trying': 186, 'aunt': 187, 'tried': 188, 'saw': 189, 'any': 190, 'well': 191, 'dark': 192, '“but': 193, '“what': 194, 'took': 195, 'wand': 196, 'knew': 197, 'put': 198, 'while': 199, 'old': 200, 'voice': 201, 'inside': 202, 'asked': 203, 'take': 204, 'day': 205, 'that’s': 206, 'let': 207, 'ever': 208, 'petunia': 209, 'quidditch': 210, 'cloak': 211, 'open': 212, 'black': 213, 'i’ve': 214, 'can’t': 215, 'must': 216, 'he’s': 217, 'yer': 218, '“oh': 219, 'hadn’t': 220, 'few': 221, 'find': 222, 'dursley': 223, 'seen': 224, 'floor': 225, 'might': 226, 'another': 227, 'pulled': 228, 'front': 229, 'keep': 230, 'feet': 231, 'large': 232, 'years': 233, 'wood': 234, 'things': 235, 'every': 236, 'gone': 237, 'end': 238, '“i’m': 239, 'started': 240, 'hall': 241, 'felt': 242, 'filch': 243, 'mind': 244, 'wouldn’t': 245, 'make': 246, 'magic': 247, 'nothing': 248, 'lot': 249, 'almost': 250, 'thing': 251, '“and': 252, 'air': 253, 'moment': 254, 'everyone': 255, 'mirror': 256, 'fell': 257, 'walked': 258, 'letter': 259, 'slytherin': 260, 'weasley': 261, 'high': 262, 'sat': 263, 'why': 264, 'until': 265, 'bed': 266, 'night': 267, '“well': 268, 'enough': 269, '“it’s': 270, 'course': 271, 'table': 272, 'mrs': 273, 'called': 274, 'wanted': 275, 'owl': 276, 'past': 277, 'saying': 278, 'points': 279, 'later': 280, 'name': 281, 'sure': 282, 'quickly': 283, 'already': 284, 'done': 285, 'dursleys': 286, 'second': 287, 'read': 288, '“the': 289, 'you’re': 290, 'books': 291, 'our': 292, 'should': 293, '“no': 294, 'without': 295, 'wizard': 296, 'hat': 297, 'half': 298, 'always': 299, 'being': 300, 'stop': 301, 'life': 302, 'under': 303, 'caught': 304, 'onto': 305, 'try': 306, 'gave': 307, 'new': 308, 'across': 309, 'better': 310, 'same': 311, 'stood': 312, 'hair': 313, 'reached': 314, 'remember': 315, 'full': 316, 'outside': 317, 'these': 318, 'quite': 319, 'wall': 320, 'they’d': 321, 'they’re': 322, 'year': 323, 'kept': 324, 'fire': 325, 'anyone': 326, 'stared': 327, 'else': 328, 'whispered': 329, 'each': 330, 'four': 331, 'man': 332, 'ground': 333, 'place': 334, 'madam': 335, 'top': 336, 'forward': 337, 'yet': 338, 'against': 339, 'white': 340, 'percy': 341, 'nearly': 342, 'standing': 343, 'ask': 344, 'silver': 345, 'whole': 346, 'hands': 347, 'mean': 348, 'getting': 349, 'own': 350, 'doing': 351, 'forest': 352, 'side': 353, 'broom': 354, 'small': 355, 'window': 356, '“don’t': 357, '“so': 358, 'best': 359, 'coming': 360, 'along': 361, 'hear': 362, 'train': 363, 'fred': 364, 'morning': 365, 'green': 366, 'five': 367, 'yes': 368, 'has': 369, 'both': 370, 'nose': 371, 'i’ll': 372, 'hagrid’s': 373, 'happened': 374, 'suppose': 375, '“yes': 376, 'we’re': 377, 'o’': 378, 'lost': 379, 'corridor': 380, 'troll': 381, 'everything': 382, 'noticed': 383, 'shouted': 384, 'stopped': 385, '“we': 386, 'hard': 387, 'red': 388, 'talking': 389, 'fer': 390, 'hundred': 391, 'peeves': 392, 'big': 393, 'most': 394, 'work': 395, 'help': 396, 'someone': 397, '“harry': 398, 'mother': 399, 'ten': 400, 'father': 401, 'gold': 402, 'taken': 403, 'trouble': 404, 'need': 405, 'there’s': 406, 'dragon': 407, 'george': 408, 'team': 409, 'minutes': 410, '“it': 411, 'family': 412, 'you’ll': 413, 'bad': 414, 'gringotts': 415, 'many': 416, 'broomstick': 417, 'funny': 418, 'weren’t': 419, 'those': 420, 'sir': 421, 'sitting': 422, 'robes': 423, 'able': 424, 'voldemort': 425, 'cold': 426, 'holding': 427, 'anyway': 428, 'sort': 429, 'corner': 430, 'sight': 431, 'light': 432, 'snapped': 433, 'straight': 434, 'set': 435, 'move': 436, 'heart': 437, 'give': 438, 'we’ll': 439, 'feeling': 440, 'round': 441, 'rest': 442, 'you’ve': 443, 'students': 444, 'except': 445, 'passed': 446, 'words': 447, 'dead': 448, 'sorry': 449, 'week': 450, '“how': 451, 'i’d': 452, 'famous': 453, 'world': 454, 'won’t': 455, 'does': 456, 'giant': 457, 'we’ve': 458, '1': 459, 'library': 460, 'match': 461, 'flamel': 462, 'fluffy': 463, 'norbert': 464, 'cat': 465, 'nice': 466, 'catch': 467, 'finally': 468, '…”': 469, 'dudley’s': 470, 'staring': 471, '“all': 472, 'use': 473, '“that’s': 474, 'arms': 475, 'class': 476, 'seven': 477, 'began': 478, '“now': 479, '“he': 480, 'christmas': 481, 'somewhere': 482, 'either': 483, 'empty': 484, 'note': 485, 'book': 486, 'blood': 487, 'castle': 488, 'strange': 489, 'hardly': 490, 'reason': 491, 'moved': 492, 'legs': 493, 'far': 494, 'common': 495, 'held': 496, 'rather': 497, 'believe': 498, 'dog': 499, 'noise': 500, 'cupboard': 501, 'between': 502, 'goyle': 503, 'such': 504, 'street': 505, 'watched': 506, 'owls': 507, 'pointed': 508, 'gotten': 509, 'dear': 510, 'muggle': 511, 'since': 512, 'haven’t': 513, 'isn’t': 514, 'asleep': 515, 'muttered': 516, 'exactly': 517, 'knows': 518, 'answer': 519, 'talk': 520, 'mouth': 521, 'glass': 522, 'fat': 523, 'parents': 524, 'what’s': 525, 'stay': 526, 'letters': 527, '“if': 528, 'dropped': 529, 'pale': 530, 'twins': 531, 'granger': 532, 'quirrell’s': 533, 'drive': 534, 'together': 535, 'however': 536, 'different': 537, 'tonight': 538, '“why': 539, 'bright': 540, 'smiling': 541, 'gasped': 542, '“i’ve': 543, 'huge': 544, 'fast': 545, 'start': 546, 'slowly': 547, 'feel': 548, 'alone': 549, 'horrible': 550, 'ceiling': 551, 'cup': 552, 'speak': 553, 'managed': 554, 'please': 555, 'idea': 556, 'followed': 557, 'unicorn': 558, 'send': 559, 'crabbe': 560, 'forget': 561, 'ronan': 562, 'met': 563, 'car': 564, 'stupid': 565, 'close': 566, 'muggles': 567, 'waiting': 568, 'spoke': 569, 'kill': 570, 'turn': 571, 'opened': 572, '“hagrid': 573, 'arm': 574, 'game': 575, 'given': 576, 'raised': 577, 'hope': 578, 'ran': 579, 'wait': 580, 'hut': 581, 'don’': 582, 'pleased': 583, '“he’s': 584, 'safe': 585, 'thousand': 586, 'platform': 587, 'ron’s': 588, 'flitwick': 589, 'snape’s': 590, 'quaffle': 591, 'neck': 592, 'usual': 593, 'knocked': 594, 'loudly': 595, 'allowed': 596, 'perhaps': 597, 'sleep': 598, 'watching': 599, 'twelve': 600, 'times': 601, 'woman': 602, 'heads': 603, '“a': 604, 'watch': 605, '–': 606, 'pointing': 607, 'sound': 608, 'taking': 609, 'stepped': 610, 'shook': 611, 'leg': 612, 'leave': 613, 'telling': 614, 'seat': 615, 'snake': 616, 'run': 617, 'making': 618, 'brought': 619, 'third': 620, 'cauldron': 621, 'seamus': 622, 'snitch': 623, 'arrived': 624, 'wearing': 625, 'home': 626, 'realized': 627, 'crowd': 628, '“what’s': 629, 'lay': 630, 'wrong': 631, 'pocket': 632, 'threw': 633, 'disappeared': 634, 'call': 635, 'scar': 636, 'stand': 637, '“good': 638, 'died': 639, 'nine': 640, '“that': 641, '“do': 642, '“this': 643, 'pain': 644, 'won': 645, 'field': 646, 'money': 647, 'play': 648, 'ollivander': 649, 'number': 650, 'privet': 651, 'you’d': 652, 'picked': 653, 'walls': 654, 'sign': 655, 'supposed': 656, 'important': 657, 'seem': 658, 'word': 659, 'instead': 660, 'pair': 661, 'turning': 662, 'near': 663, '“we’ve': 664, 'eleven': 665, 'understand': 666, 'above': 667, 'dumbledore’s': 668, 'hp': 669, \"sorcerer's\": 670, 'chapter': 671, 'showed': 672, 'forgotten': 673, 'used': 674, 'chocolate': 675, 'shop': 676, 'pushed': 677, 'wizards': 678, 'toad': 679, 'meet': 680, 'nimbus': 681, 'became': 682, 'gryffindors': 683, 'ahead': 684, 'sent': 685, 'fang': 686, 'firenze': 687, 'twice': 688, 'also': 689, 'secret': 690, 'fact': 691, 'free': 692, 'yelled': 693, 'afternoon': 694, 'wide': 695, 'today': 696, 'flying': 697, 'stuff': 698, 'lamp': 699, 'glasses': 700, 'shoulder': 701, 'late': 702, 'low': 703, 'mad': 704, 'maybe': 705, 'piers': 706, 'terrible': 707, 'doors': 708, 'teachers': 709, 'friends': 710, '“look': 711, 'deep': 712, 'breath': 713, 'shut': 714, 'follow': 715, 'learn': 716, 'potions': 717, 'climbed': 718, 'others': 719, 'hufflepuff': 720, 'themselves': 721, 'chamber': 722, 'neville’s': 723, 'trees': 724, 'ghost': 725, 'break': 726, 'tree': 727, 'fifty': 728, 'sorcerer’s': 729, 'sister': 730, 'soon': 731, 'having': 732, 'fingers': 733, 'hurried': 734, 'point': 735, 'tiny': 736, 'seconds': 737, 'yourself': 738, 'wondered': 739, 'evening': 740, 'tea': 741, 'angry': 742, 'nasty': 743, 'tail': 744, 'purple': 745, 'bet': 746, 'lucky': 747, 'liked': 748, 'silence': 749, 'wild': 750, 'bent': 751, 'minute': 752, 'swung': 753, 'pink': 754, 'playing': 755, 'walking': 756, 'kitchen': 757, '“are': 758, 'birthday': 759, 'questions': 760, 'boys': 761, 'thick': 762, 'six': 763, 'matter': 764, 'body': 765, 'worse': 766, 'leapt': 767, 'mail': 768, 'jumped': 769, '“come': 770, 'nearer': 771, 'grounds': 772, 'loud': 773, 'scared': 774, 'spell': 775, 'quietly': 776, '“just': 777, 'nervous': 778, 'sudden': 779, '“you’re': 780, 'nicolas': 781, 'turban': 782, 'portrait': 783, 'guarding': 784, 'hurt': 785, 'flint': 786, 'invisibility': 787, 'expect': 788, 'several': 789, 'gray': 790, 'sky': 791, 'thinking': 792, 'seized': 793, 'smile': 794, 'happy': 795, 'middle': 796, 'direction': 797, 'apart': 798, 'upstairs': 799, 'broken': 800, 'lose': 801, 'true': 802, 'somehow': 803, 'odd': 804, 'he’ll': 805, 'ready': 806, 'carefully': 807, 'london': 808, '“yeah': 809, 'ago': 810, 'quiet': 811, 'paper': 812, 'hit': 813, 'hour': 814, 'screamed': 815, 'running': 816, '“go': 817, 'practice': 818, 'shaking': 819, 'foot': 820, '“there’s': 821, '“see': 822, 'faces': 823, 'package': 824, 'eh': 825, 'worry': 826, 'mom': 827, 'cart': 828, 'killed': 829, 'anythin’': 830, 'die': 831, 'expelled': 832, 'dragons': 833, 'smiled': 834, 'pile': 835, 'brooms': 836, 'added': 837, 'hedwig': 838, 'charlie': 839, 'malfoy’s': 840, 'staircase': 841, 'ages': 842, 'tower': 843, 'slytherins': 844, 'bludgers': 845, 'bane': 846, 'possible': 847, 'obviously': 848, 'walk': 849, 'buy': 850, 'finished': 851, 'o’clock': 852, 'pull': 853, 'explain': 854, '“er': 855, 'expected': 856, 'dare': 857, 'appeared': 858, 'tall': 859, 'beard': 860, 'blue': 861, 'known': 862, 'sharp': 863, 'pomfrey': 864, 'real': 865, 'live': 866, 'forehead': 867, 'ball': 868, 'knees': 869, 'case': 870, 'grabbed': 871, 'she’d': 872, 'easy': 873, 'leaving': 874, 'smell': 875, 'heavy': 876, 'line': 877, 'lying': 878, 'wondering': 879, 'rock': 880, 'dad': 881, 'witch': 882, 'powerful': 883, 'wands': 884, 'hole': 885, 'aren’t': 886, 'ones': 887, 'flew': 888, 'hanging': 889, 'key': 890, 'griphook': 891, 'leaned': 892, 'says': 893, 'show': 894, 'hung': 895, 'brothers': 896, 'scabbers': 897, 'ears': 898, 'card': 899, 'path': 900, 'eye': 901, 'norris': 902, 'classroom': 903, 'hermione’s': 904, 'seeker': 905, 'crate': 906, 'chess': 907, 'hold': 908, 'spent': 909, 'potters': 910, 'story': 911, 'hoping': 912, 'edge': 913, 'changed': 914, 'worried': 915, 'spotted': 916, 'living': 917, 'hundreds': 918, 'nervously': 919, 'crept': 920, 'least': 921, 'albus': 922, '“my': 923, 'shot': 924, 'broke': 925, 'cried': 926, 'written': 927, 'underneath': 928, 'landed': 929, 'myself': 930, 'furiously': 931, 'usually': 932, '“i’ll': 933, 'rose': 934, 'step': 935, 'rolled': 936, 'racing': 937, 'difficult': 938, 'horror': 939, 'friend': 940, 'listening': 941, 'families': 942, 'fall': 943, 'vernon’s': 944, 'shock': 945, 'coat': 946, 'closer': 947, 'nobody': 948, 'glad': 949, 'burst': 950, 'breakfast': 951, 'p': 952, 'listen': 953, 'clearly': 954, 'twenty': 955, 'days': 956, 'chance': 957, 'steal': 958, 'keys': 959, 'bottle': 960, 'touch': 961, 'station': 962, 'magical': 963, '“professor': 964, 'inches': 965, 'clapped': 966, 'leaves': 967, 'goes': 968, 'weasleys': 969, 'lessons': 970, 'hooch': 971, 'normal': 972, 'although': 973, 'thin': 974, 'fear': 975, 'keeping': 976, 'woke': 977, 'chair': 978, 'none': 979, 'throwing': 980, 'realize': 981, 'jerked': 982, 'single': 983, 'bag': 984, 'learned': 985, 'carrying': 986, 'whether': 987, 'decided': 988, 'kind': 989, 'busy': 990, 'slipped': 991, 'careful': 992, 'oh': 993, 'neither': 994, '“is': 995, 'power': 996, 'nodded': 997, 'may': 998, 'golden': 999, 'less': 1000, 'size': 1001, 'baby': 1002, 'we’d': 1003, 'business': 1004, 'balls': 1005, 'luck': 1006, 'happen': 1007, 'knowing': 1008, 'weeks': 1009, 'dream': 1010, 'pulling': 1011, 'stairs': 1012, 'hidden': 1013, 'presents': 1014, 'television': 1015, 'question': 1016, 'crash': 1017, 'egg': 1018, 'reminded': 1019, 'sweater': 1020, 'surprise': 1021, 'locked': 1022, 'shouldn’t': 1023, 'dangerous': 1024, 'bought': 1025, 'ice': 1026, 'entrance': 1027, 'starting': 1028, 'windows': 1029, 'keeper': 1030, 'death': 1031, 'food': 1032, 'during': 1033, 'waved': 1034, 'holidays': 1035, '“they': 1036, 'flat': 1037, 'carried': 1038, 'mistake': 1039, 'ear': 1040, 'working': 1041, 'earth': 1042, 'eat': 1043, 'tomorrow': 1044, 'agreed': 1045, 'boat': 1046, 'sofa': 1047, '“an’': 1048, 'pockets': 1049, 'sounded': 1050, 'term': 1051, 'indeed': 1052, 'girl': 1053, 'outta': 1054, 'halloween': 1055, 'curse': 1056, 'remembered': 1057, 'umbrella': 1058, 'lock': 1059, '“not': 1060, 'am': 1061, '“never': 1062, 'row': 1063, '“did': 1064, 'barrier': 1065, 'leaky': 1066, '“right': 1067, 'goblin': 1068, 'narrow': 1069, 'interesting': 1070, 'cross': 1071, 'headed': 1072, 'lee': 1073, 'prefect': 1074, 'miss': 1075, 'studying': 1076, 'draco': 1077, 'doesn’t': 1078, 'corridors': 1079, 'joined': 1080, 'dormitory': 1081, 'teacher': 1082, 'invisible': 1083, 'save': 1084, 'plant': 1085, 'clearing': 1086, 'bin': 1087, 'trapdoor': 1088, 'son': 1089, 'noticing': 1090, 'young': 1091, '…': 1092, 'news': 1093, 'lips': 1094, 'midnight': 1095, 'tight': 1096, 'sit': 1097, 'gets': 1098, 'bowed': 1099, 'wake': 1100, 'silent': 1101, '“nothing': 1102, 'hated': 1103, 'parcel': 1104, 'lady': 1105, 'change': 1106, 't': 1107, 'laughed': 1108, 'brown': 1109, 'relief': 1110, 'jump': 1111, 'wind': 1112, 'fly': 1113, 'hurry': 1114, 'slid': 1115, 'forbidden': 1116, 'water': 1117, 'stick': 1118, 'envelope': 1119, 'h': 1120, 'parchment': 1121, 'handed': 1122, 'following': 1123, 'knock': 1124, 'piece': 1125, 'opposite': 1126, 'drink': 1127, 'twin': 1128, 'storm': 1129, '“ah': 1130, 'box': 1131, 'drew': 1132, 'teeth': 1133, 'frog': 1134, '‘em': 1135, 'afraid': 1136, 'job': 1137, 'ordinary': 1138, '“got': 1139, 'giving': 1140, 'steps': 1141, 'broomsticks': 1142, 'stuck': 1143, '“can’t': 1144, 'facing': 1145, 'potion': 1146, 'vault': 1147, 'rules': 1148, 'study': 1149, 'wing': 1150, 'brother': 1151, 'quarters': 1152, 'trunk': 1153, 'compartment': 1154, 'flavor': 1155, 'eating': 1156, 'ravenclaw': 1157, 'footsteps': 1158, 'dean': 1159, 'win': 1160, 'bloody': 1161, 'covered': 1162, 'stands': 1163, 'bludger': 1164, 'exams': 1165, 'clothes': 1166, 'couple': 1167, 'probably': 1168, 'sped': 1169, 'lots': 1170, 'mention': 1171, '“sorry': 1172, 'spot': 1173, 'dinner': 1174, 'whisper': 1175, '“potter': 1176, 'awake': 1177, 'dursleys’': 1178, 'notice': 1179, 'care': 1180, 'drop': 1181, 'person': 1182, 'moving': 1183, 'swallowed': 1184, 'motorcycle': 1185, 'simply': 1186, 'cut': 1187, 'poor': 1188, 'lived': 1189, 'lit': 1190, 'often': 1191, 'asking': 1192, 'needed': 1193, 'worth': 1194, 'suggested': 1195, 'snarled': 1196, 'cry': 1197, 'crying': 1198, 'force': 1199, 'become': 1200, 'wished': 1201, 'rushed': 1202, 'summer': 1203, 'wandering': 1204, 'toilet': 1205, 'thanks': 1206, '“get': 1207, 'trembling': 1208, 'furious': 1209, 'fight': 1210, 'sighed': 1211, 'meant': 1212, 'alive': 1213, 'pieces': 1214, 'they’ll': 1215, 'damp': 1216, 'halfway': 1217, 'fun': 1218, 'sea': 1219, 'led': 1220, 'wooden': 1221, 'knocking': 1222, 'terrified': 1223, 'breaking': 1224, 'yours': 1225, 'faced': 1226, 'interested': 1227, 'wanting': 1228, 'herself': 1229, 'faded': 1230, 'teach': 1231, 'bottom': 1232, 'truth': 1233, 'diagon': 1234, 'alley': 1235, '“give': 1236, 'arts': 1237, 'twisted': 1238, 'warned': 1239, 'marble': 1240, 'thirteen': 1241, 'passageway': 1242, 'hate': 1243, 'stool': 1244, 'houses': 1245, 'nostrils': 1246, 'laughing': 1247, 'desperate': 1248, 'marched': 1249, 'haired': 1250, '“shut': 1251, 'loads': 1252, 'waving': 1253, 'charlie’s': 1254, 'frogs': 1255, 'grass': 1256, 'sorting': 1257, 'lead': 1258, '“snape’s': 1259, 'remembrall': 1260, 'branches': 1261, 'handle': 1262, 'chasers': 1263, 'reflection': 1264, 'chessmen': 1265, 'shows': 1266, 'proud': 1267, 'anywhere': 1268, 'bye': 1269, 'road': 1270, 'dressed': 1271, 'harder': 1272, 'angrily': 1273, 'clutching': 1274, 'grunted': 1275, 'stranger': 1276, 'whatever': 1277, 'yesterday': 1278, 'stars': 1279, 'shocked': 1280, 'sharply': 1281, 'peered': 1282, 'showing': 1283, 'slammed': 1284, 'swooped': 1285, 'silently': 1286, 'chuckled': 1287, 'clicked': 1288, 'darkness': 1289, 'seems': 1290, 'certainly': 1291, 'lemon': 1292, 'voldemort’s': 1293, 'sounding': 1294, 'pressed': 1295, 'potter’s': 1296, 'sweets': 1297, 'surprised': 1298, 'hiding': 1299, 'underground': 1300, 'hissed': 1301, '“you’ll': 1302, 'shoulders': 1303, 'kicked': 1304, 'shall': 1305, 'murmured': 1306, 'special': 1307, 'bottles': 1308, 'bacon': 1309, 'entered': 1310, 'newspaper': 1311, 'thirty': 1312, 'wants': 1313, 'zoo': 1314, 'warning': 1315, 'saturday': 1316, 'wrapped': 1317, 'visit': 1318, '“where': 1319, 'waited': 1320, 'safely': 1321, 'hours': 1322, 'flash': 1323, 'crossed': 1324, 'sick': 1325, 'uniform': 1326, 'cake': 1327, 'tears': 1328, 'noses': 1329, 'smelting': 1330, 'notes': 1331, 'joke': 1332, 'ignored': 1333, 'touched': 1334, 'stayed': 1335, 'ways': 1336, 'worked': 1337, 'passing': 1338, 'clean': 1339, 'easily': 1340, 'strode': 1341, 'yeh’ve': 1342, 'summat': 1343, 'slightly': 1344, '“i’d': 1345, 'filled': 1346, 'hot': 1347, 'anymore': 1348, '“everyone': 1349, 'shadows': 1350, 'wonder': 1351, 'growled': 1352, 'eagerly': 1353, 'roll': 1354, 'gotta': 1355, '“don’': 1356, 'evil': 1357, 'witches': 1358, 'somethin’': 1359, 'needs': 1360, '“—': 1361, 'looks': 1362, 'seats': 1363, 'history': 1364, '“can': 1365, 'ticket': 1366, 'shops': 1367, 'peering': 1368, 'solid': 1369, 'quills': 1370, 'finding': 1371, '“very': 1372, 'lake': 1373, 'thousands': 1374, 'piled': 1375, 'excellent': 1376, 'wizard’s': 1377, 'feather': 1378, 'higher': 1379, 'sparks': 1380, 'muttering': 1381, 'thinks': 1382, 'guard': 1383, 'packed': 1384, '“thanks': 1385, '“you’ve': 1386, 'who’s': 1387, 'particularly': 1388, 'hang': 1389, 'must’ve': 1390, 'players': 1391, 'boats': 1392, 'midair': 1393, 'means': 1394, 'longbottom': 1395, 'properly': 1396, 'armor': 1397, 'dungeons': 1398, 'charms': 1399, 'lesson': 1400, 'homework': 1401, 'sprang': 1402, 'jordan': 1403, 'attention': 1404, 'goal': 1405, 'club': 1406, 'feast': 1407, 'binoculars': 1408, 'locker': 1409, 'erised': 1410, 'dog’s': 1411, 'knight': 1412, 'figure': 1413, 'centaur': 1414, 'mysterious': 1415, 'drills': 1416, 'mustache': 1417, 'garden': 1418, 'eight': 1419, 'drove': 1420, 'cats': 1421, 'shake': 1422, 'excitedly': 1423, 'emerald': 1424, 'struck': 1425, 'overhead': 1426, 'telephone': 1427, '“': 1428, 'split': 1429, 'grin': 1430, 'they’ve': 1431, 'cleared': 1432, 'bedroom': 1433, 'fixed': 1434, 'nor': 1435, 'moon': 1436, 'nearest': 1437, '“you’d': 1438, 'completely': 1439, 'gently': 1440, 'fine': 1441, 'mcgonagall’s': 1442, 'beneath': 1443, 'planets': 1444, 'repeated': 1445, 'trust': 1446, 'blankets': 1447, 'relieved': 1448, 'lightning': 1449, 'perfect': 1450, 'join': 1451, 'blew': 1452, 'computer': 1453, 'unless': 1454, 'favorite': 1455, 'rule': 1456, 'difference': 1457, 'pig': 1458, 'plates': 1459, 'rang': 1460, 'control': 1461, 'rat': 1462, 'tired': 1463, 'hide': 1464, 'grown': 1465, 'moaned': 1466, 'itself': 1467, 'vanished': 1468, 'sometimes': 1469, 'imagine': 1470, 'everybody': 1471, 'training': 1472, 'laugh': 1473, 'bill': 1474, 'yellow': 1475, 'grab': 1476, 'tap': 1477, 'stomach': 1478, 'crack': 1479, '“who’s': 1480, 'shelves': 1481, 'stretched': 1482, 'thrown': 1483, 'darkly': 1484, 'fighting': 1485, '“who': 1486, 'pack': 1487, 'speeding': 1488, 'howling': 1489, 'desk': 1490, 'hasn’t': 1491, 'below': 1492, 'cheer': 1493, 'lumpy': 1494, 'shivered': 1495, 'wrist': 1496, 'doorway': 1497, 'sausages': 1498, 'wonderful': 1499, 'gettin’': 1500, 'jus’': 1501, 'nothin’': 1502, '“stop': 1503, 'reckon': 1504, 'wizardry': 1505, 'list': 1506, 'courage': 1507, 'wizarding': 1508, 'breathing': 1509, 'human': 1510, 'goblins': 1511, 'clear': 1512, 'speed': 1513, '“of': 1514, 'ministry': 1515, 'clambered': 1516, 'spells': 1517, 'hurrying': 1518, 'yeah': 1519, 'soft': 1520, 'scarlet': 1521, 'leading': 1522, 'chest': 1523, 'smoke': 1524, '“listen': 1525, 'pinned': 1526, 'father’s': 1527, '“they’re': 1528, 'soccer': 1529, 'king’s': 1530, 'hospital': 1531, 'platforms': 1532, 'board': 1533, 'youngest': 1534, 'panted': 1535, 'floating': 1536, '“ron': 1537, 'wish': 1538, 'afford': 1539, 'brave': 1540, 'quick': 1541, 'beans': 1542, 'cakes': 1543, '“she': 1544, 'stunned': 1545, 'extra': 1546, 'she’s': 1547, 'lurking': 1548, 'losing': 1549, 'mountain': 1550, 'classes': 1551, 'return': 1552, 'ghosts': 1553, 'tables': 1554, 'cheers': 1555, 'laughter': 1556, 'headless': 1557, 'finnigan': 1558, 'warm': 1559, 'fallen': 1560, 'rid': 1561, 'wherever': 1562, 'dive': 1563, 'dived': 1564, 'trophy': 1565, 'moonlight': 1566, 'speaking': 1567, '“we’re': 1568, 'backward': 1569, 'snout': 1570, 'dragged': 1571, 'hoops': 1572, 'posts': 1573, 'view': 1574, 'troll’s': 1575, 'lie': 1576, 'possession': 1577, 'cheering': 1578, '“snape': 1579, 'flames': 1580, 'restricted': 1581, 'section': 1582, 'flute': 1583, 'exam': 1584, 'perfectly': 1585, 'thank': 1586, 'involved': 1587, 'opinion': 1588, 'greatest': 1589, 'bear': 1590, 'happily': 1591, 'reading': 1592, 'blinked': 1593, 'town': 1594, 'strangely': 1595, 'cloaks': 1596, 'older': 1597, 'nerve': 1598, 'office': 1599, 'swooping': 1600, 'daylight': 1601, 'mood': 1602, 'eyed': 1603, 'unusual': 1604, 'upset': 1605, 'stare': 1606, 'celebrating': 1607, 'imagining': 1608, 'everywhere': 1609, 'early': 1610, 'throat': 1611, 'mumbled': 1612, 'age': 1613, 'bathroom': 1614, 'twitched': 1615, 'boots': 1616, 'pop': 1617, 'lights': 1618, 'proper': 1619, 'frightened': 1620, '“only': 1621, 'lily': 1622, 'handkerchief': 1623, 'places': 1624, 'bring': 1625, 'bringing': 1626, 'grew': 1627, 'trash': 1628, 'bundle': 1629, 'curiously': 1630, 'forever': 1631, 'c': 1632, 'bike': 1633, 'wiping': 1634, 'neat': 1635, 'closed': 1636, 'meeting': 1637, 'voices': 1638, 'sun': 1639, 'brass': 1640, 'photographs': 1641, 'groaned': 1642, 'socks': 1643, 'wore': 1644, 'barked': 1645, 'eggs': 1646, 'meanwhile': 1647, 'present': 1648, 'adventure': 1649, 'figg': 1650, 'snowy': 1651, 'mother’s': 1652, 'people’s': 1653, 'pretending': 1654, 'putting': 1655, 'short': 1656, 'bald': 1657, 'gang': 1658, 'complained': 1659, 'complain': 1660, 'slithering': 1661, 'bits': 1662, 'tapped': 1663, 'winked': 1664, 'boa': 1665, 'leaning': 1666, 'worst': 1667, 'collapsed': 1668, 'sticks': 1669, 'skin': 1670, 'ill': 1671, 'mine': 1672, 'faster': 1673, 'faint': 1674, 'possibly': 1675, 'forced': 1676, 'purpose': 1677, 'miserably': 1678, 'explained': 1679, 'badly': 1680, 'hungry': 1681, 'sheets': 1682, 'clapping': 1683, 'eaten': 1684, 'b': 1685, '“yeh': 1686, 'enormous': 1687, 'warmth': 1688, 'yeh’ll': 1689, 'abou’': 1690, 'panic': 1691, 'sank': 1692, 'lower': 1693, 'mum': 1694, 'witchcraft': 1695, 'exploded': 1696, 'shrieked': 1697, '“then': 1698, 'kid': 1699, '‘cause': 1700, 'friendly': 1701, 'mark': 1702, 'vol': 1703, 'weak': 1704, 'carry': 1705, 'beaming': 1706, 'fool': 1707, '“be': 1708, 'er': 1709, 'gamekeeper': 1710, 'scrambled': 1711, 'coins': 1712, 'knuts': 1713, 'bronze': 1714, 'rob': 1715, 'miles': 1716, 'music': 1717, 'halt': 1718, '“welcome': 1719, 'excitement': 1720, 'd': 1721, 'pick': 1722, 'grinned': 1723, 'brilliant': 1724, '“three': 1725, 'archway': 1726, 'hurtled': 1727, 'helped': 1728, 'excuse': 1729, 'feathers': 1730, 'fangs': 1731, 'bell': 1732, 'tightly': 1733, 'happens': 1734, 'plastic': 1735, '“there': 1736, 'ginny': 1737, 'joking': 1738, 'prefects': 1739, 'yourselves': 1740, 'whistle': 1741, 'captain': 1742, 'impressed': 1743, 'sandwiches': 1744, 'unwrapped': 1745, 'cards': 1746, 'dragon’s': 1747, 'becoming': 1748, 'romania': 1749, 'yell': 1750, 'bewitched': 1751, 'firs’': 1752, 'anxiously': 1753, 'glittering': 1754, 'pretty': 1755, 'teams': 1756, 'barely': 1757, 'roast': 1758, 'winning': 1759, 'contact': 1760, 'bellowed': 1761, 'lines': 1762, 'baron': 1763, 'filch’s': 1764, 'who’d': 1765, 'names': 1766, 'herbology': 1767, 'believed': 1768, 'crossbow': 1769, 'delighted': 1770, 'streaked': 1771, 'wood’s': 1772, 'squinting': 1773, 'sprinted': 1774, 'ropes': 1775, 'sixty': 1776, 'score': 1777, 'wings': 1778, '“hermione': 1779, 'saved': 1780, 'marcus': 1781, 'towering': 1782, 'elixir': 1783, 'werewolf': 1784, 'stone’s': 1785, 'breathe': 1786, 'nonsense': 1787, 'useful': 1788, 'suggest': 1789, 'happening': 1790, 'country': 1791, 'screaming': 1792, 'cheek': 1793, 'missed': 1794, 'peculiar': 1795, 'map': 1796, 'tabby': 1797, 'order': 1798, 'whispering': 1799, 'flooded': 1800, 'blame': 1801, 'stumbled': 1802, 'complete': 1803, 'rattled': 1804, 'hoped': 1805, 'stern': 1806, 'problems': 1807, 'birds': 1808, 'rain': 1809, 'shooting': 1810, 'wet': 1811, 'casually': 1812, 'stiffly': 1813, 'mixed': 1814, 'sparkling': 1815, 'distance': 1816, 'seeing': 1817, 'ruffled': 1818, 'sniffed': 1819, 'bound': 1820, 'dedalus': 1821, 'sense': 1822, 'sideways': 1823, 'sweet': 1824, 'coldly': 1825, '’': 1826, 'piercing': 1827, 'james': 1828, 'heavily': 1829, 'guess': 1830, 'leather': 1831, 'lent': 1832, 'jet': 1833, 'shaped': 1834, 'bolt': 1835, '“he’ll': 1836, 'knee': 1837, '“could': 1838, 'sobbed': 1839, 'shone': 1840, 'staying': 1841, 'takin’': 1842, 'sleeve': 1843, 'nodding': 1844, 'orange': 1845, 'beside': 1846, 'woken': 1847, '“to': 1848, 'blond': 1849, 'fair': 1850, 'tape': 1851, '“in': 1852, 'counted': 1853, 'danger': 1854, 'unwrap': 1855, 'hamburger': 1856, 'smelled': 1857, 'owned': 1858, 'ought': 1859, 'lord': 1860, 'frantically': 1861, 'aside': 1862, 'problem': 1863, 'fitted': 1864, 'punished': 1865, 'roof': 1866, 'kitchens': 1867, 'received': 1868, 'crashed': 1869, 'crowded': 1870, 'animals': 1871, 'finish': 1872, 'sorts': 1873, '“make': 1874, 'shuffled': 1875, 'constrictor': 1876, 'shout': 1877, '“out': 1878, 'hissing': 1879, 'brandy': 1880, 'wishing': 1881, 'sneaking': 1882, 'burning': 1883, 'younger': 1884, 'dreamed': 1885, 'merrily': 1886, 'september': 1887, 'stonewall': 1888, '“want': 1889, 'ickle': 1890, 'dirty': 1891, '“your': 1892, 'bowl': 1893, 'it’ll': 1894, 'argue': 1895, 'dodged': 1896, 'rude': 1897, 'addressed': 1898, 'ink': 1899, 'stamp': 1900, 'ripped': 1901, 'writing': 1902, 'glancing': 1903, 'clutched': 1904, '“let': 1905, 'roared': 1906, 'necks': 1907, 'quivering': 1908, 'wildly': 1909, 'shiny': 1910, 'squeezed': 1911, 'shortly': 1912, 'trip': 1913, 'month': 1914, 'downstairs': 1915, 'smallest': 1916, 'confused': 1917, 'plan': 1918, 'clock': 1919, 'squashy': 1920, 'lap': 1921, 'that’ll': 1922, 'minds': 1923, 'friday': 1924, 'amazement': 1925, 'fireplace': 1926, 'missing': 1927, 'gloomy': 1928, 'toast': 1929, 'beat': 1930, 'perched': 1931, 'bobbing': 1932, 'icy': 1933, 'whipped': 1934, 'strongly': 1935, 'bags': 1936, 'fierce': 1937, 'crunching': 1938, 'warn': 1939, 'glinting': 1940, 'squeaked': 1941, '“anyway': 1942, 'overcoat': 1943, 'gives': 1944, '“yer': 1945, 'thundered': 1946, 'anger': 1947, 'marks': 1948, '“about': 1949, 'braver': 1950, 'rage': 1951, 'headmaster': 1952, 'decide': 1953, 'horse': 1954, 'quill': 1955, 'folk': 1956, 'rubbish': 1957, 'rats': 1958, 'knowin’': 1959, 'myst’ry': 1960, 'incredible': 1961, 'lookin’': 1962, 'battered': 1963, 'makes': 1964, 'dunno': 1965, 'ours': 1966, 'kick': 1967, 'realizing': 1968, 'name’s': 1969, 'poking': 1970, 'temper': 1971, 'eyebrows': 1972, 'tapping': 1973, 'fluttered': 1974, 'wave': 1975, 'pay': 1976, 'didn’': 1977, 'wouldn’': 1978, 'yeh’d': 1979, 'shame': 1980, 'enchantments': 1981, 'manage': 1982, 'fudge': 1983, 'transfiguration': 1984, 'herbs': 1985, 'fungi': 1986, 'grubby': 1987, 'drinking': 1988, 'pipe': 1989, 'bartender': 1990, 'twitching': 1991, 'defense': 1992, 'where’s': 1993, 'brightly': 1994, 'cauldrons': 1995, 'plump': 1996, 'bat': 1997, 'floors': 1998, 'counter': 1999, 'flaming': 2000, 'impossible': 2001, 'rattling': 2002, 'passage': 2003, 'deeper': 2004, 'gonna': 2005, 'blinking': 2006, 'galleons': 2007, '“one': 2008, 'malkin’s': 2009, '“have': 2010, 'lives': 2011, 'ends': 2012, 'color': 2013, 'played': 2014, '“better': 2015, 'mixture': 2016, 'rustling': 2017, 'cage': 2018, 'beautiful': 2019, 'silvery': 2020, 'reflected': 2021, 'softly': 2022, '“which': 2023, 'phoenix': 2024, 'results': 2025, 'foolish': 2026, 'snatched': 2027, 'packages': 2028, 'bite': 2029, '“first': 2030, 'lift': 2031, '“thank': 2032, 'excited': 2033, 'dry': 2034, 'part': 2035, '“mom': 2036, 'freckles': 2037, 'okay': 2038, 'trunks': 2039, 'hairy': 2040, '“or': 2041, '“hey': 2042, '“we’ll': 2043, 'rounded': 2044, 'flashed': 2045, 'ourselves': 2046, 'moments': 2047, 'flick': 2048, 'candy': 2049, 'bott’s': 2050, 'pumpkin': 2051, 'share': 2052, 'amazed': 2053, 'tore': 2054, 'let’s': 2055, 'century': 2056, '“gryffindor': 2057, 'mentioned': 2058, 'recognized': 2059, 'interest': 2060, 'extremely': 2061, '“unless': 2062, 'among': 2063, 'glared': 2064, 'nerves': 2065, 'gliding': 2066, 'oak': 2067, 'banquet': 2068, 'sorted': 2069, 'friar': 2070, 'answered': 2071, 'hufflepuffs': 2072, 'learning': 2073, 'unpleasant': 2074, 'chosen': 2075, 'doubt': 2076, 'plate': 2077, 'potatoes': 2078, 'peas': 2079, 'delicious': 2080, 'nicholas': 2081, 'nick': 2082, 'championship': 2083, 'offered': 2084, 'deeply': 2085, 'serious': 2086, 'armchairs': 2087, 'spiral': 2088, 'curtains': 2089, 'struggled': 2090, 'pass': 2091, 'threatening': 2092, 'movements': 2093, 'taught': 2094, 'toppled': 2095, 'rare': 2096, 'owlery': 2097, 'tut': 2098, '“let’s': 2099, '“for': 2100, 'pairs': 2101, 'struggling': 2102, 'emptied': 2103, 'duel': 2104, 'quicker': 2105, '’”': 2106, '“keep': 2107, 'parvati': 2108, 'patil': 2109, 'sticking': 2110, 'fault': 2111, 'oliver': 2112, 'dreams': 2113, 'player': 2114, 'beaters': 2115, 'bathrobe': 2116, 'finds': 2117, 'petrified': 2118, 'suit': 2119, '“malfoy': 2120, '“students': 2121, 'flushed': 2122, 'obvious': 2123, 'throw': 2124, 'protect': 2125, 'fluttering': 2126, 'months': 2127, 'dying': 2128, 'girls’': 2129, 'immediately': 2130, 'hearts': 2131, 'desperately': 2132, 'bursting': 2133, 'unfortunately': 2134, '“dunno': 2135, 'ajar': 2136, 'drawing': 2137, 'chaser': 2138, 'angelina': 2139, 'johnson': 2140, 'blocked': 2141, '“neville': 2142, 'roughly': 2143, 'recent': 2144, 'suspected': 2145, 'distant': 2146, '“sir': 2147, 'calm': 2148, 'hooded': 2149, 'norwegian': 2150, 'ridgeback': 2151, 'lies': 2152, 'detention': 2153, 'cursed': 2154, 'forgive': 2155, 'devil’s': 2156, 'snare': 2157, 'queen': 2158, 'cannot': 2159, 'award': 2160, 'm': 2161, 'spying': 2162, 'somebody': 2163, 'pretended': 2164, 'shuddered': 2165, 'tuesday': 2166, 'starts': 2167, 'hummed': 2168, 'boring': 2169, 'flutter': 2170, 'kiss': 2171, 'tantrum': 2172, 'backed': 2173, 'trick': 2174, 'driven': 2175, 'traffic': 2176, 'jam': 2177, 'silly': 2178, 'collecting': 2179, 'parking': 2180, 'concentrate': 2181, 'mouthed': 2182, 'nighttime': 2183, 'dashed': 2184, 'stroked': 2185, 'worrying': 2186, 'building': 2187, 'violet': 2188, 'hugged': 2189, 'markings': 2190, 'determined': 2191, 'wife': 2192, 'normally': 2193, 'report': 2194, 'behaving': 2195, 'sleeping': 2196, 'weather': 2197, 'acting': 2198, 'promised': 2199, 'armchair': 2200, 'britain': 2201, 'lately': 2202, '“funny': 2203, 'dared': 2204, 'horribly': 2205, 'subject': 2206, 'statue': 2207, 'quiver': 2208, 'man’s': 2209, 'flicked': 2210, 'outer': 2211, 'shape': 2212, 'brick': 2213, 'dozen': 2214, 'impatiently': 2215, 'something’s': 2216, 'diggle': 2217, 'irritably': 2218, 'rumors': 2219, 'glance': 2220, 'drops': 2221, '“as': 2222, 'surely': 2223, 'admiring': 2224, 'calmly': 2225, 'powers': 2226, 'plain': 2227, 'trembled': 2228, 'examined': 2229, '“hagrid’s': 2230, 'jumping': 2231, '“dumbledore': 2232, 'firmly': 2233, '“really': 2234, 'wise': 2235, 'pretend': 2236, 'rumbling': 2237, 'roar': 2238, 'bushy': 2239, 'vast': 2240, 'climbing': 2241, 'destroyed': 2242, 'sad': 2243, 'grip': 2244, 'patting': 2245, 'laid': 2246, 'tucked': 2247, 'muffled': 2248, 'jacket': 2249, 'engine': 2250, 'astonishing': 2251, 'slept': 2252, 'scream': 2253, 'cousin': 2254, 'n': 2255, 'longer': 2256, 'demanded': 2257, '“nearly': 2258, 'punching': 2259, 'smaller': 2260, 'wear': 2261, 'bigger': 2262, 'knobbly': 2263, 'counting': 2264, 'video': 2265, 'camera': 2266, 'sixteen': 2267, 'figg’s': 2268, 'leap': 2269, 'marge': 2270, 'blow': 2271, 'wailed': 2272, 'backs': 2273, 'fit': 2274, 'chasing': 2275, 'bank': 2276, 'gigantic': 2277, 'ideas': 2278, 'licking': 2279, 'scratching': 2280, 'bored': 2281, 'hitting': 2282, 'ate': 2283, 'cream': 2284, 'lunch': 2285, 'reptile': 2286, 'cool': 2287, 'ordered': 2288, 'tank': 2289, 'level': 2290, 'deafening': 2291, 'ribs': 2292, 'swiftly': 2293, 'strong': 2294, 'bitten': 2295, 'risk': 2296, 'strained': 2297, 'blinding': 2298, 'buying': 2299, 'shaken': 2300, 'escape': 2301, 'visited': 2302, 'biggest': 2303, 'sport': 2304, 'private': 2305, 'smeltings': 2306, 'july': 2307, 'maroon': 2308, 'hats': 2309, 'gruffly': 2310, 'metal': 2311, 'slot': 2312, 'doormat': 2313, 'postcard': 2314, 'belong': 2315, '4': 2316, 'yellowish': 2317, 'address': 2318, 'lion': 2319, 'eagle': 2320, '“hurry': 2321, 'checking': 2322, '“dad': 2323, 'within': 2324, '“p': 2325, 'goodness': 2326, 'croaked': 2327, 'keyhole': 2328, 'dangling': 2329, 'ignore': 2330, '“where’s': 2331, 'painful': 2332, '“take': 2333, 'shelf': 2334, 'bitterly': 2335, 'mustn’t': 2336, 'stole': 2337, 'tearing': 2338, 'deliver': 2339, 'sides': 2340, 'cheerfully': 2341, 'spread': 2342, 'marmalade': 2343, 'waist': 2344, 'wrenched': 2345, '’em': 2346, 'mutter': 2347, 'hotel': 2348, 'monday': 2349, 'wicked': 2350, 'iron': 2351, 'freezing': 2352, 'slipping': 2353, 'sliding': 2354, 'whistled': 2355, 'reaching': 2356, 'minutes’': 2357, 'pause': 2358, 'frame': 2359, 'journey': 2360, 'lump': 2361, 'meself': 2362, 'rubbing': 2363, 'flickering': 2364, 'sunk': 2365, 'copper': 2366, 'kettle': 2367, 'teapot': 2368, 'sausage': 2369, 'wiped': 2370, 'shrank': 2371, 'bewildered': 2372, 'forbid': 2373, 'equipment': 2374, 'stammered': 2375, 'reminds': 2376, 'tongue': 2377, 'scribbled': 2378, 'beak': 2379, 'blown': 2380, 'everythin’': 2381, 'sayin’': 2382, 'blimey': 2383, '“nah': 2384, '“maybe': 2385, 'village': 2386, 'sadly': 2387, 'ruined': 2388, 'glaring': 2389, 'fists': 2390, 'failed': 2391, '“some': 2392, 'could’ve': 2393, 'goin’': 2394, 'stumped': 2395, 'grow': 2396, 'grateful': 2397, 'swishing': 2398, 'dancing': 2399, 'trousers': 2400, 'keen': 2401, 'sunlight': 2402, 'balloon': 2403, 'peppermint': 2404, 'sleepily': 2405, 'nah': 2406, 'wizards’': 2407, 'mess': 2408, 'proudly': 2409, 'eager': 2410, 'guardin’': 2411, 'security': 2412, 'vaults': 2413, 'daily': 2414, 'prophet': 2415, 'askin’': 2416, 'advice': 2417, 'folded': 2418, 'o': 2419, 'guide': 2420, 'protection': 2421, 'pewter': 2422, 'scales': 2423, 'slow': 2424, 'nowhere': 2425, 'buried': 2426, 'sold': 2427, 'pub': 2428, 'record': 2429, 'women': 2430, 'soul': 2431, 'puffing': 2432, 'scraping': 2433, 'chairs': 2434, 'crockford': 2435, 'remembers': 2436, 'g': 2437, 'vampires': 2438, 'babble': 2439, 'apothecary': 2440, 'sickles': 2441, 'screech': 2442, 'towered': 2443, 'clever': 2444, 'enter': 2445, 'earn': 2446, 'weighing': 2447, 'stones': 2448, 'glowing': 2449, 'closely': 2450, 'handing': 2451, 'sloped': 2452, 'downward': 2453, 'tracks': 2454, 'difficulty': 2455, 'fork': 2456, 'plunged': 2457, 'cost': 2458, 'fortune': 2459, 'colder': 2460, 'malkin': 2461, '“hogwarts': 2462, 'robe': 2463, '“hello': 2464, 'liking': 2465, 'tries': 2466, 'setting': 2467, 'sneer': 2468, 'cheered': 2469, 'silk': 2470, 'enemies': 2471, 'ingredients': 2472, 'ollivanders': 2473, 'spindly': 2474, 'strict': 2475, 'boxes': 2476, 'gloom': 2477, 'charm': 2478, 'favored': 2479, 'misty': 2480, 'finger': 2481, 'gripped': 2482, 'measure': 2483, 'unicorns': 2484, 'crumpled': 2485, 'spots': 2486, 'curious': 2487, 'whose': 2488, 'paid': 2489, 'mice': 2490, 'ticked': 2491, '“would': 2492, 'bother': 2493, 'ruddy': 2494, 'talked': 2495, 'pushing': 2496, 'oldest': 2497, '“excuse': 2498, 'jostled': 2499, 'wound': 2500, 'search': 2501, 'sigh': 2502, 'poked': 2503, '“oy': 2504, 'sweaty': 2505, 'badge': 2506, 'gathered': 2507, 'glanced': 2508, '“bye': 2509, 'blurted': 2510, '“five': 2511, 'deal': 2512, '…i': 2513, 'fields': 2514, 'bars': 2515, 'bettie': 2516, 'pasties': 2517, 'pasty': 2518, 'agrippa': 2519, 'modern': 2520, 'uses': 2521, 'alchemy': 2522, 'partner': 2523, 'bean': 2524, 'countryside': 2525, 'bothered': 2526, 'toadless': 2527, 'simple': 2528, 'rise': 2529, 'events': 2530, 'flopped': 2531, 'explaining': 2532, 'shown': 2533, 'coolly': 2534, '“say': 2535, 'mountains': 2536, 'echoed': 2537, 'beamed': 2538, 'steep': 2539, 'bend': 2540, 'fleet': 2541, 'smooth': 2542, 'cliff': 2543, 'shadow': 2544, 'fist': 2545, 'begin': 2546, 'awarded': 2547, 'test': 2548, 'teacher’s': 2549, 'glided': 2550, 'ruff': 2551, '“hope': 2552, 'returned': 2553, 'sandy': 2554, 'candles': 2555, 'upward': 2556, 'rabbit': 2557, 'sing': 2558, 'daring': 2559, 'song': 2560, 'wrestling': 2561, 'hannah': 2562, '“hufflepuff': 2563, 'definitely': 2564, '“slytherin': 2565, 'girls': 2566, 'earlier': 2567, 'chicken': 2568, 'steak': 2569, 'interrupted': 2570, 'chat': 2571, 'baron’s': 2572, 'treacle': 2573, '“me': 2574, 'gran': 2575, 'algie': 2576, 'ankles': 2577, 'sleepy': 2578, 'bounds': 2579, 'frowning': 2580, 'smiles': 2581, 'brains': 2582, 'singing': 2583, 'yawning': 2584, '“peeves': 2585, 'dropping': 2586, 'coats': 2587, 'sweeping': 2588, 'chalk': 2589, 'wheezing': 2590, 'wednesday': 2591, 'sprout': 2592, 'binns': 2593, 'fought': 2594, 'stuffed': 2595, 'effort': 2596, 'powdered': 2597, 'curled': 2598, 'bezoar': 2599, 'stretching': 2600, 'dungeon': 2601, 'copying': 2602, 'boils': 2603, 'clouds': 2604, 'add': 2605, 'boiling': 2606, '“another': 2607, '“rubbish': 2608, 'refuse': 2609, 'turns': 2610, 'rows': 2611, 'rising': 2612, 'sooner': 2613, '“follow': 2614, 'cursing': 2615, 'delight': 2616, 'severus': 2617, 'pie': 2618, '“we’d': 2619, '“d’you': 2620, '“quick': 2621, 'ha': 2622, 'nightmare': 2623, 'space': 2624, 'mistaking': 2625, 'growls': 2626, 'cared': 2627, 'cheerful': 2628, 'twig': 2629, 'confusion': 2630, 'stolen': 2631, 'bolted': 2632, 'jaws': 2633, 'fourth': 2634, 'compared': 2635, 'movement': 2636, 'practicing': 2637, 'skyward': 2638, '“wingardium': 2639, 'leviosa': 2640, 'honestly': 2641, 'slumped': 2642, 'lip': 2643, 'choice': 2644, 'brain': 2645, 'shouting': 2646, '“miss': 2647, '“wonder': 2648, 'strength': 2649, 'banner': 2650, 'men': 2651, 'refereeing': 2652, 'fifteen': 2653, '“jordan': 2654, 'pucey': 2655, 'raising': 2656, 'penalty': 2657, 'frightening': 2658, 'sobbing': 2659, 'seventy': 2660, 'snow': 2661, 'battle': 2662, 'pince': 2663, 'belonged': 2664, '“will': 2665, 'torn': 2666, 'gleaming': 2667, 'turkey': 2668, 'wine': 2669, 'recognize': 2670, 'ronald': 2671, 'pillow': 2672, 'referee': 2673, 'easier': 2674, 'choked': 2675, '“stay': 2676, 'dashing': 2677, 'pure': 2678, 'choose': 2679, 'relax': 2680, '“brilliant': 2681, 'tallest': 2682, 'love': 2683, 'cover': 2684, 'hoarse': 2685, 'astronomy': 2686, 'especially': 2687, '“mars': 2688, 'idiot': 2689, 'lowered': 2690, 'centaurs': 2691, 'humans': 2692, 'needn’t': 2693, '“lucky': 2694, '“ready': 2695, 'bishop': 2696, 'squares': 2697, 'poison': 2698, 'logic': 2699, 'director': 2700, 'firm': 2701, 'grunnings': 2702, 'blonde': 2703, 'craning': 2704, 'neighbors': 2705, 'finer': 2706, 'dursley’s': 2707, 'mixing': 2708, 'child': 2709, 'dull': 2710, 'cloudy': 2711, 'tawny': 2712, '“little': 2713, 'tyke': 2714, 'chortled': 2715, 'fashion': 2716, 'steering': 2717, 'huddle': 2718, 'broad': 2719, 'calls': 2720, 'lunchtime': 2721, 'bun': 2722, 'group': 2723, 'uneasy': 2724, 'bunch': 2725, 'disturb': 2726, 'nephew': 2727, 'contrary': 2728, 'passersby': 2729, 'rooted': 2730, 'imagination': 2731, 'improve': 2732, 'bird': 2733, 'unable': 2734, '“most': 2735, 'jim': 2736, 'oddly': 2737, 'kent': 2738, 'yorkshire': 2739, 'promise': 2740, 'frozen': 2741, 'cups': 2742, 'sinking': 2743, 'agree': 2744, 'comforting': 2745, 'yawned': 2746, 'unblinkingly': 2747, 'popped': 2748, 'narrowed': 2749, 'swept': 2750, 'spectacles': 2751, 'crooked': 2752, 'rummaging': 2753, 'amuse': 2754, 'lighter': 2755, 'flickered': 2756, 'beady': 2757, 'square': 2758, 'drawn': 2759, 'stiff': 2760, 'feasts': 2761, 'parties': 2762, 'precious': 2763, 'celebrate': 2764, 'downright': 2765, 'careless': 2766, 'streets': 2767, 'fond': 2768, '‘you': 2769, 'persuade': 2770, 'confusing': 2771, '“voldemort': 2772, 'noble': 2773, 'blushed': 2774, 'anxious': 2775, 'choosing': 2776, 'patted': 2777, 'know…”': 2778, '“after': 2779, 'heaven': 2780, 'numbers': 2781, '“his': 2782, 'faintly': 2783, 'future': 2784, 'seriously': 2785, 'boy’s': 2786, 'swelled': 2787, 'hid': 2788, '“at': 2789, 'sirius': 2790, 'visible': 2791, '“couldn’t': 2792, '“even': 2793, 'scars': 2794, 'shaggy': 2795, 's': 2796, 'doorstep': 2797, 'twinkling': 2798, 'streaming': 2799, 'glowed': 2800, 'heel': 2801, 'swish': 2802, 'breeze': 2803, 'tidy': 2804, 'spend': 2805, 'prodded': 2806, 'hushed': 2807, 'vanishing': 2808, 'colored': 2809, 'kissed': 2810, '“up': 2811, 'rapped': 2812, 'screeched': 2813, 'frying': 2814, 'spiders': 2815, 'exercise': 2816, 'skinny': 2817, 'appearance': 2818, 'haircut': 2819, 'smoothly': 2820, 'wig': 2821, '“thirty': 2822, 'auntie': 2823, 'mummy': 2824, 'remote': 2825, 'airplane': 2826, 'games': 2827, 'vcr': 2828, 'ripping': 2829, '“mrs': 2830, 'restaurants': 2831, 'cabbage': 2832, 'paws': 2833, 'hates': 2834, 'slug': 2835, 'vacation': 2836, 'hopefully': 2837, '“…and': 2838, 'screwed': 2839, 'spoil': 2840, 'gap': 2841, 'polkiss': 2842, 'scrawny': 2843, 'bangs': 2844, 'baggy': 2845, 'taped': 2846, 'revolting': 2847, 'wash': 2848, 'else’s': 2849, 'chimney': 2850, 'headmistress': 2851, 'mid': 2852, 'subjects': 2853, 'remembering': 2854, 'sniggered': 2855, 'sunny': 2856, 'creams': 2857, 'glory': 2858, 'afterward': 2859, 'crawling': 2860, 'poisonous': 2861, 'budge': 2862, 'knuckles': 2863, 'company': 2864, 'visitor': 2865, 'hammering': 2866, 'plainly': 2867, 'annoying': 2868, 'vigorously': 2869, 'jabbed': 2870, 'brazil': 2871, '“dudley': 2872, 'howls': 2873, 'sworn': 2874, 'snap': 2875, 'miserable': 2876, 'memory': 2877, 'unknown': 2878, 'strangers': 2879, 'shopping': 2880, 'actually': 2881, 'vanish': 2882, 'punishment': 2883, 'escaping': 2884, 'ray': 2885, 'accepted': 2886, 'public': 2887, 'tasted': 2888, 'knickerbockers': 2889, 'handsome': 2890, 'cracked': 2891, 'tub': 2892, 'sink': 2893, 'swimming': 2894, 'tightened': 2895, 'wrinkled': 2896, 'banged': 2897, 'wax': 2898, 'surrounding': 2899, 'snorted': 2900, 'disgust': 2901, 'flipped': 2902, 'informed': 2903, 'unfolding': 2904, 'sneered': 2905, 'porridge': 2906, 'reach': 2907, 'choking': 2908, '“vernon': 2909, 'stuffing': 2910, 'slamming': 2911, 'write': 2912, 'shoes': 2913, 'burned': 2914, 'toys': 2915, 'swapped': 2916, 'rifle': 2917, 'banging': 2918, 'straightened': 2919, 'gasping': 2920, 'fail': 2921, 'alarm': 2922, 'trodden': 2923, 'mouthful': 2924, 'nails': 2925, 'boarded': 2926, 'cracks': 2927, 'noises': 2928, 'post': 2929, 'forty': 2930, 'pelting': 2931, 'ducked': 2932, 'bouncing': 2933, 'whenever': 2934, 'blowing': 2935, 'shared': 2936, 'beds': 2937, 'windowsill': 2938, 'timidly': 2939, 'count': 2940, 'shack': 2941, 'kindly': 2942, 'toothless': 2943, 'rations': 2944, 'spray': 2945, 'rooms': 2946, 'chip': 2947, 'shriveled': 2948, 'privately': 2949, 'moldy': 2950, 'comfortable': 2951, 'hunger': 2952, 'drowned': 2953, 'rolls': 2954, 'lighted': 2955, 'upright': 2956, 'cannon': 2957, 'stupidly': 2958, 'armed': 2959, 'smash': 2960, 'mane': 2961, 'tangled': 2962, '“budge': 2963, 'crouching': 2964, 'here’s': 2965, 'shadowy': 2966, 'beetle': 2967, '“las’': 2968, 'mom’s': 2969, 'entering': 2970, 'mouse': 2971, 'mighta': 2972, 'taste': 2973, 'sticky': 2974, 'introduced': 2975, 'rubeus': 2976, 'grate': 2977, 'roaring': 2978, 'sagged': 2979, 'poker': 2980, 'chipped': 2981, 'gulp': 2982, '“call': 2983, 'parents’': 2984, '“kept': 2985, 'gasp': 2986, 'whistling': 2987, 'merlin': 2988, 'begins': 2989, 'await': 2990, '31': 2991, 'clamped': 2992, 'swore': 2993, '“knew': 2994, 'married': 2995, '“blown': 2996, 'scuttled': 2997, 'urgently': 2998, 'ah': 2999, 'someone’s': 3000, 'gulped': 3001, 'followers': 3002, '‘course': 3003, 'nicer': 3004, 'killin’': 3005, 'touches': 3006, 'orders': 3007, 'clenched': 3008, 'accept': 3009, 'beating': 3010, 'flattened': 3011, 'see…he': 3012, 'codswallop': 3013, 'blazing': 3014, 'warty': 3015, 'toads': 3016, 'ridiculous': 3017, 'whirled': 3018, 'squeal': 3019, 'clasped': 3020, 'cast': 3021, 'reasons': 3022, 'arry': 3023, 'attack': 3024, 'fiercely': 3025, 'humbugs': 3026, 'handful': 3027, 'tied': 3028, 'safest': 3029, '“flew': 3030, 's’pposed': 3031, 'land': 3032, 'page': 3033, 'main': 3034, 'harbor': 3035, '“still': 3036, 'f': 3037, '2': 3038, 'gloves': 3039, 'copy': 3040, 'standard': 3041, 'fantastic': 3042, 'beasts': 3043, 'self': 3044, 'crystal': 3045, 'telescope': 3046, 'aloud': 3047, 'escalator': 3048, 'lined': 3049, 'parted': 3050, 'piles': 3051, 'shabby': 3052, 'walnut': 3053, 'chatter': 3054, 'buckle': 3055, '“bless': 3056, 'honor': 3057, 'bar': 3058, 'welcome': 3059, '“always': 3060, 'diggle’s': 3061, 'doris': 3062, '“n': 3063, '“must': 3064, 'courtyard': 3065, 'tremblin’': 3066, 'quivered': 3067, 'wriggled': 3068, 'wider': 3069, 'stack': 3070, 'collapsible': 3071, '“dragon': 3072, 'liver': 3073, 'seventeen': 3074, 'ounce': 3075, 'eeylops': 3076, 'emporium': 3077, 'barn': 3078, 'fastest': 3079, 'selling': 3080, 'telescopes': 3081, 'stacked': 3082, 'barrels': 3083, 'upon': 3084, 'greed': 3085, 'seek': 3086, 'treasure': 3087, '“like': 3088, 'stools': 3089, 'emptying': 3090, 'scattering': 3091, 'biscuits': 3092, 'importantly': 3093, 'crammed': 3094, 'trusted': 3095, 'more’n': 3096, 'torches': 3097, 'twisting': 3098, 'unlocked': 3099, 'billowing': 3100, 'sickle': 3101, 'gathering': 3102, '“stand': 3103, 'melted': 3104, 'trapped': 3105, 'check': 3106, 'anyone’s': 3107, 'extraordinary': 3108, 'expecting': 3109, 'ride': 3110, 'pound': 3111, 'occasions': 3112, 'footstool': 3113, 'pin': 3114, 'length': 3115, 'drawling': 3116, 'drag': 3117, 'crime': 3118, 'grinning': 3119, 'servant': 3120, 'drunk': 3121, 'slight': 3122, 'hopped': 3123, 'nuts': 3124, '“blimey': 3125, 'follows': 3126, 'sorta': 3127, 'postage': 3128, 'covers': 3129, 'curses': 3130, 'latest': 3131, 'circumstances': 3132, 'jars': 3133, 'dried': 3134, 'roots': 3135, 'claws': 3136, 'horns': 3137, 'checked': 3138, 'animal': 3139, 'jewel': 3140, 'peeling': 3141, 'dusty': 3142, 'depths': 3143, 'neatly': 3144, 'prickled': 3145, 'dust': 3146, 'shining': 3147, 'moons': 3148, 'blink': 3149, 'creepy': 3150, 'mahogany': 3151, 'chooses': 3152, 'yew': 3153, 'shuffling': 3154, 'measured': 3155, 'elbow': 3156, '“every': 3157, 'substance': 3158, 'hairs': 3159, 'measuring': 3160, 'heap': 3161, 'happier': 3162, 'holly': 3163, 'stream': 3164, 'laden': 3165, 'yerself': 3166, 'she’ll': 3167, 'me…': 3168, 'acted': 3169, '“nine': 3170, 'paced': 3171, 'wheeled': 3172, 'attract': 3173, 'boys’': 3174, 'go…”': 3175, '“fred': 3176, '“honestly': 3177, 'briskly': 3178, 'hogwarts’': 3179, 'express': 3180, 'drifted': 3181, 'chattering': 3182, 'hooted': 3183, 'disgruntled': 3184, '“gran': 3185, 'lifted': 3186, 'raise': 3187, 'painfully': 3188, 'twins’': 3189, 'jerk': 3190, 'striding': 3191, '“hang': 3192, '“great': 3193, 'polite': 3194, '“anyone': 3195, 'introduce': 3196, '“wow': 3197, 'sixth': 3198, 'percy’s': 3199, 'bill’s': 3200, '“anything': 3201, 'mars': 3202, 'tipped': 3203, 'beef': 3204, 'collect': 3205, 'picture': 3206, 'currently': 3207, 'defeat': 3208, 'grindelwald': 3209, '1945': 3210, 'discovery': 3211, 'enjoys': 3212, 'morgana': 3213, '“weird': 3214, 'sidled': 3215, '“when': 3216, 'reckons': 3217, 'flavored': 3218, 'coconut': 3219, 'baked': 3220, 'nibble': 3221, 'wilder': 3222, 'keeps': 3223, 'bossy': 3224, 'family’s': 3225, 'twentieth': 3226, 'sounds': 3227, 'whiskers': 3228, 'children': 3229, 'bravely': 3230, 'goyle’s': 3231, 'picking': 3232, 'scowling': 3233, 'jackets': 3234, 'slowed': 3235, '“jus’': 3236, 'towers': 3237, 'sailed': 3238, 'flight': 3239, 'magnificent': 3240, 'ceremony': 3241, 'outstanding': 3242, 'whichever': 3243, 'flatten': 3244, '“please': 3245, 'jolt': 3246, 'streamed': 3247, 'pearly': 3248, 'arguing': 3249, 'floated': 3250, 'form': 3251, 'double': 3252, 'imagined': 3253, 'splendid': 3254, 'dotted': 3255, 'mainly': 3256, 'heavens': 3257, 'legged': 3258, 'rip': 3259, 'sleek': 3260, 'cap': 3261, 'dwell': 3262, 'applause': 3263, 'susan': 3264, 'terry': 3265, 'ravenclaws': 3266, 'jammed': 3267, 'jog': 3268, 'whispers': 3269, 'fires': 3270, 'shakily': 3271, 'loudest': 3272, 'bucket': 3273, 'taller': 3274, 'uncertainly': 3275, 'genius': 3276, 'chops': 3277, 'boiled': 3278, 'gravy': 3279, 'ketchup': 3280, 'de': 3281, 'mimsy': 3282, 'coughed': 3283, 'blank': 3284, 'desserts': 3285, 'trifle': 3286, 'tart': 3287, '’til': 3288, 'accidentally': 3289, 'matches': 3290, 'needles': 3291, 'goblet': 3292, 'greasy': 3293, 'hook': 3294, 'nosed': 3295, '“ahem': 3296, 'fed': 3297, 'caretaker': 3298, 'snakelike': 3299, 'tune': 3300, 'bare': 3301, 'crowds': 3302, 'portraits': 3303, 'staircases': 3304, 'poltergeist': 3305, 'firsties': 3306, 'zooming': 3307, 'reveal': 3308, 'cozy': 3309, 'pajamas': 3310, 'hangings': 3311, 'heavier': 3312, 'master': 3313, 'classrooms': 3314, 'wastepaper': 3315, 'creature': 3316, 'bulging': 3317, 'passageways': 3318, 'ambition': 3319, 'staff': 3320, 'dates': 3321, 'squeak': 3322, 'messing': 3323, 'changing': 3324, 'complicated': 3325, 'needle': 3326, 'garlic': 3327, 'zombie': 3328, 'insisted': 3329, 'protected': 3330, 'sugar': 3331, 'favors': 3332, 'circling': 3333, 'untidy': 3334, 'borrowed': 3335, 'paused': 3336, 'calling': 3337, 'gift': 3338, 'creep': 3339, 'bewitching': 3340, 'senses': 3341, 'fame': 3342, 'speech': 3343, 'root': 3344, 'asphodel': 3345, 'infusion': 3346, 'wormwood': 3347, 'faintest': 3348, 'monkshood': 3349, 'wolfsbane': 3350, 'seamus’s': 3351, 'spat': 3352, 'push': 3353, 'spirits': 3354, '“back': 3355, 'boarhound': 3356, 'massive': 3357, 'letting': 3358, 'bounded': 3359, 'enjoying': 3360, 'git': 3361, 'd’yeh': 3362, 'puts': 3363, '“how’s': 3364, 'continue': 3365, 'searched': 3366, 'date': 3367, 'thursday': 3368, 'stories': 3369, 'thomas': 3370, 'exciting': 3371, 'dean’s': 3372, 'poster': 3373, 'west': 3374, 'ham': 3375, 'grandmother': 3376, 'accidents': 3377, '“malfoy’s': 3378, 'hawk': 3379, 'twigs': 3380, 'angles': 3381, 'granger’s': 3382, 'steady': 3383, 'falling': 3384, 'slip': 3385, 'wham': 3386, 'thud': 3387, 'facedown': 3388, 'earshot': 3389, 'darting': 3390, 'glittered': 3391, 'nastily': 3392, '“madam': 3393, 'pounding': 3394, 'mounted': 3395, 'soared': 3396, 'rush': 3397, 'joy': 3398, 'screams': 3399, 'gasps': 3400, 'speechless': 3401, 'lasted': 3402, 'packing': 3403, 'borrow': 3404, 'fifth': 3405, 'expression': 3406, '“absolutely': 3407, 'natural': 3408, 'clue': 3409, '“didn’t': 3410, '“ever': 3411, '“light': 3412, '“wood': 3413, '“bet': 3414, 'meal': 3415, 'wheeling': 3416, '“midnight': 3417, 'damage': 3418, 'peace': 3419, 'block': 3420, 'bathrobes': 3421, 'hunched': 3422, '“percy': 3423, 'interfering': 3424, 'breathed': 3425, 'scrambling': 3426, 'bogies': 3427, 'flitted': 3428, 'edged': 3429, 'madly': 3430, '“probably': 3431, 'gallery': 3432, 'tripped': 3433, 'crashing': 3434, 'paces': 3435, 'doorknob': 3436, 'cackled': 3437, 'naughty': 3438, '“should': 3439, 'ducking': 3440, 'monstrous': 3441, 'rolling': 3442, 'mouths': 3443, 'seventh': 3444, 'valuable': 3445, 'clues': 3446, 'session': 3447, 'glee': 3448, 'bubbles': 3449, 'basketball': 3450, '“these': 3451, 'straining': 3452, 'zigzagging': 3453, 'wins': 3454, 'seekers': 3455, 'understood': 3456, 'shutting': 3457, 'golf': 3458, 'england': 3459, 'announced': 3460, 'sleeves': 3461, 'hovered': 3462, '“she’s': 3463, 'startled': 3464, 'decorations': 3465, 'stutter': 3466, 'helping': 3467, 'sprinting': 3468, 'askew': 3469, 'terror': 3470, 'dormitories': 3471, 'groups': 3472, 'directions': 3473, 'fading': 3474, 'foul': 3475, 'patch': 3476, 'victory': 3477, 'hesitated': 3478, 'driving': 3479, 'sickening': 3480, 'swayed': 3481, 'racket': 3482, 'rear': 3483, 'fury': 3484, 'admitted': 3485, 'noisy': 3486, 'embarrassed': 3487, 'moleskin': 3488, 'jar': 3489, 'guilty': 3490, 'limped': 3491, 'hurting': 3492, 'staffroom': 3493, 'breathlessly': 3494, 'pitch': 3495, 'president': 3496, 'performed': 3497, 'tricky': 3498, 'colors': 3499, 'blast': 3500, 'spinnet': 3501, 'reserve': 3502, 'ouch': 3503, 'adrian': 3504, '“bin': 3505, 'scored': 3506, 'feelings': 3507, 'higgs': 3508, 'yelling': 3509, 'disgusting': 3510, 'buck': 3511, 'direct': 3512, 'passes': 3513, 'interfere': 3514, 'clamber': 3515, 'clap': 3516, 'student': 3517, 'concern': 3518, 'disgusted': 3519, 'signed': 3520, '“tell': 3521, 'spectacular': 3522, 'trailing': 3523, 'flatly': 3524, 'flamel’s': 3525, 'discoveries': 3526, 'developments': 3527, 'titles': 3528, 'wandered': 3529, 'grandfather': 3530, '“merry': 3531, 'contained': 3532, 'pence': 3533, 'unwrapping': 3534, 'material': 3535, 'flung': 3536, 'sharing': 3537, 'crackers': 3538, 'party': 3539, 'feeble': 3540, 'cloud': 3541, 'chuckling': 3542, 'redder': 3543, 'luminous': 3544, 'nagging': 3545, 'shriek': 3546, 'shrieks': 3547, 'desks': 3548, 'carved': 3549, 'oyt': 3550, 'reflections': 3551, 'hungrily': 3552, 'feared': 3553, 'moaning': 3554, 'transfixed': 3555, 'insides': 3556, 'desire': 3557, 'prepared': 3558, 'convinced': 3559, 'nightmares': 3560, 'skimming': 3561, 'overtake': 3562, 'fewer': 3563, 'spluttered': 3564, 'bunny': 3565, 'countercurse': 3566, 'urged': 3567, 'grumpily': 3568, 'ancient': 3569, 'concerned': 3570, 'drinker': 3571, 'perenelle': 3572, 'school’s': 3573, 'who’ve': 3574, 'whirl': 3575, 'shoot': 3576, 'erupted': 3577, 'hugging': 3578, 'nearby': 3579, 'stuttering': 3580, 'beast': 3581, '“b': 3582, 'anti': 3583, '“it’ll': 3584, 'fourteen': 3585, 'schedules': 3586, 'crazy': 3587, '“shhhh': 3588, 'thoughtfully': 3589, 'breeding': 3590, 'stoat': 3591, 'bush': 3592, 'feed': 3593, 'diff’rent': 3594, 'illegal': 3595, 'hatching': 3596, 'mommy': 3597, 'drained': 3598, 'norbert’s': 3599, 'state': 3600, 'believes': 3601, 'sweat': 3602, 'teddy': 3603, 'heaved': 3604, 'flared': 3605, 'thrashing': 3606, 'creeping': 3607, 'detentions': 3608, '“fifty': 3609, 'ashamed': 3610, 'comfort': 3611, 'dawn': 3612, 'hero': 3613, 'suffering': 3614, 'misery': 3615, 'proof': 3616, 'sacked': 3617, 'werewolves': 3618, 'cracking': 3619, 'winding': 3620, 'inter': 3621, 'killing': 3622, 'creatures': 3623, 'listened': 3624, 'wasn’': 3625, 'grimly': 3626, '“hullo': 3627, 'hooves': 3628, 'dense': 3629, 'galloping': 3630, '“firenze': 3631, 'pawed': 3632, 'examine': 3633, 'forest…and': 3634, '…bane': 3635, 'sore': 3636, 'night’s': 3637, 'surprises': 3638, 'papers': 3639, 'snuffbox': 3640, 'invented': 3641, 'horrified': 3642, 'caution': 3643, 'trevor': 3644, 'waste': 3645, 'bind': 3646, 'loosening': 3647, 'landing': 3648, 'decoration': 3649, 'soaring': 3650, 'darted': 3651, 'knack': 3652, 'offended': 3653, 'mercy': 3654, '“yes…”': 3655, 'king': 3656, '“here': 3657, 'instant': 3658, 'onward': 3659, 'nettle': 3660, 'bravery': 3661, 'binding': 3662, '“master': 3663, 'potter…”': 3664, '“seize': 3665, 'blistering': 3666, 'agony': 3667, 'deadly': 3668, '“quirrell': 3669, 'organized': 3670, 'delayed': 3671, 'therefore': 3672, '“alas': 3673, 'loved': 3674, 'rocker': 3675, 'serpent': 3676, '“…for': 3677, 'gateway': 3678, 'r': 3679, 'beefy': 3680, 'amount': 3681, 'fences': 3682, 'discover': 3683, 'husband': 3684, 'undursleyish': 3685, 'tie': 3686, 'gossiped': 3687, 'wrestled': 3688, 'briefcase': 3689, 'pecked': 3690, 'cereal': 3691, 'four’s': 3692, 'maps': 3693, 'signs': 3694, 'getups': 3695, 'drummed': 3696, 'wheel': 3697, 'weirdos': 3698, 'enraged': 3699, 'stunt': 3700, '—these': 3701, 'something…yes': 3702, 'ninth': 3703, 'gazed': 3704, 'stretch': 3705, 'bakery': 3706, 'baker’s': 3707, 'tin': 3708, 'doughnut': 3709, 'whisperers': 3710, 'secretary': 3711, 'dialing': 3712, 'receiver': 3713, 'thinking…no': 3714, 'harvey': 3715, 'harold': 3716, 'that…but': 3717, 'squeaky': 3718, 'rejoice': 3719, 'approve': 3720, 'driveway': 3721, '“shoo': 3722, 'behavior': 3723, 'door’s': 3724, 'daughter': 3725, '“won’t': 3726, 'act': 3727, 'watchers': 3728, 'reported': 3729, 'nation’s': 3730, 'unusually': 3731, 'hunt': 3732, 'sightings': 3733, 'sunrise': 3734, 'experts': 3735, 'pattern': 3736, 'newscaster': 3737, 'mcguffin': 3738, 'showers': 3739, 'ted': 3740, 'weatherman': 3741, 'viewers': 3742, 'dundee': 3743, 'phoning': 3744, 'downpour': 3745, 'bonfire': 3746, 'folks': 3747, '“owls…shooting': 3748, 'stars…and': 3749, 'thought…maybe…it': 3750, 'with…you': 3751, 'know…her': 3752, 'sipped': 3753, 'pursed': 3754, '“their': 3755, 'howard': 3756, 'related': 3757, 'affect': 3758, 'drifting': 3759, 'sleepiness': 3760, 'cat’s': 3761, 'judging': 3762, 'tuck': 3763, 'belt': 3764, 'heeled': 3765, 'buckled': 3766, 'unwelcome': 3767, 'cigarette': 3768, 'pinpricks': 3769, 'pavement': 3770, '“fancy': 3771, 'severe': 3772, 'distinctly': 3773, '—even': 3774, 'flocks': 3775, 'owls…shooting': 3776, 'stars…well': 3777, 'swapping': 3778, 'thankful': 3779, 'sensible': 3780, 'who’': 3781, 'flinched': 3782, 'unsticking': 3783, 'exasperated': 3784, 'flatter': 3785, 'earmuffs': 3786, 'discuss': 3787, '“everyone”': 3788, 'godric’s': 3789, 'hollow': 3790, 'rumor': 3791, '“lily': 3792, 'james…i': 3793, 'it…i': 3794, 'it…oh': 3795, 'albus…”': 3796, 'know…i': 3797, 'glumly': 3798, 'faltered': 3799, 'done…all': 3800, 'killed…he': 3801, 'astounding…of': 3802, 'him…but': 3803, 'survive': 3804, 'lace': 3805, 'dabbed': 3806, 'sniff': 3807, 'kicking': 3808, 'legend': 3809, '“exactly': 3810, 'growing': 3811, 'grudgingly': 3812, 'tend': 3813, 'steadily': 3814, 'louder': 3815, 'headlight': 3816, 'astride': 3817, 'tangles': 3818, 'lids': 3819, 'dolphins': 3820, 'muscular': 3821, '“borrowed': 3822, '“young': 3823, 'swarmin’': 3824, 'flyin’': 3825, 'bristol': 3826, 'tuft': 3827, 'handy': 3828, 'scratchy': 3829, 'whiskery': 3830, 'howl': 3831, 'wounded': 3832, '“shhh': 3833, '“s': 3834, 'burying': 3835, '—lily': 3836, 'gingerly': 3837, 'celebrations': 3838, 'g’night': 3839, 'reply': 3840, 'lamps': 3841, 'slinking': 3842, 'hedges': 3843, 'inky': 3844, 'waking': 3845, 'hours’': 3846, 'milk': 3847, 'pinched': 3848, 'gardens': 3849, 'fateful': 3850, 'mantelpiece': 3851, 'pictures': 3852, 'beach': 3853, 'bonnets': 3854, 'riding': 3855, 'bicycle': 3856, 'carousel': 3857, 'shrill': 3858, 'pan': 3859, 'stove': 3860, 'burn': 3861, 'duddy’s': 3862, 'nothing…”': 3863, 'spider': 3864, 'mystery': 3865, 'skinnier': 3866, 'scotch': 3867, 'punched': 3868, '“comb': 3869, 'greeting': 3870, 'haircuts': 3871, 'watery': 3872, 'angel': 3873, '“darling': 3874, 'marge’s': 3875, 'daddy': 3876, 'wolfing': 3877, 'scented': 3878, 'how’s': 3879, 'popkin': 3880, 'right”': 3881, 'sweetums': 3882, 'money’s': 3883, '’atta': 3884, 'wristwatch': 3885, '“bad': 3886, 'parks': 3887, 'movies': 3888, 'planned': 3889, 'tibbles': 3890, 'tufty': 3891, 'phone': 3892, 'yvonne': 3893, '“on': 3894, 'majorca': 3895, 'ruins': 3896, 'car’s': 3897, '“dinky': 3898, 'duddydums': 3899, 'flinging': 3900, '“i…don’t…want…him…t': 3901, 'sobs': 3902, 'sp': 3903, 'spoils': 3904, 'doorbell': 3905, '“honestly…”': 3906, 'barbers': 3907, 'scissors': 3908, 'sleepless': 3909, 'sheared': 3910, 'puff': 3911, 'puppet': 3912, 'shrunk': 3913, 'buildings': 3914, 'cans': 3915, 'spending': 3916, 'smelling': 3917, 'council': 3918, 'motorcycles': 3919, '“…roaring': 3920, 'maniacs': 3921, 'hoodlums': 3922, 'overtook': 3923, 'beet': 3924, '“motorcycles': 3925, 'cartoon': 3926, 'van': 3927, 'cheap': 3928, 'gorilla': 3929, 'remarkably': 3930, 'hobby': 3931, 'restaurant': 3932, 'knickerbocker': 3933, 'lizards': 3934, 'snakes': 3935, 'cobras': 3936, 'crushing': 3937, 'pythons': 3938, 'largest': 3939, 'crushed': 3940, 'glistening': 3941, 'coils': 3942, 'whined': 3943, 'smartly': 3944, 'snoozed': 3945, 'intently': 3946, 'boredom': 3947, 'drumming': 3948, '“was': 3949, 'specimen': 3950, 'bred': 3951, 'waddling': 3952, 'concrete': 3953, 'constrictor’s': 3954, 'uncoiling': 3955, 'rapidly': 3956, 'throughout': 3957, 'exits': 3958, '“brazil': 3959, 'thanksss': 3960, 'amigo': 3961, 'apologized': 3962, 'gibber': 3963, 'playfully': 3964, 'heels': 3965, 'swearing': 3966, 'squeeze': 3967, 'calming': 3968, 'meals': 3969, 'vision': 3970, 'relation': 3971, 'bus': 3972, 'weirdest': 3973, 'disagree': 3974, 'brazilian': 3975, 'earned': 3976, 'longest': 3977, 'crutches': 3978, 'dennis': 3979, 'malcolm': 3980, 'gordon': 3981, 'stupidest': 3982, 'leader': 3983, 'hunting': 3984, 'secondary': 3985, 'local': 3986, 'toilet’s': 3987, 'tripping': 3988, 'paraded': 3989, 'brand': 3990, 'smeltings’': 3991, 'tailcoats': 3992, 'straw': 3993, 'boaters': 3994, 'proudest': 3995, 'dudleykins': 3996, 'rags': 3997, 'dyeing': 3998, 'doubted': 3999, 'elephant': 4000, 'click': 4001, 'flop': 4002, '“poke': 4003, 'vacationing': 4004, 'isle': 4005, 'wight': 4006, 'twanging': 4007, 'elastic': 4008, 'band': 4009, 'relatives': 4010, 'whinging': 4011, 'surrey': 4012, 'seal': 4013, 'bearing': 4014, 'badger': 4015, 'bombs': 4016, '“marge’s': 4017, '“ate': 4018, 'whelk': 4019, 'snatch': 4020, '“who’d': 4021, 'grayish': 4022, 'seeming': 4023, 'scruffs': 4024, 'promptly': 4025, 'sleeps': 4026, '“watching': 4027, 'pacing': 4028, 'answer…yes': 4029, 'best…we': 4030, 'anything…”': 4031, 'swear': 4032, '“silence': 4033, 'breaths': 4034, 'thinking…you’re': 4035, 'it…we': 4036, 'bedrooms': 4037, 'visitors': 4038, 'neighbor’s': 4039, 'program': 4040, 'canceled': 4041, 'birdcage': 4042, 'parrot': 4043, 'bawling': 4044, 'there…i': 4045, 'room…make': 4046, 'whacked': 4047, 'tortoise': 4048, 'greenhouse': 4049, '‘mr': 4050, '—’”': 4051, 'strangled': 4052, 'wrestle': 4053, 'wheezed': 4054, 'repaired': 4055, 'postman': 4056, 'hammered': 4057, '“aaaaarrrgh': 4058, 'uncle’s': 4059, 'nailed': 4060, 'nail': 4061, 'fruitcake': 4062, 'slotted': 4063, 'hammer': 4064, '“tiptoe': 4065, 'tulips”': 4066, 'milkman': 4067, 'dairy': 4068, 'shredded': 4069, 'processor': 4070, 'sunday': 4071, 'sundays': 4072, 'newspapers': 4073, 'damn': 4074, 'whizzing': 4075, 'bullets': 4076, 'tufts': 4077, 'arguments': 4078, 'highway': 4079, 'sniffling': 4080, 'sports': 4081, '“shake': 4082, 'off…shake': 4083, 'nightfall': 4084, 'programs': 4085, 'alien': 4086, 'outskirts': 4087, 'city': 4088, 'musty': 4089, 'snored': 4090, 'cars': 4091, 'stale': 4092, 'cornflakes': 4093, 'tinned': 4094, 'tomatoes': 4095, 'owner': 4096, '“’scuse': 4097, '’undred': 4098, '17': 4099, 'railview': 4100, 'cokeworth': 4101, 'dining': 4102, '“wouldn’t': 4103, 'plowed': 4104, 'suspension': 4105, 'bridge': 4106, 'multilevel': 4107, 'garage': 4108, '“daddy’s': 4109, 'dully': 4110, 'parked': 4111, 'coast': 4112, 'sniveled': 4113, 'humberto’s': 4114, 'eleventh': 4115, 'birthdays': 4116, 'hanger': 4117, '“found': 4118, 'certain': 4119, '“storm': 4120, 'forecast': 4121, 'gleefully': 4122, 'gentleman’s': 4123, 'lend': 4124, 'ambling': 4125, 'rowboat': 4126, 'aboard': 4127, 'chilly': 4128, 'seaweed': 4129, 'gaps': 4130, 'chips': 4131, 'bananas': 4132, 'smoked': 4133, 'waves': 4134, 'splattered': 4135, 'filthy': 4136, 'moth': 4137, 'softest': 4138, 'curl': 4139, 'thinnest': 4140, 'ragged': 4141, 'blanket': 4142, 'raged': 4143, 'ferociously': 4144, 'snores': 4145, 'thunder': 4146, 'dial': 4147, 'tick': 4148, 'writer': 4149, 'creak': 4150, 'warmer': 4151, 'slapping': 4152, 'crumbling': 4153, 'twenty…ten…nine': 4154, 'annoy': 4155, 'three…two…one…': 4156, 'boom': 4157, 'oom': 4158, 'skidding': 4159, 'hinges': 4160, 'beetles': 4161, 'stooping': 4162, 'brushed': 4163, 'crinkled': 4164, 'rasping': 4165, 'demand': 4166, 'prune': 4167, 'gun': 4168, 'knot': 4169, 'rubber': 4170, 'squashed': 4171, 'icing': 4172, '“true': 4173, 'stronger': 4174, 'bath': 4175, 'weight': 4176, 'mugs': 4177, 'amber': 4178, 'liquid': 4179, 'swig': 4180, 'sizzling': 4181, 'juicy': 4182, 'burnt': 4183, 'fidgeted': 4184, 'puddin’': 4185, 'fattenin’': 4186, 'cryin’': 4187, 'fill': 4188, 'cowering': 4189, 'math': 4190, 'explode': 4191, '“dursley': 4192, 'boomed': 4193, '“mimblewimble': 4194, 'fixing': 4195, 'commanded': 4196, 'quailed': 4197, 'syllable': 4198, 'boil': 4199, 'thumpin’': 4200, '‘un': 4201, 'trained': 4202, 'grand': 4203, 'sorc': 4204, 'chf': 4205, 'warlock': 4206, 'supreme': 4207, 'mugwump': 4208, 'international': 4209, 'confed': 4210, 'inform': 4211, 'enclosed': 4212, 'necessary': 4213, 'sincerely': 4214, 'minerva': 4215, 'deputy': 4216, 'fireworks': 4217, '“gallopin’': 4218, 'gorgons': 4219, 'upside': 4220, 'weather’s': 4221, 'ashen': 4222, 'firelight': 4223, 'nonmagic': 4224, '“swore': 4225, 'dratted': 4226, 'spawn': 4227, 'teacups': 4228, 'freak': 4229, 'draw': 4230, 'ranting': 4231, 'abnormal': 4232, '“car': 4233, 'outrage': 4234, 'scandal': 4235, 'parts': 4236, '“gulpin’': 4237, 'gargoyles': 4238, 'witches…terrible': 4239, 'before…probably': 4240, 'foghorn': 4241, 'anyway…': 4242, 'mckinnons': 4243, 'bones': 4244, 'prewetts': 4245, 'cruel': 4246, '“took': 4247, 'lot…': 4248, '“load': 4249, 'tosh': 4250, 'cured': 4251, 'weirdoes': 4252, 'denying': 4253, 'world’s': 4254, 'types': 4255, 'sword': 4256, 'word…': 4257, 'speared': 4258, 'bearded': 4259, 'why’d': 4260, 'bidin’': 4261, 'kinda': 4262, 'trances': 4263, 'comin’': 4264, '’cause': 4265, 'respect': 4266, 'clouted': 4267, 'bullied': 4268, 'defeated': 4269, 'sorcerer': 4270, 'football': 4271, 'it…every': 4272, 'angry…chased': 4273, 'reach…dreading': 4274, 'revenge': 4275, 'positively': 4276, '“haven’t': 4277, 'born': 4278, 'finest': 4279, 'youngsters': 4280, 'dumbled—”': 4281, 'paying': 4282, 'crackpot': 4283, 'tricks': 4284, 'insult': 4285, 'firecracker': 4286, 'curly': 4287, 'pig’s': 4288, '“shouldn’ta': 4289, 'ruefully': 4290, 'strictly': 4291, 'speakin’': 4292, '“gotta': 4293, 'kip': 4294, 'wriggles': 4295, 'doormice': 4296, 'rapping': 4297, 'claw': 4298, 'swelling': 4299, 'savaging': 4300, '“pay': 4301, 'payin’': 4302, 'deliverin’': 4303, 'bunches': 4304, 'pellets': 4305, 'string': 4306, 'teabags': 4307, '“knuts': 4308, 'pouch': 4309, '“best': 4310, 'puncture': 4311, '“um': 4312, '“mm': 4313, 'night…he': 4314, '“d’yeh': 4315, 'teh': 4316, '“wizards': 4317, 'banks': 4318, '“goblins': 4319, '‘cept': 4320, 'fetchin’': 4321, 'gleamed': 4322, 'hired': 4323, 'settled': 4324, '“seems': 4325, 'mentionin’': 4326, '“spells': 4327, 'tryin’': 4328, '“ministry': 4329, 'messin’': 4330, '“’course': 4331, 'minister': 4332, 'cornelius': 4333, 'bungler': 4334, 'pelts': 4335, 'everyone’d': 4336, 'wantin’': 4337, 'solutions': 4338, 'bumped': 4339, 'meters': 4340, 'panting': 4341, '“crikey': 4342, '“wanted': 4343, '“muggle': 4344, 'bills': 4345, 'tickets': 4346, 'knitting': 4347, 'canary': 4348, 'circus': 4349, 'tent': 4350, 'stitches': 4351, 'unfolded': 4352, 'require': 4353, 'sets': 4354, '3': 4355, 'protective': 4356, 'similar': 4357, 'winter': 4358, 'fastenings': 4359, 'pupils’': 4360, 'tags': 4361, 'grade': 4362, 'miranda': 4363, 'goshawk': 4364, 'bathilda': 4365, 'bagshot': 4366, 'theory': 4367, 'adalbert': 4368, 'waffling': 4369, 'beginners’': 4370, 'emeric': 4371, 'switch': 4372, 'phyllida': 4373, 'spore': 4374, 'drafts': 4375, 'arsenius': 4376, 'jigger': 4377, 'newt': 4378, 'scamander': 4379, 'forces': 4380, 'quentin': 4381, 'trimble': 4382, 'phials': 4383, 'trains': 4384, 'bustling': 4385, 'stores': 4386, 'cinemas': 4387, 'sell': 4388, 'cooked': 4389, 'humor': 4390, 'unbelievable': 4391, 'trusting': 4392, 'steered': 4393, 'sherry': 4394, 'smoking': 4395, 'buzz': 4396, 'tom': 4397, 'potter…what': 4398, '“doris': 4399, '“delighted': 4400, 'grasping': 4401, '“c': 4402, '“d': 4403, 'walled': 4404, 'weeds': 4405, '“told': 4406, 'bloke': 4407, 'studyin’': 4408, 'firsthand': 4409, 'experience': 4410, 'hag': 4411, 'hags': 4412, 'bricks': 4413, 'up…two': 4414, 'across…”': 4415, 'cobbled': 4416, 'shrink': 4417, 'instantly': 4418, 'sizes': 4419, 'stirring': 4420, 'needin’': 4421, 'hooting': 4422, 'instruments': 4423, 'spleens': 4424, 'eels’': 4425, 'tottering': 4426, 'globes': 4427, '“gringotts': 4428, 'burnished': 4429, 'shorter': 4430, 'swarthy': 4431, 'engraved': 4432, 'heed': 4433, 'awaits': 4434, 'sin': 4435, 'dearly': 4436, 'thief': 4437, 'beware': 4438, 'scribbling': 4439, 'ledgers': 4440, 'examining': 4441, 'eyeglasses': 4442, '“morning': 4443, 'goblin’s': 4444, 'rubies': 4445, 'coals': 4446, 'mysteriously': 4447, 'job’s': 4448, 'steeply': 4449, 'railway': 4450, 'hurtling': 4451, 'maze': 4452, 'passages': 4453, 'stung': 4454, 'stalactites': 4455, 'stalagmites': 4456, 'stalagmite': 4457, 'stalactite': 4458, '“stalagmite’s': 4459, '‘m’': 4460, 'lean': 4461, 'mounds': 4462, 'columns': 4463, 'heaps': 4464, 'belonging': 4465, '“seventeen': 4466, 'galleon': 4467, 'terms': 4468, '“vault': 4469, 'corners': 4470, 'ravine': 4471, 'scruff': 4472, 'sucked': 4473, 'fabulous': 4474, 'jewels': 4475, 'longed': 4476, 'infernal': 4477, '“might': 4478, 'carts': 4479, 'squat': 4480, 'mauve': 4481, 'bully': 4482, 'smuggle': 4483, '“play': 4484, '“mmm': 4485, 'works': 4486, 'savage': 4487, 'surname': 4488, 'raspberry': 4489, 'chopped': 4490, 'lied': 4491, 'wrote': 4492, 'forgettin’': 4493, 'wizardin’': 4494, '“school': 4495, 'duffers': 4496, 'gloomily': 4497, '“vol': 4498, '—you': 4499, '“years': 4500, 'flourish': 4501, 'blotts': 4502, 'paving': 4503, 'stamps': 4504, 'symbols': 4505, 'countercurses': 4506, 'bewitch': 4507, 'befuddle': 4508, 'revenges': 4509, 'loss': 4510, 'jelly': 4511, 'tying': 4512, 'vindictus': 4513, 'viridian': 4514, 'couldn’': 4515, 'list”': 4516, 'fascinating': 4517, 'rotted': 4518, 'cabbages': 4519, 'slimy': 4520, 'powders': 4521, 'bundles': 4522, 'strings': 4523, 'supply': 4524, 'basic': 4525, 'minuscule': 4526, 'glittery': 4527, 'scoop': 4528, 'sneeze': 4529, 'kids': 4530, 'stammering': 4531, 'lotta': 4532, 'wand…this': 4533, 'makers': 4534, '382': 4535, 'cushion': 4536, 'tinkling': 4537, 'occurred': 4538, 'tingle': 4539, 'awkwardly': 4540, 'quarter': 4541, 'swishy': 4542, 'willow': 4543, 'pliable': 4544, 'where…”': 4545, '“thirteen': 4546, 'hands…well': 4547, '“rubeus': 4548, '…oak': 4549, 'bendy': 4550, '“hmmm': 4551, '“hold': 4552, 'armpit': 4553, 'core': 4554, 'heartstrings': 4555, 'phoenixes': 4556, 'flitting': 4557, 'beechwood': 4558, 'heartstring': 4559, 'flexible': 4560, '“maple': 4561, 'whippy': 4562, 'ebony': 4563, 'springy': 4564, 'mounting': 4565, '“tricky': 4566, 'customer': 4567, 'combination': 4568, 'supple': 4569, 'firework': 4570, 'whooped': 4571, 'bravo': 4572, 'well…how': 4573, 'curious…how': 4574, 'curious…”': 4575, '“curious…curious…': 4576, 'destined': 4577, 'remember…i': 4578, 'potter…': 4579, 'named': 4580, 'gawking': 4581, 'paddington': 4582, 'chewed': 4583, 'ollivander…but': 4584, 'beginning': 4585, 'singled': 4586, '’smatter': 4587, 'arry’s': 4588, 'improvement': 4589, 'depressing': 4590, 'vacuum': 4591, 'august': 4592, 'quiz': 4593, 'grunt': 4594, 'carpets': 4595, 'punctures': 4596, '“platform': 4597, '“barking': 4598, '“howling': 4599, '“taking': 4600, 'removed': 4601, 'jeans': 4602, 'loaded': 4603, 'dumped': 4604, 'built': 4605, 'nastier': 4606, 'annoyed': 4607, 'wasters': 4608, 'according': 4609, 'arrivals': 4610, 'stranded': 4611, 'inspector’s': 4612, 'speaker': 4613, 'piped': 4614, 'dividing': 4615, 'tourists': 4616, 'swarming': 4617, 'backpack': 4618, 'sons': 4619, 'gangling': 4620, 'trolley': 4621, 'come…he': 4622, 'running…he': 4623, 'steam': 4624, 'wrought': 4625, 'carriages': 4626, 'dreadlocks': 4627, 'surrounded': 4628, 'lid': 4629, 'shove': 4630, 'heave': 4631, 'c’mere': 4632, '“aren’t': 4633, 'chorused': 4634, 'gawked': 4635, 'train’s': 4636, '“coming': 4637, 'geroff”': 4638, '“aaah': 4639, 'ronnie': 4640, 'somefink': 4641, 'nosie': 4642, 'compartments': 4643, '“once': 4644, '“because': 4645, 'fondly': 4646, 'behave': 4647, 'ronniekins': 4648, 'rubbed': 4649, 'girl’s': 4650, 'goggle': 4651, '“asked': 4652, '“poor': 4653, 'reminding': 4654, '“george': 4655, 'disappear': 4656, 'redheaded': 4657, '“everywhere': 4658, 'jordan’s': 4659, 'tarantula': 4660, 'george’s': 4661, 'jokes': 4662, 'accountant': 4663, '“horrible': 4664, 'expects': 4665, 'useless': 4666, 'wakes': 4667, 'aff': 4668, 'voicing': 4669, 'cows': 4670, 'sheep': 4671, 'lanes': 4672, 'clattering': 4673, 'dimpled': 4674, 'dears': 4675, 'drooble’s': 4676, 'gum': 4677, 'licorice': 4678, '“hungry': 4679, '“starving': 4680, 'forgets': 4681, 'corned': 4682, '“swap': 4683, 'candies': 4684, 'ptolemy': 4685, 'flowing': 4686, 'onsidered': 4687, 'tenpin': 4688, 'bowling': 4689, 'astonishment': 4690, 'her…do': 4691, 'strayed': 4692, '“help': 4693, 'photos': 4694, 'hengist': 4695, 'woodcroft': 4696, 'alberic': 4697, 'grunnion': 4698, 'circe': 4699, 'paracelsus': 4700, 'druidess': 4701, 'cliodna': 4702, 'bertie': 4703, 'spinach': 4704, 'tripe': 4705, 'booger': 4706, '“bleaaargh': 4707, 'sprouts': 4708, 'strawberry': 4709, 'curry': 4710, 'coffee': 4711, 'sardine': 4712, 'pepper': 4713, 'woods': 4714, 'rivers': 4715, 'hills': 4716, 'tearful': 4717, 'him…”': 4718, 'snoozing': 4719, 'look…”': 4720, 'rummaged': 4721, '“unicorn': 4722, 'hair’s': 4723, '“has': 4724, 'aback': 4725, '“sunshine': 4726, 'daisies': 4727, 'butter': 4728, 'mellow': 4729, 'background': 4730, '“am': 4731, 'dazed': 4732, '“goodness': 4733, '“whatever': 4734, '“stupid': 4735, 'dud': 4736, 'settling': 4737, 'depressed': 4738, 'scabbers’': 4739, '“charlie’s': 4740, 'africa': 4741, '’course': 4742, 'prickle': 4743, '“voldemort”': 4744, 'confessed': 4745, 'dumbfounded': 4746, 'positions': 4747, 'describing': 4748, 'thickset': 4749, 'bodyguards': 4750, 'carelessly': 4751, 'cough': 4752, 'snigger': 4753, '“think': 4754, 'tinge': 4755, 'cheeks': 4756, 'politer': 4757, 'riffraff': 4758, 'rub': 4759, 'knuckle': 4760, 'conductor': 4761, '“scabbers': 4762, 'childishly': 4763, 'sniffy': 4764, 'dirt': 4765, 'forests': 4766, 'slowing': 4767, 'sneakers': 4768, 'luggage': 4769, 'separately': 4770, 'lurched': 4771, 'thronging': 4772, 'familiar': 4773, '“firs’': 4774, '“c’mon': 4775, 'stumbling': 4776, '“yeh’ll': 4777, 'sec': 4778, '“oooooh': 4779, 'atop': 4780, 'starry': 4781, 'turrets': 4782, 'shore': 4783, '“heads': 4784, 'curtain': 4785, 'ivy': 4786, 'opening': 4787, 'tunnel': 4788, 'rocks': 4789, 'pebbles': 4790, '“trevor': 4791, 'blissfully': 4792, 'upper': 4793, 'flagged': 4794, 'drone': 4795, 'produced': 4796, 'triumphs': 4797, 'rulebreaking': 4798, 'credit': 4799, 'becomes': 4800, 'smarten': 4801, 'lingered': 4802, 'fastened': 4803, 'smudged': 4804, 'hurts': 4805, '—what': 4806, 'doom': 4807, 'transparent': 4808, 'monk': 4809, '“forgive': 4810, 'chances': 4811, 'deserves': 4812, 'tights': 4813, '“new': 4814, 'mutely': 4815, '“move': 4816, 'ceremony’s': 4817, 'goblets': 4818, 'lanterns': 4819, 'candlelight': 4820, 'avoid': 4821, 'velvety': 4822, '“its': 4823, 'placed': 4824, 'patched': 4825, 'frayed': 4826, 'brim': 4827, 'judge': 4828, 'smarter': 4829, 'bowlers': 4830, 'chivalry': 4831, 'loyal': 4832, 'patient': 4833, 'unafraid': 4834, 'toil': 4835, 'wit': 4836, 'cunning': 4837, 'achieve': 4838, 'flap': 4839, 'weakly': 4840, 'witted': 4841, 'queasy': 4842, '“abbott': 4843, 'pigtails': 4844, '“bones': 4845, '“boot': 4846, '“ravenclaw': 4847, '“brocklehurst': 4848, 'mandy”': 4849, '“brown': 4850, 'lavender”': 4851, 'catcalling': 4852, '“bulstrode': 4853, 'millicent”': 4854, 'gym': 4855, '“finch': 4856, 'fletchley': 4857, 'justin': 4858, '“finnigan': 4859, 'declared': 4860, '“granger': 4861, 'mione': 4862, 'thoughts': 4863, 'amid': 4864, 'gales': 4865, '“macdougal': 4866, 'morag': 4867, 'swaggered': 4868, '“moon”…': 4869, '“nott”…': 4870, '“parkinson”…': 4871, '“patil”': 4872, '“patil”…': 4873, '“perks': 4874, 'sally': 4875, 'anne”…': 4876, '“hmm': 4877, '“difficult': 4878, 'plenty': 4879, 'talent': 4880, 'thirst': 4881, 'prove': 4882, 'interesting…': 4883, 'edges': 4884, 'greatness': 4885, 'thumbs': 4886, 'center': 4887, '“thomas': 4888, '“turpin': 4889, 'lisa': 4890, 'pompously': 4891, '“zabini': 4892, 'blaise': 4893, 'scroll': 4894, 'nitwit': 4895, 'blubber': 4896, 'oddment': 4897, 'tweak': 4898, '“mad': 4899, 'airily': 4900, 'dishes': 4901, 'pork': 4902, 'lamb': 4903, 'fries': 4904, 'pudding': 4905, 'carrots': 4906, 'starved': 4907, 'peppermints': 4908, 'porpington': 4909, 'service': 4910, 'resident': 4911, 'prefer': 4912, 'miffed': 4913, 'hinge': 4914, 'behead': 4915, 'unbearable': 4916, 'gaunt': 4917, 'stained': 4918, 'seating': 4919, 'arrangements': 4920, 'delicately': 4921, 'remains': 4922, 'blocks': 4923, 'apple': 4924, 'pies': 4925, 'tarts': 4926, 'eclairs': 4927, 'doughnuts': 4928, 'strawberries': 4929, 'jell': 4930, 'rice': 4931, 'pudding…': 4932, 'dad’s': 4933, 'blackpool': 4934, 'pier': 4935, 'enid': 4936, 'meringue': 4937, 'bounced': 4938, 'absurd': 4939, 'hooked': 4940, 'sallow': 4941, '“ouch': 4942, 'teaches': 4943, 'awful': 4944, 'watered': 4945, 'notices': 4946, 'pupils': 4947, 'remind': 4948, '“quidditch': 4949, 'trials': 4950, 'forest’s': 4951, 'teachers’': 4952, 'ribbon': 4953, 'hoggy': 4954, 'scabby': 4955, 'filling': 4956, 'flies': 4957, 'fluff': 4958, 'forgot': 4959, 'rot': 4960, 'funeral': 4961, 'march': 4962, 'conducted': 4963, 'beyond': 4964, 'bedtime': 4965, 'trot': 4966, 'doorways': 4967, 'panels': 4968, 'tapestries': 4969, 'dragging': 4970, 'farther': 4971, '“oooooooh': 4972, 'cackle': 4973, '“ickle': 4974, 'baron’ll': 4975, 'dress': 4976, '“password': 4977, '“caput': 4978, 'draconis': 4979, 'directed': 4980, 'posters': 4981, 'velvet': 4982, 'chewing': 4983, 'transfer': 4984, 'destiny': 4985, 'sweating': 4986, '“next': 4987, '“wearing': 4988, 'lining': 4989, 'tiptoe': 4990, 'doubled': 4991, 'rickety': 4992, 'politely': 4993, 'tickled': 4994, 'baskets': 4995, 'rugs': 4996, 'pelt': 4997, 'sneak': 4998, 'conk': 4999, 'argus': 5000, 'unluckily': 5001, 'rescued': 5002, 'patrolled': 5003, 'toe': 5004, 'whisk': 5005, 'appear': 5006, 'dearest': 5007, 'skies': 5008, 'greenhouses': 5009, 'dumpy': 5010, 'plants': 5011, 'droned': 5012, 'emetic': 5013, 'uric': 5014, 'oddball': 5015, '“transfiguration': 5016, 'complex': 5017, 'furniture': 5018, 'pointy': 5019, 'ward': 5020, 'vampire': 5021, 'african': 5022, 'prince': 5023, 'troublesome': 5024, 'poured': 5025, '“double': 5026, '“wish': 5027, 'owners': 5028, 'laps': 5029, 'scrawl': 5030, 'afternoons': 5031, 'disliked': 5032, 'dislike': 5033, 'pickled': 5034, 'celebrity': 5035, 'tunnels': 5036, 'subtle': 5037, 'science': 5038, 'exact': 5039, 'art': 5040, 'potionmaking': 5041, 'beauty': 5042, 'simmering': 5043, 'shimmering': 5044, 'fumes': 5045, 'delicate': 5046, 'liquids': 5047, 'veins': 5048, 'ensnaring': 5049, 'brew': 5050, 'stopper': 5051, 'dunderheads': 5052, 'exchanged': 5053, 'proving': 5054, 'dunderhead': 5055, '“tut': 5056, '“thought': 5057, 'ignoring': 5058, '“sit': 5059, 'information': 5060, 'draught': 5061, 'goat': 5062, 'poisons': 5063, 'aconite': 5064, 'continued': 5065, 'cure': 5066, 'weigh': 5067, 'nettles': 5068, 'crush': 5069, 'criticizing': 5070, 'whom': 5071, 'stewed': 5072, 'horned': 5073, 'slugs': 5074, 'acid': 5075, 'melt': 5076, 'blob': 5077, 'seeping': 5078, 'holes': 5079, 'drenched': 5080, '“idiot': 5081, 'spilled': 5082, 'porcupine': 5083, 'whimpered': 5084, 'unfair': 5085, '“cheer': 5086, 'galoshes': 5087, 'frantic': 5088, 'scrabbling': 5089, 'booming': 5090, 'barks': 5091, 'collar': 5092, 'hams': 5093, 'pheasants': 5094, 'patchwork': 5095, 'quilt': 5096, 'yerselves': 5097, 'pouring': 5098, 'chasin’': 5099, 'shapeless': 5100, 'lumps': 5101, 'raisins': 5102, 'rested': 5103, 'drooled': 5104, 'sometime': 5105, 'cutting': 5106, 'investigations': 5107, 'widely': 5108, 'spokesgoblin': 5109, 'might’ve': 5110, 'thieves': 5111, 'weighed': 5112, 'collected': 5113, 'groan': 5114, '“typical': 5115, 'reasonably': 5116, 'boastful': 5117, 'narrowly': 5118, 'helicopters': 5119, 'childhood': 5120, 'glider': 5121, 'constantly': 5122, 'argument': 5123, 'prodding': 5124, 'tips': 5125, 'lecture': 5126, 'arrival': 5127, 'gloatingly': 5128, 'tells': 5129, 'oh…”': 5130, '“…you’ve': 5131, 'something…': 5132, 'breezy': 5133, 'rippled': 5134, 'sloping': 5135, 'lawns': 5136, 'lawn': 5137, 'swaying': 5138, 'vibrate': 5139, '“stick': 5140, '‘up': 5141, '“up”': 5142, 'horses': 5143, 'quaver': 5144, 'mount': 5145, 'correcting': 5146, 'grips': 5147, 'jumpy': 5148, 'hooch’s': 5149, 'cork': 5150, 'drift': 5151, 'lazily': 5152, 'bending': 5153, '“broken': 5154, '“none': 5155, '‘quidditch': 5156, 'tear': 5157, 'hobbled': 5158, '“ooh': 5159, 'pansy': 5160, 'parkinson': 5161, 'crybabies': 5162, 'snatching': 5163, 'longbottom’s': 5164, 'hovering': 5165, 'topmost': 5166, 'whoop': 5167, 'grasped': 5168, 'javelin': 5169, '“catch': 5170, 'motion': 5171, 'mingled': 5172, 'triumphant': 5173, 'numbly': 5174, 'defend': 5175, 'trotting': 5176, 'assistant': 5177, 'cane': 5178, 'burly': 5179, 'flitwick’s': 5180, 'blackboard': 5181, 'clanged': 5182, 'puzzlement': 5183, 'crisply': 5184, 'scratch': 5185, '“wood’s': 5186, 'build': 5187, '—speedy': 5188, 'decent': 5189, 'cleansweep': 5190, 'sternly': 5191, 'punishing': 5192, 'dinnertime': 5193, 'kidney': 5194, '“seeker': 5195, 'shoveling': 5196, 'gaped': 5197, 'year’s': 5198, 'skipping': 5199, 'gregory': 5200, 'smarmy': 5201, 'flanked': 5202, '“having': 5203, 'scowl': 5204, 'anytime': 5205, '“tonight': 5206, 'sizing': 5207, '“crabbe': 5208, 'second’s': 5209, 'catching': 5210, 'duels': 5211, 'malfoy’ll': 5212, '“throw': 5213, 'punch': 5214, 'overhearing': 5215, 'selfish': 5216, 'dodge': 5217, 'sneering': 5218, 'looming': 5219, '“half': 5220, 'embers': 5221, 'frown': 5222, 'goose': 5223, 'switching': 5224, 'painting': 5225, 'shrilly': 5226, 'snuffling': 5227, 'password': 5228, 'password’s': 5229, '‘pig': 5230, 'snout’': 5231, 'lady’s': 5232, '“fine': 5233, 'mended': 5234, 'beckoned': 5235, 'striped': 5236, 'tiptoed': 5237, 'cases': 5238, 'glimmered': 5239, 'shields': 5240, 'statues': 5241, 'chickened': 5242, '“sniff': 5243, 'scurried': 5244, 'suits': 5245, 'clanging': 5246, '“run': 5247, 'doorpost': 5248, 'galloped': 5249, 'tapestry': 5250, 'spluttering': 5251, 'stitch': 5252, '“quickly': 5253, 'tricked': 5254, '“wandering': 5255, 'caughty': 5256, 'saintly': 5257, 'wickedly': 5258, 'swipe': 5259, 'helplessly': 5260, 'peeves’s': 5261, 'shouts': 5262, '“alohomora': 5263, '‘please': 5264, '“shan’t': 5265, 'singsong': 5266, 'haaa': 5267, 'haaaaaa': 5268, 'whooshing': 5269, 'tugging': 5270, 'drooling': 5271, 'saliva': 5272, 'slippery': 5273, 'thunderous': 5274, 'groped': 5275, 'monster': 5276, 'something…what': 5277, 'alfoy': 5278, 'meantime': 5279, 'object': 5280, 'guessing': 5281, 'further': 5282, 'slightest': 5283, 'refusing': 5284, 'bonus': 5285, 'everyone’s': 5286, 'contains': 5287, 'enviously': 5288, 'barred': 5289, 'jealousy': 5290, 'spite': 5291, 'resist': 5292, 'comet': 5293, '“comets': 5294, 'flashy': 5295, 'league': 5296, '“potter’s': 5297, 'model': 5298, 'smothering': 5299, 'reward': 5300, 'stomping': 5301, 'disapprovingly': 5302, 'straying': 5303, 'bedspread': 5304, 'dusk': 5305, 'stadium': 5306, 'spectators': 5307, 'poles': 5308, 'lightest': 5309, 'meant…you': 5310, 'joining': 5311, 'sized': 5312, 'ball’s': 5313, 'recited': 5314, 'scoring': 5315, 'baseball': 5316, 'identical': 5317, 'straps': 5318, 'freed': 5319, 'pelted': 5320, 'zoomed': 5321, 'forcing': 5322, 'strapping': 5323, 'rocket': 5324, 'guards': 5325, 'reeled': 5326, 'offhand': 5327, 'member': 5328, 'seeker’s': 5329, 'weave': 5330, 'team’s': 5331, 'catches': 5332, 'fouled': 5333, 'substitutes': 5334, 'cup’ll': 5335, 'trudged': 5336, 'evenings': 5337, 'mastered': 5338, 'basics': 5339, 'baking': 5340, 'wafting': 5341, 'objects': 5342, 'zoom': 5343, 'angrier': 5344, 'spoken': 5345, '“swish': 5346, 'baruffio': 5347, '‘s’': 5348, '‘f’': 5349, 'buffalo': 5350, 'swished': 5351, 'sending': 5352, 'desktop': 5353, 'impatient': 5354, 'windmill': 5355, 'gar': 5356, 'dium': 5357, 'levi': 5358, 'sa': 5359, '‘gar’': 5360, 'gown': 5361, 'glimpse': 5362, 'uncomfortable': 5363, 'overheard': 5364, 'lavender': 5365, 'awkward': 5366, 'bats': 5367, 'pumpkins': 5368, 'potato': 5369, '“troll': 5370, 'uproar': 5371, 'firecrackers': 5372, 'exploding': 5373, '“prefects': 5374, 'rumbled': 5375, '“lead': 5376, 'element': 5377, 'percy’d': 5378, 'deserted': 5379, 'griffin': 5380, '“search': 5381, 'heading': 5382, 'stench': 5383, 'grunting': 5384, 'footfalls': 5385, 'emerged': 5386, 'granite': 5387, 'boulder': 5388, 'horny': 5389, 'waggled': 5390, 'slouched': 5391, 'praying': 5392, 'slam': 5393, 'chained': 5394, 'fumbling': 5395, 'shrinking': 5396, 'advancing': 5397, 'sinks': 5398, '“confuse': 5399, 'seizing': 5400, 'lumbered': 5401, 'lifting': 5402, 'pea': 5403, 'ugly': 5404, 'echoes': 5405, 'berserk': 5406, 'fasten': 5407, 'flailed': 5408, 'clinging': 5409, 'fright': 5410, 'owner’s': 5411, 'tremble': 5412, 'glue': 5413, '“urgh': 5414, 'boogers': 5415, 'crashes': 5416, 'roars': 5417, 'whimper': 5418, 'hopes': 5419, 'swift': 5420, 'fetch': 5421, 'tackling': 5422, 'disappointed': 5423, 'finishing': 5424, 'grumbled': 5425, '“mind': 5426, 'saving': 5427, '“pig': 5428, 'ending': 5429, 'november': 5430, 'chilled': 5431, 'steel': 5432, 'frost': 5433, 'defrosting': 5434, 'bundled': 5435, 'fur': 5436, 'beaverskin': 5437, 'season': 5438, 'begun': 5439, 'versus': 5440, 'weapon': 5441, 'leaked': 5442, 'mattress': 5443, 'committing': 5444, '1473': 5445, 'rarely': 5446, 'referees': 5447, 'sahara': 5448, 'desert': 5449, 'relaxed': 5450, 'conjured': 5451, 'yard': 5452, 'limping': 5453, '“library': 5454, 'answers': 5455, 'restless': 5456, 'scene': 5457, 'mangled': 5458, 'bandages': 5459, '“blasted': 5460, 'diversion': 5461, 'saints': 5462, 'buzzing': 5463, 'snoring': 5464, 'dawned': 5465, 'fried': 5466, 'wheedled': 5467, 'hour’s': 5468, '“seekers': 5469, 'clobbered': 5470, 'fan': 5471, 'painted': 5472, 'paint': 5473, '“okay': 5474, 'oliver’s': 5475, 'gryffindor’s': 5476, 'flashing': 5477, 'skipped': 5478, '“mount': 5479, 'attractive': 5480, 'commentary': 5481, 'belting': 5482, 'alicia': 5483, 'gains': 5484, 'sc—': 5485, 'katie': 5486, 'beater': 5487, 'dodges': 5488, 'bletchley': 5489, 'dives': 5490, 'misses': 5491, 'moans': 5492, 'watchin’': 5493, 'bein’': 5494, '“nope': 5495, 'speck': 5496, 'attacked': 5497, 'loop': 5498, 'loops': 5499, 'weasleys’': 5500, 'wristwatches': 5501, 'cannonball': 5502, '“chaser': 5503, 'ducks': 5504, 'speeds': 5505, 'murmur': 5506, 'streak': 5507, 'terence': 5508, 'spurt': 5509, 'spun': 5510, '“foul': 5511, '“send': 5512, 'ref': 5513, '“red': 5514, 'oughta': 5515, 'coulda': 5516, 'cheating': 5517, 'foul…”': 5518, 'kills': 5519, 'spinner': 5520, 'spinning': 5521, 'dangerously': 5522, 'lurch': 5523, 'riders': 5524, 'violent': 5525, 'unseated': 5526, 'commentating': 5527, 'no…”': 5528, 'jerking': 5529, 'broom…but': 5530, 'managing': 5531, 'nonstop': 5532, 'jinxing': 5533, '“leave': 5534, 'vibrating': 5535, 'circled': 5536, 'headfirst': 5537, 'crouched': 5538, 'hem': 5539, 'yelp': 5540, 'scooping': 5541, 'fours': 5542, 'ended': 5543, '“fluffy': 5544, 'greek': 5545, 'chappie': 5546, 'las’': 5547, 'afternoon’s': 5548, 'jinx': 5549, 'tellin’': 5550, 'hotly': 5551, 'meddlin’': 5552, '“aha': 5553, 'hristmas': 5554, 'december': 5555, 'froze': 5556, 'snowballs': 5557, 'stormy': 5558, 'nursed': 5559, 'health': 5560, 'drafty': 5561, 'bitter': 5562, 'mist': 5563, 'spine': 5564, 'lionfish': 5565, 'replacing': 5566, 'bucking': 5567, 'jealous': 5568, 'taunting': 5569, 'fir': 5570, 'blocking': 5571, '“hi': 5572, 'drawl': 5573, 'palace': 5574, '“weasley': 5575, 'provoked': 5576, 'insultin’': 5577, 'silkily': 5578, 'smirking': 5579, 'grinding': 5580, 'treat': 5581, 'festoons': 5582, 'mistletoe': 5583, 'icicles': 5584, 'blossoming': 5585, 'hint': 5586, 'searching': 5587, 'notable': 5588, 'sheer': 5589, 'tens': 5590, 'random': 5591, 'specially': 5592, 'containing': 5593, 'advanced': 5594, 'librarian': 5595, 'brandished': 5596, 'duster': 5597, 'hearing': 5598, 'hopeful': 5599, 'surprising': 5600, '“it’d': 5601, 'dentists': 5602, 'emptier': 5603, 'spear': 5604, 'toasting': 5605, 'bread': 5606, 'english': 5607, 'muffins': 5608, 'marshmallows': 5609, 'plotting': 5610, 'teaching': 5611, 'figures': 5612, 'directing': 5613, 'troops': 5614, 'drawback': 5615, 'eve': 5616, 'turnips': 5617, 'scrawled': 5618, 'whittled': 5619, 'message': 5620, 'enclose': 5621, 'fascinated': 5622, '‘what': 5623, 'one’s': 5624, 'knitted': 5625, 'homemade': 5626, 'mine’s': 5627, 'tasty': 5628, 'fluid': 5629, 'folds': 5630, 'cloth': 5631, 'woven': 5632, 'awe': 5633, 'suspended': 5634, 'loopy': 5635, 'merry': 5636, 'signature': 5637, 'sweaters': 5638, '“harry’s': 5639, 'lovely': 5640, 'halfheartedly': 5641, 'observed': 5642, 'gred': 5643, 'forge': 5644, 'disapproving': 5645, 'thickly': 5646, '“christmas': 5647, 'turkeys': 5648, 'platters': 5649, 'chipolatas': 5650, 'tureens': 5651, 'buttered': 5652, 'rich': 5653, 'cranberry': 5654, 'sauce': 5655, 'stacks': 5656, 'flimsy': 5657, 'cracker': 5658, 'bang': 5659, 'engulfed': 5660, 'admiral’s': 5661, 'flowered': 5662, 'bonnet': 5663, 'puddings': 5664, 'embedded': 5665, 'slice': 5666, 'kissing': 5667, 'giggled': 5668, 'lopsided': 5669, 'including': 5670, 'nonexplodable': 5671, 'balloons': 5672, 'warts': 5673, 'kit': 5674, 'norris’s': 5675, 'snowball': 5676, 'spectacularly': 5677, 'crumpets': 5678, 'chase': 5679, 'whoever': 5680, 'father’s…this': 5681, 'flow': 5682, 'smoother': 5683, 'squawked': 5684, 'eerie': 5685, 'supporting': 5686, 'creeps': 5687, 'stepping': 5688, 'rope': 5689, 'separated': 5690, 'spelled': 5691, 'languages': 5692, 'title': 5693, 'stain': 5694, 'volume': 5695, 'balancing': 5696, 'bloodcurdling': 5697, 'unbroken': 5698, 'earsplitting': 5699, 'panicking': 5700, 'shrieking': 5701, 'outstretched': 5702, 'book’s': 5703, 'ringing': 5704, 'directly': 5705, 'somebody’s': 5706, 'drain': 5707, 'shortcut': 5708, 'replied': 5709, 'unused': 5710, 'shapes': 5711, 'upturned': 5712, 'basket': 5713, 'propped': 5714, 'ornate': 5715, 'clawed': 5716, 'inscription': 5717, 'stra': 5718, 'ehru': 5719, 'ube': 5720, 'cafru': 5721, 'wohsi': 5722, 'mirror’s': 5723, 'existed': 5724, 'edging': 5725, 'touching': 5726, 'ache': 5727, 'sadness': 5728, 'fade': 5729, 'crossly': 5730, 'retracing': 5731, 'route': 5732, 'all…there': 5733, 'paisley': 5734, 'image': 5735, 'discussion': 5736, '“no…you': 5737, 'shaves': 5738, 'grandfathers': 5739, '“strange': 5740, 'nearsighted': 5741, 'discovered': 5742, 'delights': 5743, 'happiest': 5744, 'want…whatever': 5745, 'want…”': 5746, 'deepest': 5747, 'overshadowed': 5748, 'sees': 5749, 'knowledge': 5750, 'wasted': 5751, 'entranced': 5752, 'admirable': 5753, '“obviously': 5754, 'woolen': 5755, 'insist': 5756, 'truthful': 5757, 'shoved': 5758, 'personal': 5759, 'umbledore': 5760, 'disappearing': 5761, 'roaming': 5762, 'nights': 5763, 'disappointment': 5764, 'breaks': 5765, 'endless': 5766, 'replaced': 5767, 'dampen': 5768, 'fanatic': 5769, 'muddy': 5770, 'bombing': 5771, 'mud': 5772, '“when’s': 5773, 'refereed': 5774, 'concen—”': 5775, 'sinister': 5776, '“pretend': 5777, 'climb': 5778, 'hop': 5779, '“report': 5780, 'chose': 5781, 'stinking': 5782, 'harry…i': 5783, '…d’you': 5784, '‘dumbledore': 5785, 'flamel’': 5786, 'exchange': 5787, 'mystified': 5788, 'flicking': 5789, 'pages': 5790, '“nicolas': 5791, 'dramatically': 5792, 'maker': 5793, 'effect': 5794, 'legendary': 5795, 'transform': 5796, 'produces': 5797, 'immortal': 5798, 'reports': 5799, 'centuries': 5800, 'existence': 5801, 'belongs': 5802, 'noted': 5803, 'alchemist': 5804, 'opera': 5805, 'lover': 5806, 'celebrated': 5807, 'devon': 5808, 'stops': 5809, 'treating': 5810, 'bites': 5811, 'discussing': 5812, 'them…it’ll': 5813, 'wipe': 5814, 'overtaking': 5815, 'biased': 5816, 'weekly': 5817, 'torture': 5818, 'pep': 5819, 'grim': 5820, 'secretly': 5821, 'using': 5822, 'locomotor': 5823, 'mortis': 5824, 'nag': 5825, 'pressure': 5826, 'capture': 5827, 'favor': 5828, 'somersault': 5829, 'broadly': 5830, 'fixedly': 5831, 'howled': 5832, '“longbottom': 5833, 'poorer': 5834, 'anxiety': 5835, 'word—”': 5836, 'bullet': 5837, 'leaping': 5838, 'scuffles': 5839, 'yelps': 5840, 'triumph': 5841, 'game’s': 5842, 'spilling': 5843, 'lipped': 5844, '“nice': 5845, 'brooding': 5846, 'broomshed': 5847, 'reliving': 5848, 'blur': 5849, 'nosebleed': 5850, 'shed': 5851, 'snape…': 5852, 'figure’s': 5853, 'prowling': 5854, 'circles': 5855, 'brushing': 5856, 'noiselessly': 5857, 'beech': 5858, '“…d': 5859, 'severus…”': 5860, 'mumbling': 5861, 'enemy': 5862, 'you—”': 5863, 'steadied': 5864, 'hocus': 5865, 'pocus': 5866, 'loyalties': 5867, 'thumping': 5868, '‘hocus': 5869, 'pocus’': 5870, 'q': 5871, 'uirrell': 5872, 'paler': 5873, 'thinner': 5874, 'press': 5875, 'growling': 5876, 'encouraging': 5877, 'coding': 5878, 'minded': 5879, '“ten': 5880, 'easter': 5881, 'reciting': 5882, 'longingly': 5883, '“dittany”': 5884, 'shifty': 5885, 'what’re': 5886, 'suspicious': 5887, 'impressively': 5888, 'st—”': 5889, 'shoutin’': 5890, 'promisin’': 5891, 'rabbitin’': 5892, 'aren’': 5893, '“dragons': 5894, 'species': 5895, 'ireland': 5896, 'inferno': 5897, 'keeper’s': 5898, 'laws': 5899, 'outlawed': 5900, 'warlocks’': 5901, 'convention': 5902, '1709': 5903, 'tame': 5904, 'burns': 5905, '“common': 5906, 'welsh': 5907, 'hebridean': 5908, 'blacks': 5909, 'hushing': 5910, 'earth’s': 5911, 'gamekeeper’s': 5912, 'stifling': 5913, 'refused': 5914, 'frowned': 5915, '“o’': 5916, '“number': 5917, 's’ppose': 5918, 'beats': 5919, 'flattering': 5920, 's’pose': 5921, 'that…let’s': 5922, 'me…then': 5923, 'enchantments…professor': 5924, 'protecting': 5925, 'guarded': 5926, 'fiddling': 5927, 'er…”': 5928, '“won': 5929, 'havin’': 5930, 'drinks': 5931, 'honest': 5932, 'hatched': 5933, 'doin’': 5934, 'readin’': 5935, 'pleasure': 5936, 'profit': 5937, 'mothers': 5938, 'em': 5939, 'hatches': 5940, 'humming': 5941, 'stoked': 5942, 'peaceful': 5943, 'skip': 5944, 'doing—”': 5945, 'argued': 5946, 'trowels': 5947, 'greeted': 5948, 'ushered': 5949, 'clicking': 5950, 'bated': 5951, 'spiny': 5952, 'stubs': 5953, 'sneezed': 5954, '“isn’t': 5955, 'stroke': 5956, 'ridgebacks': 5957, '“someone': 5958, 'runnin’': 5959, 'darkened': 5960, '“set': 5961, 'furling': 5962, 'gamekeeping': 5963, 'duties': 5964, 'marbles': 5965, 'dump': 5966, '“charlie': 5967, 'chimed': 5968, 'lullaby': 5969, '“she’ll': 5970, 'hitch': 5971, 'swollen': 5972, 'shade': 5973, '“although': 5974, 'feels': 5975, 'soothe': 5976, 'bandaged': 5977, 'puffed': 5978, '“norbert’s': 5979, 'stage': 5980, '“aargh': 5981, 'boot': 5982, 'playin’': 5983, 'rattle': 5984, 'arriving': 5985, 'tennis': 5986, 'lonely': 5987, '“mommy': 5988, 'shortcuts': 5989, 'forgetting': 5990, 'outlines': 5991, 'grappling': 5992, 'tartan': 5993, 'net': 5994, '“detention': 5995, 'utter': 5996, 'easiest': 5997, 'jig': 5998, 'advised': 5999, 'cheery': 6000, 'harness': 6001, 'rigged': 6002, 'suspend': 6003, 'thanked': 6004, 'going…going…gone': 6005, 'happiness': 6006, 'loomed': 6007, 'hings': 6008, 'excuses': 6009, 'alibis': 6010, 'chased': 6011, 'cornered': 6012, 'drag—”': 6013, 'violently': 6014, 'likely': 6015, 'slippers': 6016, 'cock': 6017, 'bull': 6018, 'blundering': 6019, '“four': 6020, 'receive': 6021, 'dreading': 6022, 'hourglasses': 6023, 'recorded': 6024, 'there’d': 6025, 'popular': 6026, 'admired': 6027, 'longing': 6028, 'insulted': 6029, 'owe': 6030, '“they’ll': 6031, '“they’ve': 6032, 'repair': 6033, 'meddle': 6034, 'resign': 6035, '“resign': 6036, 'good’ll': 6037, 'memorize': 6038, 'rebellions': 6039, 'due': 6040, 'resolution': 6041, 'unexpected': 6042, 'whimpering': 6043, 'sob': 6044, 'straightening': 6045, 'meddling': 6046, 'gambled': 6047, 'spring': 6048, 'testing': 6049, 'kindling': 6050, '“quirrell’s': 6051, 'dumbledore’ll': 6052, 'depended': 6053, 'jupiter': 6054, 'delivered': 6055, 'furor': 6056, 'deserved': 6057, 'lighting': 6058, 'leering': 6059, 'yes…hard': 6060, 'pity': 6061, 'punishments': 6062, 'out…hang': 6063, 'wrists': 6064, 'chains': 6065, 'oiled': 6066, 'needed…right': 6067, 'sniffing': 6068, 'scudding': 6069, 'oaf': 6070, 'mistaken': 6071, 'moan': 6072, '“should’ve': 6073, 'arrows': 6074, '“abou’': 6075, 'waitin’': 6076, 'lecturin’': 6077, '‘snot': 6078, '“yeh’ve': 6079, 'he’d—”': 6080, '“—tell': 6081, '“copyin’': 6082, 'good’s': 6083, 'father’d': 6084, 'gaze': 6085, 'risks': 6086, 'track': 6087, 'shinin’': 6088, 'trail': 6089, 'staggerin’': 6090, 'fang’s': 6091, 'coward': 6092, 'hermione’ll': 6093, 'fang’ll': 6094, 'mossy': 6095, 'stump': 6096, 'can’t’ve': 6097, 'hoisted': 6098, 'arrow': 6099, 'shouldn’': 6100, '“show': 6101, 'horse’s': 6102, 'chestnut': 6103, 'reddish': 6104, 'centaur’s': 6105, 'sorrowful': 6106, '“were': 6107, 'loose': 6108, '“erm': 6109, 'innocent': 6110, 'victims': 6111, '“unusually': 6112, 'meanin’': 6113, 'hides': 6114, 'secrets': 6115, 'bow': 6116, 'bodied': 6117, 'injured': 6118, '“try': 6119, 'stargazers': 6120, 'closer’n': 6121, 'few…': 6122, 'mostly': 6123, 'turnin’': 6124, 'centaurs…they': 6125, 'things…jus’': 6126, 'undergrowth': 6127, 'neville…it’s': 6128, 'sharper': 6129, 'fuming': 6130, 'sneaked': 6131, 'panicked': 6132, 'makin’': 6133, 'changin’': 6134, 'frightenin’': 6135, 'thicker': 6136, 'splashes': 6137, 'inched': 6138, 'slender': 6139, 'freeze': 6140, '…then': 6141, 'stalking': 6142, 'cloaked': 6143, 'animal’s': 6144, '“aaaaaaaaaargh': 6145, 'dribbling': 6146, 'pierced': 6147, 'blinded': 6148, 'staggered': 6149, 'charging': 6150, 'palomino': 6151, 'astonishingly': 6152, 'sapphires': 6153, 'lingering': 6154, 'livid': 6155, 'flanks': 6156, 'heaving': 6157, 'mule': 6158, '“remember': 6159, 'foretold': 6160, 'donkeys': 6161, 'stray': 6162, 'reared': 6163, 'hind': 6164, 'alongside': 6165, 'whisked': 6166, '“why’s': 6167, 'horn': 6168, 'slay': 6169, 'gain': 6170, 'commit': 6171, 'inch': 6172, 'price': 6173, 'slain': 6174, 'defenseless': 6175, 'firenze’s': 6176, 'dappled': 6177, 'death’s': 6178, 'clung': 6179, 'awaiting': 6180, 'unicorn’s': 6181, 'wrongly': 6182, 'cantered': 6183, 'shivering': 6184, 'fouls': 6185, 'voldemort…and': 6186, 'rich…': 6187, 'furious…he': 6188, 'happen…': 6189, 'feverishly': 6190, 'bane’ll': 6191, 'imprecise': 6192, 'branch': 6193, 'exhausted': 6194, 'throats': 6195, 'sweltering': 6196, 'anticheating': 6197, 'practical': 6198, 'pineapple': 6199, 'tapdance': 6200, 'forgetfulness': 6201, 'stabbing': 6202, 'pains': 6203, 'bothering': 6204, 'dripping': 6205, 'foreheads': 6206, 'visiting': 6207, 'fret': 6208, 'answering': 6209, 'batty': 6210, 'selfstirring': 6211, 'flocking': 6212, '1637': 6213, 'code': 6214, 'conduct': 6215, 'uprising': 6216, 'elfric': 6217, 'tickling': 6218, 'tentacles': 6219, 'squid': 6220, 'basking': 6221, 'shallows': 6222, 'warning…it': 6223, 'danger’s': 6224, 'coming…': 6225, 'lets': 6226, 'unsettled': 6227, 'betray': 6228, 'fluffy…never…but…': 6229, '“where’re': 6230, 'grassy': 6231, 'slope': 6232, 'wander': 6233, 'law': 6234, 'shelling': 6235, '“finished': 6236, 'hog’s': 6237, 'dealer': 6238, 'mightn’': 6239, 'hood': 6240, '“mighta': 6241, '“yeah…he': 6242, 'here…he': 6243, 'after…so': 6244, 'him…an’': 6245, 'dragon…an’': 6246, 'then…i': 6247, 'can’': 6248, 'buyin’': 6249, 'drinks…let’s': 6250, 'see…yeah': 6251, 'wanted…but': 6252, 'home…': 6253, 'dogs': 6254, 'fluffy’s': 6255, 'shouldn’ta': 6256, '“forget': 6257, 'hey': 6258, 'where’re': 6259, 'fishy': 6260, 'urgent': 6261, 'demands': 6262, '“something': 6263, 'winds': 6264, 'tumbled': 6265, 'sn—': 6266, 'suspicion': 6267, 'assured': 6268, 'enjoy': 6269, 'sunshine': 6270, '“hanging': 6271, 'wanderings': 6272, 'personally': 6273, '“‘oh': 6274, 'wrong…': 6275, 'separating': 6276, 'stormed': 6277, '“enough': 6278, 'what”': 6279, 'd’you': 6280, 'useful…': 6281, '“flitwick': 6282, 'percent': 6283, 'pocketed': 6284, 'bid': 6285, 'freedom': 6286, 'hurriedly': 6287, 'steeling': 6288, 'exasperation': 6289, '“petrificus': 6290, 'totalus': 6291, 'rigid': 6292, '“what’ve': 6293, 'motionless': 6294, 'omen': 6295, 'statue’s': 6296, 'skulking': 6297, 'lamplike': 6298, 'carpet': 6299, '“know': 6300, 'ghoulie': 6301, 'ghostie': 6302, 'wee': 6303, 'beastie': 6304, 'unseen': 6305, 'bloodiness': 6306, 'greasily': 6307, 'peevsie': 6308, 'scooted': 6309, 'impress': 6310, 'creaked': 6311, '“looks': 6312, 'harp': 6313, 'beast’s': 6314, 'droop': 6315, 'ceased': 6316, 'tottered': 6317, 'smelly': 6318, 'approached': 6319, 'gritted': 6320, 'ring': 6321, 'seconds’': 6322, 'fingertips': 6323, 'flump': 6324, 'thump': 6325, 'sprawled': 6326, 'bark': 6327, 'thing’s': 6328, 'struggle': 6329, 'twist': 6330, 'tendrils': 6331, 'creepers': 6332, 'tighter': 6333, 'curling': 6334, '“devil’s': 6335, 'snare…what': 6336, 'likes': 6337, 'wringing': 6338, 'bluebell': 6339, 'cringed': 6340, 'wriggling': 6341, 'flailing': 6342, 'unraveled': 6343, 'bodies': 6344, 'crisis': 6345, '‘there’s': 6346, 'gentle': 6347, 'drip': 6348, 'trickling': 6349, 'fully': 6350, 'enough…': 6351, 'clinking': 6352, 'know…sounds': 6353, 'brilliantly': 6354, 'arching': 6355, 'tumbling': 6356, 'vicious': 6357, 'once…well': 6358, 'choice…i’ll': 6359, 'beaks': 6360, 'untouched': 6361, 'tugged': 6362, 'alohomora': 6363, 'birds…they': 6364, 'winged': 6365, 'mean…”': 6366, 'squinted': 6367, 'flock': 6368, '“…yes': 6369, 'fashioned': 6370, 'midst': 6371, 'spotting': 6372, 'minute’s': 6373, 'weaving': 6374, 'rainbow': 6375, 'damaged': 6376, 'rocketed': 6377, 'rammed': 6378, 'chessboard': 6379, 'knight’s': 6380, 'helmeted': 6381, 'about…”': 6382, 'pieces…': 6383, '“white': 6384, 'plays': 6385, '“yes…look…”': 6386, 'pawn': 6387, 'diagonally': 6388, 'smashed': 6389, '“had': 6390, '“leaves': 6391, 'limp': 6392, 'think…”': 6393, 'way…i’ve': 6394, 'sacrifices': 6395, 'checkmate': 6396, 'alternative': 6397, 'pounced': 6398, 'spaces': 6399, 'crown': 6400, 'charged': 6401, 'convince': 6402, 'reckon’s': 6403, 'sprout’s': 6404, 'transfigured': 6405, 'watering': 6406, 'larger': 6407, 'tackled': 6408, 'differently': 6409, 'threshold': 6410, 'safety': 6411, 'transport': 6412, 'killers': 6413, 'bidden': 6414, 'forevermore': 6415, 'slyly': 6416, 'wine’s': 6417, 'dwarf': 6418, 'holds': 6419, 'puzzle': 6420, '“everything': 6421, 'swallow': 6422, '“books': 6423, 'cleverness': 6424, 'friendship': 6425, '“positive': 6426, 'wears': 6427, 'flooding': 6428, 'braced': 6429, '“severus': 6430, 'treble': 6431, 'type': 6432, 'overgrown': 6433, 'suspect': 6434, 'st': 6435, 'really…he': 6436, 'unpopular…and': 6437, 'nosy': 6438, 'scurrying': 6439, '“certainly': 6440, 'trolls': 6441, '“trust': 6442, 'this…but': 6443, 'london…i’ll': 6444, 'back…”': 6445, 'concentrating': 6446, 'idly': 6447, 'frighten': 6448, 'side…': 6449, 'stone…i’m': 6450, 'presenting': 6451, 'master…but': 6452, '“heavens': 6453, 'loathed': 6454, 'spasm': 6455, '“sometimes': 6456, 'master’s': 6457, 'instructions': 6458, 'traveled': 6459, 'it…since': 6460, 'served': 6461, 'faithfully': 6462, 'mistakes': 6463, 'displeased': 6464, 'me…decided': 6465, 'trailed': 6466, 'understand…is': 6467, '“use': 6468, 'boy…use': 6469, 'incredibly': 6470, 'lies…he': 6471, 'him…face': 6472, 'face…”': 6473, 'enough…for': 6474, 'this…”': 6475, 'rooting': 6476, 'muscle': 6477, 'slits': 6478, '“mere': 6479, 'vapor…': 6480, 'another’s': 6481, 'body…but': 6482, 'willing': 6483, 'minds…unicorn': 6484, 'strengthened': 6485, 'weeks…you': 6486, 'faithful': 6487, 'create': 6488, 'own…': 6489, 'now…why': 6490, 'surged': 6491, 'me…or': 6492, 'parents…they': 6493, 'begging': 6494, 'mercy…”': 6495, '“liar': 6496, 'touching…”': 6497, 'value': 6498, 'bravery…': 6499, 'brave…i': 6500, 'courageous': 6501, 'fight…but': 6502, 'died…she': 6503, 'you…now': 6504, 'vain': 6505, 'flame': 6506, 'seared': 6507, 'lessened': 6508, 'seize': 6509, 'lunged': 6510, 'pinning': 6511, 'palms': 6512, 'raw': 6513, 'perform': 6514, 'instinct': 6515, '“aaaargh': 6516, 'yells': 6517, '“kill': 6518, 'grasp': 6519, 'blackness': 6520, 'down…down…': 6521, 'down…': 6522, 'swam': 6523, '“calm': 6524, 'linen': 6525, '“tokens': 6526, 'admirers': 6527, 'naturally': 6528, 'misters': 6529, 'responsible': 6530, 'hygienic': 6531, 'confiscated': 6532, 'distracted': 6533, 'prevent': 6534, '–”': 6535, '“destroyed': 6536, 'blankly': 6537, 'stored': 6538, 'affairs': 6539, 'beings': 6540, 'precisely': 6541, 'thinking…sir': 6542, 'increases': 6543, 'share…not': 6544, 'truly': 6545, 'nevertheless': 6546, 'merely': 6547, 'me…things': 6548, 'treated': 6549, 'beg': 6550, '“well…voldemort': 6551, 'day…put': 6552, 'older…i': 6553, 'this…when': 6554, 'sign…to': 6555, 'hatred': 6556, 'marked': 6557, 'sheet': 6558, 'twinkled': 6559, '“useful': 6560, 'things…your': 6561, 'else…”': 6562, '“fire': 6563, 'detest': 6564, 'unlike': 6565, 'dreamily': 6566, 'debt…i': 6567, 'hating': 6568, 'thing…”': 6569, 'otherwise': 6570, 'sometimes…now': 6571, 'unfortunate': 6572, 'youth': 6573, 'vomit': 6574, 'toffee': 6575, 'nurse': 6576, 'pleaded': 6577, 'in…': 6578, 'resting': 6579, 'pomfrey…”': 6580, 'fling': 6581, 'audience': 6582, '“flamel’s': 6583, '‘to': 6584, '‘harry’s': 6585, '“sending': 6586, 'stopping': 6587, 'accident': 6588, 'could…': 6589, 'steamrollered': 6590, 'food’ll': 6591, 'bustled': 6592, 'out”': 6593, 'risky': 6594, 'indoors': 6595, 'chucked': 6596, 'grief': 6597, 'remorse': 6598, 'leaking': 6599, 'sandwich': 6600, 'chuckle': 6601, 'fix': 6602, 'shoulda': 6603, '“sent': 6604, 'photos…knew': 6605, 'any…d’yeh': 6606, 'pomfrey’s': 6607, 'fussing': 6608, 'insisting': 6609, 'checkup': 6610, 'decked': 6611, 'slytherin’s': 6612, 'hush': 6613, 'fortunately': 6614, 'waffle': 6615, 'fuller': 6616, 'were…you': 6617, 'awarding': 6618, 'thus': 6619, 'stamping': 6620, '“however': 6621, 'account': 6622, 'slytherins’': 6623, 'dish': 6624, 'yes…': 6625, 'weasley…”': 6626, 'radish': 6627, 'sunburn': 6628, '“second': 6629, 'granger…for': 6630, '“third': 6631, 'din': 6632, 'gradually': 6633, 'kinds': 6634, 'takes': 6635, 'explosion': 6636, 'nudged': 6637, 'downfall': 6638, 'jot': 6639, 'trolls…he': 6640, 'grades': 6641, 'scraped': 6642, 'abysmal': 6643, 'wardrobes': 6644, 'toilets': 6645, 'boarding': 6646, 'greener': 6647, 'tidier': 6648, 'towns': 6649, 'wizened': 6650, 'gate': 6651, 'twos': 6652, 'threes': 6653, 'alarming': 6654, '“both': 6655, 'squealed': 6656, '“busy': 6657, 'mustached': 6658, 'manner': 6659, 'holiday': 6660, 'spreading': 6661}\n"
          ]
        }
      ],
      "source": [
        "# El índice para cada palabra\n",
        "# El sistema las ordena de las más populares a las menos populares\n",
        "print(tok.word_index)"
      ]
    },
    {
      "cell_type": "code",
      "execution_count": 23,
      "metadata": {
        "colab": {
          "base_uri": "https://localhost:8080/"
        },
        "id": "nUDkjy80c77h",
        "outputId": "9d7dc633-f700-4c49-be71-f2c69aa9f492"
      },
      "outputs": [
        {
          "name": "stdout",
          "output_type": "stream",
          "text": [
            "defaultdict(<class 'int'>, {'perfectly': 5, 'to': 1127, 'such': 20, 'say': 68, 'or': 92, 'people': 81, 'didn’t': 178, 'm': 3, 'much': 72, 'you’d': 15, 'in': 727, 'expect': 13, 'normal': 9, 'and': 1132, 'very': 152, 'anything': 68, 'that': 464, 'mrs': 36, 'you': 566, 'drive': 19, 'they': 402, 'because': 76, 'mysterious': 6, 'proud': 6, 'the': 1596, 'thank': 5, 'involved': 5, 'four': 33, 'dursley': 36, 'be': 311, 'of': 855, 'privet': 15, 'strange': 22, 'number': 15, 'r': 1, 'just': 155, 'nonsense': 4, 'were': 244, 'hold': 11, 'last': 82, 'with': 359, 'twice': 15, 'big': 27, 'he': 881, 'small': 32, 'dudley': 86, 'dursleys': 39, 'so': 187, 'blonde': 2, 'as': 387, 'director': 2, 'neck': 15, 'hardly': 22, 'mustache': 6, 'fences': 1, 'time': 116, 'grunnings': 2, 'she': 176, 'although': 10, 'craning': 2, 'no': 134, 'called': 41, 'finer': 2, 'her': 140, 'had': 463, 'beefy': 1, 'usual': 18, 'mr': 66, 'opinion': 5, 'man': 29, 'large': 46, 'which': 79, 'nearly': 33, 'garden': 6, 'spying': 3, 'anywhere': 6, 'drills': 5, 'a': 1029, 'did': 84, 'over': 154, 'made': 64, 'was': 769, 'any': 61, 'useful': 4, 'neighbors': 2, 'there': 229, 'firm': 2, 'spent': 11, 'amount': 1, 'on': 512, 'their': 171, 'boy': 77, 'came': 71, 'son': 9, 'have': 253, 'thin': 9, 'if': 202, 'but': 377, 'bear': 5, 'shuddered': 3, 'never': 104, 'like': 173, 'secret': 14, 'good': 68, 'keeping': 10, 'him': 386, 'nothing': 46, 'could': 179, 'think': 107, 'another': 51, 'would': 95, 'even': 98, 'fact': 15, 'hadn’t': 53, 'want': 65, 'met': 19, 'years': 46, 'seen': 52, 'potters': 7, 'husband': 1, 'dursley’s': 2, 'away': 68, 'sister': 11, 'undursleyish': 1, 'what': 255, 'for': 315, 'mixing': 2, 'child': 2, 'somebody': 3, 'fear': 9, 'street': 15, 'found': 64, 'this': 204, 'potter': 94, 'knew': 57, 'possible': 12, 'arrived': 17, 'pretended': 3, 'everything': 28, 'reason': 22, 'greatest': 5, 'several': 12, 'anyone': 35, 'discover': 1, 'out': 337, 'about': 197, 'also': 15, 'too': 98, 'it': 694, 'wanted': 43, 'chair': 10, 'into': 193, 'woke': 10, 'story': 10, 'when': 162, 'dull': 2, 'country': 4, 'happening': 4, 'cloudy': 2, 'tie': 1, 'starts': 3, 'up': 329, 'all': 326, 'gossiped': 1, 'tuesday': 3, 'soon': 14, 'suggest': 4, 'outside': 35, 'wrestled': 1, 'gray': 13, 'our': 38, 'happily': 5, 'sky': 13, 'things': 45, 'picked': 16, 'his': 645, 'boring': 3, 'high': 41, 'screaming': 4, 'hummed': 3, 'work': 28, 'most': 27, 'owl': 37, 'past': 42, 'none': 10, 'flutter': 3, 'them': 272, 'tawny': 2, 'noticed': 29, 'window': 32, 'tried': 61, 'eight': 6, 'cereal': 1, 'kiss': 3, 'now': 132, 'half': 34, 'cheek': 4, 'briefcase': 1, 'at': 522, 'throwing': 10, 'pecked': 1, 'bye': 7, 'missed': 4, 'having': 14, 'walls': 16, 'tantrum': 3, 'backed': 3, 'got': 171, 'chortled': 2, 'left': 79, '”': 1646, 'four’s': 1, '“little': 2, 'tyke': 2, 'house': 68, 'car': 18, 'peculiar': 4, 'cats': 6, 'couldn’t': 93, 'sight': 25, 'watched': 21, 'thinking': 13, 'himself': 61, 'town': 5, 'jerked': 10, 'around': 139, 'hoping': 11, 'gave': 36, 'road': 7, 'mind': 47, 'except': 24, 'back': 242, 'must': 54, 'stared': 34, 'put': 58, 'again': 98, 'sign': 14, 'toward': 71, 'standing': 32, 'reading': 4, 'order': 4, 'looking': 108, 'cat': 15, 'light': 24, 'first': 108, 'get': 166, 'day': 55, 'look': 105, 'blinked': 5, 'read': 39, 'maps': 1, 'said': 779, 'map': 3, 'wasn’t': 71, 'then': 151, 'realize': 9, 'second': 41, 'thought': 90, 'head': 94, 'little': 69, 'mirror': 42, '—': 487, 'shake': 6, 'corner': 22, 'signs': 1, 'drove': 4, 'tabby': 4, 'trick': 3, 'been': 179, 'something': 116, 'see': 159, 'an': 122, 'few': 52, 'edge': 11, '—these': 1, 'parking': 3, 'dressed': 6, 'new': 37, 'by': 129, 'emerald': 6, 'together': 20, 'steering': 2, 'seemed': 70, 'enraged': 1, 'collecting': 3, 'later': 43, 'getups': 1, 'eyes': 100, 'morning': 30, 'some': 70, 'sat': 43, 'huddle': 2, 'traffic': 2, 'weren’t': 26, 'green': 30, 'probably': 8, 'fell': 45, 'fashion': 2, 'wheel': 1, 'funny': 26, 'who': 157, 'couple': 8, 'something…yes': 1, 'noticing': 9, 'strangely': 5, 'supposed': 16, 'moved': 22, 'than': 89, 'fingers': 14, 'excitedly': 6, 'jam': 3, 'these': 36, 'cloak': 54, 'lot': 44, 'young': 8, 'else': 33, 'driven': 3, 'struck': 6, 'stupid': 19, 'stunt': 1, 'wearing': 16, 'nerve': 5, 'clothes': 8, 'whispering': 4, 'why': 43, 'close': 18, 'minutes': 25, 'obviously': 12, 'quite': 35, 'help': 28, 'cloaks': 5, 'older': 5, 'weirdos': 1, 'drummed': 1, 'saw': 60, 'silly': 3, 'daylight': 5, 'always': 38, 'gazed': 1, 'across': 37, 'office': 5, 'more': 97, 'down': 164, 'legs': 22, 'bakery': 1, 'calls': 2, 'floor': 53, 'open': 57, 'walk': 12, 'important': 16, 'yelled': 15, 'owls': 16, 'bit': 66, 'mood': 5, 'lunchtime': 2, 'harder': 7, 'nighttime': 3, 'concentrate': 3, 'swooping': 5, 'telephone': 5, 'from': 224, 'five': 31, 'he’d': 117, 'however': 20, 'different': 19, 'stretch': 1, 'bun': 2, 'overhead': 6, 'sped': 8, 'after': 63, 'buy': 12, 'broad': 2, 'might': 52, 'mouthed': 3, 'though': 84, 'ninth': 1, 'until': 45, 'pointed': 21, 'shouted': 29, 'free': 14, 'tin': 1, 'angrily': 7, 'next': 89, 'passed': 20, 'gotten': 21, 'saying': 42, 'eyed': 5, 'doughnut': 1, 'single': 10, 'uneasy': 2, 'know': 185, 'group': 2, 'caught': 38, 'bag': 10, 'baker’s': 1, 'way': 92, 'bunch': 2, 'words': 24, 'clutching': 7, 'heard': 74, 'right': 108, 'that’s': 54, '“the': 42, '—”': 99, 'i': 347, 'harry': 1009, 'yes': 29, '“': 6, 'stopped': 29, 'whisperers': 1, 'dead': 24, 'better': 36, 'flooded': 4, 'looked': 153, 'almost': 45, 'changed': 11, 'being': 38, 'that…but': 1, 'name': 40, 'lots': 8, 'blame': 4, 'thinking…no': 1, 'point': 14, 'seized': 13, 'stroked': 3, 'not': 203, 'home': 17, 'dialing': 1, 'those': 26, 'come': 78, 'receiver': 1, 'unusual': 5, 'dashed': 3, '…': 9, 'secretary': 1, 'sure': 41, 'upset': 4, 'hurried': 14, 'harold': 1, 'finished': 11, 'nephew': 2, 'disturb': 2, 'mention': 8, 'harvey': 1, 'same': 33, 'snapped': 25, 'worrying': 3, 'still': 85, 'afternoon': 15, 'o’clock': 12, 'walked': 45, 'worried': 11, 'door': 98, 'straight': 25, 'someone': 28, 'building': 3, 'knocked': 17, 'stare': 5, 'contrary': 2, 'gone': 49, 'celebrating': 5, 'me': 173, 'should': 39, 'realized': 17, 'ground': 32, 'sir': 24, 'my': 80, 'wide': 15, 'seem': 15, 'seconds': 14, 'dear': 21, '“sorry': 8, 'before': 104, 'squeaky': 1, 'sorry': 23, 'tiny': 14, 'voice': 58, 'yourself': 14, '“don’t': 32, 'happy': 12, 'rejoice': 1, 'passersby': 2, 'smile': 13, 'split': 6, 'today': 15, 'stumbled': 4, 'has': 29, 'violet': 3, 'muggles': 19, 'grunted': 7, 'face': 88, 'old': 54, 'off': 189, 'middle': 12, 'hugged': 3, 'spot': 7, 'stranger': 7, 'hoped': 4, 'muggle': 21, 'stood': 36, 'imagining': 5, 'whatever': 7, 'complete': 4, 'approve': 1, 'rooted': 2, 'rattled': 4, 'set': 25, 'imagination': 2, 'pulled': 52, 'driveway': 1, 'spotted': 11, 'wall': 35, 'its': 62, 'thing': 46, 'sitting': 25, 'one': 223, 'improve': 2, 'markings': 3, 'loudly': 18, '“shoo': 1, 'let': 58, 'trying': 62, 'stern': 4, 'behavior': 1, 'determined': 3, 'wife': 3, 'move': 25, 'wondered': 13, 'pull': 12, 'how': 102, 'living': 11, 'report': 3, 'act': 1, 'problems': 4, 'went': 65, 'normally': 3, 'bed': 41, 'news': 9, 'evening': 13, 'learned': 10, 'nice': 22, '“won’t': 1, 'dinner': 8, 'catch': 22, 'room': 84, 'told': 82, 'word': 16, 'daughter': 1, 'door’s': 1, 'every': 45, 'nation’s': 1, 'hundreds': 11, 'direction': 13, 'explain': 11, 'ever': 55, 'hunt': 1, 'behaving': 3, '“and': 47, 'jim': 1, 'tonight': 19, 'since': 20, 'weather': 3, 'experts': 1, 'night': 42, 'finally': 23, 'pattern': 1, 'flying': 13, 'newscaster': 1, 'suddenly': 69, 'watchers': 1, 'unable': 2, 'birds': 4, 'going': 123, 'unusually': 1, 'bird': 2, 'grin': 6, 'sunrise': 1, 'allowed': 18, 'sightings': 1, 'everywhere': 5, 'are': 132, '“most': 2, 'mcguffin': 1, 'showers': 1, 'sleeping': 3, 'reported': 1, 'phoning': 1, 'far': 22, 'oddly': 2, 'can': 74, 'apart': 13, 'shooting': 4, 'dundee': 1, 'downpour': 1, 'week': 24, 'only': 100, 'don’t': 111, 'rain': 4, 'yesterday': 7, 'stars': 7, 'ted': 1, 'yorkshire': 2, 'folks': 1, '“i': 161, 'perhaps': 17, 'promise': 2, 'tell': 64, 'early': 5, 'kent': 2, 'bonfire': 1, '“well': 45, 'acting': 3, 'promised': 3, 'wet': 4, 'instead': 16, 'it’s': 93, 'viewers': 1, 'weatherman': 1, 'they’ve': 6, 'place': 34, 'frozen': 2, 'whisper': 7, 'armchair': 3, 'britain': 3, 'carrying': 10, 'nervously': 11, 'your': 121, 'lately': 3, 'cups': 2, 'petunia': 51, 'cleared': 6, 'haven’t': 21, 'two': 95, '“er': 12, 'tea': 14, 'throat': 5, 'expected': 12, 'shocked': 7, 'angry': 14, '“no': 38, '“why': 20, 'sharply': 7, '…”': 23, '“owls…shooting': 1, 'mumbled': 5, '“funny': 3, 'stars…and': 1, 'stuff': 14, '“so': 32, 'with…you': 1, 'crowd': 17, 'know…her': 1, 'do': 136, 'thought…maybe…it': 1, 'lips': 9, 'whether': 9, 'sipped': 1, 'decided': 10, 'dare': 11, 'pursed': 1, '“their': 1, 'casually': 4, 'through': 112, 'dudley’s': 18, 'wouldn’t': 47, 'age': 5, 'dared': 3, '“potter': 8, 'suppose': 30, 'stiffly': 4, 'howard': 1, 'isn’t': 21, '“what’s': 17, 'ask': 32, 'nasty': 14, 'common': 22, '“harry': 28, 'sinking': 2, 'agree': 2, '“oh': 55, '“yes': 30, 'heart': 25, 'horribly': 3, 'upstairs': 13, 'crept': 11, 'bathroom': 5, 'bedroom': 6, 'while': 55, 'subject': 3, 'front': 50, 'staring': 22, 'waiting': 19, 'peered': 7, 'well': 58, 'pair': 16, 'related': 1, 'turned': 77, 'kind': 10, 'quickly': 43, 'mixed': 4, 'near': 16, 'asleep': 20, 'awake': 8, 'affect': 1, 'lay': 17, 'comforting': 2, 'turning': 16, 'yawned': 2, 'wrong': 17, 'swooped': 7, 'midnight': 9, 'nor': 6, 'quiver': 3, 'slammed': 7, 'showing': 7, 'drifting': 1, 'statue': 3, 'unblinkingly': 2, 'sleepiness': 1, 'sleep': 17, 'fixed': 6, 'watching': 18, 'silently': 7, 'cat’s': 1, 'popped': 2, 'appeared': 11, 'narrowed': 2, 'twitched': 5, 'tail': 14, 'silver': 32, 'long': 65, 'both': 31, 'blue': 12, 'least': 11, 'tall': 12, 'sparkling': 4, 'crooked': 2, 'judging': 1, 'belt': 1, 'dumbledore': 126, 'tuck': 1, 'bright': 19, 'spectacles': 2, 'enough': 43, 'hair': 34, 'robes': 26, 'heeled': 1, 'purple': 14, 'behind': 74, 'buckled': 1, 'nose': 30, 'albus': 11, 'moon': 6, 'boots': 5, 'beard': 12, 'swept': 2, 'man’s': 3, 'broken': 13, 'muttered': 21, 'where': 87, 'rummaging': 2, 'busy': 10, 'chuckled': 7, 'other': 87, 'end': 46, 'unwelcome': 1, 'known': 12, 'amuse': 2, 'clicked': 5, 'slipped': 10, 'cigarette': 1, 'flicked': 3, 'inside': 55, 'spoke': 19, 'times': 17, 'beady': 2, 'whole': 33, 'pinpricks': 1, 'held': 22, 'lamp': 13, 'lighter': 2, 'darkness': 7, 'air': 45, 'nearest': 6, 'outer': 2, 'able': 26, 'distance': 4, 'twelve': 18, 'flickered': 2, 'pocket': 14, 'lights': 5, 'pop': 5, 'pavement': 1, 'moment': 47, 'professor': 150, 'seeing': 4, 'mcgonagall': 90, '“fancy': 1, 'here': 104, 'severe': 1, 'black': 55, 'glasses': 15, 'shape': 3, 'exactly': 21, 'rather': 22, 'drawn': 2, 'distinctly': 1, 'smiling': 20, 'tight': 9, 'ruffled': 4, 'woman': 17, 'square': 2, 'asked': 58, '“how': 24, 'sit': 9, 'i’ve': 52, '“my': 11, 'stiff': 2, '“you’d': 6, 'brick': 3, 'feasts': 2, 'parties': 2, '“all': 23, 'dozen': 3, 'sniffed': 4, 'dedalus': 4, 'bound': 4, '—even': 1, 'i’ll': 29, 'dursleys’': 8, 'flocks': 1, 'notice': 8, 'sense': 4, 'impatiently': 3, 'they’d': 35, 'owls…shooting': 1, 'something’s': 3, 'careful': 10, 'diggle': 3, 'stars…well': 1, 'dark': 60, 'completely': 5, 'bet': 13, 'they’re': 33, '“we’ve': 16, 'can’t': 53, '“you': 78, 'celebrate': 2, 'precious': 2, 'gently': 6, 'eleven': 16, '“but': 62, 'irritably': 3, 'lose': 13, 'rumors': 3, 'downright': 2, 'streets': 2, 'heads': 18, 'swapping': 1, 'careless': 2, 'glance': 3, 'fine': 6, 'us': 69, '“a': 18, 'sharp': 12, 'sideways': 4, 'seems': 7, 'disappeared': 17, 'really': 61, 'threw': 17, '“we': 26, '“it': 26, 'thankful': 1, 'lemon': 7, 'care': 7, 'drop': 8, 'certainly': 7, 'sweet': 4, 'fond': 2, 'i’m': 62, 'drops': 3, 'coldly': 4, '“as': 3, 'flinched': 1, 'unsticking': 1, '‘you': 1, 'surely': 3, 'persuade': 2, '’': 4, 'confusing': 2, 'frightened': 5, 'call': 16, 'keep': 51, 'person': 7, 'who’': 1, 'voldemort': 24, 'voldemort’s': 7, 'gets': 9, 'we': 106, 'sensible': 1, 'proper': 5, 'oh': 9, 'admiring': 3, 'knows': 20, 'everyone': 44, 'sounding': 7, 'exasperated': 1, 'you’re': 38, '“voldemort': 2, 'will': 68, 'flatter': 1, 'powers': 3, 'calmly': 3, '“only': 5, 'noble': 2, 'use': 23, '“it’s': 43, 'liked': 14, 'lucky': 13, 'pomfrey': 12, 'madam': 33, 'blushed': 2, 'earmuffs': 1, 'he’s': 51, 'shot': 11, 'true': 13, 'discuss': 1, 'cold': 26, 'anxious': 2, 'real': 11, 'answer': 21, 'choosing': 2, 'believe': 21, 'reached': 36, 'hard': 28, 'plain': 3, 'neither': 10, 'piercing': 4, '“everyone”': 1, 'rumor': 1, 'godric’s': 1, 'james': 4, 'pressed': 7, 'hollow': 1, '“is': 10, 'lily': 4, 'find': 53, 'is': 138, '“what': 62, 'bowed': 9, 'gasped': 20, '“lily': 1, 'james…i': 1, 'it…i': 1, 'albus…”': 1, 'it…oh': 1, 'know…i': 1, 'know…”': 2, 'shoulder': 14, 'heavily': 4, 'patted': 2, 'power': 8, 'broke': 11, '“that’s': 23, 'potter’s': 7, 'mcgonagall’s': 6, 'somehow': 13, 'kill': 16, 'trembled': 3, 'nodded': 10, 'glumly': 1, 'astounding…of': 1, 'survive': 1, 'killed…he': 1, 'done…all': 1, 'faltered': 1, '“after': 2, 'him…but': 1, 'heaven': 2, 'stop': 39, 'may': 9, 'guess': 3, 'handkerchief': 5, 'beneath': 6, '“hagrid’s': 3, 'odd': 13, 'examined': 3, 'golden': 10, 'i’d': 22, 'moving': 8, 'late': 15, 'watch': 17, 'numbers': 2, 'great': 64, 'dabbed': 1, 'hands': 32, 'took': 61, 'sniff': 1, 'planets': 6, 'lace': 1, 'places': 5, '“i’ve': 19, 'family': 27, 'bring': 5, 'aunt': 60, 'uncle': 109, 'feet': 50, 'jumping': 3, 'cried': 11, 'mother': 28, 'mean': 32, '“dumbledore': 3, 'pointing': 18, 'kicking': 1, '–': 18, 'live': 11, 'less': 9, 'sweets': 7, 'best': 32, 'written': 11, '“his': 2, 'firmly': 3, 'letter': 44, 'surprised': 7, 'legend': 1, 'repeated': 6, 'future': 2, 'world': 21, 'books': 35, 'famous': 21, '“really': 3, 'he’ll': 11, 'understand': 16, 'faintly': 2, 'seriously': 2, 'won’t': 22, 'growing': 1, 'top': 34, 'turn': 18, '“exactly': 1, 'remember': 32, 'talk': 21, 'ready': 13, 'boy’s': 2, 'take': 58, 'swallowed': 8, 'hiding': 7, 'getting': 33, 'course': 43, 'underneath': 11, 'opened': 19, 'mouth': 21, 'bringing': 5, 'wise': 3, 'trust': 6, 'hagrid': 291, 'life': 38, 'grudgingly': 1, 'pretend': 3, 'does': 23, '“i’m': 48, 'tend': 1, 'steadily': 1, 'swelled': 2, 'low': 15, 'sound': 18, 'motorcycle': 8, 'roar': 3, 'rumbling': 3, 'louder': 1, 'silence': 14, 'huge': 19, 'grew': 5, 'landed': 11, 'headlight': 1, 'simply': 8, 'trash': 5, 'hid': 2, 'vast': 3, 'leather': 4, 'arms': 23, 'size': 10, 'astride': 1, 'baby': 10, 'dolphins': 1, 'holding': 26, 'muscular': 1, 'bundle': 5, 'bushy': 3, 'blankets': 6, 'lids': 1, 'wild': 14, 'tangles': 1, '“at': 2, 'relieved': 6, '“hagrid': 18, 'lent': 4, 'carefully': 13, 'sirius': 2, 'giant': 23, 'climbing': 3, '“borrowed': 1, '“young': 1, 'bristol': 1, 'started': 47, 'flyin’': 1, 'destroyed': 3, 'swarmin’': 1, 'jet': 4, 'forward': 33, 'under': 37, 'fast': 20, 'cut': 8, 'visible': 2, 'tuft': 1, 'shaped': 4, 'bent': 14, 'lightning': 6, 'bolt': 4, 'forehead': 12, 'curiously': 5, 'whispered': 35, 'forever': 5, 'scar': 17, '“he’ll': 4, '“couldn’t': 2, 'perfect': 6, 'knee': 4, 'we’d': 9, '“even': 2, 'scars': 2, 'above': 16, 'underground': 7, 'give': 25, 'myself': 11, 'handy': 1, 'london': 13, 'wounded': 1, 'shaggy': 2, '“could': 4, 'scratchy': 1, 'whiskery': 1, 'howl': 1, 'dog': 20, '“shhh': 1, 'hissed': 7, '“you’ll': 7, 'wake': 9, 's': 2, 'ter': 52, '“s': 1, 'sobbed': 4, 'burying': 1, 'taking': 18, 'c': 4, 'poor': 8, 'stand': 16, '—lily': 1, 'an’': 48, 'dumbledore’s': 16, 'usually': 11, 'hagrid’s': 29, 'three': 71, 'stepped': 18, 'shoulders': 7, 'furiously': 11, 'doorstep': 2, 'sad': 3, 'full': 37, 'harry’s': 104, 'shone': 4, 'gingerly': 1, 'grip': 3, 'tucked': 3, 'we’ll': 24, 'arm': 19, 'patting': 3, 'twinkling': 2, 'laid': 3, 'shook': 18, 'minute': 14, 'we’ve': 23, 'business': 10, 'join': 6, 'go': 112, 'celebrations': 1, 'staying': 3, 'bike': 4, '“i’ll': 11, 'g’night': 1, 'muffled': 3, 'takin’': 3, '“yeah': 13, 'swung': 14, 'kicked': 7, 'rose': 11, 'jacket': 3, 'wiping': 5, 'onto': 37, 'streaming': 2, 'sleeve': 4, 'engine': 3, 'reply': 1, 'blew': 6, 'shall': 6, 'nodding': 4, 'lamps': 1, 'glowed': 2, 'make': 46, 'balls': 9, 'step': 11, 'orange': 4, 'once': 69, 'slinking': 1, 'luck': 10, '“good': 17, 'heel': 2, 'murmured': 7, 'swish': 2, 'special': 7, 'hand': 68, 'hushed': 2, 'waking': 1, 'milk': 1, 'knowing': 8, 'happen': 10, 'scream': 3, 'spend': 2, 'pinched': 1, 'breeze': 2, 'hedges': 1, 'rolled': 11, '“to': 4, 'inky': 1, 'beside': 4, 'neat': 5, 'cousin': 3, 'slept': 3, 'meeting': 5, 'bottles': 7, 'tidy': 2, 'lived': 7, 'astonishing': 3, 'closed': 5, 'prodded': 2, 'hours’': 1, 'weeks': 10, 'voices': 5, 'without': 40, 'woken': 4, 'silent': 9, \"sorcerer's\": 16, 'hp': 16, '1': 24, 'stone': 81, 'chapter': 16, 'vanishing': 2, 'glass': 20, 'bicycle': 1, 'fair': 4, 'father': 26, 'n': 3, 'brass': 5, 'mantelpiece': 1, 'lit': 8, 'pictures': 1, 'showed': 15, 'riding': 1, 'colored': 2, 'ball': 10, 'sun': 5, 'ago': 13, 'fateful': 1, 'computer': 6, 'pink': 14, 'beach': 1, 'carousel': 1, 'game': 17, 'photographs': 4, 'kissed': 2, 'gardens': 1, 'blond': 4, 'longer': 3, 'playing': 14, 'ten': 26, 'bonnets': 1, 'noise': 22, 'shrill': 1, 'yet': 34, '“up': 2, 'start': 20, 'rapped': 2, 'kitchen': 14, 'dream': 9, 'screeched': 2, 'feeling': 24, 'pan': 1, 'walking': 14, 'frying': 2, 'stove': 1, 'demanded': 3, '“are': 14, '“nearly': 3, 'burn': 1, 'birthday': 14, 'bacon': 7, 'duddy’s': 1, 'groaned': 5, '“nothing': 9, 'nothing…”': 1, 'used': 16, 'slowly': 19, 'spider': 1, 'spiders': 2, 'cupboard': 22, 'stairs': 10, 'forgotten': 15, 'socks': 5, 'pulling': 9, 'punching': 2, 'hidden': 10, 'unless': 6, 'hated': 9, 'mystery': 1, 'table': 40, 'exercise': 2, 'television': 10, 'racing': 10, 'fat': 20, 'favorite': 6, 'hall': 45, 'presents': 9, 'often': 7, 'tape': 4, 'scotch': 1, 'asking': 8, 'punched': 1, 'skinnier': 1, 'wear': 3, 'knees': 12, 'appearance': 2, 'round': 22, 'bigger': 3, 'question': 10, 'smaller': 3, 'skinny': 2, 'wore': 5, 'own': 32, 'knobbly': 3, '“in': 4, 'parents': 19, 'died': 16, 'questions': 14, 'crash': 8, 'quiet': 13, 'rule': 6, 'vernon': 96, 'entered': 7, 'barked': 5, 'greeting': 1, '“comb': 1, 'newspaper': 7, 'haircuts': 1, 'class': 23, 'rest': 25, 'needed': 8, 'haircut': 2, 'difference': 6, 'boys': 14, 'watery': 1, 'wig': 2, 'thick': 13, 'smoothly': 2, 'angel': 1, 'pig': 4, 'eggs': 5, 'egg': 10, 'plates': 6, 'counting': 3, 'difficult': 11, 'meanwhile': 5, 'six': 13, 'year': 31, '“thirty': 2, '“darling': 1, 'daddy': 1, 'present': 5, 'counted': 4, 'mummy': 2, 'marge’s': 1, 'auntie': 2, 'began': 23, 'coming': 32, 'wolfing': 1, 'red': 29, 'case': 12, 'thirty': 6, 'seven': 23, 'popkin': 1, 'right”': 1, 'scented': 1, 'we’re': 29, 'how’s': 1, 'danger': 4, 'sweetums': 1, 'nine': 17, 'parcel': 8, 'grabbed': 12, '’atta': 1, 'wants': 7, 'worth': 8, 'money’s': 1, 'gold': 28, 'rang': 6, 'sixteen': 3, 'vcr': 2, 'airplane': 2, 'wristwatch': 1, 'control': 6, 'remote': 2, 'camera': 3, 'ripping': 2, 'paper': 13, 'games': 2, 'video': 3, 'unwrap': 4, 'leg': 18, '“bad': 1, 'figg’s': 3, '“mrs': 2, 'friend': 11, 'adventure': 5, 'parks': 1, 'horror': 11, 'hamburger': 4, 'leap': 3, 'lady': 8, 'cabbage': 2, 'restaurants': 2, 'figg': 4, 'she’d': 10, 'smelled': 4, 'mad': 15, 'owned': 4, 'movies': 1, 'tibbles': 1, 'planned': 1, 'easy': 11, 'reminded': 10, 'tufty': 1, 'snowy': 5, 'ought': 4, 'feel': 20, '“now': 23, 'paws': 2, 'phone': 1, 'marge': 3, 'suggested': 8, 'hates': 2, 'slug': 2, 'yvonne': 1, 'what’s': 20, '“on': 1, 'majorca': 1, 'vacation': 2, 'leave': 18, 'maybe': 14, 'change': 9, 'hopefully': 2, 'snarled': 8, 'ruins': 1, 'listening': 11, 'blow': 3, 'zoo': 7, '“…and': 2, 'car’s': 1, 'alone': 20, '“that': 16, 'wailed': 3, 'screwed': 2, 'crying': 7, 'cry': 8, 'spoil': 2, 'flinging': 1, 'duddydums': 1, '“dinky': 1, '“i…don’t…want…him…t': 1, '“he': 22, 'between': 22, 'gap': 2, 'mother’s': 5, 'spoils': 1, 'sobs': 1, 'sp': 1, 't': 8, 'piers': 12, 'doorbell': 1, 'polkiss': 2, 'people’s': 5, 'lord': 4, 'frantically': 4, 'backs': 3, 'pretending': 5, 'hit': 13, 'scrawny': 2, 'rat': 6, 'aside': 4, 'hour': 13, 'taken': 27, 'you’ll': 25, 'putting': 5, 'warning': 5, 'christmas': 22, '“honestly…”': 1, 'happened': 30, 'telling': 17, 'problem': 4, 'baggy': 2, 'sleepless': 1, 'tired': 6, 'bangs': 2, 'already': 43, 'given': 19, 'horrible': 18, 'scissors': 1, 'sheared': 1, 'bald': 5, 'taped': 2, 'hide': 6, 'short': 5, 'laughed': 8, 'barbers': 1, 'grown': 6, 'school': 62, 'force': 8, 'brown': 9, 'puff': 1, 'relief': 9, 'fitted': 4, 'puppet': 1, 'fit': 3, 'shrunk': 1, 'become': 8, 'punished': 4, 'wash': 2, 'revolting': 2, 'sweater': 10, 'else’s': 2, 'surprise': 10, 'roof': 4, 'terrible': 15, 'trouble': 28, 'chimney': 2, 'mid': 2, 'buildings': 1, 'received': 4, 'doors': 12, 'headmistress': 2, 'locked': 10, 'jump': 8, 'chasing': 3, 'wind': 9, 'gang': 4, 'cans': 1, 'kitchens': 4, 'smelling': 1, 'somewhere': 23, 'spending': 1, 'complain': 5, 'bank': 3, 'subjects': 2, 'council': 1, 'complained': 5, 'motorcycles': 1, 'hoodlums': 1, 'along': 31, '“…roaring': 1, 'overtook': 1, 'maniacs': 1, 'remembering': 2, 'beet': 1, '“motorcycles': 1, 'crashed': 4, 'gigantic': 3, 'fly': 9, 'seat': 17, 'sniggered': 2, 'cartoon': 1, 'ideas': 3, 'dangerous': 10, 'matter': 14, 'talking': 28, 'wished': 8, 'shouldn’t': 10, 'creams': 2, 'remarkably': 1, 'bought': 9, 'families': 11, 'ice': 9, 'entrance': 10, 'cheap': 1, 'sunny': 2, 'chocolate': 16, 'saturday': 7, 'bad': 26, 'gorilla': 1, 'licking': 3, 'hurry': 9, 'either': 23, 'crowded': 4, 'scratching': 3, 'van': 1, 'ate': 3, 'fall': 11, 'glory': 2, 'knickerbocker': 1, 'restaurant': 1, 'finish': 4, 'animals': 4, 'hitting': 3, 'starting': 10, 'bored': 3, 'hobby': 1, 'cream': 3, 'felt': 46, 'afterward': 2, 'largest': 1, 'crushing': 1, 'snakes': 1, 'sorts': 4, 'poisonous': 2, 'body': 13, 'vernon’s': 11, 'lizards': 1, 'wrapped': 7, 'bits': 5, 'cobras': 1, 'wood': 48, 'pythons': 1, 'crawling': 2, 'lunch': 3, 'cool': 3, 'reptile': 3, 'windows': 10, 'slithering': 5, 'crushed': 1, 'snake': 17, 'glistening': 1, 'coils': 1, 'against': 33, '“make': 4, 'budge': 2, 'whined': 1, 'tapped': 5, 'smartly': 1, '“do': 16, 'ordered': 3, 'snoozed': 1, 'knuckles': 2, '“this': 17, 'shuffled': 4, 'moaned': 6, 'drumming': 1, 'intently': 1, 'worse': 12, 'itself': 6, 'boredom': 1, 'hammering': 2, 'tank': 3, 'visit': 7, 'company': 2, 'visitor': 2, 'raised': 19, 'level': 3, 'winked': 5, 'ceiling': 20, 'plainly': 2, 'annoying': 2, 'hear': 32, 'vigorously': 2, '“where': 7, 'anyway': 24, 'jabbed': 2, 'boa': 5, 'brazil': 2, 'constrictor': 4, '“was': 1, 'you’ve': 24, 'specimen': 1, 'bred': 1, 'shout': 4, 'doing': 33, 'deafening': 3, '“dudley': 2, 'waddling': 1, 'howls': 2, 'leaning': 5, '“out': 4, 'concrete': 1, 'ribs': 3, 'leapt': 14, 'rapidly': 1, 'exits': 1, 'screamed': 13, 'running': 13, 'throughout': 1, 'uncoiling': 1, 'constrictor’s': 1, 'vanished': 6, 'thanksss': 1, 'amigo': 1, 'hissing': 4, 'swiftly': 3, '“brazil': 1, 'sworn': 2, 'slid': 9, 'shock': 11, 'keeper': 8, 'kept': 34, 'done': 41, 'snap': 2, 'calming': 1, 'bitten': 3, 'gibber': 1, 'squeeze': 1, 'strong': 3, 'apologized': 1, 'heels': 1, 'death': 10, 'playfully': 1, 'cup': 19, 'swearing': 1, 'worst': 5, 'managed': 20, 'safely': 7, 'waited': 7, 'run': 17, 'collapsed': 5, 'meals': 1, 'speak': 19, '“go': 13, 'stay': 21, 'brandy': 4, 'wishing': 4, 'risk': 3, 'sneaking': 4, 'food': 10, 'burning': 4, 'sometimes': 6, 'pain': 14, 'strained': 3, 'memory': 2, 'vision': 1, 'imagine': 6, 'miserable': 2, 'during': 10, 'blinding': 3, 'forbidden': 8, 'flash': 7, 'hours': 7, 'shaken': 3, 'merrily': 4, 'younger': 4, 'dreamed': 3, 'coat': 11, 'weirdest': 1, 'vanish': 2, 'rushed': 8, 'shopping': 2, 'bus': 1, 'strangers': 1, 'relation': 1, 'actually': 2, 'unknown': 2, 'hat': 31, 'shop': 15, 'closer': 11, 'waved': 10, 'buying': 3, 'nobody': 11, 'disagree': 1, 'everybody': 6, 'letters': 20, 'summer': 8, 'longest': 1, 'crutches': 1, 'punishment': 2, 'brazilian': 1, 'escape': 3, 'earned': 1, 'holidays': 10, 'crossed': 7, 'leader': 1, 'hunting': 1, 'malcolm': 1, 'biggest': 3, 'dennis': 1, 'stupidest': 1, 'gordon': 1, 'sport': 2, 'escaping': 2, 'glad': 11, 'visited': 3, 'ray': 2, 'september': 4, 'private': 3, 'stonewall': 4, 'local': 1, 'hope': 19, 'accepted': 2, 'smeltings': 3, 'wandering': 8, 'secondary': 1, 'public': 2, 'practice': 13, 'toilet': 7, '“want': 4, '“they': 10, 'thanks': 8, 'sick': 7, 'ran': 19, 'toilet’s': 1, 'tasted': 2, 'uniform': 7, 'cake': 7, 'july': 3, 'tripping': 1, 'leaving': 12, 'paraded': 1, 'hats': 3, 'brand': 1, 'smeltings’': 1, 'teachers': 14, 'sticks': 5, 'maroon': 3, 'tailcoats': 1, 'training': 6, 'each': 31, 'boaters': 1, 'carried': 9, 'flat': 10, 'straw': 1, 'knickerbockers': 2, 'dudleykins': 1, 'proudest': 1, 'burst': 11, 'tears': 7, 'handsome': 2, 'cracked': 2, 'gruffly': 3, 'laugh': 6, 'ickle': 4, 'metal': 3, 'sink': 2, 'rags': 1, 'breakfast': 11, 'tub': 1, 'smell': 12, 'water': 9, 'dirty': 4, 'swimming': 2, 'tightened': 2, '“your': 4, 'bowl': 4, 'it’ll': 4, 'dyeing': 1, 'skin': 5, 'argue': 4, 'elephant': 1, 'doubted': 1, 'banged': 2, 'stick': 9, 'wrinkled': 2, 'smelting': 7, 'noses': 7, 'mail': 14, 'slot': 3, 'flop': 1, 'doormat': 3, 'click': 1, '“get': 8, '“poke': 1, 'envelope': 9, 'dodged': 4, 'bill': 5, 'wight': 1, 'postcard': 3, 'vacationing': 1, 'isle': 1, 'rude': 4, 'relatives': 1, 'mistake': 9, 'notes': 7, 'twanging': 1, 'belong': 3, 'elastic': 1, 'addressed': 4, 'friends': 14, 'band': 1, 'library': 23, 'h': 9, '4': 3, 'whinging': 1, 'surrey': 1, 'address': 3, 'yellowish': 3, 'ink': 4, 'heavy': 12, 'stamp': 4, 'parchment': 9, 'eagle': 3, 'trembling': 8, 'lion': 3, 'wax': 2, 'bearing': 1, 'badger': 1, 'seal': 1, 'surrounding': 2, '“hurry': 3, 'joke': 7, 'checking': 3, 'bombs': 1, 'handed': 9, 'yellow': 6, 'disgust': 2, 'ripped': 4, 'snorted': 2, 'flipped': 2, '“ate': 1, 'informed': 2, 'whelk': 1, 'ill': 5, '“marge’s': 1, '“dad': 2, 'unfolding': 2, 'snatch': 1, 'mine': 5, 'grayish': 1, '“who’d': 1, 'faster': 5, 'glancing': 4, 'within': 3, 'porridge': 2, 'writing': 4, 'shaking': 13, 'sneered': 2, 'white': 31, 'p': 6, '“p': 3, 'choking': 2, 'clutched': 4, 'line': 12, 'grab': 6, 'faint': 5, 'reach': 2, 'goodness': 3, '“vernon': 2, 'tap': 4, 'ignored': 7, 'seeming': 1, 'croaked': 3, 'stuffing': 2, '“let': 4, 'furious': 8, 'stomach': 6, 'scruffs': 1, 'necks': 4, 'won': 14, 'promptly': 1, 'roared': 4, 'listen': 10, 'keyhole': 3, 'ear': 10, 'slamming': 2, 'crack': 6, 'dangling': 3, 'fight': 8, 'possibly': 5, '“look': 15, 'sleeps': 1, 'quivering': 4, '“watching': 1, 'wildly': 4, 'following': 9, 'write': 2, 'shiny': 4, 'shoes': 2, 'pacing': 1, 'answer…yes': 1, 'anything…”': 1, 'ignore': 3, 'best…we': 1, 'swear': 1, '“who’s': 6, 'squeezed': 4, '“where’s': 3, 'burned': 2, 'shortly': 4, 'breaths': 1, 'painful': 3, 'deep': 15, 'forced': 5, '“silence': 1, 'it…we': 1, 'thinking…you’re': 1, '“take': 3, 'birdcage': 1, 'neighbor’s': 1, 'visitors': 1, 'parrot': 1, 'rifle': 2, 'program': 1, 'lying': 12, 'month': 4, 'canceled': 1, 'shelves': 6, 'swapped': 2, 'bedrooms': 1, 'touched': 7, 'toys': 2, 'foot': 13, 'trip': 4, 'working': 10, 'shelf': 3, 'there…i': 1, 'need': 28, 'downstairs': 4, 'room…make': 1, 'bawling': 1, 'stretched': 6, 'sighed': 8, 'greenhouse': 1, 'darkly': 6, 'purpose': 5, 'thrown': 6, 'tortoise': 1, 'whacked': 1, 'bitterly': 3, 'smallest': 4, '“there’s': 13, '—’”': 1, '‘mr': 1, 'banging': 2, 'wrestle': 1, 'gasping': 2, 'confused': 4, 'strangled': 1, 'fighting': 6, 'straightened': 2, 'breath': 15, 'wheezed': 1, 'plan': 4, 'try': 38, 'fail': 2, 'meant': 8, 'repaired': 1, 'mustn’t': 3, 'stole': 3, 'alarm': 2, 'clock': 4, 'postman': 1, 'hammered': 1, 'wait': 19, '“aaaaarrrgh': 1, 'trodden': 2, 'squashy': 4, 'alive': 8, 'miserably': 5, 'uncle’s': 1, 'making': 18, 'lap': 4, 'clearly': 11, 'tearing': 3, 'pieces': 7, 'stayed': 7, 'nailed': 1, 'they’ll': 8, 'deliver': 3, 'nails': 2, 'explained': 5, '“if': 21, 'mouthful': 2, '“see': 13, 'that’ll': 4, 'knock': 8, 'minds': 4, 'fruitcake': 1, 'nail': 1, 'ways': 7, 'piece': 9, 'brought': 17, 'sides': 3, 'friday': 4, 'slotted': 1, 'pushed': 16, 'hammer': 1, 'noises': 2, 'jumped': 13, 'cracks': 2, 'boarded': 2, 'worked': 7, '“tiptoe': 1, 'tulips”': 1, 'twenty': 11, 'post': 2, 'processor': 1, 'milkman': 1, 'dairy': 1, 'shredded': 1, '“who': 6, 'amazement': 4, 'badly': 5, 'earth': 10, 'sunday': 1, 'sundays': 1, 'newspapers': 1, 'cheerfully': 3, 'damn': 1, 'spread': 3, 'marmalade': 3, 'whizzing': 1, 'ducked': 2, 'fireplace': 4, 'pelting': 2, 'forty': 2, 'bullets': 1, 'waist': 3, 'bouncing': 2, 'faces': 13, 'shut': 15, 'arguments': 1, 'pack': 6, 'tufts': 1, 'speeding': 5, 'highway': 1, 'missing': 4, 'wrenched': 3, 'sniffling': 1, 'sports': 1, 'opposite': 9, '’em': 2, 'mutter': 3, 'whenever': 2, '“shake': 1, 'off…shake': 1, 'hungry': 5, 'howling': 6, 'nightfall': 1, 'eat': 9, 'drink': 9, 'blowing': 2, 'programs': 1, 'alien': 1, 'hotel': 3, 'shared': 2, 'twin': 9, 'passing': 7, 'outskirts': 1, 'snored': 1, 'damp': 8, 'cars': 1, 'musty': 1, 'beds': 2, 'wondering': 11, 'sheets': 5, 'city': 1, 'windowsill': 2, 'gloomy': 4, 'owner': 1, 'stale': 1, 'cornflakes': 1, 'tomatoes': 1, 'tinned': 1, 'toast': 4, 'desk': 6, '“’scuse': 1, '’undred': 1, '17': 1, 'railview': 1, 'cokeworth': 1, 'dining': 1, '“wouldn’t': 1, 'plowed': 1, 'field': 14, 'suspension': 1, 'forest': 30, 'timidly': 2, 'multilevel': 1, 'bridge': 1, 'garage': 1, 'halfway': 8, 'hasn’t': 6, '“daddy’s': 1, 'parked': 1, 'dully': 1, 'coast': 1, 'sniveled': 1, 'beat': 4, 'monday': 2, 'humberto’s': 1, 'birthdays': 1, 'eleventh': 1, 'days': 11, 'count': 2, 'fun': 8, 'tomorrow': 10, 'hanger': 1, 'package': 13, '“come': 14, '“found': 1, 'rock': 10, 'certain': 1, 'shack': 2, 'sea': 7, 'perched': 4, 'boat': 9, 'kindly': 2, 'gleefully': 1, '“storm': 1, 'forecast': 1, 'agreed': 10, 'clapping': 5, 'gentleman’s': 1, 'lend': 1, 'wicked': 3, 'iron': 3, 'rowboat': 1, 'toothless': 2, 'below': 6, 'ambling': 1, 'bobbing': 4, 'aboard': 1, 'rations': 2, 'whipped': 4, 'led': 8, 'spray': 2, 'chilly': 1, 'icy': 4, 'slipping': 3, 'freezing': 3, 'sliding': 3, 'strongly': 4, 'whistled': 3, 'rooms': 2, 'gaps': 1, 'empty': 23, 'wooden': 8, 'seaweed': 1, 'smoked': 1, 'chip': 2, 'chips': 1, 'bags': 4, 'shriveled': 2, 'bananas': 1, 'fire': 32, 'eh': 13, 'chance': 10, 'cheer': 6, 'privately': 2, 'reaching': 3, 'storm': 9, 'fierce': 4, 'thinnest': 1, 'hut': 19, 'moldy': 2, 'eaten': 5, 'blanket': 1, 'softest': 1, 'sofa': 10, 'moth': 1, 'waves': 1, 'filthy': 1, 'splattered': 1, 'ragged': 1, 'curl': 1, 'lumpy': 6, 'ferociously': 1, 'wrist': 6, 'writer': 1, 'nearer': 12, 'dial': 1, 'raged': 1, 'thunder': 1, 'comfortable': 2, 'lighted': 2, 'snores': 1, 'tick': 1, 'drowned': 2, 'rolls': 2, 'minutes’': 3, 'hunger': 2, 'shivered': 6, 'steal': 11, 'warmer': 1, 'creak': 1, 'crumbling': 1, 'crunching': 4, 'slapping': 1, 'annoy': 1, 'twenty…ten…nine': 1, 'three…two…one…': 1, 'boom': 1, 'upright': 2, 'knocking': 8, 'keys': 8, 'b': 5, 'oom': 1, 'cannon': 2, 'stupidly': 2, 'skidding': 1, 'armed': 2, 'warn': 4, 'pause': 3, 'smash': 2, 'hinges': 1, 'clean': 7, 'tangled': 2, 'doorway': 5, 'glinting': 4, 'beetles': 1, 'mane': 2, 'easily': 7, 'frame': 3, 'brushed': 1, 'dropped': 20, 'stooping': 1, 'journey': 3, 'yeh': 68, 'o’': 24, 'strode': 7, '“budge': 2, 'lump': 3, 'squeaked': 4, 'crouching': 2, 'terrified': 8, 'here’s': 2, '“an’': 10, 'crinkled': 1, 'shadowy': 2, 'beetle': 2, '“las’': 2, 'yer': 42, 'yeh’ve': 7, 'mom’s': 2, '“yeh': 5, 'dad': 12, 'rasping': 1, 'entering': 2, 'demand': 1, 'breaking': 8, 'prune': 1, 'gun': 1, 'rubber': 1, '“ah': 9, 'knot': 1, 'mouse': 2, 'summat': 7, 'fer': 26, 'mighta': 2, 'taste': 2, '“anyway': 4, 'squashed': 1, 'box': 9, 'icing': 1, 'overcoat': 4, 'sticky': 2, 'slightly': 7, 'lost': 28, 'hogwarts': 66, 'meself': 3, 'rubeus': 2, 'grounds': 13, 'introduced': 2, '“true': 1, 'enormous': 5, 'rubbing': 3, 'stronger': 1, '“i’d': 7, 'flickering': 3, 'hot': 7, 'roaring': 2, 'sunk': 3, 'warmth': 5, 'drew': 9, 'grate': 2, 'filled': 7, 'bath': 1, 'pockets': 10, 'sausages': 5, 'poker': 1, 'liquid': 1, 'touch': 10, 'sagged': 2, 'chipped': 2, 'mugs': 1, 'sizzling': 1, 'copper': 3, 'bottle': 11, 'kettle': 3, 'amber': 1, 'swig': 1, 'teapot': 3, 'juicy': 1, 'sausage': 3, 'fidgeted': 1, 'weight': 1, 'gives': 4, 'burnt': 1, 'puddin’': 1, 'worry': 13, 'fattenin’': 1, '“yer': 4, 'don’': 15, 'anymore': 7, 'wonderful': 6, 'wiped': 3, 'gulp': 2, '“call': 2, '“everyone': 7, 'yeh’ll': 4, 'loud': 14, 'gettin’': 6, 'cryin’': 1, 'abou’': 5, 'shrank': 3, 'shadows': 7, 'wonder': 7, 'thundered': 4, 'jus’': 6, 'anger': 4, 'cowering': 1, 'fill': 1, 'nothin’': 6, 'growled': 7, 'marks': 4, 'math': 1, 'parents’': 2, '“about': 4, 'explode': 1, 'boomed': 1, '“dursley': 1, 'sounded': 10, '“mimblewimble': 1, 'pale': 21, 'mom': 12, 'fixing': 1, 'bewildered': 3, 'forbid': 3, '“stop': 5, 'commanded': 1, 'rage': 4, 'braver': 4, 'quailed': 1, 'syllable': 1, 'eagerly': 7, '“kept': 2, 'panic': 5, 'gasp': 2, 'boil': 1, 'wizard': 38, 'whistling': 2, 'trained': 1, '‘un': 1, 'thumpin’': 1, 'lower': 4, 'yours': 8, 'reckon': 6, 'mum': 5, 'sank': 5, 'wizardry': 6, 'witchcraft': 5, 'headmaster': 4, 'merlin': 2, 'confed': 1, 'sorc': 1, 'chf': 1, 'international': 1, 'supreme': 1, 'grand': 1, 'warlock': 1, 'wizards': 16, 'mugwump': 1, 'necessary': 1, 'please': 20, 'enclosed': 1, 'inform': 1, 'list': 6, 'equipment': 3, 'pleased': 17, 'term': 10, '31': 2, 'begins': 2, 'await': 2, 'sincerely': 1, 'minerva': 1, 'deputy': 1, 'stammered': 3, 'exploded': 5, 'decide': 4, 'fireworks': 1, '“gallopin’': 1, 'note': 22, 'roll': 7, 'quill': 4, 'upside': 1, 'reminds': 3, 'cart': 12, 'teeth': 9, 'horse': 3, 'gorgons': 1, 'tongue': 3, 'scribbled': 3, 'weather’s': 1, 'beak': 3, 'clamped': 2, 'firelight': 1, 'faced': 8, 'ashen': 1, '“he’s': 19, 'interested': 8, 'nonmagic': 1, 'folk': 4, 'rubbish': 4, 'indeed': 10, 'swore': 2, '“swore': 1, 'witch': 12, 'teacups': 1, '“knew': 1, 'shrieked': 5, 'rats': 4, 'freak': 1, 'frog': 9, 'dratted': 1, 'spawn': 1, 'ranting': 1, 'draw': 1, 'wanting': 8, '“then': 5, 'herself': 8, 'married': 2, 'abnormal': 1, 'blown': 3, '“blown': 2, 'scuttled': 2, 'outrage': 1, 'scandal': 1, 'knowin’': 4, 'kid': 5, '“car': 1, 'urgently': 2, 'faded': 8, 'gotta': 7, 'ah': 2, 'someone’s': 2, 'idea': 20, 'everythin’': 3, 'parts': 1, 'myst’ry': 4, 'incredible': 4, 'sayin’': 3, 'scared': 13, 'gargoyles': 1, 'blimey': 3, '“gulpin’': 1, 'gulped': 2, '“don’': 6, 'followers': 2, 'witches…terrible': 1, 'afraid': 8, 'lookin’': 3, '‘em': 7, 'killed': 12, '‘cause': 5, 'safe': 19, 'spell': 14, 'friendly': 5, '“nah': 3, '‘course': 2, 'before…probably': 1, 'anythin’': 10, 'girl': 10, 'side': 31, 'outta': 9, '“maybe': 3, 'village': 3, 'halloween': 9, 'foghorn': 1, 'nicer': 2, 'anyway…': 1, 'mckinnons': 1, 'evil': 6, 'touches': 2, 'ordinary': 8, 'mark': 5, 'job': 9, 'witches': 7, 'bones': 1, 'killin’': 2, 'powerful': 11, 'prewetts': 1, 'curse': 10, 'remembered': 9, 'cruel': 1, 'sadly': 3, 'lot…': 1, 'ruined': 3, 'orders': 2, '“took': 1, 'tosh': 1, 'courage': 6, 'glaring': 3, 'clenched': 2, '“load': 1, 'fists': 3, 'weirdoes': 1, 'accept': 2, 'world’s': 1, 'cured': 1, 'wizarding': 6, 'types': 1, 'denying': 1, 'there’s': 27, 'beating': 2, 'word…': 1, 'battered': 4, 'sword': 1, 'umbrella': 10, 'bearded': 1, 'failed': 3, 'flattened': 2, 'speared': 1, 'breathing': 6, 'vol': 5, 'why’d': 1, 'makes': 4, 'see…he': 2, 'codswallop': 2, 'comin’': 1, '“some': 3, 'ours': 4, 'dunno': 4, 'human': 6, 'could’ve': 3, 'bidin’': 1, 'kinda': 1, 'die': 12, 'trances': 1, '’cause': 1, 'stumped': 3, 'carry': 5, 'goin’': 3, 'weak': 5, 'somethin’': 5, 'sorcerer': 1, 'blazing': 2, 'football': 1, 'clouted': 1, 'respect': 1, 'toads': 2, 'kick': 4, 'warty': 2, 'bullied': 1, 'defeated': 1, 'lock': 8, 'quietly': 14, '“not': 10, 'ridiculous': 2, 'angry…chased': 1, 'grow': 3, 'reach…dreading': 1, 'realizing': 4, 'it…every': 1, 'revenge': 1, 'positively': 1, 'beaming': 5, '“haven’t': 1, 'wands': 11, 'needs': 7, 'grateful': 3, 'finest': 1, 'sort': 25, 'youngsters': 1, 'dumbled—”': 1, 'born': 1, 'name’s': 4, 'teach': 7, 'crackpot': 1, 'fool': 5, 'magic': 47, 'paying': 1, 'tricks': 1, 'am': 10, '“never': 10, 'insult': 1, 'whirled': 2, '“—': 7, 'dancing': 3, 'poking': 4, 'hole': 12, 'clasped': 2, 'bottom': 8, 'trousers': 3, 'firecracker': 1, 'pig’s': 1, 'swishing': 3, 'curly': 1, 'squeal': 2, 'cast': 2, 'ruefully': 1, '“shouldn’ta': 1, 'temper': 4, 'eyebrows': 4, 'follow': 14, 'speakin’': 1, '“be': 5, 'er': 5, 'strictly': 1, 'reasons': 2, 'keen': 3, 'aren’t': 12, 'gamekeeper': 5, 'wand': 52, 'third': 18, 'expelled': 13, 'truth': 8, '“gotta': 1, 'wriggles': 1, 'kip': 1, 'doormice': 1, 'diagon': 8, 'alley': 8, 'arry': 2, 'tapping': 3, 'rapping': 1, 'claw': 1, 'sunlight': 3, 'attack': 2, 'scrambled': 5, 'balloon': 3, 'fluttered': 4, 'swelling': 1, 'wave': 4, 'fiercely': 2, 'savaging': 1, '“pay': 1, 'payin’': 1, 'deliverin’': 1, 'humbugs': 2, 'bunches': 1, 'peppermint': 3, 'handful': 2, 'teabags': 1, 'coins': 5, 'string': 1, 'pellets': 1, 'sleepily': 3, 'knuts': 5, '“give': 8, '“knuts': 1, 'ones': 11, 'bronze': 5, 'pouch': 1, 'flew': 11, 'money': 15, 'tied': 2, '“best': 1, 'puncture': 1, '“um': 1, '“mm': 1, 'learn': 15, 'night…he': 1, 'pay': 4, '“d’yeh': 1, 'didn’': 4, 'wizards’': 3, 'teh': 1, 'nah': 3, 'wouldn’': 4, 'gringotts': 24, '“wizards': 1, 'banks': 1, 'goblins': 4, '“just': 14, '“goblins': 1, 'mess': 3, 'rob': 5, 'fetchin’': 1, 'proudly': 3, '‘cept': 1, 'yeh’d': 4, 'safest': 2, '“got': 9, 'hired': 1, 'gleamed': 1, 'clear': 6, 'followed': 20, '“flew': 2, 's’pposed': 2, 'settled': 1, '“seems': 1, 'row': 9, 'giving': 9, 'looks': 7, 'mentionin’': 1, 'shame': 4, 'speed': 6, '“of': 6, 'eager': 3, 'land': 2, '“spells': 1, 'miles': 5, 'dragons': 11, 'manage': 4, 'vaults': 3, 'enchantments': 4, 'security': 3, 'guardin’': 3, 'tryin’': 1, 'many': 27, 'daily': 3, 'prophet': 3, '“ministry': 1, 'messin’': 1, 'page': 2, 'ministry': 6, 'pelts': 1, 'fudge': 4, 'cornelius': 1, 'bungler': 1, 'advice': 3, 'minister': 1, '“’course': 1, 'askin’': 3, 'main': 2, 'solutions': 1, 'wantin’': 1, 'everyone’d': 1, 'folded': 3, 'clambered': 6, 'harbor': 2, 'bumped': 1, 'steps': 9, 'station': 11, 'meters': 1, '“did': 10, 'panting': 1, '“crikey': 1, 'dragon': 23, '“wanted': 1, 'bills': 1, 'tickets': 1, '“muggle': 1, 'train': 28, 'seats': 7, 'circus': 1, 'tent': 1, 'canary': 1, 'knitting': 1, 'stitches': 1, '“still': 2, 'unfolded': 1, 'f': 2, 'o': 3, 'students': 23, 'require': 1, 'sets': 1, '2': 2, 'protective': 1, '3': 1, 'gloves': 2, 'similar': 1, 'winter': 1, 'fastenings': 1, 'pupils’': 1, 'tags': 1, 'copy': 2, 'grade': 1, 'miranda': 1, 'book': 21, 'spells': 6, 'goshawk': 1, 'standard': 2, 'bagshot': 1, 'bathilda': 1, 'history': 7, 'waffling': 1, 'theory': 1, 'adalbert': 1, 'magical': 10, 'guide': 3, 'beginners’': 1, 'transfiguration': 4, 'emeric': 1, 'switch': 1, 'thousand': 18, 'spore': 1, 'fungi': 4, 'phyllida': 1, 'herbs': 4, 'drafts': 1, 'jigger': 1, 'arsenius': 1, 'potions': 15, 'fantastic': 2, 'newt': 1, 'scamander': 1, 'beasts': 2, 'trimble': 1, 'forces': 1, 'quentin': 1, 'self': 2, 'protection': 3, 'pewter': 3, 'cauldron': 17, 'phials': 1, 'crystal': 2, 'telescope': 2, 'scales': 3, 'toad': 16, 'broomsticks': 9, 'aloud': 2, '“can': 7, 'trains': 1, 'barrier': 9, 'slow': 3, 'ticket': 6, 'stuck': 9, 'escalator': 2, 'climbed': 15, 'lined': 2, 'bustling': 1, 'shops': 5, 'unbelievable': 1, 'sold': 3, 'stores': 1, 'buried': 3, 'parted': 2, 'music': 5, 'nowhere': 3, 'sell': 1, 'humor': 1, 'piles': 2, 'cooked': 1, 'trusting': 1, 'cinemas': 1, 'halt': 5, 'leaky': 10, 'hurrying': 6, 'steered': 1, 'pub': 3, 'grubby': 4, 'record': 3, 'walnut': 2, 'sherry': 1, 'drinking': 4, 'women': 3, 'smoking': 1, 'shabby': 2, 'bartender': 3, 'smiled': 13, 'buzz': 1, 'chatter': 2, 'pipe': 3, 'buckle': 2, 'tom': 1, '“can’t': 8, 'peering': 7, '“bless': 2, 'soul': 3, 'potter…what': 1, 'honor': 2, 'bar': 2, 'welcome': 2, '“welcome': 4, 'puffing': 3, 'chairs': 3, 'scraping': 3, 'crockford': 3, '“doris': 1, '“always': 2, 'diggle’s': 2, '“delighted': 1, 'excitement': 5, 'remembers': 2, 'doris': 2, 'twitching': 4, '“professor': 11, 'quirrell': 73, 'meet': 16, 'grasping': 1, '“c': 1, 'g': 2, '“n': 2, 'd': 3, '“d': 1, 'pick': 5, 'defense': 4, 'arts': 8, 'vampires': 3, 'babble': 3, 'others': 15, '“must': 2, 'courtyard': 2, 'weeds': 1, 'walled': 1, 'grinned': 5, 'tremblin’': 1, '“told': 1, 'nervous': 14, 'yeah': 6, 'where’s': 4, 'firsthand': 1, 'bloke': 1, 'experience': 1, 'hag': 1, 'brilliant': 5, 'studyin’': 1, 'bricks': 1, 'hags': 1, 'across…”': 1, 'up…two': 1, '“three': 5, '“right': 10, 'cobbled': 1, 'facing': 9, 'wriggled': 2, 'quivered': 2, 'archway': 3, 'wider': 1, 'twisted': 8, 'solid': 7, 'shrink': 1, 'instantly': 1, 'sizes': 1, 'stack': 2, 'collapsible': 2, 'brightly': 4, 'hanging': 12, 'stirring': 1, 'cauldrons': 3, 'needin’': 1, 'apothecary': 3, 'plump': 4, 'ounce': 2, 'seventeen': 2, '“dragon': 2, 'liver': 2, 'sickles': 3, 'selling': 1, 'emporium': 2, 'eels’': 1, 'soft': 6, 'bat': 4, 'stacked': 2, 'hooting': 1, 'nimbus': 15, 'potion': 6, 'spleens': 1, 'globes': 1, 'instruments': 1, 'telescopes': 2, 'screech': 3, 'fastest': 2, 'barrels': 2, 'tottering': 1, 'barn': 2, 'quills': 7, 'eeylops': 2, '“gringotts': 1, 'scarlet': 6, 'burnished': 1, 'towered': 3, 'goblin': 8, 'upon': 2, 'clever': 3, 'engraved': 1, 'swarthy': 1, 'shorter': 1, 'enter': 3, 'heed': 1, 'greed': 2, 'awaits': 1, 'sin': 1, 'earn': 3, 'dearly': 1, 'seek': 2, 'floors': 4, 'treasure': 2, 'beware': 1, 'warned': 8, 'thief': 1, 'finding': 7, '“like': 2, 'hundred': 25, 'stones': 3, 'counter': 3, 'examining': 1, 'marble': 8, 'ledgers': 1, 'stools': 2, 'weighing': 3, 'leading': 6, 'eyeglasses': 1, 'scribbling': 1, '“morning': 1, 'key': 11, 'coals': 1, 'goblin’s': 1, 'biscuits': 2, 'pile': 13, 'emptying': 2, 'scattering': 2, 'glowing': 3, 'rubies': 1, 'closely': 3, 'thirteen': 8, 'vault': 8, 'importantly': 2, 'chest': 6, '“very': 7, 'griphook': 10, 'handing': 3, 'crammed': 2, 'more’n': 2, 'mysteriously': 1, 'job’s': 1, 'trusted': 2, 'sloped': 3, 'steeply': 1, 'torches': 2, 'flaming': 4, 'hurtling': 1, 'tracks': 2, 'difficulty': 3, 'passageway': 8, 'downward': 3, 'narrow': 10, 'railway': 1, 'fork': 3, 'rattling': 4, 'maze': 1, 'impossible': 4, 'twisting': 2, 'passages': 1, 'hurtled': 5, 'stung': 1, 'plunged': 3, 'stalactites': 1, 'stalagmites': 1, 'passage': 4, 'deeper': 3, 'lake': 7, 'stalactite': 1, 'stalagmite': 1, '“stalagmite’s': 1, '‘m’': 1, 'gonna': 4, 'lean': 1, 'mounds': 1, 'columns': 1, 'smoke': 6, 'unlocked': 2, 'billowing': 2, 'heaps': 1, 'belonging': 1, 'blinking': 4, 'fortune': 3, 'cost': 3, 'helped': 5, '“seventeen': 1, 'terms': 1, 'sickle': 2, '“vault': 1, 'galleons': 4, 'galleon': 1, '“one': 4, 'corners': 1, 'gathering': 2, 'ravine': 1, 'colder': 2, 'leaned': 12, 'scruff': 1, 'became': 15, 'melted': 2, '“stand': 2, 'trapped': 2, 'sucked': 1, 'check': 2, 'anyone’s': 2, 'extraordinary': 2, 'jewels': 1, 'longed': 1, 'expecting': 2, 'fabulous': 1, 'infernal': 1, 'ride': 2, 'pound': 2, 'malkin’s': 3, '“might': 1, 'occasions': 2, '“listen': 6, 'carts': 1, 'hate': 8, 'malkin': 3, 'mauve': 1, 'squat': 1, '“hogwarts': 3, 'pinned': 6, 'length': 2, 'robe': 3, 'footstool': 2, 'stool': 7, 'pin': 2, '“hello': 3, 'brooms': 13, 'bully': 1, 'drag': 2, 'smuggle': 1, 'father’s': 5, 'drawling': 2, 'broom': 27, '“have': 4, 'quidditch': 53, '“play': 1, 'crime': 2, 'play': 17, 'says': 10, 'slytherin': 40, 'hufflepuff': 15, '“mmm': 1, 'interesting': 10, 'show': 12, 'grinning': 2, 'works': 1, 'servant': 2, 'liking': 3, 'setting': 3, 'savage': 1, 'lives': 4, 'ends': 4, 'tries': 3, 'drunk': 2, 'sneer': 3, 'slight': 2, '“they’re': 5, 'surname': 1, 'hopped': 2, 'excuse': 5, 'chopped': 1, 'raspberry': 1, 'nuts': 2, 'lied': 1, 'color': 4, 'wrote': 1, 'cheered': 3, 'forgettin’': 1, '“blimey': 2, 'wizardin’': 1, 'played': 4, 'sorta': 2, 'rules': 9, 'follows': 2, 'soccer': 5, 'houses': 8, '“school': 1, 'duffers': 1, 'gloomily': 1, '“better': 4, '“vol': 1, '—you': 1, '“years': 1, 'stamps': 1, 'blotts': 1, 'befuddle': 1, 'viridian': 1, 'revenges': 1, 'loss': 1, 'vindictus': 1, 'covers': 2, 'flourish': 1, 'latest': 2, 'bewitch': 1, 'curses': 2, 'countercurses': 1, 'enemies': 3, 'paving': 1, 'tying': 1, 'jelly': 1, 'silk': 3, 'postage': 2, 'symbols': 1, 'study': 8, 'circumstances': 2, 'couldn’': 1, 'horns': 2, 'fascinating': 1, 'fangs': 5, 'cabbages': 1, 'jars': 2, 'supply': 1, 'unicorn': 18, 'minuscule': 1, 'strings': 1, 'powders': 1, 'rotted': 1, 'roots': 2, 'basic': 1, 'list”': 1, 'dried': 2, 'ingredients': 2, 'mixture': 4, 'hung': 12, 'feathers': 5, 'glittery': 1, 'slimy': 1, 'scoop': 1, 'bundles': 1, 'claws': 2, 'checked': 2, 'animal': 2, 'kids': 1, 'sneeze': 1, 'cage': 4, 'wing': 9, 'jewel': 2, 'stammering': 1, 'rustling': 4, 'beautiful': 4, 'lotta': 1, 'ollivanders': 2, 'wand…this': 1, '382': 1, 'makers': 1, 'peeling': 2, 'cushion': 1, 'dusty': 2, 'spindly': 3, 'depths': 2, 'piled': 7, 'neatly': 2, 'strict': 3, 'tingle': 1, 'prickled': 2, 'tinkling': 1, 'occurred': 1, 'dust': 2, 'boxes': 3, 'bell': 5, 'thousands': 5, 'shining': 2, 'moons': 2, 'gloom': 3, 'awkwardly': 1, 'quarter': 1, 'swishy': 1, 'inches': 11, 'charm': 3, 'willow': 1, 'creepy': 2, 'silvery': 4, 'blink': 2, 'ollivander': 14, 'excellent': 7, 'pliable': 1, 'favored': 2, 'chooses': 2, 'mahogany': 2, 'misty': 3, 'reflected': 2, 'where…”': 1, 'finger': 3, 'softly': 4, 'hands…well': 1, 'yew': 2, '“thirteen': 1, 'bendy': 1, '…oak': 1, '“rubeus': 1, 'shuffling': 2, 'added': 13, 'tightly': 5, 'gripped': 3, 'measure': 3, '“which': 4, '“hmmm': 1, 'unicorns': 3, 'measured': 1, 'results': 4, 'elbow': 2, 'substance': 2, 'phoenixes': 1, 'hairs': 2, 'core': 1, 'armpit': 1, 'heartstrings': 1, '“hold': 1, '“every': 2, 'wizard’s': 6, 'phoenix': 4, 'flitting': 1, 'measuring': 2, 'nostrils': 8, 'heap': 2, 'flexible': 1, 'crumpled': 3, 'beechwood': 1, 'heartstring': 1, 'snatched': 4, 'foolish': 4, 'feather': 6, '“maple': 1, 'whippy': 1, 'ebony': 1, 'springy': 1, 'higher': 5, 'mounting': 1, 'happier': 2, '“tricky': 1, 'supple': 1, 'holly': 2, 'match': 23, 'customer': 1, 'combination': 1, 'curious…how': 1, 'bravo': 1, 'whooped': 1, 'curious…”': 1, 'stream': 2, 'firework': 1, 'sparks': 6, 'sudden': 14, 'spots': 3, 'well…how': 1, 'clapped': 11, '“curious…curious…': 1, 'muttering': 7, 'curious': 3, 'whose': 3, 'happens': 5, 'destined': 1, 'brother': 7, 'named': 1, 'potter…': 1, 'remember…i': 1, 'paid': 3, 'gawking': 1, 'paddington': 1, 'packages': 4, 'laden': 2, 'bite': 4, 'leaves': 11, 'plastic': 4, 'chewed': 1, 'thinks': 7, 'ollivander…but': 1, 'yerself': 2, '’smatter': 1, 'singled': 1, 'beginning': 1, 'cross': 10, 'she’ll': 2, 'send': 18, 'me…': 2, 'king’s': 6, '“first': 4, 'quarters': 9, 'platform': 16, 'arry’s': 1, 'acted': 2, 'improvement': 1, 'depressing': 1, 'ticked': 3, 'hedwig': 11, 'vacuum': 1, 'mice': 3, 'quiz': 1, 'august': 1, '“would': 3, 'lift': 4, 'grunt': 1, '“thank': 4, 'punctures': 1, 'carpets': 1, '“platform': 1, '“nine': 2, '“there': 5, '“barking': 1, '“howling': 1, 'bother': 3, 'hospital': 6, 'removed': 1, 'goes': 10, 'ruddy': 3, '“taking': 1, 'excited': 4, 'talked': 3, 'jeans': 1, 'trunk': 9, 'paced': 2, 'loaded': 1, 'platforms': 5, 'wheeled': 2, 'dumped': 1, 'built': 1, 'attract': 2, 'dry': 4, 'laughing': 8, 'nastier': 1, 'wasters': 1, 'annoyed': 1, 'according': 1, 'desperate': 8, 'guard': 4, 'board': 6, 'part': 4, 'arrivals': 1, 'stranded': 1, 'inspector’s': 1, 'packed': 7, 'pushing': 3, 'speaker': 1, 'boys’': 2, '“mom': 4, 'headed': 10, 'go…”': 2, 'piped': 1, 'percy': 33, '“you’re': 14, 'ginny': 5, 'backpack': 1, 'swarming': 1, 'marched': 8, 'tourists': 1, 'dividing': 1, 'oldest': 3, '“fred': 2, '“honestly': 2, 'fred': 32, 'george': 27, 'joking': 5, 'briskly': 2, '“excuse': 3, 'ron’s': 19, 'freckles': 4, 'youngest': 6, 'gangling': 1, 'sons': 1, 'ron': 371, 'okay': 4, 'trolley': 1, 'jostled': 3, 'running…he': 1, 'hogwarts’': 2, 'express': 2, 'wrought': 1, 'steam': 1, 'come…he': 1, 'wound': 3, 'drifted': 2, 'chattering': 2, 'hooted': 2, 'disgruntled': 2, 'trunks': 4, '“gran': 2, 'search': 3, 'carriages': 1, 'sigh': 3, 'neville': 85, 'dreadlocks': 1, 'surrounded': 1, 'lee': 10, 'lid': 1, 'poked': 3, 'lifted': 2, 'hairy': 4, 'heave': 1, 'painfully': 2, 'compartment': 9, 'shove': 1, 'raise': 2, 'haired': 8, 'twins': 21, 'panted': 6, 'c’mere': 1, '“oy': 3, 'twins’': 2, 'sweaty': 3, '“thanks': 7, '“aren’t': 1, 'chorused': 1, 'train’s': 1, 'floating': 6, 'gawked': 1, '“coming': 1, '“ron': 6, 'jerk': 2, 'geroff”': 1, 'somefink': 1, '“aaah': 1, 'nosie': 1, 'ronnie': 1, '“shut': 8, 'badge': 3, 'striding': 2, 'compartments': 1, 'prefects': 5, 'themselves': 14, 'prefect': 10, '“once': 1, '“hang': 2, '“or': 4, '“because': 1, 'fondly': 1, 'yourselves': 5, 'behave': 1, '“great': 2, 'ronniekins': 1, 'rubbed': 1, '“hey': 4, 'girl’s': 1, 'goggle': 1, '“you’ve': 7, '“asked': 1, 'polite': 2, '“poor': 1, 'reminding': 1, 'whistle': 4, 'loads': 8, '“we’ll': 4, '“george': 1, 'waving': 8, 'gathered': 3, 'disappear': 1, 'rounded': 4, 'flashed': 4, 'redheaded': 1, '“everywhere': 1, '“anyone': 2, 'glanced': 3, 'tarantula': 1, 'jordan’s': 1, 'ourselves': 4, 'weasley': 46, 'introduce': 2, '“bye': 3, 'blurted': 3, 'george’s': 1, 'jokes': 1, '“wow': 2, 'moments': 4, 'who’s': 7, 'accountant': 1, 'weasleys': 11, '“horrible': 1, 'brothers': 12, 'wish': 6, 'deal': 3, 'expects': 1, 'charlie’s': 8, 'bill’s': 2, '“five': 3, 'charlie': 10, 'captain': 5, 'sixth': 2, 'percy’s': 1, 'scabbers': 9, 'useless': 1, 'wakes': 1, 'aff': 1, 'ears': 12, 'afford': 6, 'impressed': 5, '…i': 3, 'brave': 6, 'voicing': 1, 'quick': 6, 'sheep': 1, 'lanes': 1, 'cows': 1, 'flick': 3, 'fields': 2, '“anything': 2, 'dimpled': 1, 'clattering': 1, 'corridor': 28, 'dears': 1, 'sandwiches': 5, 'licorice': 1, 'beans': 6, 'drooble’s': 1, 'miss': 10, 'bott’s': 4, 'cakes': 6, 'pasties': 3, 'mars': 1, 'bettie': 3, 'frogs': 7, 'candy': 4, 'bars': 2, 'flavor': 8, 'pumpkin': 4, 'gum': 1, 'tipped': 2, '“hungry': 1, '“starving': 1, 'pasty': 3, 'corned': 1, 'beef': 2, 'unwrapped': 5, '“she': 6, 'forgets': 1, '“swap': 1, 'candies': 1, 'share': 3, 'eating': 9, 'agrippa': 3, 'card': 11, 'collect': 2, 'ptolemy': 1, 'cards': 5, 'picture': 2, 'flowing': 1, 'currently': 2, 'dragon’s': 5, 'defeat': 2, 'nicolas': 13, 'onsidered': 1, 'grindelwald': 2, 'blood': 22, 'tenpin': 1, 'modern': 3, 'flamel': 23, 'partner': 3, 'uses': 3, 'discovery': 2, 'enjoys': 2, 'chamber': 14, 'alchemy': 3, 'particularly': 7, '1945': 2, 'bowling': 1, 'astonishment': 1, 'hang': 7, 'her…do': 1, 'morgana': 2, 'strayed': 1, 'photos': 1, '“help': 1, '“weird': 2, 'amazed': 4, 'woodcroft': 1, 'druidess': 1, 'cliodna': 1, 'hengist': 1, 'circe': 1, 'alberic': 1, 'paracelsus': 1, 'grunnion': 1, 'tore': 4, 'bertie': 1, 'sidled': 2, 'flavored': 2, 'booger': 1, 'spinach': 1, 'reckons': 2, '“when': 2, 'tripe': 1, 'bean': 3, '“bleaaargh': 1, 'sprouts': 1, 'coconut': 2, 'nibble': 2, 'sardine': 1, 'baked': 2, 'grass': 8, 'coffee': 1, 'strawberry': 1, 'pepper': 1, 'curry': 1, 'hills': 1, 'woods': 1, 'wilder': 2, 'countryside': 3, 'rivers': 1, 'becoming': 5, 'tearful': 1, 'keeps': 2, 'him…”': 1, 'bothered': 3, 'snoozing': 1, 'look…”': 1, 'rummaged': 1, '“unicorn': 1, 'hair’s': 1, 'toadless': 3, '“has': 1, 'bossy': 2, 'neville’s': 14, 'let’s': 4, 'aback': 1, 'daisies': 1, '“sunshine': 1, 'butter': 1, 'mellow': 1, 'family’s': 2, 'hermione': 234, 'granger': 21, 'simple': 3, 'stunned': 6, 'rise': 3, 'twentieth': 2, 'extra': 6, 'century': 4, 'events': 3, 'background': 1, 'dazed': 1, '“am': 1, 'ravenclaw': 9, 'gryffindor': 71, 'sounds': 2, '“goodness': 1, '“stupid': 1, 'she’s': 5, 'dud': 1, '“whatever': 1, '“gryffindor': 4, 'settling': 1, 'depressed': 1, 'flopped': 3, 'scabbers’': 1, 'whiskers': 2, 'romania': 5, 'studying': 9, '“charlie’s': 1, 'africa': 1, '’course': 1, 'must’ve': 7, '“voldemort”': 1, 'mentioned': 4, 'prickle': 1, 'team': 26, 'confessed': 1, 'explaining': 3, 'dumbfounded': 1, 'positions': 1, 'broomstick': 27, 'points': 39, 'players': 7, 'describing': 1, 'shown': 3, 'recognized': 4, 'interest': 4, 'thickset': 1, 'extremely': 4, 'bodyguards': 1, 'malfoy': 96, 'draco': 10, 'crabbe': 20, 'goyle': 20, 'carelessly': 1, 'cough': 1, 'snigger': 1, '“think': 1, 'children': 2, 'coolly': 3, 'cheeks': 1, 'tinge': 1, 'politer': 1, '“unless': 4, 'riffraff': 1, 'rub': 1, '“say': 3, 'bravely': 2, 'yell': 5, 'goyle’s': 2, 'among': 4, 'footsteps': 9, 'knuckle': 1, 'lurking': 6, 'picking': 2, 'malfoy’s': 13, 'doesn’t': 10, 'bewitched': 5, 'conductor': 1, 'scowling': 2, '“scabbers': 1, 'childishly': 1, 'corridors': 10, 'dirt': 1, 'sniffy': 1, 'glared': 4, 'mountains': 3, 'forests': 1, 'slowing': 1, 'jackets': 2, 'sneakers': 1, 'luggage': 1, 'separately': 1, 'echoed': 3, 'thronging': 1, 'joined': 10, 'lurched': 1, 'nerves': 4, 'familiar': 1, 'slowed': 2, '“firs’': 1, 'firs’': 4, 'beamed': 3, '“c’mon': 1, 'trees': 13, 'path': 10, 'steep': 3, 'losing': 6, 'stumbling': 1, '“yeh’ll': 1, 'sec': 1, '“jus’': 2, 'bend': 3, '“oooooh': 1, 'towers': 2, 'starry': 1, 'atop': 1, 'mountain': 6, 'turrets': 1, 'castle': 23, 'shore': 1, 'boats': 6, 'fleet': 3, 'gliding': 4, 'sailed': 2, 'cliff': 2, 'smooth': 3, 'rocks': 1, 'opening': 1, 'curtain': 1, 'ivy': 1, 'pebbles': 1, '“heads': 1, 'tunnel': 1, 'blissfully': 1, 'shadow': 3, '“trevor': 1, 'oak': 4, 'flight': 2, 'fist': 3, 'sorting': 8, 'magnificent': 2, 'staircase': 12, 'upper': 1, 'flagged': 1, 'drone': 1, 'banquet': 4, 'dormitory': 10, 'begin': 3, 'classes': 6, 'ceremony': 2, 'sorted': 4, 'credit': 1, 'outstanding': 2, 'becomes': 1, 'produced': 1, 'awarded': 3, 'rulebreaking': 1, 'whichever': 2, 'triumphs': 1, 'smarten': 1, 'lingered': 1, 'fastened': 1, 'flatten': 2, 'smudged': 1, 'return': 5, '“please': 2, 'test': 3, 'hurts': 1, 'doom': 1, 'lead': 7, 'teacher’s': 3, 'anxiously': 5, 'jolt': 2, '—what': 1, 'pearly': 2, 'glided': 3, 'streamed': 2, 'monk': 1, 'forget': 18, 'ghosts': 6, 'transparent': 1, '“forgive': 1, 'arguing': 2, 'chances': 1, 'ghost': 13, 'friar': 4, 'peeves': 28, 'deserves': 1, 'ruff': 3, 'tights': 1, 'answered': 4, '“new': 1, 'mutely': 1, '“hope': 3, '“move': 1, 'ceremony’s': 1, 'floated': 2, 'returned': 3, 'form': 2, 'double': 2, 'sandy': 3, 'glittering': 4, 'dotted': 1, 'avoid': 1, 'velvety': 1, '“its': 1, 'tables': 5, 'splendid': 2, 'mainly': 2, 'upward': 3, 'imagined': 2, 'candles': 3, 'lanterns': 1, 'goblets': 1, 'midair': 7, 'candlelight': 1, 'heavens': 2, 'legged': 2, 'placed': 1, 'patched': 1, 'frayed': 1, 'rip': 2, 'rabbit': 3, 'brim': 1, 'sing': 3, 'pretty': 5, 'judge': 1, 'smarter': 1, 'bowlers': 1, 'sleek': 2, 'cap': 2, 'dwell': 2, 'daring': 3, 'chivalry': 1, 'gryffindors': 14, 'loyal': 1, 'patient': 1, 'hufflepuffs': 4, 'unafraid': 1, 'toil': 1, 'wit': 1, 'learning': 4, 'cunning': 1, 'means': 7, 'achieve': 1, 'flap': 1, 'song': 3, 'applause': 2, 'wrestling': 3, 'troll': 28, 'queasy': 1, 'witted': 1, 'weakly': 1, '“abbott': 1, 'hannah': 3, 'pigtails': 1, '“hufflepuff': 3, '“bones': 1, 'susan': 2, 'terry': 2, '“boot': 1, '“ravenclaw': 1, 'ravenclaws': 2, 'cheers': 6, 'lavender”': 1, '“brocklehurst': 1, 'catcalling': 1, 'mandy”': 1, '“brown': 1, 'unpleasant': 4, 'millicent”': 1, '“bulstrode': 1, 'gym': 1, 'teams': 5, 'chosen': 4, 'definitely': 3, '“finch': 1, 'fletchley': 1, 'justin': 1, '“finnigan': 1, 'seamus': 16, 'declared': 1, '“granger': 1, 'jammed': 2, 'mione': 1, 'ages': 13, 'thoughts': 1, '“macdougal': 1, 'longbottom': 7, 'jog': 2, 'laughter': 6, 'gales': 1, 'amid': 1, 'morag': 1, 'swaggered': 1, '“slytherin': 3, 'barely': 5, '“nott”…': 1, '“moon”…': 1, '“patil”': 1, 'anne”…': 1, 'sally': 1, '“patil”…': 1, '“perks': 1, 'girls': 3, '“parkinson”…': 1, 'whispers': 2, 'fires': 2, '“hmm': 1, 'plenty': 1, 'interesting…': 1, 'prove': 1, 'talent': 1, '“difficult': 1, 'thirst': 1, 'edges': 1, 'doubt': 4, 'greatness': 1, 'shakily': 2, 'bucket': 2, 'loudest': 2, 'earlier': 3, 'eye': 12, 'center': 1, 'properly': 7, 'thumbs': 1, 'turban': 11, '“thomas': 1, 'dean': 8, '“turpin': 1, 'taller': 2, 'lisa': 1, 'scroll': 1, '“zabini': 1, 'pompously': 1, 'blaise': 1, 'plate': 4, 'tweak': 1, 'oddment': 1, 'blubber': 1, 'nitwit': 1, 'uncertainly': 2, '“mad': 1, 'genius': 2, 'potatoes': 3, 'airily': 1, 'pork': 1, 'pudding': 1, 'chops': 1, 'gravy': 2, 'steak': 3, 'ketchup': 2, 'fries': 1, 'dishes': 1, 'carrots': 1, 'roast': 2, 'chicken': 3, 'lamb': 1, 'boiled': 2, 'peas': 4, 'starved': 1, 'delicious': 4, 'peppermints': 1, 'mimsy': 2, 'nicholas': 4, 'de': 2, 'resident': 1, 'service': 1, 'tower': 13, 'porpington': 1, 'headless': 5, 'nick': 4, 'finnigan': 6, 'interrupted': 3, 'prefer': 1, 'chat': 3, 'miffed': 1, 'slytherins': 12, 'championship': 4, 'winning': 5, 'behead': 1, 'unbearable': 1, 'coughed': 2, 'baron’s': 3, 'hinge': 1, 'win': 9, 'bloody': 9, 'blank': 2, 'gaunt': 1, 'seating': 1, 'stained': 1, 'arrangements': 1, 'covered': 9, 'delicately': 1, 'apple': 1, 'eclairs': 1, 'rice': 1, 'trifle': 2, 'treacle': 3, 'strawberries': 1, 'jell': 1, 'pies': 1, 'remains': 1, 'blocks': 1, 'desserts': 2, 'pudding…': 1, 'tarts': 1, 'doughnuts': 1, 'tart': 2, 'dad’s': 1, '“me': 3, '’til': 2, 'blackpool': 1, 'ankles': 3, 'accidentally': 2, 'offered': 4, 'meringue': 1, 'algie': 1, 'enid': 1, 'pier': 1, 'bounced': 1, 'gran': 2, 'matches': 2, 'lessons': 11, 'needles': 2, 'greasy': 2, 'deeply': 4, 'teacher': 10, 'sallow': 1, 'goblet': 2, 'sleepy': 3, 'warm': 6, 'absurd': 1, 'hooked': 1, 'hook': 2, 'quirrell’s': 21, 'nosed': 2, '“ouch': 1, 'teaches': 1, 'awful': 1, 'snape': 121, 'fed': 2, '“ahem': 2, 'notices': 1, 'watered': 1, 'pupils': 1, 'filch': 43, 'caretaker': 2, 'remind': 1, 'trials': 1, 'contact': 5, '“quidditch': 1, 'hooch': 11, 'bounds': 3, 'serious': 4, 'frowning': 3, 'forest’s': 1, 'teachers’': 1, 'smiles': 3, 'snakelike': 2, 'ribbon': 1, 'tune': 2, 'bellowed': 5, 'hoggy': 1, 'scabby': 1, 'filling': 1, 'bare': 2, 'flies': 1, 'fluff': 1, 'forgot': 1, 'rot': 1, 'brains': 3, 'lines': 5, 'singing': 3, 'funeral': 1, 'conducted': 1, 'march': 1, 'trot': 1, 'beyond': 1, 'bedtime': 1, 'tapestries': 1, 'doorways': 1, 'crowds': 2, 'staircases': 2, 'yawning': 3, 'dragging': 1, 'panels': 1, 'portraits': 2, 'farther': 1, 'ahead': 15, '“peeves': 2, 'poltergeist': 2, 'baron': 5, 'cackle': 1, '“ickle': 1, 'firsties': 2, '“oooooooh': 1, 'baron’ll': 1, 'armor': 5, 'coats': 3, 'zooming': 2, 'dropping': 3, 'dress': 1, 'portrait': 14, '“password': 1, 'draconis': 1, '“caput': 1, 'armchairs': 4, 'reveal': 2, 'cozy': 2, 'spiral': 4, 'pajamas': 2, 'velvet': 1, 'posters': 1, 'curtains': 4, 'directed': 1, 'hangings': 2, 'chewing': 1, 'transfer': 1, 'sweating': 1, 'struggled': 4, 'destiny': 1, 'heavier': 1, 'master': 2, '“next': 1, '“wearing': 1, 'doubled': 1, 'classrooms': 2, 'tiptoe': 1, 'lining': 1, 'pass': 4, 'sweeping': 3, 'politely': 1, 'rickety': 1, 'tickled': 1, 'baskets': 1, 'chalk': 3, 'rugs': 1, 'sneak': 1, 'conk': 1, 'pelt': 1, 'invisible': 8, 'wastepaper': 2, 'unluckily': 1, 'dungeons': 7, 'break': 15, 'threatening': 4, 'argus': 1, 'rescued': 1, 'ambition': 2, 'passageways': 2, 'bulging': 2, 'patrolled': 1, 'appear': 1, 'dearest': 1, 'filch’s': 4, 'creature': 2, 'whisk': 1, 'who’d': 5, 'wheezing': 3, 'norris': 11, 'toe': 1, 'dumpy': 1, 'herbology': 5, 'oddball': 1, 'sprout': 3, 'wednesday': 3, 'skies': 1, 'binns': 2, 'staff': 2, 'uric': 1, 'dates': 2, 'movements': 4, 'names': 4, 'greenhouses': 1, 'plants': 1, 'fallen': 6, 'taught': 4, 'emetic': 1, 'droned': 1, 'toppled': 4, 'charms': 7, 'flitwick': 16, 'squeak': 2, 'complex': 1, '“transfiguration': 1, 'messing': 2, 'rare': 4, 'furniture': 1, 'needle': 2, 'changing': 2, 'pointy': 1, 'complicated': 2, 'lesson': 7, 'african': 1, 'rid': 6, 'troublesome': 1, 'believed': 5, 'prince': 1, 'insisted': 2, 'classroom': 11, 'fought': 3, 'garlic': 1, 'ward': 1, 'stuffed': 3, 'vampire': 1, 'zombie': 1, 'protected': 2, 'wherever': 6, 'poured': 1, 'sugar': 2, '“double': 1, '“snape’s': 8, 'favors': 2, 'homework': 7, '“wish': 1, 'owners': 1, 'laps': 1, 'circling': 2, 'scrawl': 1, 'owlery': 4, 'untidy': 2, 'afternoons': 1, 'borrowed': 2, 'sent': 16, 'dislike': 1, 'disliked': 1, 'pickled': 1, 'paused': 2, 'celebrity': 1, 'tunnels': 1, 'calling': 2, 'effort': 3, 'dunderheads': 1, 'simmering': 1, 'exact': 1, 'fame': 2, 'beauty': 1, 'shimmering': 1, 'brew': 1, 'subtle': 1, 'gift': 2, 'veins': 1, 'bewitching': 2, 'fumes': 1, 'potionmaking': 1, 'science': 1, 'delicate': 1, 'stopper': 1, 'art': 1, 'liquids': 1, 'ensnaring': 1, 'senses': 2, 'creep': 2, 'proving': 1, 'speech': 2, 'dunderhead': 1, 'exchanged': 1, 'root': 2, 'wormwood': 2, 'asphodel': 2, 'powdered': 3, 'infusion': 2, 'hermione’s': 12, 'curled': 3, 'snape’s': 19, '“tut': 1, 'tut': 2, '“let’s': 4, 'bezoar': 3, 'faintest': 2, '“thought': 1, 'ignoring': 1, 'wolfsbane': 2, 'monkshood': 2, 'dungeon': 3, 'stretching': 3, 'seamus’s': 2, '“sit': 1, 'save': 10, 'poisons': 1, 'plant': 8, 'information': 1, 'copying': 3, 'aconite': 1, 'goat': 1, '“for': 4, 'draught': 1, 'sprang': 7, 'cure': 1, 'weigh': 1, 'crush': 1, 'criticizing': 1, 'seeping': 1, 'stewed': 1, 'horned': 1, 'pairs': 4, 'clouds': 3, 'blob': 1, 'boils': 2, 'nettles': 1, 'drenched': 1, 'acid': 1, 'melt': 1, 'holes': 1, 'continued': 1, 'whom': 1, 'slugs': 1, 'clearing': 10, 'porcupine': 1, 'spilled': 1, '“idiot': 1, 'whimpered': 1, 'spat': 2, 'add': 3, 'unfair': 1, 'push': 2, 'spirits': 2, '“cheer': 1, 'galoshes': 1, 'crossbow': 5, 'fang': 15, '“back': 2, 'booming': 1, 'scrabbling': 1, 'frantic': 1, 'barks': 1, 'collar': 1, 'struggling': 4, 'boarhound': 2, 'boiling': 3, 'massive': 2, 'pheasants': 1, 'quilt': 1, 'patchwork': 1, 'hams': 1, 'letting': 2, 'yerselves': 1, 'bounded': 2, 'pouring': 1, 'chasin’': 1, '“another': 3, 'lumps': 1, 'rested': 1, 'drooled': 1, 'enjoying': 2, 'raisins': 1, 'shapeless': 1, 'delighted': 5, 'git': 2, 'sometime': 1, 'puts': 2, 'd’yeh': 2, '“rubbish': 3, '“how’s': 2, 'cutting': 1, 'continue': 2, 'widely': 1, 'investigations': 1, 'searched': 2, 'emptied': 3, 'spokesgoblin': 1, 'date': 2, 'might’ve': 1, 'thieves': 1, 'refuse': 3, 'weighed': 1, 'collected': 1, 'duel': 3, 'thursday': 2, 'groan': 1, '“typical': 1, 'reasonably': 1, 'exciting': 2, 'west': 2, 'poster': 2, 'boastful': 1, 'argument': 1, 'stories': 2, 'constantly': 1, 'helicopters': 1, 'narrowly': 1, 'dean’s': 2, 'ham': 2, 'prodding': 1, 'glider': 1, 'childhood': 1, 'thomas': 2, 'accidents': 2, 'grandmother': 2, 'arrival': 1, 'lecture': 1, 'tips': 1, 'gloatingly': 1, 'remembrall': 7, 'something…': 1, 'oh…”': 1, 'turns': 3, 'tells': 1, '“…you’ve': 1, 'quicker': 4, '“malfoy’s': 2, 'lawns': 1, 'lawn': 1, 'swaying': 1, 'sloping': 1, 'rippled': 1, 'breezy': 1, 'vibrate': 1, 'hawk': 2, 'twigs': 2, 'angles': 2, '“stick': 1, '‘up': 1, '’”': 4, '“up”': 1, 'quaver': 1, 'granger’s': 2, 'horses': 1, 'grips': 1, 'rows': 3, 'mount': 1, 'correcting': 1, 'steady': 2, '“keep': 4, 'jumpy': 1, 'hooch’s': 1, 'cork': 1, 'rising': 3, 'falling': 2, 'slip': 2, 'wham': 2, 'drift': 1, 'facedown': 2, 'lazily': 1, 'thud': 2, 'bending': 1, '“broken': 1, '“none': 1, '‘quidditch': 1, 'tear': 1, 'streaked': 5, 'hobbled': 1, 'sooner': 3, 'earshot': 2, 'patil': 4, 'parvati': 4, 'crybabies': 1, 'sticking': 4, 'parkinson': 1, 'pansy': 1, '“ooh': 1, 'darting': 2, 'longbottom’s': 1, 'snatching': 1, 'glittered': 2, 'nastily': 2, 'tree': 15, 'hovering': 1, 'branches': 8, 'topmost': 1, '“madam': 2, 'whoop': 1, 'gasps': 2, 'screams': 2, 'soared': 2, 'joy': 2, 'pounding': 2, 'mounted': 2, 'rush': 2, 'grasped': 1, 'javelin': 1, '“catch': 1, 'mingled': 1, 'motion': 1, 'dive': 6, 'handle': 8, 'dived': 6, 'speechless': 2, 'fault': 4, 'triumphant': 1, 'defend': 1, 'packing': 2, 'lasted': 2, 'numbly': 1, 'trotting': 1, 'assistant': 1, 'borrow': 2, 'cane': 1, 'burly': 1, 'fifth': 2, 'flitwick’s': 1, '“follow': 3, 'blackboard': 1, 'cursing': 3, 'bin': 9, 'clanged': 1, 'seeker': 11, 'oliver': 4, 'puzzlement': 1, 'wood’s': 5, 'expression': 2, 'delight': 3, '“absolutely': 2, 'crisply': 1, 'natural': 2, 'clue': 2, '“didn’t': 2, 'scratch': 1, 'fifty': 15, 'dreams': 4, '“ever': 2, '“wood’s': 1, '—speedy': 1, 'cleansweep': 1, 'build': 1, 'decent': 1, '“light': 2, 'severus': 3, 'sternly': 1, 'punishing': 1, 'player': 4, 'pie': 3, 'kidney': 1, 'dinnertime': 1, '“seeker': 1, '“wood': 2, 'shoveling': 1, 'gaped': 1, 'beaters': 4, 'year’s': 1, 'skipping': 1, 'jordan': 7, 'smarmy': 1, 'gregory': 1, '“bet': 2, 'flanked': 1, '“having': 1, 'meal': 2, 'scowl': 1, 'anytime': 1, '“tonight': 1, 'wheeling': 2, 'sizing': 1, '“midnight': 2, '“crabbe': 1, 'trophy': 6, 'malfoy’ll': 1, 'damage': 2, 'second’s': 1, 'duels': 1, 'catching': 1, 'punch': 1, '“throw': 1, 'peace': 2, 'overhearing': 1, 'selfish': 1, 'block': 2, 'sneering': 1, 'looming': 1, 'dodge': 1, '“we’d': 3, '“half': 1, 'bathrobes': 2, 'hunched': 2, 'embers': 1, 'bathrobe': 4, 'frown': 1, '“percy': 2, 'interfering': 2, 'goose': 1, 'switching': 1, 'painting': 1, 'shrilly': 1, '“d’you': 3, 'finds': 4, 'snuffling': 1, 'squinting': 5, 'breathed': 2, 'password': 1, '‘pig': 1, 'password’s': 1, 'lady’s': 1, 'snout’': 1, '“fine': 1, 'mended': 1, 'scrambling': 2, 'bogies': 2, 'beckoned': 1, 'striped': 1, 'tiptoed': 1, 'flitted': 2, 'moonlight': 6, 'cases': 1, 'glimmered': 1, 'edged': 2, 'statues': 1, 'shields': 1, 'chickened': 1, '“sniff': 1, 'speaking': 6, 'madly': 2, 'scurried': 1, '“probably': 2, 'petrified': 4, 'tripped': 2, 'gallery': 2, 'suits': 1, 'suit': 3, 'crashing': 2, 'clanging': 1, 'tapestry': 1, 'galloped': 1, 'doorpost': 1, 'sprinted': 5, '“run': 1, 'spluttering': 1, 'stitch': 1, '“quickly': 1, 'tricked': 1, '“malfoy': 4, 'doorknob': 2, 'paces': 2, 'cackled': 2, '“wandering': 1, 'naughty': 1, 'caughty': 1, 'saintly': 1, 'wickedly': 1, '“should': 2, 'swipe': 1, '“students': 3, 'ducking': 2, '“we’re': 6, 'helplessly': 1, 'peeves’s': 1, 'shouts': 1, '“alohomora': 1, '“quick': 3, '‘please': 1, 'singsong': 1, '“shan’t': 1, 'whooshing': 1, 'ha': 1, 'haaaaaa': 1, 'haaa': 1, 'tugging': 1, 'nightmare': 3, 'space': 3, 'mouths': 2, 'monstrous': 2, 'drooling': 1, 'slippery': 1, 'ropes': 5, 'rolling': 2, 'saliva': 1, 'mistaking': 3, 'thunderous': 1, 'growls': 3, 'groped': 1, 'seventh': 2, 'backward': 6, 'monster': 1, 'cared': 3, 'flushed': 4, 'snout': 5, 'trapdoor': 10, 'guarding': 14, 'dragged': 6, 'something…what': 1, 'meantime': 1, 'alfoy': 1, 'cheerful': 3, 'valuable': 2, 'object': 1, 'guessing': 1, 'clues': 2, 'further': 1, 'slightest': 1, 'bonus': 1, 'refusing': 1, 'attention': 7, 'everyone’s': 1, 'contains': 1, 'session': 2, 'glee': 2, 'enviously': 1, 'barred': 1, 'jealousy': 1, 'spite': 1, 'resist': 1, 'sixty': 5, 'flashy': 1, 'comet': 1, 'league': 1, '“comets': 1, 'twig': 2, '“potter’s': 1, 'model': 1, 'smothering': 1, 'confusion': 3, 'obvious': 4, 'stolen': 3, 'stomping': 1, 'disapprovingly': 1, 'reward': 1, 'straying': 1, 'bolted': 3, 'bedspread': 1, 'poles': 1, 'stadium': 1, 'bubbles': 2, 'hoops': 4, 'spectators': 1, 'dusk': 1, 'stands': 9, 'lightest': 1, 'goal': 6, 'posts': 5, 'crate': 12, 'meant…you': 1, 'joining': 1, 'sized': 1, 'chasers': 8, 'ball’s': 1, 'throw': 4, 'quaffle': 13, 'score': 5, 'basketball': 2, 'recited': 1, 'scoring': 1, 'club': 6, 'baseball': 1, 'bludgers': 10, '“these': 2, 'identical': 1, 'straining': 2, 'straps': 1, 'freed': 1, 'zoomed': 1, 'pelted': 1, 'zigzagging': 2, 'rocket': 1, 'strapping': 1, 'forcing': 1, 'protect': 4, 'bludger': 7, 'reeled': 1, 'guards': 1, 'offhand': 1, 'member': 1, 'jaws': 3, 'wings': 5, 'fluttering': 4, 'fourth': 3, 'compared': 3, 'substitutes': 1, 'months': 4, 'seeker’s': 1, 'fouled': 1, 'catches': 1, 'wins': 2, 'weave': 1, 'team’s': 1, 'snitch': 16, 'seekers': 2, 'understood': 2, 'shutting': 2, 'golf': 1, 'cup’ll': 1, 'england': 2, 'trudged': 1, 'basics': 1, 'evenings': 1, 'mastered': 1, 'baking': 1, 'objects': 1, 'announced': 2, 'zoom': 1, 'wafting': 1, 'dying': 4, 'angrier': 1, 'spoken': 1, 'baruffio': 1, '“swish': 1, 'buffalo': 1, 'practicing': 3, '‘s’': 1, 'movement': 3, '‘f’': 1, 'desktop': 1, 'swished': 1, 'skyward': 3, 'impatient': 1, 'sending': 1, 'leviosa': 3, 'windmill': 1, '“wingardium': 3, 'sa': 1, 'dium': 1, 'gar': 1, '‘gar’': 1, 'levi': 1, 'sleeves': 2, 'gown': 1, 'hovered': 2, '“she’s': 2, 'honestly': 3, 'glimpse': 1, 'startled': 2, 'uncomfortable': 1, 'lavender': 1, 'decorations': 2, 'feast': 7, 'girls’': 4, 'overheard': 1, 'awkward': 1, 'pumpkins': 1, 'bats': 1, 'stutter': 2, 'terror': 2, 'slumped': 3, 'helping': 2, 'potato': 1, 'sprinting': 2, 'askew': 2, '“troll': 1, 'firecrackers': 1, 'exploding': 1, 'uproar': 1, '“prefects': 1, 'rumbled': 1, '“lead': 1, 'immediately': 4, 'dormitories': 2, 'element': 1, 'directions': 2, 'groups': 2, 'lip': 3, 'percy’d': 1, 'deserted': 1, 'griffin': 1, 'view': 6, '“search': 1, 'fading': 2, 'heading': 1, 'foul': 2, 'stench': 1, 'emerged': 1, 'grunting': 1, 'footfalls': 1, 'patch': 2, 'horny': 1, 'granite': 1, 'boulder': 1, 'slouched': 1, 'waggled': 1, 'praying': 1, 'slam': 1, 'victory': 2, 'hearts': 4, 'chained': 1, '“hermione': 5, 'fumbling': 1, 'choice': 3, 'shrinking': 1, 'sinks': 1, 'advancing': 1, 'desperately': 4, 'seizing': 1, '“confuse': 1, 'hesitated': 2, 'lumbered': 1, 'lifting': 1, 'ugly': 1, 'pea': 1, 'brain': 3, 'shouting': 3, 'driving': 2, 'berserk': 1, 'echoes': 1, 'troll’s': 5, 'fasten': 1, 'flailed': 1, 'clinging': 1, 'fright': 1, 'tremble': 1, 'swayed': 2, 'sickening': 2, 'owner’s': 1, 'glue': 1, '“urgh': 1, 'boogers': 1, 'whimper': 1, 'bursting': 4, 'crashes': 1, 'roars': 1, 'rear': 2, 'racket': 2, 'hopes': 1, 'fury': 2, 'swift': 1, '“miss': 3, 'lie': 5, 'fetch': 1, 'tackling': 1, 'hurt': 14, 'disappointed': 1, 'finishing': 1, 'grumbled': 1, 'admitted': 2, '“mind': 1, 'saving': 1, '“pig': 1, 'embarrassed': 2, 'noisy': 2, 'ending': 1, 'november': 1, 'chilled': 1, 'fur': 1, 'bundled': 1, 'frost': 1, 'moleskin': 2, 'beaverskin': 1, 'steel': 1, 'defrosting': 1, 'versus': 1, 'season': 1, 'begun': 1, 'weapon': 1, 'leaked': 1, 'mattress': 1, 'desert': 1, 'rarely': 1, 'sahara': 1, 'committing': 1, 'referees': 1, '1473': 1, 'limped': 2, 'limping': 1, 'yard': 1, 'saved': 5, 'conjured': 1, 'relaxed': 1, 'jar': 2, 'guilty': 2, 'unfortunately': 4, '“library': 1, '“wonder': 3, 'hurting': 2, '“dunno': 4, 'answers': 1, 'restless': 1, 'staffroom': 2, 'ajar': 4, 'scene': 1, 'bandages': 1, 'mangled': 1, '“blasted': 1, 'breathlessly': 2, 'diversion': 1, 'saints': 1, 'buzzing': 1, 'snoring': 1, 'fried': 1, 'dawned': 1, 'wheedled': 1, 'hour’s': 1, 'clobbered': 1, 'strength': 3, '“seekers': 1, 'pitch': 2, 'binoculars': 7, 'performed': 2, 'drawing': 4, 'president': 2, 'tricky': 2, 'painted': 1, 'paint': 1, 'colors': 2, 'fan': 1, 'banner': 3, 'locker': 7, 'men': 3, '“okay': 1, 'johnson': 3, 'chaser': 4, 'angelina': 4, 'oliver’s': 1, 'gryffindor’s': 1, 'refereeing': 3, 'flint': 11, 'skipped': 1, 'flashing': 1, 'marcus': 5, '“mount': 1, 'blast': 2, 'fifteen': 3, 'attractive': 1, '“jordan': 3, 'commentary': 1, 'adrian': 2, 'alicia': 1, 'gains': 1, 'spinnet': 2, 'beater': 1, 'pucey': 3, 'dodges': 1, 'katie': 1, 'ouch': 2, 'belting': 1, 'dives': 1, 'blocked': 4, 'reserve': 2, 'misses': 1, 'bletchley': 1, 'sc—': 1, 'possession': 6, 'moans': 1, '“bin': 2, 'bein’': 1, 'watchin’': 1, '“nope': 1, 'raising': 3, 'speck': 1, 'attacked': 1, 'loops': 1, 'weasleys’': 1, 'wristwatches': 1, 'loop': 1, 'scored': 2, 'reflection': 6, 'cannonball': 1, 'feelings': 2, 'speeds': 1, 'ducks': 1, '“chaser': 1, 'murmur': 1, 'streak': 1, 'terence': 1, 'higgs': 2, 'spurt': 1, 'spun': 1, '“foul': 1, 'yelling': 2, '“send': 1, 'ref': 1, '“red': 1, 'coulda': 1, 'oughta': 1, 'disgusting': 2, 'cheating': 1, 'foul…”': 1, 'kills': 1, 'penalty': 3, 'spinner': 1, 'frightening': 3, 'spinning': 1, 'lurch': 1, 'dangerously': 1, 'buck': 1, 'riders': 1, 'direct': 2, 'violent': 1, 'unseated': 1, 'commentating': 1, 'passes': 1, 'no…”': 1, 'cheering': 6, 'jerking': 1, 'broom…but': 1, 'managing': 1, 'interfere': 2, '“snape': 6, 'nonstop': 1, 'jinxing': 1, '“leave': 1, 'circled': 1, 'vibrating': 1, 'crouched': 1, 'flames': 6, 'hem': 1, 'headfirst': 1, 'scooping': 1, 'yelp': 1, 'clamber': 2, 'sobbing': 3, '“neville': 4, 'fours': 1, 'clap': 2, 'ended': 1, 'seventy': 3, 'fluffy': 23, '“fluffy': 1, 'las’': 1, 'chappie': 1, 'greek': 1, 'afternoon’s': 1, 'jinx': 1, 'concern': 2, 'student': 2, 'hotly': 1, 'tellin’': 1, 'meddlin’': 1, '“aha': 1, 'erised': 7, 'health': 1, 'froze': 1, 'nursed': 1, 'battle': 3, 'december': 1, 'snow': 3, 'snowballs': 1, 'hristmas': 1, 'stormy': 1, 'bitter': 1, 'drafty': 1, 'mist': 1, 'taunting': 1, 'jealous': 1, 'lionfish': 1, 'spine': 1, 'bucking': 1, 'replacing': 1, 'disgusted': 2, 'signed': 2, 'fir': 1, 'blocking': 1, '“hi': 1, 'palace': 1, 'drawl': 1, '“weasley': 1, 'provoked': 1, 'insultin’': 1, 'silkily': 1, 'smirking': 1, 'roughly': 4, 'grinding': 1, '“tell': 2, 'treat': 1, 'mistletoe': 1, 'towering': 5, 'spectacular': 2, 'festoons': 1, 'icicles': 1, 'blossoming': 1, 'trailing': 2, 'dog’s': 6, 'hint': 1, 'flatly': 2, 'tens': 1, 'discoveries': 2, 'developments': 2, 'flamel’s': 2, 'sheer': 1, 'notable': 1, 'searching': 1, 'recent': 3, 'random': 1, 'restricted': 5, 'wandered': 2, 'specially': 1, 'titles': 2, 'advanced': 1, 'section': 6, 'containing': 1, 'duster': 1, 'librarian': 1, 'brandished': 1, 'pince': 3, 'hearing': 1, 'hopeful': 1, 'surprising': 1, '“it’d': 1, 'dentists': 1, 'muffins': 1, 'toasting': 1, 'spear': 1, 'bread': 1, 'english': 1, 'emptier': 1, 'marshmallows': 1, 'plotting': 1, 'belonged': 3, 'chessmen': 7, 'teaching': 1, 'directing': 1, 'drawback': 1, 'chess': 10, 'figures': 1, 'grandfather': 2, 'troops': 1, 'knight': 6, 'eve': 1, '“merry': 2, '“will': 3, 'turnips': 1, 'scrawled': 1, 'whittled': 1, 'flute': 6, 'contained': 2, 'message': 1, 'enclose': 1, 'pence': 2, 'fascinated': 1, '‘what': 1, 'one’s': 1, 'homemade': 1, 'torn': 3, 'knitted': 1, 'mine’s': 1, 'unwrapping': 2, 'tasty': 1, 'gleaming': 3, 'fluid': 1, 'folds': 1, 'woven': 1, 'material': 2, 'cloth': 1, 'invisibility': 14, 'awe': 1, 'suspended': 1, 'loopy': 1, 'merry': 1, 'signature': 1, 'flung': 2, 'sharing': 2, 'sweaters': 1, '“harry’s': 1, 'lovely': 1, 'halfheartedly': 1, 'observed': 1, 'gred': 1, 'forge': 1, 'disapproving': 1, 'thickly': 1, '“christmas': 1, 'stacks': 1, 'cranberry': 1, 'engulfed': 1, 'chipolatas': 1, 'party': 2, 'buttered': 1, 'feeble': 2, 'bonnet': 1, 'turkeys': 1, 'admiral’s': 1, 'tureens': 1, 'sauce': 1, 'flowered': 1, 'cracker': 1, 'cloud': 2, 'platters': 1, 'flimsy': 1, 'rich': 1, 'crackers': 2, 'bang': 1, 'chuckling': 2, 'puddings': 1, 'kissing': 1, 'lopsided': 1, 'turkey': 3, 'wine': 3, 'slice': 1, 'giggled': 1, 'embedded': 1, 'redder': 1, 'luminous': 2, 'warts': 1, 'norris’s': 1, 'nonexplodable': 1, 'including': 1, 'balloons': 1, 'kit': 1, 'suspected': 4, 'snowball': 1, 'spectacularly': 1, 'crumpets': 1, 'chase': 1, 'nagging': 2, 'whoever': 1, 'smoother': 1, 'father’s…this': 1, 'flow': 1, 'squawked': 1, 'supporting': 1, 'eerie': 1, 'creeps': 1, 'stepping': 1, 'rope': 1, 'separated': 1, 'spelled': 1, 'stain': 1, 'title': 1, 'languages': 1, 'volume': 1, 'balancing': 1, 'panicking': 1, 'shrieks': 2, 'earsplitting': 1, 'unbroken': 1, 'shrieking': 1, 'bloodcurdling': 1, 'book’s': 1, 'ringing': 1, 'outstretched': 1, 'shriek': 1, 'recognize': 3, 'directly': 1, 'somebody’s': 1, 'replied': 1, 'shortcut': 1, 'drain': 1, 'basket': 1, 'upturned': 1, 'shapes': 1, 'propped': 1, 'unused': 1, 'desks': 2, 'oyt': 1, 'wohsi': 1, 'ornate': 1, 'clawed': 1, 'stra': 1, 'cafru': 1, 'inscription': 1, 'ube': 1, 'ehru': 1, 'carved': 2, 'mirror’s': 1, 'existed': 1, 'reflections': 2, 'edging': 1, 'touching': 1, 'sadness': 1, 'hungrily': 2, 'ache': 1, 'distant': 4, 'fade': 1, 'crossly': 1, 'shows': 7, 'retracing': 1, 'route': 1, 'feared': 2, 'moaning': 2, 'all…there': 1, 'paisley': 1, 'image': 1, 'transfixed': 2, 'discussion': 1, '“no…you': 1, 'shaves': 1, 'grandfathers': 1, 'insides': 2, '“strange': 1, 'nearsighted': 1, 'discovered': 1, 'delights': 1, 'happiest': 1, 'want…”': 1, 'want…whatever': 1, 'entranced': 1, 'overshadowed': 1, 'ronald': 3, 'knowledge': 1, 'wasted': 1, 'deepest': 1, 'desire': 2, 'sees': 1, 'prepared': 2, 'admirable': 1, '“sir': 4, '“obviously': 1, 'woolen': 1, 'insist': 1, 'shoved': 1, 'personal': 1, 'pillow': 3, 'truthful': 1, 'umbledore': 1, 'disappearing': 1, 'convinced': 2, 'nightmares': 2, 'nights': 1, 'roaming': 1, 'disappointment': 1, 'breaks': 1, 'skimming': 2, 'dampen': 1, 'fewer': 2, 'fanatic': 1, 'replaced': 1, 'overtake': 2, 'endless': 1, 'bombing': 1, 'muddy': 1, 'mud': 1, 'spluttered': 2, 'refereed': 1, '“when’s': 1, 'concen—”': 1, 'referee': 3, 'sinister': 1, '“pretend': 1, 'climb': 1, 'bunny': 2, 'hop': 1, 'countercurse': 2, '“report': 1, 'urged': 2, 'easier': 3, 'choked': 3, 'stinking': 1, 'chose': 1, 'harry…i': 1, '…d’you': 1, 'flamel’': 1, '‘dumbledore': 1, 'mystified': 1, 'dashing': 3, '“stay': 3, 'exchange': 1, 'pages': 1, 'flicking': 1, 'grumpily': 2, 'maker': 1, '“nicolas': 1, 'sorcerer’s': 15, 'dramatically': 1, 'effect': 1, 'drinker': 2, 'immortal': 1, 'pure': 3, 'ancient': 2, 'transform': 1, 'concerned': 2, 'legendary': 1, 'elixir': 5, 'produces': 1, 'belongs': 1, 'alchemist': 1, 'celebrated': 1, 'devon': 1, 'centuries': 1, 'noted': 1, 'existence': 1, 'reports': 1, 'opera': 1, 'lover': 1, 'perenelle': 2, 'stops': 1, 'treating': 1, 'bites': 1, 'werewolf': 5, 'discussing': 1, 'wipe': 1, 'them…it’ll': 1, 'calm': 4, 'biased': 1, 'overtaking': 1, 'weekly': 1, 'torture': 1, 'pep': 1, 'grim': 1, 'using': 1, 'secretly': 1, 'mortis': 1, 'locomotor': 1, 'nag': 1, 'favor': 1, 'pressure': 1, 'capture': 1, 'school’s': 2, 'somersault': 1, 'broadly': 1, 'fixedly': 1, 'choose': 3, 'who’ve': 2, 'howled': 1, '“longbottom': 1, 'poorer': 1, 'anxiety': 1, 'word—”': 1, 'bullet': 1, 'scuffles': 1, 'leaping': 1, 'yelps': 1, 'whirl': 2, 'triumph': 1, 'shoot': 2, 'erupted': 2, 'hugging': 2, 'game’s': 1, 'nearby': 2, 'spilling': 1, 'lipped': 1, '“nice': 1, 'brooding': 1, 'reliving': 1, 'nosebleed': 1, 'broomshed': 1, 'blur': 1, 'shed': 1, 'snape…': 1, 'hooded': 4, 'figure’s': 1, 'prowling': 1, 'figure': 6, 'circles': 1, 'brushing': 1, 'beech': 1, 'noiselessly': 1, 'stuttering': 2, 'severus…”': 1, '“…d': 1, 'mumbling': 1, 'beast': 2, '“b': 2, 'enemy': 1, 'you—”': 1, 'steadied': 1, 'pocus': 1, 'hocus': 1, 'loyalties': 1, 'thumping': 1, 'anti': 2, 'pocus’': 1, '‘hocus': 1, 'stone’s': 5, '“it’ll': 2, 'fourteen': 2, 'norbert': 20, 'ridgeback': 4, 'norwegian': 4, 'thinner': 1, 'q': 1, 'uirrell': 1, 'paler': 1, 'encouraging': 1, 'press': 1, 'growling': 1, 'coding': 1, 'schedules': 2, 'minded': 1, 'exams': 9, '“ten': 1, 'crazy': 2, 'reciting': 1, 'relax': 3, 'easter': 1, 'longingly': 1, '“dittany”': 1, 'what’re': 1, 'shifty': 1, 'suspicious': 1, 'st—”': 1, 'impressively': 1, '“shhhh': 2, 'shoutin’': 1, 'aren’': 1, 'promisin’': 1, 'rabbitin’': 1, 'thoughtfully': 2, 'keeper’s': 1, '“dragons': 1, 'inferno': 1, 'ireland': 1, 'species': 1, 'tame': 1, 'breeding': 2, 'burns': 1, 'convention': 1, '1709': 1, 'laws': 1, 'warlocks’': 1, 'outlawed': 1, 'hebridean': 1, '“common': 1, 'hushing': 1, 'welsh': 1, 'blacks': 1, 'earth’s': 1, 'gamekeeper’s': 1, 'stifling': 1, 'refused': 1, 'stoat': 2, 'bush': 2, 'frowned': 1, 'beats': 1, 's’ppose': 1, '“number': 1, '“o’': 1, 'flattering': 1, 'that…let’s': 1, 's’pose': 1, 'me…then': 1, 'enchantments…professor': 1, 'guarded': 1, 'protecting': 1, 'fiddling': 1, 'er…”': 1, '“won': 1, 'drinks': 1, 'havin’': 1, 'honest': 1, 'hatched': 1, 'diff’rent': 2, 'doin’': 1, 'profit': 1, 'readin’': 1, 'em': 1, 'feed': 2, 'breathe': 5, 'pleasure': 1, 'hatches': 1, 'mothers': 1, 'stoked': 1, 'humming': 1, 'illegal': 2, 'peaceful': 1, 'hatching': 2, 'skip': 1, 'doing—”': 1, 'greeted': 1, 'argued': 1, 'trowels': 1, 'ushered': 1, 'clicking': 1, 'bated': 1, 'stubs': 1, 'spiny': 1, 'sneezed': 1, 'stroke': 1, '“isn’t': 1, 'mommy': 2, 'ridgebacks': 1, 'drained': 2, '“someone': 1, 'runnin’': 1, 'darkened': 1, '“set': 1, 'furling': 1, 'gamekeeping': 1, 'duties': 1, 'marbles': 1, 'norbert’s': 2, 'dump': 1, '“charlie': 1, '“brilliant': 3, 'chimed': 1, 'lullaby': 1, '“she’ll': 1, 'tallest': 3, 'love': 2, 'cover': 3, 'shade': 1, 'swollen': 1, 'hitch': 1, 'state': 2, '“although': 1, 'believes': 2, 'feels': 1, 'sweat': 2, 'soothe': 1, 'hoarse': 3, 'bandaged': 1, 'puffed': 1, 'stage': 1, '“norbert’s': 1, 'boot': 1, '“aargh': 1, 'playin’': 1, 'rattle': 1, 'arriving': 1, 'tennis': 1, 'lonely': 1, 'teddy': 2, '“mommy': 1, 'heaved': 2, 'shortcuts': 1, 'grappling': 1, 'flared': 2, 'outlines': 1, 'forgetting': 1, 'net': 1, 'tartan': 1, '“detention': 1, 'lies': 3, 'utter': 1, 'easiest': 1, 'jig': 1, 'detention': 4, 'advised': 1, 'thrashing': 2, 'harness': 1, 'rigged': 1, 'thanked': 1, 'cheery': 1, 'suspend': 1, 'going…going…gone': 1, 'happiness': 1, 'loomed': 1, 'hings': 1, 'creeping': 2, 'chased': 1, 'astronomy': 3, 'excuses': 1, 'alibis': 1, 'cornered': 1, 'drag—”': 1, 'violently': 1, 'likely': 1, 'slippers': 1, 'bull': 1, 'cock': 1, 'blundering': 1, 'especially': 3, 'receive': 1, '“four': 1, 'detentions': 2, '“fifty': 2, 'ashamed': 2, 'comfort': 2, 'dreading': 1, 'dawn': 2, 'hero': 2, 'there’d': 1, 'recorded': 1, 'hourglasses': 1, 'popular': 1, 'admired': 1, 'insulted': 1, 'owe': 1, 'longing': 1, '“they’ll': 1, '“they’ve': 1, 'meddle': 1, 'resign': 1, 'repair': 1, '“resign': 1, 'good’ll': 1, 'suffering': 2, 'rebellions': 1, 'misery': 2, 'memorize': 1, 'whimpering': 1, 'due': 1, 'unexpected': 1, 'resolution': 1, 'sob': 1, 'straightening': 1, 'meddling': 1, 'gambled': 1, 'spring': 1, 'testing': 1, 'kindling': 1, '“quirrell’s': 1, 'proof': 2, 'dumbledore’ll': 1, 'sacked': 2, 'depended': 1, 'jupiter': 1, 'delivered': 1, 'furor': 1, 'deserved': 1, 'lighting': 1, 'chains': 1, 'leering': 1, 'oiled': 1, 'pity': 1, 'wrists': 1, 'out…hang': 1, 'needed…right': 1, 'punishments': 1, 'yes…hard': 1, 'sniffing': 1, 'scudding': 1, 'mistaken': 1, 'oaf': 1, 'moan': 1, 'werewolves': 2, 'cracking': 2, '“should’ve': 1, 'arrows': 1, '“abou’': 1, 'waitin’': 1, 'lecturin’': 1, '‘snot': 1, '“yeh’ve': 1, 'he’d—”': 1, 'father’d': 1, '“—tell': 1, 'good’s': 1, '“copyin’': 1, 'gaze': 1, 'risks': 1, 'winding': 2, 'track': 1, 'shinin’': 1, 'staggerin’': 1, 'trail': 1, 'inter': 2, 'fang’s': 1, 'coward': 1, 'hermione’ll': 1, 'fang’ll': 1, 'killing': 2, 'creatures': 2, 'mossy': 1, 'stump': 1, 'can’t’ve': 1, 'hoisted': 1, 'arrow': 1, 'listened': 2, 'shouldn’': 1, 'wasn’': 1, 'grimly': 2, '“show': 1, 'horse’s': 1, 'chestnut': 1, 'reddish': 1, 'ronan': 18, 'centaur’s': 1, 'sorrowful': 1, '“were': 1, 'loose': 1, 'centaur': 7, '“erm': 1, '“mars': 3, 'victims': 1, 'innocent': 1, '“unusually': 1, 'meanin’': 1, 'secrets': 1, 'hides': 1, 'bow': 1, 'bodied': 1, 'bane': 12, '“hullo': 2, 'injured': 1, 'stargazers': 1, '“try': 1, 'closer’n': 1, 'mostly': 1, 'centaurs…they': 1, 'turnin’': 1, 'things…jus’': 1, 'few…': 1, 'hooves': 2, 'dense': 2, 'undergrowth': 1, 'neville…it’s': 1, 'sharper': 1, 'panicked': 1, 'sneaked': 1, 'fuming': 1, 'frightenin’': 1, 'changin’': 1, 'idiot': 3, 'makin’': 1, 'splashes': 1, 'thicker': 1, 'inched': 1, 'slender': 1, 'lowered': 3, 'stalking': 1, 'animal’s': 1, 'cloaked': 1, 'freeze': 1, '…then': 1, '“aaaaaaaaaargh': 1, 'dribbling': 1, 'blinded': 1, 'staggered': 1, 'charging': 1, 'pierced': 1, 'galloping': 2, 'palomino': 1, 'sapphires': 1, 'lingering': 1, 'astonishingly': 1, 'livid': 1, 'firenze': 14, 'flanks': 1, 'heaving': 1, '“firenze': 2, 'mule': 1, '“remember': 1, 'pawed': 2, 'donkeys': 1, 'humans': 3, 'centaurs': 3, 'foretold': 1, 'stray': 1, 'hind': 1, 'reared': 1, 'alongside': 1, 'whisked': 1, '“why’s': 1, 'horn': 1, 'commit': 1, 'defenseless': 1, 'gain': 1, 'slain': 1, 'price': 1, 'cursed': 4, 'inch': 1, 'slay': 1, 'firenze’s': 1, 'dappled': 1, 'death’s': 1, 'clung': 1, 'awaiting': 1, 'unicorn’s': 1, 'examine': 2, 'wrongly': 1, 'shivering': 1, 'cantered': 1, 'fouls': 1, 'rich…': 1, 'voldemort…and': 1, 'forest…and': 2, 'furious…he': 1, '…bane': 1, 'happen…': 1, 'feverishly': 1, 'bane’ll': 1, 'imprecise': 1, 'branch': 1, 'night’s': 2, 'throats': 1, 'surprises': 2, 'exhausted': 1, 'sore': 2, 'sweltering': 1, 'papers': 2, 'anticheating': 1, 'forgetfulness': 1, 'snuffbox': 1, 'tapdance': 1, 'pineapple': 1, 'practical': 1, 'pains': 1, 'dripping': 1, 'bothering': 1, 'stabbing': 1, 'exam': 5, 'foreheads': 1, 'fret': 1, 'visiting': 1, 'answering': 1, 'selfstirring': 1, 'invented': 2, 'batty': 1, 'elfric': 1, '1637': 1, 'uprising': 1, 'flocking': 1, 'code': 1, 'needn’t': 3, 'conduct': 1, 'tentacles': 1, 'shallows': 1, 'basking': 1, 'squid': 1, 'tickling': 1, 'warning…it': 1, 'coming…': 1, 'danger’s': 1, 'lets': 1, 'betray': 1, 'unsettled': 1, 'fluffy…never…but…': 1, '“where’re': 1, 'wander': 1, 'grassy': 1, 'slope': 1, 'law': 1, 'shelling': 1, '“finished': 1, 'hood': 1, 'dealer': 1, 'hog’s': 1, 'mightn’': 1, '“mighta': 1, 'him…an’': 1, 'wanted…but': 1, 'can’': 1, 'see…yeah': 1, 'dragon…an’': 1, 'home…': 1, 'here…he': 1, 'after…so': 1, 'drinks…let’s': 1, 'then…i': 1, 'buyin’': 1, '“yeah…he': 1, 'dogs': 1, 'fluffy’s': 1, 'horrified': 2, '“forget': 1, 'hey': 1, 'shouldn’ta': 1, 'where’re': 1, 'fishy': 1, 'urgent': 1, 'demands': 1, '“something': 1, 'winds': 1, 'caution': 2, 'tumbled': 1, 'sn—': 1, 'suspicion': 1, 'assured': 1, 'enjoy': 1, 'sunshine': 1, '“hanging': 1, 'wanderings': 1, 'personally': 1, '“‘oh': 1, 'wrong…': 1, 'separating': 1, '“enough': 1, 'stormed': 1, 'what”': 1, 'd’you': 1, 'useful…': 1, '“flitwick': 1, 'percent': 1, 'pocketed': 1, 'freedom': 1, 'bid': 1, 'trevor': 2, 'hurriedly': 1, 'waste': 2, 'steeling': 1, 'exasperation': 1, '“petrificus': 1, 'totalus': 1, 'rigid': 1, '“what’ve': 1, 'bind': 2, 'statue’s': 1, 'motionless': 1, 'skulking': 1, 'omen': 1, 'lamplike': 1, 'carpet': 1, 'loosening': 2, 'ghoulie': 1, 'wee': 1, 'beastie': 1, 'ghostie': 1, '“know': 1, 'unseen': 1, 'forgive': 4, 'bloodiness': 1, 'greasily': 1, 'peevsie': 1, 'scooted': 1, 'impress': 1, 'creaked': 1, 'harp': 1, '“looks': 1, 'beast’s': 1, 'droop': 1, 'ceased': 1, 'tottered': 1, 'smelly': 1, 'approached': 1, 'ring': 1, 'gritted': 1, 'seconds’': 1, 'fingertips': 1, 'flump': 1, 'thump': 1, 'landing': 2, 'sprawled': 1, 'bark': 1, '“lucky': 3, 'thing’s': 1, 'twist': 1, 'creepers': 1, 'struggle': 1, 'tendrils': 1, 'tighter': 1, 'snare': 4, 'devil’s': 4, 'curling': 1, 'snare…what': 1, 'likes': 1, '“devil’s': 1, 'wringing': 1, 'wriggling': 1, 'flailing': 1, 'bodies': 1, 'cringed': 1, 'bluebell': 1, 'unraveled': 1, 'crisis': 1, '‘there’s': 1, 'drip': 1, 'gentle': 1, 'fully': 1, 'trickling': 1, 'enough…': 1, 'clinking': 1, 'know…sounds': 1, 'arching': 1, 'tumbling': 1, 'brilliantly': 1, 'once…well': 1, 'choice…i’ll': 1, 'vicious': 1, 'beaks': 1, 'untouched': 1, 'tugged': 1, 'alohomora': 1, 'birds…they': 1, 'decoration': 2, 'soaring': 2, 'squinted': 1, '“…yes': 1, 'winged': 1, 'flock': 1, 'mean…”': 1, 'fashioned': 1, 'midst': 1, 'darted': 2, 'spotting': 1, 'minute’s': 1, 'weaving': 1, 'rainbow': 1, 'knack': 2, 'damaged': 1, 'rocketed': 1, 'rammed': 1, '“ready': 3, 'chessboard': 1, 'helmeted': 1, 'knight’s': 1, 'about…”': 1, 'pieces…': 1, 'offended': 2, 'bishop': 3, 'squares': 3, 'plays': 1, '“yes…look…”': 1, '“white': 1, 'pawn': 1, 'diagonally': 1, 'smashed': 1, 'queen': 3, '“leaves': 1, '“had': 1, 'limp': 1, 'mercy': 2, 'think…”': 1, '“yes…”': 2, 'way…i’ve': 1, 'king': 2, 'checkmate': 1, 'sacrifices': 1, 'alternative': 1, '“here': 2, 'pounced': 1, 'spaces': 1, 'charged': 1, 'crown': 1, 'convince': 1, 'reckon’s': 1, 'transfigured': 1, 'sprout’s': 1, 'tackled': 1, 'larger': 1, 'watering': 1, 'differently': 1, 'onward': 2, 'instant': 2, 'threshold': 1, 'safety': 1, 'transport': 1, 'nettle': 2, 'killers': 1, 'bidden': 1, 'forevermore': 1, 'slyly': 1, 'poison': 3, 'wine’s': 1, 'holds': 1, 'dwarf': 1, 'logic': 2, 'puzzle': 1, '“everything': 1, 'swallow': 1, 'bravery': 2, 'friendship': 1, 'cleverness': 1, '“books': 1, '“positive': 1, 'wears': 1, 'flooding': 1, 'braced': 1, 'type': 1, 'st': 1, 'suspect': 1, 'overgrown': 1, '“severus': 1, 'treble': 1, 'unpopular…and': 1, 'really…he': 1, 'scurrying': 1, 'nosy': 1, '“certainly': 1, 'trolls': 1, 'this…but': 1, 'back…”': 1, 'london…i’ll': 1, '“trust': 1, 'concentrating': 1, 'idly': 1, 'frighten': 1, 'side…': 1, 'master…but': 1, 'stone…i’m': 1, 'presenting': 1, 'binding': 2, 'loathed': 1, '“heavens': 1, 'spasm': 1, '“sometimes': 1, 'instructions': 1, 'master’s': 1, 'served': 1, 'me…decided': 1, 'faithfully': 1, 'it…since': 1, 'displeased': 1, 'traveled': 1, 'mistakes': 1, 'trailed': 1, 'understand…is': 1, '“use': 1, 'boy…use': 1, 'incredibly': 1, 'lies…he': 1, 'him…face': 1, 'face…”': 1, '“master': 2, 'this…”': 1, 'enough…for': 1, 'rooting': 1, 'muscle': 1, 'slits': 1, 'potter…”': 2, 'minds…unicorn': 1, 'faithful': 1, 'willing': 1, 'own…': 1, 'create': 1, 'another’s': 1, 'vapor…': 1, 'weeks…you': 1, 'strengthened': 1, 'now…why': 1, '“mere': 1, 'body…but': 1, 'surged': 1, 'me…or': 1, 'mercy…”': 1, 'begging': 1, 'parents…they': 1, '“liar': 1, 'bravery…': 1, 'brave…i': 1, 'courageous': 1, 'fight…but': 1, 'died…she': 1, 'touching…”': 1, 'you…now': 1, 'vain': 1, 'value': 1, 'lessened': 1, 'blistering': 2, '“seize': 2, 'seared': 1, 'flame': 1, 'seize': 1, 'lunged': 1, 'agony': 2, 'cannot': 4, 'pinning': 1, 'raw': 1, 'palms': 1, 'perform': 1, 'instinct': 1, 'deadly': 2, '“aaaargh': 1, 'yells': 1, '“kill': 1, 'down…': 1, 'down…down…': 1, 'grasp': 1, 'blackness': 1, 'swam': 1, '“quirrell': 2, '“calm': 1, 'linen': 1, 'responsible': 1, 'hygienic': 1, 'confiscated': 1, 'naturally': 1, '“tokens': 1, 'misters': 1, 'admirers': 1, 'prevent': 1, 'distracted': 1, '–”': 1, 'blankly': 1, '“destroyed': 1, 'stored': 1, 'affairs': 1, 'beings': 1, 'precisely': 1, 'organized': 2, 'thinking…sir': 1, 'increases': 1, 'truly': 1, 'delayed': 1, 'nevertheless': 1, 'merely': 1, 'share…not': 1, 'me…things': 1, 'treated': 1, 'beg': 1, 'therefore': 2, '“well…voldemort': 1, 'older…i': 1, 'day…put': 1, '“alas': 2, 'this…when': 1, 'loved': 1, 'marked': 1, 'sign…to': 1, 'hatred': 1, 'sheet': 1, 'twinkled': 1, 'things…your': 1, '“useful': 1, 'else…”': 1, '“fire': 1, 'unlike': 1, 'detest': 1, 'debt…i': 1, 'dreamily': 1, 'hating': 1, 'thing…”': 1, 'otherwise': 1, 'youth': 1, 'vomit': 1, 'toffee': 1, 'unfortunate': 1, 'sometimes…now': 1, 'nurse': 1, 'pleaded': 1, 'in…': 1, 'resting': 1, 'pomfrey…”': 1, 'fling': 1, 'audience': 1, '“flamel’s': 1, '‘to': 1, 'rocker': 2, '‘harry’s': 1, '“sending': 1, 'stopping': 1, 'could…': 1, 'accident': 1, 'steamrollered': 1, 'food’ll': 1, 'bustled': 1, 'out”': 1, 'risky': 1, 'indoors': 1, 'chucked': 1, 'remorse': 1, 'leaking': 1, 'grief': 1, 'chuckle': 1, 'sandwich': 1, 'fix': 1, 'shoulda': 1, 'any…d’yeh': 1, '“sent': 1, 'photos…knew': 1, 'serpent': 2, 'checkup': 1, 'insisting': 1, 'pomfrey’s': 1, 'slytherin’s': 1, 'fussing': 1, 'decked': 1, 'hush': 1, 'fortunately': 1, 'fuller': 1, 'waffle': 1, 'were…you': 1, 'awarding': 1, 'thus': 1, 'stamping': 1, 'account': 1, '“however': 1, 'slytherins’': 1, 'dish': 1, 'yes…': 1, 'weasley…”': 1, 'radish': 1, 'sunburn': 1, 'award': 4, '“…for': 2, '“second': 1, 'granger…for': 1, '“third': 1, 'din': 1, 'gradually': 1, 'kinds': 1, 'takes': 1, 'nudged': 1, 'explosion': 1, 'downfall': 1, 'jot': 1, 'trolls…he': 1, 'abysmal': 1, 'scraped': 1, 'grades': 1, 'boarding': 1, 'tidier': 1, 'towns': 1, 'greener': 1, 'wardrobes': 1, 'toilets': 1, 'threes': 1, 'gate': 1, 'alarming': 1, 'wizened': 1, 'twos': 1, '“both': 1, 'gateway': 2, 'squealed': 1, '“busy': 1, 'mustached': 1, 'manner': 1, 'holiday': 1, 'spreading': 1})\n"
          ]
        }
      ],
      "source": [
        "# Cantidad de veces quea aparece cada palabra en cada \"documento\"\n",
        "# (1 documento = 1 caso de entrada)\n",
        "print(tok.word_docs)"
      ]
    },
    {
      "cell_type": "markdown",
      "metadata": {
        "id": "uYfhWVLLzKVO"
      },
      "source": [
        "\n",
        "### Definir el modelo"
      ]
    },
    {
      "cell_type": "code",
      "execution_count": 24,
      "metadata": {
        "colab": {
          "base_uri": "https://localhost:8080/"
        },
        "id": "5UXA5hQfWVX1",
        "outputId": "59700857-fd11-4370-dc06-edc0dcb260b6"
      },
      "outputs": [
        {
          "name": "stdout",
          "output_type": "stream",
          "text": [
            "Model: \"sequential\"\n",
            "_________________________________________________________________\n",
            " Layer (type)                Output Shape              Param #   \n",
            "=================================================================\n",
            " embedding (Embedding)       (None, 17, 50)            333100    \n",
            "                                                                 \n",
            " gru (GRU)                   (None, 17, 100)           45600     \n",
            "                                                                 \n",
            " gru_1 (GRU)                 (None, 17, 100)           60600     \n",
            "                                                                 \n",
            " gru_2 (GRU)                 (None, 17, 100)           60600     \n",
            "                                                                 \n",
            " dense (Dense)               (None, 17, 6662)          672862    \n",
            "                                                                 \n",
            "=================================================================\n",
            "Total params: 1172762 (4.47 MB)\n",
            "Trainable params: 1172762 (4.47 MB)\n",
            "Non-trainable params: 0 (0.00 Byte)\n",
            "_________________________________________________________________\n"
          ]
        }
      ],
      "source": [
        "model = Sequential()\n",
        "\n",
        "# la primera capa es de embedding entrenable. Recordar que se puede variar el tamaño\n",
        "# del embedding a entrenar\n",
        "model.add(Embedding(input_dim=vocab_size+1, output_dim=50, input_shape=(max_context_size,)))\n",
        "\n",
        "model.add(GRU(100, return_sequences=True))\n",
        "# model.add(Dropout(0.2))\n",
        "\n",
        "model.add(GRU(100, return_sequences=True))\n",
        "model.add(GRU(100, return_sequences=True))\n",
        "# model.add(Dense(32, activation='relu'))\n",
        "\n",
        "# Predicción de clasificación con softmax\n",
        "# La salida es del tamaño del vocabulario\n",
        "model.add(Dense(vocab_size+1, activation='softmax'))\n",
        "\n",
        "\n",
        "# Clasificación multiple categórica --> loss = categorical_crossentropy\n",
        "# notar que usamos la versión Sparse para utilizar sólo índices en lugar de OHE\n",
        "model.compile(loss=SparseCategoricalCrossentropy(), optimizer=keras.optimizers.RMSprop(0.01))\n",
        "\n",
        "model.summary()"
      ]
    },
    {
      "cell_type": "markdown",
      "metadata": {
        "id": "YWK3z85sQfUe"
      },
      "source": [
        "Dado que por el momento no hay implementaciones adecuadas de la perplejidad que puedan operar en tiempo de entrenamiento, armaremos un Callback *ad-hoc* que la calcule en cada epoch.\n",
        "\n",
        "**Nota**: un Callback es una rutina gatillada por algún evento, son muy útiles para relevar datos en diferentes momentos del desarrollo del modelo. En este caso queremos hacer un cálculo cada vez que termina una epoch de entrenamiento."
      ]
    },
    {
      "cell_type": "code",
      "execution_count": 46,
      "metadata": {
        "id": "zUHX3r5JD-MG"
      },
      "outputs": [],
      "source": [
        "class PplCallback(keras.callbacks.Callback):\n",
        "\n",
        "    '''\n",
        "    Este callback es una solución ad-hoc para calcular al final de cada epoch de\n",
        "    entrenamiento la métrica de Perplejidad sobre un conjunto de datos de validación.\n",
        "    La perplejidad es una métrica cuantitativa para evaluar la calidad de la generación de secuencias.\n",
        "    Además implementa la finalización del entrenamiento (Early Stopping)\n",
        "    si la perplejidad no mejora después de `patience` epochs.\n",
        "    '''\n",
        "\n",
        "    def __init__(self, val_data, history_ppl, patience=5):\n",
        "      # El callback lo inicializamos con secuencias de validación sobre las cuales\n",
        "      # mediremos la perplejidad y la paciencia para detener el entrenamiento.\n",
        "      self.val_data = val_data\n",
        "\n",
        "      self.target = []\n",
        "      self.padded = []\n",
        "\n",
        "      count = 0\n",
        "      self.info = []\n",
        "      self.history_ppl = []\n",
        "      self.min_score = np.min(history_ppl,initial = np.inf)\n",
        "      self.patience_counter = 0\n",
        "      self.patience = patience\n",
        "\n",
        "      # nos movemos en todas las secuencias de los datos de validación\n",
        "      for seq in self.val_data:\n",
        "\n",
        "        len_seq = len(seq)\n",
        "        if len_seq ==0:\n",
        "          continue\n",
        "        # armamos todas las subsecuencias\n",
        "        subseq = [seq[:i] for i in range(len_seq)]\n",
        "        self.target.extend([seq[i] for i in range(len_seq)])\n",
        "\n",
        "        if len(subseq)!=0:\n",
        "\n",
        "          self.padded.append(pad_sequences(subseq, maxlen=max_context_size, padding='pre'))\n",
        "\n",
        "          self.info.append((count,count+len_seq))\n",
        "          count += len_seq\n",
        "\n",
        "      self.padded = np.vstack(self.padded)\n",
        "\n",
        "\n",
        "    def on_epoch_end(self, epoch, logs=None):\n",
        "\n",
        "        # en `scores` iremos guardando la perplejidad de cada secuencia\n",
        "        scores = []\n",
        "\n",
        "        predictions = self.model.predict(self.padded,verbose=0,batch_size=2)\n",
        "\n",
        "        # para cada secuencia de validación\n",
        "        for start,end in self.info:\n",
        "          if (end-start ==0):\n",
        "            print('Division por 0')\n",
        "            continue\n",
        "          # en `probs` iremos guardando las probabilidades de los términos target\n",
        "          probs = [predictions[idx_seq,-1,idx_vocab] for idx_seq, idx_vocab in zip(range(start,end),self.target[start:end])]\n",
        "\n",
        "          # calculamos la perplejidad por medio de logaritmos\n",
        "          scores.append(np.exp(-np.sum(np.log(probs))/(end-start)))\n",
        "\n",
        "        # promediamos todos los scores e imprimimos el valor promedio\n",
        "        current_score = np.mean(scores)\n",
        "        history_ppl.append(current_score)\n",
        "        print(f'\\n mean perplexity: {current_score} \\n')\n",
        "\n",
        "        # chequeamos si tenemos que detener el entrenamiento\n",
        "        if current_score < self.min_score:\n",
        "          self.min_score = current_score\n",
        "          self.model.save(\"my_model\")\n",
        "          print(\"Saved new model!\")\n",
        "          self.patience_counter = 0\n",
        "        else:\n",
        "          self.patience_counter += 1\n",
        "          if self.patience_counter == self.patience:\n",
        "            print(\"Stopping training...\")\n",
        "            self.model.stop_training = True\n"
      ]
    },
    {
      "cell_type": "markdown",
      "metadata": {
        "id": "8HBZIwR0gruA"
      },
      "source": [
        "### Entrenamiento"
      ]
    },
    {
      "cell_type": "code",
      "execution_count": 26,
      "metadata": {
        "id": "RhRmhGYk-KxB"
      },
      "outputs": [],
      "source": [
        "history_ppl = []"
      ]
    },
    {
      "cell_type": "code",
      "execution_count": 47,
      "metadata": {
        "colab": {
          "base_uri": "https://localhost:8080/"
        },
        "id": "oQq1PHDkxDvN",
        "outputId": "fe4bfcc1-edd3-480c-f673-681f1765aff5"
      },
      "outputs": [
        {
          "name": "stdout",
          "output_type": "stream",
          "text": [
            "Epoch 1/50\n",
            "277/277 [==============================] - ETA: 0s - loss: 1.9274\n",
            " mean perplexity: 38708.383591936254 \n",
            "\n",
            "277/277 [==============================] - 55s 199ms/step - loss: 1.9274\n",
            "Epoch 2/50\n",
            "277/277 [==============================] - ETA: 0s - loss: 1.7625\n",
            " mean perplexity: 56902.31883983049 \n",
            "\n",
            "277/277 [==============================] - 55s 200ms/step - loss: 1.7625\n",
            "Epoch 3/50\n",
            "277/277 [==============================] - ETA: 0s - loss: 1.6289\n",
            " mean perplexity: 73195.60625883612 \n",
            "\n",
            "277/277 [==============================] - 55s 199ms/step - loss: 1.6289\n",
            "Epoch 4/50\n",
            "277/277 [==============================] - ETA: 0s - loss: 1.5237\n",
            " mean perplexity: 78142.0381357276 \n",
            "\n",
            "277/277 [==============================] - 55s 199ms/step - loss: 1.5237\n",
            "Epoch 5/50\n",
            "277/277 [==============================] - ETA: 0s - loss: 1.4420\n",
            " mean perplexity: 133008.25632943743 \n",
            "\n",
            "Stopping training...\n",
            "277/277 [==============================] - 55s 200ms/step - loss: 1.4420\n"
          ]
        }
      ],
      "source": [
        "# fiteamos, nótese el agregado del callback con su inicialización. El batch_size lo podemos seleccionar a mano\n",
        "# en general, lo mejor es escoger el batch más grande posible que minimice el tiempo de cada época.\n",
        "# En la variable `history_ppl` se guardarán los valores de perplejidad para cada época.\n",
        "\n",
        "hist = model.fit(X, y, epochs=50, callbacks=[PplCallback(tokenized_sentences_val,history_ppl)], batch_size=2048)"
      ]
    },
    {
      "cell_type": "code",
      "execution_count": 48,
      "metadata": {
        "colab": {
          "base_uri": "https://localhost:8080/",
          "height": 430
        },
        "id": "K30JHB3Dv-mx",
        "outputId": "78338997-75f5-4702-8c85-ccd0041d7b56"
      },
      "outputs": [
        {
          "data": {
            "image/png": "[encoded data removed]",
            "text/plain": [
              "<Figure size 640x480 with 1 Axes>"
            ]
          },
          "metadata": {},
          "output_type": "display_data"
        }
      ],
      "source": [
        "import matplotlib.pyplot as plt\n",
        "import seaborn as sns\n",
        "\n",
        "# Podemos graficar la evolución de la perplejidad con las épocas.\n",
        "# Recordar que el valor de perplejidad del modelo trivial es el tamaño del vocabulario.\n",
        "epoch_count = range(1, len(history_ppl) + 1)\n",
        "sns.lineplot(x=epoch_count,  y=history_ppl)\n",
        "plt.show()"
      ]
    },
    {
      "cell_type": "code",
      "execution_count": 55,
      "metadata": {
        "id": "Rhy5hZN38qfO"
      },
      "outputs": [],
      "source": [
        "# Cargamos el mejor modelo guardado del entrenamiento para hacer inferencia\n",
        "model = keras.models.load_model('my_model')"
      ]
    },
    {
      "cell_type": "markdown",
      "metadata": {
        "id": "KN6Fg_BsxJe6"
      },
      "source": [
        "\n",
        "### Predicción de próxima palabra"
      ]
    },
    {
      "cell_type": "code",
      "execution_count": 30,
      "metadata": {
        "colab": {
          "base_uri": "https://localhost:8080/"
        },
        "id": "IBvKHFPmzpy2",
        "outputId": "4d1f1b88-d138-4b61-c78c-57bbbed88c96"
      },
      "outputs": [
        {
          "name": "stdout",
          "output_type": "stream",
          "text": [
            "  Preparing metadata (setup.py) ... \u001b[?25l\u001b[?25hdone\n",
            "\u001b[2K     \u001b[90m━━━━━━━━━━━━━━━━━━━━━━━━━━━━━━━━━━━━━━━━\u001b[0m \u001b[32m50.4/50.4 kB\u001b[0m \u001b[31m4.2 MB/s\u001b[0m eta \u001b[36m0:00:00\u001b[0m\n",
            "\u001b[2K   \u001b[90m━━━━━━━━━━━━━━━━━━━━━━━━━━━━━━━━━━━━━━━━\u001b[0m \u001b[32m12.4/12.4 MB\u001b[0m \u001b[31m61.2 MB/s\u001b[0m eta \u001b[36m0:00:00\u001b[0m\n",
            "\u001b[2K   \u001b[90m━━━━━━━━━━━━━━━━━━━━━━━━━━━━━━━━━━━━━━━━\u001b[0m \u001b[32m318.2/318.2 kB\u001b[0m \u001b[31m27.1 MB/s\u001b[0m eta \u001b[36m0:00:00\u001b[0m\n",
            "\u001b[2K   \u001b[90m━━━━━━━━━━━━━━━━━━━━━━━━━━━━━━━━━━━━━━━━\u001b[0m \u001b[32m75.6/75.6 kB\u001b[0m \u001b[31m7.5 MB/s\u001b[0m eta \u001b[36m0:00:00\u001b[0m\n",
            "\u001b[2K   \u001b[90m━━━━━━━━━━━━━━━━━━━━━━━━━━━━━━━━━━━━━━━━\u001b[0m \u001b[32m77.9/77.9 kB\u001b[0m \u001b[31m7.9 MB/s\u001b[0m eta \u001b[36m0:00:00\u001b[0m\n",
            "\u001b[2K   \u001b[90m━━━━━━━━━━━━━━━━━━━━━━━━━━━━━━━━━━━━━━━━\u001b[0m \u001b[32m141.1/141.1 kB\u001b[0m \u001b[31m11.5 MB/s\u001b[0m eta \u001b[36m0:00:00\u001b[0m\n",
            "\u001b[2K   \u001b[90m━━━━━━━━━━━━━━━━━━━━━━━━━━━━━━━━━━━━━━━━\u001b[0m \u001b[32m10.1/10.1 MB\u001b[0m \u001b[31m112.0 MB/s\u001b[0m eta \u001b[36m0:00:00\u001b[0m\n",
            "\u001b[2K   \u001b[90m━━━━━━━━━━━━━━━━━━━━━━━━━━━━━━━━━━━━━━━━\u001b[0m \u001b[32m62.8/62.8 kB\u001b[0m \u001b[31m6.4 MB/s\u001b[0m eta \u001b[36m0:00:00\u001b[0m\n",
            "\u001b[2K   \u001b[90m━━━━━━━━━━━━━━━━━━━━━━━━━━━━━━━━━━━━━━━━\u001b[0m \u001b[32m92.2/92.2 kB\u001b[0m \u001b[31m9.8 MB/s\u001b[0m eta \u001b[36m0:00:00\u001b[0m\n",
            "\u001b[2K   \u001b[90m━━━━━━━━━━━━━━━━━━━━━━━━━━━━━━━━━━━━━━━━\u001b[0m \u001b[32m58.3/58.3 kB\u001b[0m \u001b[31m5.6 MB/s\u001b[0m eta \u001b[36m0:00:00\u001b[0m\n",
            "\u001b[2K   \u001b[90m━━━━━━━━━━━━━━━━━━━━━━━━━━━━━━━━━━━━━━━━\u001b[0m \u001b[32m71.9/71.9 kB\u001b[0m \u001b[31m6.9 MB/s\u001b[0m eta \u001b[36m0:00:00\u001b[0m\n",
            "\u001b[2K   \u001b[90m━━━━━━━━━━━━━━━━━━━━━━━━━━━━━━━━━━━━━━━━\u001b[0m \u001b[32m129.9/129.9 kB\u001b[0m \u001b[31m12.5 MB/s\u001b[0m eta \u001b[36m0:00:00\u001b[0m\n",
            "\u001b[2K   \u001b[90m━━━━━━━━━━━━━━━━━━━━━━━━━━━━━━━━━━━━━━━━\u001b[0m \u001b[32m307.7/307.7 kB\u001b[0m \u001b[31m27.7 MB/s\u001b[0m eta \u001b[36m0:00:00\u001b[0m\n",
            "\u001b[2K   \u001b[90m━━━━━━━━━━━━━━━━━━━━━━━━━━━━━━━━━━━━━━━━\u001b[0m \u001b[32m341.4/341.4 kB\u001b[0m \u001b[31m30.4 MB/s\u001b[0m eta \u001b[36m0:00:00\u001b[0m\n",
            "\u001b[2K   \u001b[90m━━━━━━━━━━━━━━━━━━━━━━━━━━━━━━━━━━━━━━━━\u001b[0m \u001b[32m3.4/3.4 MB\u001b[0m \u001b[31m103.7 MB/s\u001b[0m eta \u001b[36m0:00:00\u001b[0m\n",
            "\u001b[2K   \u001b[90m━━━━━━━━━━━━━━━━━━━━━━━━━━━━━━━━━━━━━━━━\u001b[0m \u001b[32m1.2/1.2 MB\u001b[0m \u001b[31m70.2 MB/s\u001b[0m eta \u001b[36m0:00:00\u001b[0m\n",
            "\u001b[?25h  Building wheel for ffmpy (setup.py) ... \u001b[?25l\u001b[?25hdone\n"
          ]
        }
      ],
      "source": [
        "# Se puede usar gradio para probar el modelo\n",
        "# Gradio es una herramienta muy útil para crear interfaces para ensayar modelos\n",
        "# https://gradio.app/\n",
        "\n",
        "!pip install -q gradio"
      ]
    },
    {
      "cell_type": "code",
      "execution_count": 56,
      "metadata": {
        "colab": {
          "base_uri": "https://localhost:8080/",
          "height": 784
        },
        "id": "HNyBykvhzs7-",
        "outputId": "9be10a25-7f2a-4bf2-8675-d5a631db5c90"
      },
      "outputs": [
        {
          "name": "stdout",
          "output_type": "stream",
          "text": [
            "Setting queue=True in a Colab notebook requires sharing enabled. Setting `share=True` (you can turn this off by setting `share=False` in `launch()` explicitly).\n",
            "\n",
            "Colab notebook detected. This cell will run indefinitely so that you can see errors and logs. To turn off, set debug=False in launch().\n",
            "Running on public URL: https://c955e6247ae3c58a35.gradio.live\n",
            "\n",
            "This share link expires in 72 hours. For free permanent hosting and GPU upgrades, run `gradio deploy` from Terminal to deploy to Spaces (https://huggingface.co/spaces)\n"
          ]
        },
        {
          "data": {
            "text/html": [
              "<div><iframe src=\"https://c955e6247ae3c58a35.gradio.live\" width=\"100%\" height=\"500\" allow=\"autoplay; camera; microphone; clipboard-read; clipboard-write;\" frameborder=\"0\" allowfullscreen></iframe></div>"
            ],
            "text/plain": [
              "<IPython.core.display.HTML object>"
            ]
          },
          "metadata": {},
          "output_type": "display_data"
        },
        {
          "name": "stdout",
          "output_type": "stream",
          "text": [
            "[]\n",
            "1/1 [==============================] - 1s 1s/step\n",
            "0\n",
            "[8, 116, 9]\n",
            "1/1 [==============================] - 0s 23ms/step\n",
            "1\n",
            "Keyboard interruption in main thread... closing server.\n",
            "Killing tunnel 127.0.0.1:7860 <> https://c955e6247ae3c58a35.gradio.live\n"
          ]
        },
        {
          "data": {
            "text/plain": []
          },
          "execution_count": 56,
          "metadata": {},
          "output_type": "execute_result"
        }
      ],
      "source": [
        "import gradio as gr\n",
        "\n",
        "def model_response(human_text):\n",
        "\n",
        "    # Encodeamos\n",
        "    encoded = tok.texts_to_sequences([human_text])[0]\n",
        "    print(encoded)\n",
        "    # Si tienen distinto largo\n",
        "    encoded = pad_sequences([encoded], maxlen=max_context_size, padding='pre')\n",
        "\n",
        "    # Predicción softmax\n",
        "    y_hat = np.argmax(model.predict(encoded)[0,-1,:])\n",
        "\n",
        "    print(y_hat)\n",
        "    # Debemos buscar en el vocabulario la palabra\n",
        "    # que corresopnde al indice (y_hat) predicho por le modelo\n",
        "    out_word = ''\n",
        "    for word, index in tok.word_index.items():\n",
        "        if index == y_hat:\n",
        "            out_word = word\n",
        "            break\n",
        "\n",
        "    # Agrego la palabra a la frase predicha\n",
        "    return human_text + ' ' + out_word\n",
        "\n",
        "iface = gr.Interface(\n",
        "    fn=model_response,\n",
        "    inputs=[\"textbox\"],\n",
        "    outputs=\"text\")\n",
        "\n",
        "iface.launch(debug=True)"
      ]
    },
    {
      "cell_type": "markdown",
      "metadata": {
        "id": "mCeMWWupxN1-"
      },
      "source": [
        "### Generación de secuencias"
      ]
    },
    {
      "cell_type": "code",
      "execution_count": 32,
      "metadata": {
        "id": "bwbS_pfhxvB3"
      },
      "outputs": [],
      "source": [
        "def generate_seq(model, tokenizer, seed_text, max_length, n_words):\n",
        "    \"\"\"\n",
        "        Exec model sequence prediction\n",
        "\n",
        "        Args:\n",
        "            model (keras): modelo entrenado\n",
        "            tokenizer (keras tokenizer): tonenizer utilizado en el preprocesamiento\n",
        "            seed_text (string): texto de entrada (input_seq)\n",
        "            max_length (int): máxima longitud de la sequencia de entrada\n",
        "            n_words (int): números de palabras a agregar a la sequencia de entrada\n",
        "        returns:\n",
        "            output_text (string): sentencia con las \"n_words\" agregadas\n",
        "    \"\"\"\n",
        "    output_text = seed_text\n",
        "\t  # generate a fixed number of words\n",
        "    for _ in range(n_words):\n",
        "\t\t  # Tokenizamos\n",
        "      encoded = tokenizer.texts_to_sequences([output_text])[0]\n",
        "\n",
        "\t\t  # Si tienen distinto largo\n",
        "      encoded = pad_sequences([encoded], maxlen=max_length, padding='pre')\n",
        "\n",
        "\t\t  # Predicción softmax\n",
        "      y_hat = np.argmax(model.predict(encoded)[0,-1,:])\n",
        "\n",
        "      # Vamos concatenando las predicciones\n",
        "      out_word = ''\n",
        "\n",
        "      # Debemos buscar en el vocabulario la palabra\n",
        "      # que corresopnde al indice (y_hat) predicho por le modelo\n",
        "      for word, index in tokenizer.word_index.items():\n",
        "        if index == y_hat:\n",
        "          out_word = word\n",
        "          break\n",
        "\n",
        "\t\t  # Agrego las palabras a la frase predicha\n",
        "      output_text += ' ' + out_word\n",
        "\n",
        "    return output_text"
      ]
    },
    {
      "cell_type": "code",
      "execution_count": 57,
      "metadata": {
        "colab": {
          "base_uri": "https://localhost:8080/",
          "height": 209
        },
        "id": "JoFqRC5pxzqS",
        "outputId": "e10d6417-3822-4e33-e0d0-85a0ee2966ff"
      },
      "outputs": [
        {
          "name": "stdout",
          "output_type": "stream",
          "text": [
            "1/1 [==============================] - 0s 24ms/step\n",
            "1/1 [==============================] - 0s 23ms/step\n",
            "1/1 [==============================] - 0s 25ms/step\n",
            "1/1 [==============================] - 0s 24ms/step\n",
            "1/1 [==============================] - 0s 22ms/step\n",
            "1/1 [==============================] - 0s 22ms/step\n",
            "1/1 [==============================] - 0s 23ms/step\n",
            "1/1 [==============================] - 0s 23ms/step\n",
            "1/1 [==============================] - 0s 23ms/step\n",
            "1/1 [==============================] - 0s 24ms/step\n"
          ]
        },
        {
          "data": {
            "application/vnd.google.colaboratory.intrinsic+json": {
              "type": "string"
            },
            "text/plain": [
              "'Harry Potter was the only thing he was the only thing he was'"
            ]
          },
          "execution_count": 57,
          "metadata": {},
          "output_type": "execute_result"
        }
      ],
      "source": [
        "input_text='Harry Potter was'\n",
        "\n",
        "generate_seq(model, tok, input_text, max_length=max_context_size, n_words=10)"
      ]
    },
    {
      "cell_type": "markdown",
      "metadata": {
        "id": "drJ6xn5qW1Hl"
      },
      "source": [
        "###  Beam search y muestreo aleatorio"
      ]
    },
    {
      "cell_type": "code",
      "execution_count": 34,
      "metadata": {
        "id": "_vovn9XZW1Hl"
      },
      "outputs": [],
      "source": [
        "# funcionalidades para hacer encoding y decoding\n",
        "\n",
        "def encode(text,max_length=max_context_size):\n",
        "\n",
        "    encoded = tok.texts_to_sequences([text])[0]\n",
        "    encoded = pad_sequences([encoded], maxlen=max_length, padding='pre')\n",
        "\n",
        "    return encoded\n",
        "\n",
        "def decode(seq):\n",
        "    return tok.sequences_to_texts([seq])"
      ]
    },
    {
      "cell_type": "code",
      "execution_count": 35,
      "metadata": {
        "id": "I_lZiQwkW1Hl"
      },
      "outputs": [],
      "source": [
        "from scipy.special import softmax\n",
        "\n",
        "# función que selecciona candidatos para el beam search\n",
        "def select_candidates(pred,num_beams,vocab_size,history_probs,history_tokens,temp,mode):\n",
        "\n",
        "  # colectar todas las probabilidades para la siguiente búsqueda\n",
        "  pred_large = []\n",
        "\n",
        "  for idx,pp in enumerate(pred):\n",
        "    pred_large.extend(np.log(pp+1E-10)+history_probs[idx])\n",
        "\n",
        "  pred_large = np.array(pred_large)\n",
        "\n",
        "  # criterio de selección\n",
        "  if mode == 'det':\n",
        "    idx_select = np.argsort(pred_large)[::-1][:num_beams] # beam search determinista\n",
        "  elif mode == 'sto':\n",
        "    idx_select = np.random.choice(np.arange(pred_large.shape[0]), num_beams, p=softmax(pred_large/temp)) # beam search con muestreo aleatorio\n",
        "  else:\n",
        "    raise ValueError(f'Wrong selection mode. {mode} was given. det and sto are supported.')\n",
        "\n",
        "  # traducir a índices de token en el vocabulario\n",
        "  new_history_tokens = np.concatenate((np.array(history_tokens)[idx_select//vocab_size],\n",
        "                        np.array([idx_select%vocab_size]).T),\n",
        "                      axis=1)\n",
        "\n",
        "  # devolver el producto de las probabilidades (log) y la secuencia de tokens seleccionados\n",
        "  return pred_large[idx_select.astype(int)], new_history_tokens.astype(int)\n",
        "\n",
        "\n",
        "def beam_search(model,num_beams,num_words,input,temp=1,mode='det'):\n",
        "\n",
        "    # first iteration\n",
        "\n",
        "    # encode\n",
        "    encoded = encode(input)\n",
        "\n",
        "    # first prediction\n",
        "    y_hat = model.predict(encoded,verbose=0)[0,-1,:]\n",
        "\n",
        "    # get vocabulary size\n",
        "    vocab_size = y_hat.shape[0]\n",
        "\n",
        "    # initialize history\n",
        "    history_probs = [0]*num_beams\n",
        "    history_tokens = [encoded[0]]*num_beams\n",
        "\n",
        "    # select num_beams candidates\n",
        "    history_probs, history_tokens = select_candidates([y_hat],\n",
        "                                        num_beams,\n",
        "                                        vocab_size,\n",
        "                                        history_probs,\n",
        "                                        history_tokens,\n",
        "                                        temp,\n",
        "                                        mode)\n",
        "\n",
        "    # beam search loop\n",
        "    for i in range(num_words-1):\n",
        "\n",
        "      preds = []\n",
        "\n",
        "      for hist in history_tokens:\n",
        "\n",
        "        # actualizar secuencia de tokens\n",
        "        input_update = np.array([hist[i+1:]]).copy()\n",
        "\n",
        "        # predicción\n",
        "        y_hat = model.predict(input_update,verbose=0)[0,-1,:]\n",
        "\n",
        "        preds.append(y_hat)\n",
        "\n",
        "      history_probs, history_tokens = select_candidates(preds,\n",
        "                                                        num_beams,\n",
        "                                                        vocab_size,\n",
        "                                                        history_probs,\n",
        "                                                        history_tokens,\n",
        "                                                        temp,\n",
        "                                                        mode)\n",
        "\n",
        "    return history_tokens"
      ]
    },
    {
      "cell_type": "code",
      "execution_count": 59,
      "metadata": {
        "id": "GeLqAoOYW1Hm"
      },
      "outputs": [],
      "source": [
        "# predicción con beam search.\n",
        "# Se pueden camiar los modos entre 'det' (determinista) y\n",
        "# 'sto' (estocástico)\n",
        "# para el caso estocástico también se puede variar la temperatura\n",
        "salidas = beam_search(model,num_beams=2,num_words=15,input=\"Harry Potter was\",temp=1,mode='sto')"
      ]
    },
    {
      "cell_type": "code",
      "execution_count": 44,
      "metadata": {
        "colab": {
          "base_uri": "https://localhost:8080/"
        },
        "id": "P8HQoLhw-NYg",
        "outputId": "e42b8857-2ee5-4182-b2d9-762706800dd4"
      },
      "outputs": [
        {
          "data": {
            "text/plain": [
              "(2, 32)"
            ]
          },
          "execution_count": 44,
          "metadata": {},
          "output_type": "execute_result"
        }
      ],
      "source": [
        "# tenemos `num_beams` salidas ordenadas de mayor a menor likelihood\n",
        "salidas.shape"
      ]
    },
    {
      "cell_type": "code",
      "execution_count": 60,
      "metadata": {
        "colab": {
          "base_uri": "https://localhost:8080/"
        },
        "id": "2S3_I3S1W1Hm",
        "outputId": "a1fdc4bb-cd54-4630-a200-f647b1aac696"
      },
      "outputs": [
        {
          "data": {
            "text/plain": [
              "['harry potter was sitting at the first face harry it steadied its eyes into the day which swooped']"
            ]
          },
          "execution_count": 60,
          "metadata": {},
          "output_type": "execute_result"
        }
      ],
      "source": [
        "# veamos las salidas\n",
        "decode(salidas[0])"
      ]
    },
    {
      "cell_type": "markdown",
      "metadata": {
        "id": "Q_LlqmtEW1Hn"
      },
      "source": []
    }
  ],
  "metadata": {
    "accelerator": "GPU",
    "colab": {
      "gpuType": "L4",
      "provenance": []
    },
    "kernelspec": {
      "display_name": "Python 3",
      "name": "python3"
    },
    "language_info": {
      "codemirror_mode": {
        "name": "ipython",
        "version": 3
      },
      "file_extension": ".py",
      "mimetype": "text/x-python",
      "name": "python",
      "nbconvert_exporter": "python",
      "pygments_lexer": "ipython3",
      "version": "3.10.14"
    }
  },
  "nbformat": 4,
  "nbformat_minor": 0
}
