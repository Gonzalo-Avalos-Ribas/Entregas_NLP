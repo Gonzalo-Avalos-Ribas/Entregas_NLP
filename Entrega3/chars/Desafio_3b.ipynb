{
  "cells": [
    {
      "cell_type": "markdown",
      "metadata": {
        "id": "g3yeJGnCYxuF"
      },
      "source": [
        "<img src=\"https://github.com/hernancontigiani/ceia_memorias_especializacion/raw/master/Figures/logoFIUBA.jpg\" width=\"500\" align=\"center\">\n",
        "\n",
        "\n",
        "# Procesamiento de lenguaje natural\n",
        "## Modelo de lenguaje con tokenización por caracteres"
      ]
    },
    {
      "cell_type": "markdown",
      "metadata": {
        "id": "Iv5PEwGzZA9-"
      },
      "source": [
        "### Consigna\n",
        "- Seleccionar un corpus de texto sobre el cual entrenar el modelo de lenguaje.\n",
        "- Realizar el pre-procesamiento adecuado para tokenizar el corpus, estructurar el dataset y separar entre datos de entrenamiento y validación.\n",
        "- Proponer arquitecturas de redes neuronales basadas en unidades recurrentes para implementar un modelo de lenguaje.\n",
        "- Con el o los modelos que consideren adecuados, generar nuevas secuencias a partir de secuencias de contexto con las estrategias de greedy search y beam search determístico y estocástico. En este último caso observar el efecto de la temperatura en la generación de secuencias.\n",
        "\n",
        "\n",
        "### Sugerencias\n",
        "- Durante el entrenamiento, guiarse por el descenso de la perplejidad en los datos de validación para finalizar el entrenamiento. Para ello se provee un callback.\n",
        "- Explorar utilizar SimpleRNN (celda de Elman), LSTM y GRU.\n",
        "- rmsprop es el optimizador recomendado para la buena convergencia. No obstante se pueden explorar otros.\n"
      ]
    },
    {
      "cell_type": "code",
      "execution_count": 1,
      "metadata": {
        "id": "Y-QdFbHZYj7C"
      },
      "outputs": [],
      "source": [
        "import random\n",
        "import io\n",
        "import pickle\n",
        "\n",
        "import numpy as np\n",
        "import pandas as pd\n",
        "import matplotlib.pyplot as plt\n",
        "from sklearn.model_selection import train_test_split\n",
        "\n",
        "from tensorflow import keras\n",
        "from tensorflow.keras import layers\n",
        "from keras.utils import to_categorical\n",
        "from keras.models import Sequential\n",
        "from keras.layers import Dense, LSTM, GRU, Embedding, Dropout\n",
        "from tensorflow.keras.losses import SparseCategoricalCrossentropy"
      ]
    },
    {
      "cell_type": "markdown",
      "metadata": {
        "id": "xTvXlEKQZdqx"
      },
      "source": [
        "### Datos\n",
        "Utilizaremos como dataset canciones de bandas de habla inglés."
      ]
    },
    {
      "cell_type": "code",
      "execution_count": 2,
      "metadata": {
        "id": "7amy6uUaBLVD"
      },
      "outputs": [],
      "source": [
        "# descargar de textos.info\n",
        "import urllib.request\n",
        "\n",
        "# Para leer y parsear el texto en HTML de wikipedia\n",
        "import bs4 as bs"
      ]
    },
    {
      "cell_type": "code",
      "execution_count": 3,
      "metadata": {
        "id": "6v_ickFwBJTy"
      },
      "outputs": [],
      "source": [
        "raw_html = urllib.request.urlopen('https://www.textos.info/oscar-wilde/el-retrato-de-dorian-gray/ebook')\n",
        "raw_html = raw_html.read()\n",
        "\n",
        "# Parsear artículo, 'lxml' es el parser a utilizar\n",
        "article_html = bs.BeautifulSoup(raw_html, 'lxml')\n",
        "\n",
        "# Encontrar todos los párrafos del HTML (bajo el tag <p>)\n",
        "# y tenerlos disponible como lista\n",
        "article_paragraphs = article_html.find_all('p')\n",
        "\n",
        "article_text = ''\n",
        "\n",
        "for para in article_paragraphs:\n",
        "    article_text += para.text + ' '\n",
        "\n",
        "# pasar todo el texto a minúscula\n",
        "article_text = article_text.lower()"
      ]
    },
    {
      "cell_type": "code",
      "execution_count": 4,
      "metadata": {
        "colab": {
          "base_uri": "https://localhost:8080/",
          "height": 174
        },
        "id": "WBE0sSYuB-E6",
        "outputId": "a128ff45-b9a8-4c6e-d022-c2a4cd8825be"
      },
      "outputs": [
        {
          "data": {
            "text/plain": [
              "' el artista es creador de belleza. revelar el arte y ocultar al artista es la meta del arte. el crítico es quien puede traducir de manera distinta o con nuevos \\r\\nmateriales su impresión de la belleza. la forma más elevada de la \\r\\ncrítica, y también la más rastrera, es una modalidad de autobiografía. quienes descubren significados ruines en cosas hermosas están \\r\\ncorrompidos sin ser elegantes, lo que es un defecto. quienes encuentran \\r\\nsignificados bellos en cosas hermosas son espíritus cultivados. para \\r\\nellos hay esperanza. son los elegidos, y en su caso las cosas hermosas sólo significan belleza. no existen libros morales o inmorales. los libros están bien o mal escritos. eso es todo. la aversión del siglo por el realismo es la rabia de calibán al verse la cara en el espejo. la aversión del siglo por el romanticismo es la rabia de calibán al no verse la cara en un espejo. la vida moral del hombre forma parte de los temas del artista, pero \\r\\nla moralidad del arte consiste en hacer un '"
            ]
          },
          "execution_count": 4,
          "metadata": {},
          "output_type": "execute_result"
        }
      ],
      "source": [
        "# en article text se encuentra el texto de todo el libro\n",
        "article_text[:1000]"
      ]
    },
    {
      "cell_type": "markdown",
      "metadata": {
        "id": "cP1JdiOIKQWi"
      },
      "source": [
        "### Elegir el tamaño del contexto\n",
        "\n",
        "En este caso, como el modelo de lenguaje es por caracteres, todo un gran corpus\n",
        "de texto puede ser considerado un documento en sí mismo y el tamaño de contexto\n",
        "puede ser elegido con más libertad en comparación a un modelo de lenguaje tokenizado por palabras y dividido en documentos más acotados."
      ]
    },
    {
      "cell_type": "code",
      "execution_count": 5,
      "metadata": {
        "id": "wumBNwdjJM3j"
      },
      "outputs": [],
      "source": [
        "# seleccionamos el tamaño de contexto\n",
        "max_context_size = 100"
      ]
    },
    {
      "cell_type": "code",
      "execution_count": 6,
      "metadata": {
        "id": "m5FeTaGvbDbw"
      },
      "outputs": [],
      "source": [
        "# Usaremos las utilidades de procesamiento de textos y secuencias de Keras\n",
        "from tensorflow.keras.utils import pad_sequences # se utilizará para padding"
      ]
    },
    {
      "cell_type": "code",
      "execution_count": 7,
      "metadata": {
        "id": "573Cg5n7VhWw"
      },
      "outputs": [],
      "source": [
        "# en este caso el vocabulario es el conjunto único de caracteres que existe en todo el texto\n",
        "chars_vocab = set(article_text)"
      ]
    },
    {
      "cell_type": "code",
      "execution_count": 8,
      "metadata": {
        "colab": {
          "base_uri": "https://localhost:8080/"
        },
        "id": "VwTK6xgLJd8q",
        "outputId": "8588e28f-28e5-49cd-9df6-bf53d1472e69"
      },
      "outputs": [
        {
          "data": {
            "text/plain": [
              "65"
            ]
          },
          "execution_count": 8,
          "metadata": {},
          "output_type": "execute_result"
        }
      ],
      "source": [
        "# la longitud de vocabulario de caracteres es:\n",
        "len(chars_vocab)"
      ]
    },
    {
      "cell_type": "code",
      "execution_count": 9,
      "metadata": {
        "id": "2W0AeQjXV1Ou"
      },
      "outputs": [],
      "source": [
        "# Construimos los dicionarios que asignan índices a caracteres y viceversa.\n",
        "# El diccionario `char2idx` servirá como tokenizador.\n",
        "char2idx = {k: v for v,k in enumerate(chars_vocab)}\n",
        "idx2char = {v: k for k,v in char2idx.items()}"
      ]
    },
    {
      "cell_type": "markdown",
      "metadata": {
        "id": "2oIUjVU0LB0r"
      },
      "source": [
        "###  Tokenizar"
      ]
    },
    {
      "cell_type": "code",
      "execution_count": 10,
      "metadata": {
        "id": "h07G3srdJppo"
      },
      "outputs": [],
      "source": [
        "# tokenizamos el texto completo\n",
        "tokenized_text = [char2idx[ch] for ch in article_text]"
      ]
    },
    {
      "cell_type": "code",
      "execution_count": 11,
      "metadata": {
        "colab": {
          "base_uri": "https://localhost:8080/"
        },
        "id": "PwGVSKOiJ5bj",
        "outputId": "eb68980b-f7f8-4410-d2af-8c11ec00677b"
      },
      "outputs": [
        {
          "data": {
            "text/plain": [
              "[57, 40, 2, 57, 1, 35, 45, 6, 25, 45]"
            ]
          },
          "execution_count": 11,
          "metadata": {},
          "output_type": "execute_result"
        }
      ],
      "source": [
        "tokenized_text[:10]"
      ]
    },
    {
      "cell_type": "markdown",
      "metadata": {
        "id": "pfpYcaypKcI9"
      },
      "source": [
        "### Organizando y estructurando el dataset"
      ]
    },
    {
      "cell_type": "code",
      "execution_count": 12,
      "metadata": {
        "id": "WSSmg9jtKP0T"
      },
      "outputs": [],
      "source": [
        "# separaremos el dataset entre entrenamiento y validación.\n",
        "# `p_val` será la proporción del corpus que se reservará para validación\n",
        "# `num_val` es la cantidad de secuencias de tamaño `max_context_size` que se usará en validación\n",
        "p_val = 0.1\n",
        "num_val = int(np.ceil(len(tokenized_text)*p_val/max_context_size))"
      ]
    },
    {
      "cell_type": "code",
      "execution_count": 13,
      "metadata": {
        "id": "b7dCpGrdKll0"
      },
      "outputs": [],
      "source": [
        "# separamos la porción de texto utilizada en entrenamiento de la de validación.\n",
        "train_text = tokenized_text[:-num_val*max_context_size]\n",
        "val_text = tokenized_text[-num_val*max_context_size:]"
      ]
    },
    {
      "cell_type": "code",
      "execution_count": 14,
      "metadata": {
        "id": "NmxQdxl8LRCg"
      },
      "outputs": [],
      "source": [
        "tokenized_sentences_val = [val_text[init*max_context_size:init*(max_context_size+1)] for init in range(num_val)]"
      ]
    },
    {
      "cell_type": "code",
      "execution_count": 15,
      "metadata": {
        "id": "_gyFT9koLqDm"
      },
      "outputs": [],
      "source": [
        "tokenized_sentences_train = [train_text[init:init+max_context_size] for init in range(len(train_text)-max_context_size+1)]"
      ]
    },
    {
      "cell_type": "code",
      "execution_count": 16,
      "metadata": {
        "id": "oVNqmmLRodT0"
      },
      "outputs": [],
      "source": [
        "X = np.array(tokenized_sentences_train[:-1])\n",
        "y = np.array(tokenized_sentences_train[1:])"
      ]
    },
    {
      "cell_type": "markdown",
      "metadata": {
        "id": "Vken7O4ETsAJ"
      },
      "source": [
        "Nótese que estamos estructurando el problema de aprendizaje como *many-to-many*:\n",
        "\n",
        "Entrada: secuencia de tokens [$x_0$, $x_1$, ..., $x_N$]\n",
        "\n",
        "Target: secuencia de tokens [$x_1$, $x_2$, ..., $x_{N+1}$]\n",
        "\n",
        "De manera que la red tiene que aprender que su salida deben ser los tokens desplazados en una posición y un nuevo token predicho (el N+1).\n",
        "\n",
        "La ventaja de estructurar el aprendizaje de esta manera es que para cada token de target se propaga una señal de gradiente por el grafo de cómputo recurrente, que es mejor que estructurar el problema como *many-to-one* en donde sólo una señal de gradiente se propaga."
      ]
    },
    {
      "cell_type": "markdown",
      "metadata": {
        "id": "l3iPTx-UJl6r"
      },
      "source": [
        "En este punto tenemos en la variable `tokenized_sentences` los versos tokenizados. Vamos a quedarnos con un conjunto de validación que utilizaremos para medir la calidad de la generación de secuencias con la métrica de Perplejidad."
      ]
    },
    {
      "cell_type": "code",
      "execution_count": 17,
      "metadata": {
        "colab": {
          "base_uri": "https://localhost:8080/"
        },
        "id": "KFAyA4zCWE-5",
        "outputId": "e2e304a2-1a97-41ff-a41e-322ceea24c93"
      },
      "outputs": [
        {
          "data": {
            "text/plain": [
              "(419061, 100)"
            ]
          },
          "execution_count": 17,
          "metadata": {},
          "output_type": "execute_result"
        }
      ],
      "source": [
        "X.shape"
      ]
    },
    {
      "cell_type": "code",
      "execution_count": 18,
      "metadata": {
        "colab": {
          "base_uri": "https://localhost:8080/"
        },
        "id": "qcKRl70HFTzG",
        "outputId": "68ba8550-a1ed-480e-f70f-de551f268e04"
      },
      "outputs": [
        {
          "data": {
            "text/plain": [
              "array([57, 40,  2, 57,  1, 35, 45,  6, 25, 45])"
            ]
          },
          "execution_count": 18,
          "metadata": {},
          "output_type": "execute_result"
        }
      ],
      "source": [
        "X[0,:10]"
      ]
    },
    {
      "cell_type": "code",
      "execution_count": 19,
      "metadata": {
        "colab": {
          "base_uri": "https://localhost:8080/"
        },
        "id": "TVpLCKSZFXZO",
        "outputId": "d35e81df-b071-49b0-905b-da2ae6dac834"
      },
      "outputs": [
        {
          "data": {
            "text/plain": [
              "array([40,  2, 57,  1, 35, 45,  6, 25, 45,  1])"
            ]
          },
          "execution_count": 19,
          "metadata": {},
          "output_type": "execute_result"
        }
      ],
      "source": [
        "y[0,:10]"
      ]
    },
    {
      "cell_type": "code",
      "execution_count": 20,
      "metadata": {
        "id": "wOFCR-KqbW1N"
      },
      "outputs": [],
      "source": [
        "vocab_size = len(chars_vocab)"
      ]
    },
    {
      "cell_type": "markdown",
      "metadata": {
        "id": "tnnjdAQ5UAEJ"
      },
      "source": [
        "# Definiendo el modelo"
      ]
    },
    {
      "cell_type": "code",
      "execution_count": 21,
      "metadata": {
        "id": "rkMCZvmhrQz4"
      },
      "outputs": [],
      "source": [
        "from keras.layers import Input, TimeDistributed, CategoryEncoding, SimpleRNN, Dense\n",
        "from keras.models import Model, Sequential"
      ]
    },
    {
      "cell_type": "markdown",
      "metadata": {
        "id": "wgz7VKwTUbj6"
      },
      "source": [
        "El modelo que se propone como ejemplo consume los índices de los tokens y los transforma en vectores OHE (en este caso no entrenamos una capa de embedding para caracteres). Esa transformación se logra combinando las capas `CategoryEncoding` que transforma a índices a vectores OHE y `TimeDistributed` que aplica la capa a lo largo de la dimensión \"temporal\" de la secuencia."
      ]
    },
    {
      "cell_type": "code",
      "execution_count": 22,
      "metadata": {
        "colab": {
          "base_uri": "https://localhost:8080/"
        },
        "id": "Zd2OkfQYs2Q7",
        "outputId": "4c8750c9-a131-4c93-d6e5-6f3f909cba94"
      },
      "outputs": [
        {
          "name": "stdout",
          "output_type": "stream",
          "text": [
            "Model: \"sequential\"\n",
            "_________________________________________________________________\n",
            " Layer (type)                Output Shape              Param #   \n",
            "=================================================================\n",
            " time_distributed (TimeDistr  (None, None, 65)         0         \n",
            " ibuted)                                                         \n",
            "                                                                 \n",
            " simple_rnn (SimpleRNN)      (None, None, 200)         53200     \n",
            "                                                                 \n",
            " dense (Dense)               (None, None, 65)          13065     \n",
            "                                                                 \n",
            "=================================================================\n",
            "Total params: 66,265\n",
            "Trainable params: 66,265\n",
            "Non-trainable params: 0\n",
            "_________________________________________________________________\n"
          ]
        }
      ],
      "source": [
        "model = Sequential()\n",
        "\n",
        "model.add(TimeDistributed(CategoryEncoding(num_tokens=vocab_size, output_mode = \"one_hot\"),input_shape=(None,1)))\n",
        "model.add(SimpleRNN(200, return_sequences=True, dropout=0.1, recurrent_dropout=0.1 ))\n",
        "model.add(Dense(vocab_size, activation='softmax'))\n",
        "model.compile(loss='sparse_categorical_crossentropy', optimizer='rmsprop')\n",
        "\n",
        "model.summary()"
      ]
    },
    {
      "cell_type": "markdown",
      "metadata": {
        "id": "GmJWNyxQwfCE"
      },
      "source": [
        "\n",
        "### Definir el modelo"
      ]
    },
    {
      "cell_type": "markdown",
      "metadata": {
        "id": "YWK3z85sQfUe"
      },
      "source": [
        "Dado que por el momento no hay implementaciones adecuadas de la perplejidad que puedan operar en tiempo de entrenamiento, armaremos un Callback *ad-hoc* que la calcule en cada epoch.\n",
        "\n",
        "**Nota**: un Callback es una rutina gatillada por algún evento, son muy útiles para relevar datos en diferentes momentos del desarrollo del modelo. En este caso queremos hacer un cálculo cada vez que termina una epoch de entrenamiento."
      ]
    },
    {
      "cell_type": "code",
      "execution_count": 25,
      "metadata": {
        "id": "zUHX3r5JD-MG"
      },
      "outputs": [],
      "source": [
        "class PplCallback(keras.callbacks.Callback):\n",
        "\n",
        "    '''\n",
        "    Este callback es una solución ad-hoc para calcular al final de cada epoch de\n",
        "    entrenamiento la métrica de Perplejidad sobre un conjunto de datos de validación.\n",
        "    La perplejidad es una métrica cuantitativa para evaluar la calidad de la generación de secuencias.\n",
        "    Además implementa la finalización del entrenamiento (Early Stopping)\n",
        "    si la perplejidad no mejora después de `patience` epochs.\n",
        "    '''\n",
        "\n",
        "    def __init__(self, val_data, history_ppl,patience=5,model_name='my_model'):\n",
        "      # El callback lo inicializamos con secuencias de validación sobre las cuales\n",
        "      # mediremos la perplejidad\n",
        "      self.val_data = val_data\n",
        "\n",
        "      self.target = []\n",
        "      self.padded = []\n",
        "\n",
        "      count = 0\n",
        "      self.info = []\n",
        "      self.model_name = model_name\n",
        "      self.min_score = np.inf\n",
        "      self.patience_counter = 0\n",
        "      self.patience = patience\n",
        "\n",
        "      # nos movemos en todas las secuencias de los datos de validación\n",
        "      for seq in self.val_data:\n",
        "\n",
        "        len_seq = len(seq)\n",
        "        # armamos todas las subsecuencias\n",
        "        subseq = [seq[:i] for i in range(1,len_seq)]\n",
        "        self.target.extend([seq[i] for i in range(1,len_seq)])\n",
        "\n",
        "        if len(subseq)!=0:\n",
        "\n",
        "          self.padded.append(pad_sequences(subseq, maxlen=max_context_size, padding='pre'))\n",
        "\n",
        "          self.info.append((count,count+len_seq))\n",
        "          count += len_seq\n",
        "\n",
        "      self.padded = np.vstack(self.padded)\n",
        "\n",
        "\n",
        "    def on_epoch_end(self, epoch, logs=None):\n",
        "\n",
        "        # en `scores` iremos guardando la perplejidad de cada secuencia\n",
        "        scores = []\n",
        "\n",
        "        predictions = self.model.predict(self.padded,verbose=0, batch_size=2048)\n",
        "\n",
        "        # para cada secuencia de validación\n",
        "        for start,end in self.info:\n",
        "\n",
        "          # en `probs` iremos guardando las probabilidades de los términos target\n",
        "          probs = [predictions[idx_seq,-1,idx_vocab] for idx_seq, idx_vocab in zip(range(start,end),self.target[start:end])]\n",
        "\n",
        "          # calculamos la perplejidad por medio de logaritmos\n",
        "          scores.append(np.exp(-np.sum(np.log(probs))/(end-start)))\n",
        "\n",
        "        # promediamos todos los scores e imprimimos el valor promedio\n",
        "        current_score = np.mean(scores)\n",
        "        history_ppl.append(current_score)\n",
        "        print(f'\\n mean perplexity: {current_score} \\n')\n",
        "\n",
        "        # chequeamos si tenemos que detener el entrenamiento\n",
        "        if current_score < self.min_score:\n",
        "          self.min_score = current_score\n",
        "          self.model.save(self.model_name)\n",
        "          print(\"Saved new model!\")\n",
        "          self.patience_counter = 0\n",
        "        else:\n",
        "          self.patience_counter += 1\n",
        "          if self.patience_counter == self.patience:\n",
        "            print(\"Stopping training...\")\n",
        "            self.model.stop_training = True\n"
      ]
    },
    {
      "cell_type": "markdown",
      "metadata": {
        "id": "8HBZIwR0gruA"
      },
      "source": [
        "### Entrenamiento"
      ]
    },
    {
      "cell_type": "code",
      "execution_count": 26,
      "metadata": {
        "colab": {
          "base_uri": "https://localhost:8080/"
        },
        "id": "oQq1PHDkxDvN",
        "outputId": "7cb7856e-648f-4317-b5b0-5cecd4a7074e"
      },
      "outputs": [
        {
          "name": "stdout",
          "output_type": "stream",
          "text": [
            "Epoch 1/20\n",
            "205/205 [==============================] - ETA: 0s - loss: 2.2680\n",
            " mean perplexity: 8.074709427003222 \n",
            "\n",
            "INFO:tensorflow:Assets written to: my_model_Elman\\assets\n",
            "Saved new model!\n",
            "205/205 [==============================] - 40s 193ms/step - loss: 2.2680\n",
            "Epoch 2/20\n",
            "205/205 [==============================] - ETA: 0s - loss: 2.1381\n",
            " mean perplexity: 7.422574611110533 \n",
            "\n",
            "INFO:tensorflow:Assets written to: my_model_Elman\\assets\n",
            "Saved new model!\n",
            "205/205 [==============================] - 38s 184ms/step - loss: 2.1381\n",
            "Epoch 3/20\n",
            "205/205 [==============================] - ETA: 0s - loss: 2.0573\n",
            " mean perplexity: 6.772387428075349 \n",
            "\n",
            "INFO:tensorflow:Assets written to: my_model_Elman\\assets\n",
            "Saved new model!\n",
            "205/205 [==============================] - 38s 184ms/step - loss: 2.0573\n",
            "Epoch 4/20\n",
            "205/205 [==============================] - ETA: 0s - loss: 1.9875\n",
            " mean perplexity: 6.325850754296115 \n",
            "\n",
            "INFO:tensorflow:Assets written to: my_model_Elman\\assets\n",
            "Saved new model!\n",
            "205/205 [==============================] - 39s 189ms/step - loss: 1.9875\n",
            "Epoch 5/20\n",
            "205/205 [==============================] - ETA: 0s - loss: 1.9320\n",
            " mean perplexity: 5.945295875391227 \n",
            "\n",
            "INFO:tensorflow:Assets written to: my_model_Elman\\assets\n",
            "Saved new model!\n",
            "205/205 [==============================] - 38s 186ms/step - loss: 1.9320\n",
            "Epoch 6/20\n",
            "205/205 [==============================] - ETA: 0s - loss: 1.8886\n",
            " mean perplexity: 5.716040637898186 \n",
            "\n",
            "INFO:tensorflow:Assets written to: my_model_Elman\\assets\n",
            "Saved new model!\n",
            "205/205 [==============================] - 38s 184ms/step - loss: 1.8886\n",
            "Epoch 7/20\n",
            "205/205 [==============================] - ETA: 0s - loss: 1.8555\n",
            " mean perplexity: 5.58787719923396 \n",
            "\n",
            "INFO:tensorflow:Assets written to: my_model_Elman\\assets\n",
            "Saved new model!\n",
            "205/205 [==============================] - 39s 190ms/step - loss: 1.8555\n",
            "Epoch 8/20\n",
            "205/205 [==============================] - ETA: 0s - loss: 1.8298\n",
            " mean perplexity: 5.414363385883616 \n",
            "\n",
            "INFO:tensorflow:Assets written to: my_model_Elman\\assets\n",
            "Saved new model!\n",
            "205/205 [==============================] - 38s 185ms/step - loss: 1.8298\n",
            "Epoch 9/20\n",
            "205/205 [==============================] - ETA: 0s - loss: 1.8094\n",
            " mean perplexity: 5.344579829151268 \n",
            "\n",
            "INFO:tensorflow:Assets written to: my_model_Elman\\assets\n",
            "Saved new model!\n",
            "205/205 [==============================] - 39s 191ms/step - loss: 1.8094\n",
            "Epoch 10/20\n",
            "205/205 [==============================] - ETA: 0s - loss: 1.7932\n",
            " mean perplexity: 5.224559385602692 \n",
            "\n",
            "INFO:tensorflow:Assets written to: my_model_Elman\\assets\n",
            "Saved new model!\n",
            "205/205 [==============================] - 38s 185ms/step - loss: 1.7932\n",
            "Epoch 11/20\n",
            "205/205 [==============================] - ETA: 0s - loss: 1.7801\n",
            " mean perplexity: 5.148923876726183 \n",
            "\n",
            "INFO:tensorflow:Assets written to: my_model_Elman\\assets\n",
            "Saved new model!\n",
            "205/205 [==============================] - 38s 187ms/step - loss: 1.7801\n",
            "Epoch 12/20\n",
            "205/205 [==============================] - ETA: 0s - loss: 1.7690\n",
            " mean perplexity: 5.1176421889031944 \n",
            "\n",
            "INFO:tensorflow:Assets written to: my_model_Elman\\assets\n",
            "Saved new model!\n",
            "205/205 [==============================] - 38s 186ms/step - loss: 1.7690\n",
            "Epoch 13/20\n",
            "205/205 [==============================] - ETA: 0s - loss: 1.7600\n",
            " mean perplexity: 5.057035582619904 \n",
            "\n",
            "INFO:tensorflow:Assets written to: my_model_Elman\\assets\n",
            "Saved new model!\n",
            "205/205 [==============================] - 38s 184ms/step - loss: 1.7600\n",
            "Epoch 14/20\n",
            "205/205 [==============================] - ETA: 0s - loss: 1.7521\n",
            " mean perplexity: 5.018991375810428 \n",
            "\n",
            "INFO:tensorflow:Assets written to: my_model_Elman\\assets\n",
            "Saved new model!\n",
            "205/205 [==============================] - 39s 188ms/step - loss: 1.7521\n",
            "Epoch 15/20\n",
            "205/205 [==============================] - ETA: 0s - loss: 1.7459\n",
            " mean perplexity: 4.972970964421029 \n",
            "\n",
            "INFO:tensorflow:Assets written to: my_model_Elman\\assets\n",
            "Saved new model!\n",
            "205/205 [==============================] - 38s 187ms/step - loss: 1.7459\n",
            "Epoch 16/20\n",
            "205/205 [==============================] - ETA: 0s - loss: 1.7397\n",
            " mean perplexity: 4.9325528653663655 \n",
            "\n",
            "INFO:tensorflow:Assets written to: my_model_Elman\\assets\n",
            "Saved new model!\n",
            "205/205 [==============================] - 38s 187ms/step - loss: 1.7397\n",
            "Epoch 17/20\n",
            "205/205 [==============================] - ETA: 0s - loss: 1.7348\n",
            " mean perplexity: 4.900822614522716 \n",
            "\n",
            "INFO:tensorflow:Assets written to: my_model_Elman\\assets\n",
            "Saved new model!\n",
            "205/205 [==============================] - 37s 178ms/step - loss: 1.7348\n",
            "Epoch 18/20\n",
            "205/205 [==============================] - ETA: 0s - loss: 1.7304\n",
            " mean perplexity: 4.897161152144887 \n",
            "\n",
            "INFO:tensorflow:Assets written to: my_model_Elman\\assets\n",
            "Saved new model!\n",
            "205/205 [==============================] - 37s 180ms/step - loss: 1.7304\n",
            "Epoch 19/20\n",
            "205/205 [==============================] - ETA: 0s - loss: 1.7262\n",
            " mean perplexity: 4.877621375676491 \n",
            "\n",
            "INFO:tensorflow:Assets written to: my_model_Elman\\assets\n",
            "Saved new model!\n",
            "205/205 [==============================] - 37s 180ms/step - loss: 1.7262\n",
            "Epoch 20/20\n",
            "205/205 [==============================] - ETA: 0s - loss: 1.7225\n",
            " mean perplexity: 4.847917204527797 \n",
            "\n",
            "INFO:tensorflow:Assets written to: my_model_Elman\\assets\n",
            "Saved new model!\n",
            "205/205 [==============================] - 38s 185ms/step - loss: 1.7225\n"
          ]
        }
      ],
      "source": [
        "# fiteamos, nótese el agregado del callback con su inicialización. El batch_size lo podemos seleccionar a mano\n",
        "# en general, lo mejor es escoger el batch más grande posible que minimice el tiempo de cada época.\n",
        "# En la variable `history_ppl` se guardarán los valores de perplejidad para cada época.\n",
        "history_ppl = []\n",
        "hist = model.fit(X, y, epochs=20, callbacks=[PplCallback(tokenized_sentences_val,history_ppl,5,'my_model_Elman')], batch_size=2048)"
      ]
    },
    {
      "cell_type": "code",
      "execution_count": 27,
      "metadata": {
        "colab": {
          "base_uri": "https://localhost:8080/",
          "height": 431
        },
        "id": "K30JHB3Dv-mx",
        "outputId": "67fa87ee-7877-467c-a4d0-586ee054d214"
      },
      "outputs": [
        {
          "data": {
            "image/png": "[encoded data removed]",
            "text/plain": [
              "<Figure size 640x480 with 1 Axes>"
            ]
          },
          "metadata": {},
          "output_type": "display_data"
        }
      ],
      "source": [
        "import matplotlib.pyplot as plt\n",
        "import seaborn as sns\n",
        "\n",
        "# Entrenamiento\n",
        "epoch_count = range(1, len(history_ppl) + 1)\n",
        "sns.lineplot(x=epoch_count,  y=history_ppl)\n",
        "plt.show()"
      ]
    },
    {
      "cell_type": "markdown",
      "metadata": {
        "id": "OgXXH9qpAM1Y"
      },
      "source": [
        "###Usando LSTM"
      ]
    },
    {
      "cell_type": "code",
      "execution_count": 28,
      "metadata": {
        "colab": {
          "base_uri": "https://localhost:8080/"
        },
        "id": "pCIVbk9t_-zd",
        "outputId": "9bbba9f6-0ee4-4b2b-ce5d-39a069194596"
      },
      "outputs": [
        {
          "name": "stdout",
          "output_type": "stream",
          "text": [
            "WARNING:tensorflow:Layer lstm will not use cuDNN kernels since it doesn't meet the criteria. It will use a generic GPU kernel as fallback when running on GPU.\n",
            "Model: \"sequential_1\"\n",
            "_________________________________________________________________\n",
            " Layer (type)                Output Shape              Param #   \n",
            "=================================================================\n",
            " time_distributed_1 (TimeDis  (None, None, 65)         0         \n",
            " tributed)                                                       \n",
            "                                                                 \n",
            " lstm (LSTM)                 (None, None, 200)         212800    \n",
            "                                                                 \n",
            " dense_1 (Dense)             (None, None, 65)          13065     \n",
            "                                                                 \n",
            "=================================================================\n",
            "Total params: 225,865\n",
            "Trainable params: 225,865\n",
            "Non-trainable params: 0\n",
            "_________________________________________________________________\n"
          ]
        }
      ],
      "source": [
        "model1 = Sequential()\n",
        "\n",
        "model1.add(TimeDistributed(CategoryEncoding(num_tokens=vocab_size, output_mode = \"one_hot\"),input_shape=(None,1)))\n",
        "model1.add(LSTM(200, return_sequences=True, dropout=0.1, recurrent_dropout=0.1 ))\n",
        "model1.add(Dense(vocab_size, activation='softmax'))\n",
        "model1.compile(loss='sparse_categorical_crossentropy', optimizer='rmsprop')\n",
        "\n",
        "model1.summary()"
      ]
    },
    {
      "cell_type": "code",
      "execution_count": 29,
      "metadata": {
        "colab": {
          "base_uri": "https://localhost:8080/"
        },
        "id": "C2YkJlUCAH_s",
        "outputId": "563a1a3b-cd15-4287-a201-b17825734741"
      },
      "outputs": [
        {
          "name": "stdout",
          "output_type": "stream",
          "text": [
            "Epoch 1/20\n",
            "205/205 [==============================] - ETA: 0s - loss: 2.8192\n",
            " mean perplexity: 11.402097999109738 \n",
            "\n",
            "INFO:tensorflow:Assets written to: my_model_LSTM\\assets\n",
            "Saved new model!\n",
            "205/205 [==============================] - 131s 625ms/step - loss: 2.8192\n",
            "Epoch 2/20\n",
            "205/205 [==============================] - ETA: 0s - loss: 2.3162\n",
            " mean perplexity: 8.883076891465363 \n",
            "\n",
            "INFO:tensorflow:Assets written to: my_model_LSTM\\assets\n",
            "Saved new model!\n",
            "205/205 [==============================] - 126s 615ms/step - loss: 2.3162\n",
            "Epoch 3/20\n",
            "205/205 [==============================] - ETA: 0s - loss: 2.1526\n",
            " mean perplexity: 7.772527012993605 \n",
            "\n",
            "INFO:tensorflow:Assets written to: my_model_LSTM\\assets\n",
            "Saved new model!\n",
            "205/205 [==============================] - 127s 617ms/step - loss: 2.1526\n",
            "Epoch 4/20\n",
            "205/205 [==============================] - ETA: 0s - loss: 2.0411\n",
            " mean perplexity: 7.117497972634929 \n",
            "\n",
            "INFO:tensorflow:Assets written to: my_model_LSTM\\assets\n",
            "Saved new model!\n",
            "205/205 [==============================] - 127s 619ms/step - loss: 2.0411\n",
            "Epoch 5/20\n",
            "205/205 [==============================] - ETA: 0s - loss: 1.9486\n",
            " mean perplexity: 6.560629582566296 \n",
            "\n",
            "INFO:tensorflow:Assets written to: my_model_LSTM\\assets\n",
            "Saved new model!\n",
            "205/205 [==============================] - 128s 626ms/step - loss: 1.9486\n",
            "Epoch 6/20\n",
            "205/205 [==============================] - ETA: 0s - loss: 1.8693\n",
            " mean perplexity: 6.097295265543618 \n",
            "\n",
            "INFO:tensorflow:Assets written to: my_model_LSTM\\assets\n",
            "Saved new model!\n",
            "205/205 [==============================] - 128s 624ms/step - loss: 1.8693\n",
            "Epoch 7/20\n",
            "205/205 [==============================] - ETA: 0s - loss: 1.8008\n",
            " mean perplexity: 5.802527901984603 \n",
            "\n",
            "INFO:tensorflow:Assets written to: my_model_LSTM\\assets\n",
            "Saved new model!\n",
            "205/205 [==============================] - 128s 624ms/step - loss: 1.8008\n",
            "Epoch 8/20\n",
            "205/205 [==============================] - ETA: 0s - loss: 1.7419\n",
            " mean perplexity: 5.585914199426185 \n",
            "\n",
            "INFO:tensorflow:Assets written to: my_model_LSTM\\assets\n",
            "Saved new model!\n",
            "205/205 [==============================] - 129s 628ms/step - loss: 1.7419\n",
            "Epoch 9/20\n",
            "205/205 [==============================] - ETA: 0s - loss: 1.6909\n",
            " mean perplexity: 5.321471236559993 \n",
            "\n",
            "INFO:tensorflow:Assets written to: my_model_LSTM\\assets\n",
            "Saved new model!\n",
            "205/205 [==============================] - 128s 622ms/step - loss: 1.6909\n",
            "Epoch 10/20\n",
            "205/205 [==============================] - ETA: 0s - loss: 1.6467\n",
            " mean perplexity: 5.154889804124064 \n",
            "\n",
            "INFO:tensorflow:Assets written to: my_model_LSTM\\assets\n",
            "Saved new model!\n",
            "205/205 [==============================] - 129s 628ms/step - loss: 1.6467\n",
            "Epoch 11/20\n",
            "205/205 [==============================] - ETA: 0s - loss: 1.6085\n",
            " mean perplexity: 4.985971722993338 \n",
            "\n",
            "INFO:tensorflow:Assets written to: my_model_LSTM\\assets\n",
            "Saved new model!\n",
            "205/205 [==============================] - 127s 618ms/step - loss: 1.6085\n",
            "Epoch 12/20\n",
            "205/205 [==============================] - ETA: 0s - loss: 1.5753\n",
            " mean perplexity: 4.874993652438847 \n",
            "\n",
            "INFO:tensorflow:Assets written to: my_model_LSTM\\assets\n",
            "Saved new model!\n",
            "205/205 [==============================] - 126s 615ms/step - loss: 1.5753\n",
            "Epoch 13/20\n",
            "205/205 [==============================] - ETA: 0s - loss: 1.5460\n",
            " mean perplexity: 4.7532309842526015 \n",
            "\n",
            "INFO:tensorflow:Assets written to: my_model_LSTM\\assets\n",
            "Saved new model!\n",
            "205/205 [==============================] - 128s 623ms/step - loss: 1.5460\n",
            "Epoch 14/20\n",
            "205/205 [==============================] - ETA: 0s - loss: 1.5203\n",
            " mean perplexity: 4.691875481910058 \n",
            "\n",
            "INFO:tensorflow:Assets written to: my_model_LSTM\\assets\n",
            "Saved new model!\n",
            "205/205 [==============================] - 128s 625ms/step - loss: 1.5203\n",
            "Epoch 15/20\n",
            "205/205 [==============================] - ETA: 0s - loss: 1.4976\n",
            " mean perplexity: 4.625132213609457 \n",
            "\n",
            "INFO:tensorflow:Assets written to: my_model_LSTM\\assets\n",
            "Saved new model!\n",
            "205/205 [==============================] - 128s 625ms/step - loss: 1.4976\n",
            "Epoch 16/20\n",
            "205/205 [==============================] - ETA: 0s - loss: 1.4779\n",
            " mean perplexity: 4.593780481358149 \n",
            "\n",
            "INFO:tensorflow:Assets written to: my_model_LSTM\\assets\n",
            "Saved new model!\n",
            "205/205 [==============================] - 127s 621ms/step - loss: 1.4779\n",
            "Epoch 17/20\n",
            "205/205 [==============================] - ETA: 0s - loss: 1.4600\n",
            " mean perplexity: 4.531926746866873 \n",
            "\n",
            "INFO:tensorflow:Assets written to: my_model_LSTM\\assets\n",
            "Saved new model!\n",
            "205/205 [==============================] - 126s 616ms/step - loss: 1.4600\n",
            "Epoch 18/20\n",
            "205/205 [==============================] - ETA: 0s - loss: 1.4440\n",
            " mean perplexity: 4.512218684300779 \n",
            "\n",
            "INFO:tensorflow:Assets written to: my_model_LSTM\\assets\n",
            "Saved new model!\n",
            "205/205 [==============================] - 127s 622ms/step - loss: 1.4440\n",
            "Epoch 19/20\n",
            "205/205 [==============================] - ETA: 0s - loss: 1.4298\n",
            " mean perplexity: 4.489324032793984 \n",
            "\n",
            "INFO:tensorflow:Assets written to: my_model_LSTM\\assets\n",
            "Saved new model!\n",
            "205/205 [==============================] - 128s 626ms/step - loss: 1.4298\n",
            "Epoch 20/20\n",
            "205/205 [==============================] - ETA: 0s - loss: 1.4168\n",
            " mean perplexity: 4.474309006165637 \n",
            "\n",
            "INFO:tensorflow:Assets written to: my_model_LSTM\\assets\n",
            "Saved new model!\n",
            "205/205 [==============================] - 127s 621ms/step - loss: 1.4168\n"
          ]
        }
      ],
      "source": [
        "# fiteamos, nótese el agregado del callback con su inicialización. El batch_size lo podemos seleccionar a mano\n",
        "# en general, lo mejor es escoger el batch más grande posible que minimice el tiempo de cada época.\n",
        "# En la variable `history_ppl` se guardarán los valores de perplejidad para cada época.\n",
        "history_ppl = []\n",
        "hist = model1.fit(X, y, epochs=20, callbacks=[PplCallback(tokenized_sentences_val,history_ppl,5,'my_model_LSTM')], batch_size=2048)"
      ]
    },
    {
      "cell_type": "code",
      "execution_count": 30,
      "metadata": {
        "colab": {
          "base_uri": "https://localhost:8080/",
          "height": 434
        },
        "id": "_FmDnCUoAMMt",
        "outputId": "dba02cdc-5eaf-4ae7-b315-0a16da5e9e26"
      },
      "outputs": [
        {
          "data": {
            "image/png": "[encoded data removed]",
            "text/plain": [
              "<Figure size 640x480 with 1 Axes>"
            ]
          },
          "metadata": {},
          "output_type": "display_data"
        }
      ],
      "source": [
        "import matplotlib.pyplot as plt\n",
        "import seaborn as sns\n",
        "\n",
        "# Entrenamiento\n",
        "epoch_count = range(1, len(history_ppl) + 1)\n",
        "sns.lineplot(x=epoch_count,  y=history_ppl)\n",
        "plt.show()"
      ]
    },
    {
      "cell_type": "markdown",
      "metadata": {
        "id": "3IkfVTlUAUK7"
      },
      "source": [
        "### Usando GRU"
      ]
    },
    {
      "cell_type": "code",
      "execution_count": 31,
      "metadata": {
        "colab": {
          "base_uri": "https://localhost:8080/"
        },
        "id": "gF2HYAtAATcE",
        "outputId": "5bce4946-6be8-4668-ec75-701023a2ecce"
      },
      "outputs": [
        {
          "name": "stdout",
          "output_type": "stream",
          "text": [
            "WARNING:tensorflow:Layer gru will not use cuDNN kernels since it doesn't meet the criteria. It will use a generic GPU kernel as fallback when running on GPU.\n",
            "Model: \"sequential_2\"\n",
            "_________________________________________________________________\n",
            " Layer (type)                Output Shape              Param #   \n",
            "=================================================================\n",
            " time_distributed_2 (TimeDis  (None, None, 65)         0         \n",
            " tributed)                                                       \n",
            "                                                                 \n",
            " gru (GRU)                   (None, None, 200)         160200    \n",
            "                                                                 \n",
            " dense_2 (Dense)             (None, None, 65)          13065     \n",
            "                                                                 \n",
            "=================================================================\n",
            "Total params: 173,265\n",
            "Trainable params: 173,265\n",
            "Non-trainable params: 0\n",
            "_________________________________________________________________\n"
          ]
        }
      ],
      "source": [
        "model2 = Sequential()\n",
        "\n",
        "model2.add(TimeDistributed(CategoryEncoding(num_tokens=vocab_size, output_mode = \"one_hot\"),input_shape=(None,1)))\n",
        "model2.add(GRU(200, return_sequences=True, dropout=0.1, recurrent_dropout=0.1 ))\n",
        "model2.add(Dense(vocab_size, activation='softmax'))\n",
        "model2.compile(loss='sparse_categorical_crossentropy', optimizer='rmsprop')\n",
        "\n",
        "model2.summary()"
      ]
    },
    {
      "cell_type": "code",
      "execution_count": 32,
      "metadata": {
        "colab": {
          "base_uri": "https://localhost:8080/"
        },
        "id": "xJu4_yB2AZ2X",
        "outputId": "3d25fbaf-f86c-4ec7-8deb-ca33e468fd7d"
      },
      "outputs": [
        {
          "name": "stdout",
          "output_type": "stream",
          "text": [
            "Epoch 1/20\n",
            "205/205 [==============================] - ETA: 0s - loss: 2.6317\n",
            " mean perplexity: 9.201618234409427 \n",
            "\n",
            "INFO:tensorflow:Assets written to: my_model_GRU\\assets\n",
            "Saved new model!\n",
            "205/205 [==============================] - 125s 600ms/step - loss: 2.6317\n",
            "Epoch 2/20\n",
            "205/205 [==============================] - ETA: 0s - loss: 2.1642\n",
            " mean perplexity: 7.570274866288409 \n",
            "\n",
            "INFO:tensorflow:Assets written to: my_model_GRU\\assets\n",
            "Saved new model!\n",
            "205/205 [==============================] - 118s 576ms/step - loss: 2.1642\n",
            "Epoch 3/20\n",
            "205/205 [==============================] - ETA: 0s - loss: 1.9987\n",
            " mean perplexity: 6.707766900286934 \n",
            "\n",
            "INFO:tensorflow:Assets written to: my_model_GRU\\assets\n",
            "Saved new model!\n",
            "205/205 [==============================] - 119s 582ms/step - loss: 1.9987\n",
            "Epoch 4/20\n",
            "205/205 [==============================] - ETA: 0s - loss: 1.8734\n",
            " mean perplexity: 6.00923620620439 \n",
            "\n",
            "INFO:tensorflow:Assets written to: my_model_GRU\\assets\n",
            "Saved new model!\n",
            "205/205 [==============================] - 120s 584ms/step - loss: 1.8734\n",
            "Epoch 5/20\n",
            "205/205 [==============================] - ETA: 0s - loss: 1.7738\n",
            " mean perplexity: 5.591029268530212 \n",
            "\n",
            "INFO:tensorflow:Assets written to: my_model_GRU\\assets\n",
            "Saved new model!\n",
            "205/205 [==============================] - 120s 584ms/step - loss: 1.7738\n",
            "Epoch 6/20\n",
            "205/205 [==============================] - ETA: 0s - loss: 1.6955\n",
            " mean perplexity: 5.238282523823754 \n",
            "\n",
            "INFO:tensorflow:Assets written to: my_model_GRU\\assets\n",
            "Saved new model!\n",
            "205/205 [==============================] - 115s 563ms/step - loss: 1.6955\n",
            "Epoch 7/20\n",
            "205/205 [==============================] - ETA: 0s - loss: 1.6358\n",
            " mean perplexity: 5.051556935527171 \n",
            "\n",
            "INFO:tensorflow:Assets written to: my_model_GRU\\assets\n",
            "Saved new model!\n",
            "205/205 [==============================] - 116s 568ms/step - loss: 1.6358\n",
            "Epoch 8/20\n",
            "205/205 [==============================] - ETA: 0s - loss: 1.5892\n",
            " mean perplexity: 4.881281328379528 \n",
            "\n",
            "INFO:tensorflow:Assets written to: my_model_GRU\\assets\n",
            "Saved new model!\n",
            "205/205 [==============================] - 117s 570ms/step - loss: 1.5892\n",
            "Epoch 9/20\n",
            "205/205 [==============================] - ETA: 0s - loss: 1.5529\n",
            " mean perplexity: 4.753847959566464 \n",
            "\n",
            "INFO:tensorflow:Assets written to: my_model_GRU\\assets\n",
            "Saved new model!\n",
            "205/205 [==============================] - 113s 550ms/step - loss: 1.5529\n",
            "Epoch 10/20\n",
            "205/205 [==============================] - ETA: 0s - loss: 1.5232\n",
            " mean perplexity: 4.668394923387975 \n",
            "\n",
            "INFO:tensorflow:Assets written to: my_model_GRU\\assets\n",
            "Saved new model!\n",
            "205/205 [==============================] - 112s 548ms/step - loss: 1.5232\n",
            "Epoch 11/20\n",
            "205/205 [==============================] - ETA: 0s - loss: 1.4992\n",
            " mean perplexity: 4.570617802988107 \n",
            "\n",
            "INFO:tensorflow:Assets written to: my_model_GRU\\assets\n",
            "Saved new model!\n",
            "205/205 [==============================] - 112s 546ms/step - loss: 1.4992\n",
            "Epoch 12/20\n",
            "205/205 [==============================] - ETA: 0s - loss: 1.4791\n",
            " mean perplexity: 4.515086934052438 \n",
            "\n",
            "INFO:tensorflow:Assets written to: my_model_GRU\\assets\n",
            "Saved new model!\n",
            "205/205 [==============================] - 112s 546ms/step - loss: 1.4791\n",
            "Epoch 13/20\n",
            "205/205 [==============================] - ETA: 0s - loss: 1.4624\n",
            " mean perplexity: 4.466024346711268 \n",
            "\n",
            "INFO:tensorflow:Assets written to: my_model_GRU\\assets\n",
            "Saved new model!\n",
            "205/205 [==============================] - 112s 548ms/step - loss: 1.4624\n",
            "Epoch 14/20\n",
            "205/205 [==============================] - ETA: 0s - loss: 1.4483\n",
            " mean perplexity: 4.43707327151434 \n",
            "\n",
            "INFO:tensorflow:Assets written to: my_model_GRU\\assets\n",
            "Saved new model!\n",
            "205/205 [==============================] - 113s 549ms/step - loss: 1.4483\n",
            "Epoch 15/20\n",
            "205/205 [==============================] - ETA: 0s - loss: 1.4361\n",
            " mean perplexity: 4.38668167915452 \n",
            "\n",
            "INFO:tensorflow:Assets written to: my_model_GRU\\assets\n",
            "Saved new model!\n",
            "205/205 [==============================] - 112s 546ms/step - loss: 1.4361\n",
            "Epoch 16/20\n",
            "205/205 [==============================] - ETA: 0s - loss: 1.4256\n",
            " mean perplexity: 4.347282994531414 \n",
            "\n",
            "INFO:tensorflow:Assets written to: my_model_GRU\\assets\n",
            "Saved new model!\n",
            "205/205 [==============================] - 112s 546ms/step - loss: 1.4256\n",
            "Epoch 17/20\n",
            "205/205 [==============================] - ETA: 0s - loss: 1.4166\n",
            " mean perplexity: 4.3303050374676895 \n",
            "\n",
            "INFO:tensorflow:Assets written to: my_model_GRU\\assets\n",
            "Saved new model!\n",
            "205/205 [==============================] - 110s 539ms/step - loss: 1.4166\n",
            "Epoch 18/20\n",
            "205/205 [==============================] - ETA: 0s - loss: 1.4085\n",
            " mean perplexity: 4.297212144096078 \n",
            "\n",
            "INFO:tensorflow:Assets written to: my_model_GRU\\assets\n",
            "Saved new model!\n",
            "205/205 [==============================] - 110s 534ms/step - loss: 1.4085\n",
            "Epoch 19/20\n",
            "205/205 [==============================] - ETA: 0s - loss: 1.4013\n",
            " mean perplexity: 4.285065770215184 \n",
            "\n",
            "INFO:tensorflow:Assets written to: my_model_GRU\\assets\n",
            "Saved new model!\n",
            "205/205 [==============================] - 110s 538ms/step - loss: 1.4013\n",
            "Epoch 20/20\n",
            "205/205 [==============================] - ETA: 0s - loss: 1.3947\n",
            " mean perplexity: 4.277775118960385 \n",
            "\n",
            "INFO:tensorflow:Assets written to: my_model_GRU\\assets\n",
            "Saved new model!\n",
            "205/205 [==============================] - 118s 578ms/step - loss: 1.3947\n"
          ]
        }
      ],
      "source": [
        "# fiteamos, nótese el agregado del callback con su inicialización. El batch_size lo podemos seleccionar a mano\n",
        "# en general, lo mejor es escoger el batch más grande posible que minimice el tiempo de cada época.\n",
        "# En la variable `history_ppl` se guardarán los valores de perplejidad para cada época.\n",
        "history_ppl = []\n",
        "hist = model2.fit(X, y, epochs=20, callbacks=[PplCallback(tokenized_sentences_val,history_ppl,5,'my_model_GRU')], batch_size=2048)"
      ]
    },
    {
      "cell_type": "code",
      "execution_count": 33,
      "metadata": {
        "id": "XLaeR5T4Ac7A"
      },
      "outputs": [
        {
          "data": {
            "image/png": "[encoded data removed]",
            "text/plain": [
              "<Figure size 640x480 with 1 Axes>"
            ]
          },
          "metadata": {},
          "output_type": "display_data"
        }
      ],
      "source": [
        "import matplotlib.pyplot as plt\n",
        "import seaborn as sns\n",
        "\n",
        "# Entrenamiento\n",
        "epoch_count = range(1, len(history_ppl) + 1)\n",
        "sns.lineplot(x=epoch_count,  y=history_ppl)\n",
        "plt.show()"
      ]
    },
    {
      "cell_type": "code",
      "execution_count": 38,
      "metadata": {
        "id": "VwC16gOadE62"
      },
      "outputs": [
        {
          "name": "stdout",
          "output_type": "stream",
          "text": [
            "Model: \"sequential_5\"\n",
            "_________________________________________________________________\n",
            " Layer (type)                Output Shape              Param #   \n",
            "=================================================================\n",
            " time_distributed_5 (TimeDis  (None, None, 65)         0         \n",
            " tributed)                                                       \n",
            "                                                                 \n",
            " gru_11 (GRU)                (None, None, 40)          12840     \n",
            "                                                                 \n",
            " gru_12 (GRU)                (None, None, 40)          9840      \n",
            "                                                                 \n",
            " gru_13 (GRU)                (None, None, 40)          9840      \n",
            "                                                                 \n",
            " gru_14 (GRU)                (None, None, 40)          9840      \n",
            "                                                                 \n",
            " gru_15 (GRU)                (None, None, 40)          9840      \n",
            "                                                                 \n",
            " dense_5 (Dense)             (None, None, 65)          2665      \n",
            "                                                                 \n",
            "=================================================================\n",
            "Total params: 54,865\n",
            "Trainable params: 54,865\n",
            "Non-trainable params: 0\n",
            "_________________________________________________________________\n"
          ]
        }
      ],
      "source": [
        "model3 = Sequential()\n",
        "\n",
        "model3.add(TimeDistributed(CategoryEncoding(num_tokens=vocab_size, output_mode = \"one_hot\"),input_shape=(None,1)))\n",
        "model3.add(GRU(40, return_sequences=True,))\n",
        "model3.add(GRU(40, return_sequences=True,))\n",
        "model3.add(GRU(40, return_sequences=True,))\n",
        "model3.add(GRU(40, return_sequences=True,))\n",
        "model3.add(GRU(40, return_sequences=True,))\n",
        "model3.add(Dense(vocab_size, activation='softmax'))\n",
        "model3.compile(loss='sparse_categorical_crossentropy', optimizer='rmsprop')\n",
        "\n",
        "model3.summary()"
      ]
    },
    {
      "cell_type": "code",
      "execution_count": 39,
      "metadata": {
        "id": "deRTkYBZdQMB"
      },
      "outputs": [
        {
          "name": "stdout",
          "output_type": "stream",
          "text": [
            "Epoch 1/20\n",
            "205/205 [==============================] - ETA: 0s - loss: 3.0670\n",
            " mean perplexity: 18.579493227299245 \n",
            "\n"
          ]
        },
        {
          "name": "stderr",
          "output_type": "stream",
          "text": [
            "WARNING:absl:Found untraced functions such as gru_cell_11_layer_call_fn, gru_cell_11_layer_call_and_return_conditional_losses, gru_cell_12_layer_call_fn, gru_cell_12_layer_call_and_return_conditional_losses, gru_cell_13_layer_call_fn while saving (showing 5 of 10). These functions will not be directly callable after loading.\n"
          ]
        },
        {
          "name": "stdout",
          "output_type": "stream",
          "text": [
            "INFO:tensorflow:Assets written to: my_model_GRU2\\assets\n"
          ]
        },
        {
          "name": "stderr",
          "output_type": "stream",
          "text": [
            "INFO:tensorflow:Assets written to: my_model_GRU2\\assets\n"
          ]
        },
        {
          "name": "stdout",
          "output_type": "stream",
          "text": [
            "Saved new model!\n",
            "205/205 [==============================] - 45s 191ms/step - loss: 3.0670\n",
            "Epoch 2/20\n",
            "205/205 [==============================] - ETA: 0s - loss: 2.5789\n",
            " mean perplexity: 11.30130107786873 \n",
            "\n"
          ]
        },
        {
          "name": "stderr",
          "output_type": "stream",
          "text": [
            "WARNING:absl:Found untraced functions such as gru_cell_11_layer_call_fn, gru_cell_11_layer_call_and_return_conditional_losses, gru_cell_12_layer_call_fn, gru_cell_12_layer_call_and_return_conditional_losses, gru_cell_13_layer_call_fn while saving (showing 5 of 10). These functions will not be directly callable after loading.\n"
          ]
        },
        {
          "name": "stdout",
          "output_type": "stream",
          "text": [
            "INFO:tensorflow:Assets written to: my_model_GRU2\\assets\n"
          ]
        },
        {
          "name": "stderr",
          "output_type": "stream",
          "text": [
            "INFO:tensorflow:Assets written to: my_model_GRU2\\assets\n"
          ]
        },
        {
          "name": "stdout",
          "output_type": "stream",
          "text": [
            "Saved new model!\n",
            "205/205 [==============================] - 37s 180ms/step - loss: 2.5789\n",
            "Epoch 3/20\n",
            "205/205 [==============================] - ETA: 0s - loss: 2.3482\n",
            " mean perplexity: 10.055080524027218 \n",
            "\n"
          ]
        },
        {
          "name": "stderr",
          "output_type": "stream",
          "text": [
            "WARNING:absl:Found untraced functions such as gru_cell_11_layer_call_fn, gru_cell_11_layer_call_and_return_conditional_losses, gru_cell_12_layer_call_fn, gru_cell_12_layer_call_and_return_conditional_losses, gru_cell_13_layer_call_fn while saving (showing 5 of 10). These functions will not be directly callable after loading.\n"
          ]
        },
        {
          "name": "stdout",
          "output_type": "stream",
          "text": [
            "INFO:tensorflow:Assets written to: my_model_GRU2\\assets\n"
          ]
        },
        {
          "name": "stderr",
          "output_type": "stream",
          "text": [
            "INFO:tensorflow:Assets written to: my_model_GRU2\\assets\n"
          ]
        },
        {
          "name": "stdout",
          "output_type": "stream",
          "text": [
            "Saved new model!\n",
            "205/205 [==============================] - 38s 186ms/step - loss: 2.3482\n",
            "Epoch 4/20\n",
            "205/205 [==============================] - ETA: 0s - loss: 2.2511\n",
            " mean perplexity: 9.305491774576717 \n",
            "\n"
          ]
        },
        {
          "name": "stderr",
          "output_type": "stream",
          "text": [
            "WARNING:absl:Found untraced functions such as gru_cell_11_layer_call_fn, gru_cell_11_layer_call_and_return_conditional_losses, gru_cell_12_layer_call_fn, gru_cell_12_layer_call_and_return_conditional_losses, gru_cell_13_layer_call_fn while saving (showing 5 of 10). These functions will not be directly callable after loading.\n"
          ]
        },
        {
          "name": "stdout",
          "output_type": "stream",
          "text": [
            "INFO:tensorflow:Assets written to: my_model_GRU2\\assets\n"
          ]
        },
        {
          "name": "stderr",
          "output_type": "stream",
          "text": [
            "INFO:tensorflow:Assets written to: my_model_GRU2\\assets\n"
          ]
        },
        {
          "name": "stdout",
          "output_type": "stream",
          "text": [
            "Saved new model!\n",
            "205/205 [==============================] - 38s 186ms/step - loss: 2.2511\n",
            "Epoch 5/20\n",
            "205/205 [==============================] - ETA: 0s - loss: 2.1847\n",
            " mean perplexity: 8.75343361109786 \n",
            "\n"
          ]
        },
        {
          "name": "stderr",
          "output_type": "stream",
          "text": [
            "WARNING:absl:Found untraced functions such as gru_cell_11_layer_call_fn, gru_cell_11_layer_call_and_return_conditional_losses, gru_cell_12_layer_call_fn, gru_cell_12_layer_call_and_return_conditional_losses, gru_cell_13_layer_call_fn while saving (showing 5 of 10). These functions will not be directly callable after loading.\n"
          ]
        },
        {
          "name": "stdout",
          "output_type": "stream",
          "text": [
            "INFO:tensorflow:Assets written to: my_model_GRU2\\assets\n"
          ]
        },
        {
          "name": "stderr",
          "output_type": "stream",
          "text": [
            "INFO:tensorflow:Assets written to: my_model_GRU2\\assets\n"
          ]
        },
        {
          "name": "stdout",
          "output_type": "stream",
          "text": [
            "Saved new model!\n",
            "205/205 [==============================] - 38s 185ms/step - loss: 2.1847\n",
            "Epoch 6/20\n",
            "205/205 [==============================] - ETA: 0s - loss: 2.1294\n",
            " mean perplexity: 8.382923071071634 \n",
            "\n"
          ]
        },
        {
          "name": "stderr",
          "output_type": "stream",
          "text": [
            "WARNING:absl:Found untraced functions such as gru_cell_11_layer_call_fn, gru_cell_11_layer_call_and_return_conditional_losses, gru_cell_12_layer_call_fn, gru_cell_12_layer_call_and_return_conditional_losses, gru_cell_13_layer_call_fn while saving (showing 5 of 10). These functions will not be directly callable after loading.\n"
          ]
        },
        {
          "name": "stdout",
          "output_type": "stream",
          "text": [
            "INFO:tensorflow:Assets written to: my_model_GRU2\\assets\n"
          ]
        },
        {
          "name": "stderr",
          "output_type": "stream",
          "text": [
            "INFO:tensorflow:Assets written to: my_model_GRU2\\assets\n"
          ]
        },
        {
          "name": "stdout",
          "output_type": "stream",
          "text": [
            "Saved new model!\n",
            "205/205 [==============================] - 37s 180ms/step - loss: 2.1294\n",
            "Epoch 7/20\n",
            "205/205 [==============================] - ETA: 0s - loss: 2.0827\n",
            " mean perplexity: 8.27095781697519 \n",
            "\n"
          ]
        },
        {
          "name": "stderr",
          "output_type": "stream",
          "text": [
            "WARNING:absl:Found untraced functions such as gru_cell_11_layer_call_fn, gru_cell_11_layer_call_and_return_conditional_losses, gru_cell_12_layer_call_fn, gru_cell_12_layer_call_and_return_conditional_losses, gru_cell_13_layer_call_fn while saving (showing 5 of 10). These functions will not be directly callable after loading.\n"
          ]
        },
        {
          "name": "stdout",
          "output_type": "stream",
          "text": [
            "INFO:tensorflow:Assets written to: my_model_GRU2\\assets\n"
          ]
        },
        {
          "name": "stderr",
          "output_type": "stream",
          "text": [
            "INFO:tensorflow:Assets written to: my_model_GRU2\\assets\n"
          ]
        },
        {
          "name": "stdout",
          "output_type": "stream",
          "text": [
            "Saved new model!\n",
            "205/205 [==============================] - 38s 185ms/step - loss: 2.0827\n",
            "Epoch 8/20\n",
            "205/205 [==============================] - ETA: 0s - loss: 2.0449\n",
            " mean perplexity: 7.954799470536818 \n",
            "\n"
          ]
        },
        {
          "name": "stderr",
          "output_type": "stream",
          "text": [
            "WARNING:absl:Found untraced functions such as gru_cell_11_layer_call_fn, gru_cell_11_layer_call_and_return_conditional_losses, gru_cell_12_layer_call_fn, gru_cell_12_layer_call_and_return_conditional_losses, gru_cell_13_layer_call_fn while saving (showing 5 of 10). These functions will not be directly callable after loading.\n"
          ]
        },
        {
          "name": "stdout",
          "output_type": "stream",
          "text": [
            "INFO:tensorflow:Assets written to: my_model_GRU2\\assets\n"
          ]
        },
        {
          "name": "stderr",
          "output_type": "stream",
          "text": [
            "INFO:tensorflow:Assets written to: my_model_GRU2\\assets\n"
          ]
        },
        {
          "name": "stdout",
          "output_type": "stream",
          "text": [
            "Saved new model!\n",
            "205/205 [==============================] - 37s 181ms/step - loss: 2.0449\n",
            "Epoch 9/20\n",
            "205/205 [==============================] - ETA: 0s - loss: 2.0128\n",
            " mean perplexity: 7.77611059594365 \n",
            "\n"
          ]
        },
        {
          "name": "stderr",
          "output_type": "stream",
          "text": [
            "WARNING:absl:Found untraced functions such as gru_cell_11_layer_call_fn, gru_cell_11_layer_call_and_return_conditional_losses, gru_cell_12_layer_call_fn, gru_cell_12_layer_call_and_return_conditional_losses, gru_cell_13_layer_call_fn while saving (showing 5 of 10). These functions will not be directly callable after loading.\n"
          ]
        },
        {
          "name": "stdout",
          "output_type": "stream",
          "text": [
            "INFO:tensorflow:Assets written to: my_model_GRU2\\assets\n"
          ]
        },
        {
          "name": "stderr",
          "output_type": "stream",
          "text": [
            "INFO:tensorflow:Assets written to: my_model_GRU2\\assets\n"
          ]
        },
        {
          "name": "stdout",
          "output_type": "stream",
          "text": [
            "Saved new model!\n",
            "205/205 [==============================] - 37s 182ms/step - loss: 2.0128\n",
            "Epoch 10/20\n",
            "205/205 [==============================] - ETA: 0s - loss: 1.9833\n",
            " mean perplexity: 7.56864448488455 \n",
            "\n"
          ]
        },
        {
          "name": "stderr",
          "output_type": "stream",
          "text": [
            "WARNING:absl:Found untraced functions such as gru_cell_11_layer_call_fn, gru_cell_11_layer_call_and_return_conditional_losses, gru_cell_12_layer_call_fn, gru_cell_12_layer_call_and_return_conditional_losses, gru_cell_13_layer_call_fn while saving (showing 5 of 10). These functions will not be directly callable after loading.\n"
          ]
        },
        {
          "name": "stdout",
          "output_type": "stream",
          "text": [
            "INFO:tensorflow:Assets written to: my_model_GRU2\\assets\n"
          ]
        },
        {
          "name": "stderr",
          "output_type": "stream",
          "text": [
            "INFO:tensorflow:Assets written to: my_model_GRU2\\assets\n"
          ]
        },
        {
          "name": "stdout",
          "output_type": "stream",
          "text": [
            "Saved new model!\n",
            "205/205 [==============================] - 37s 179ms/step - loss: 1.9833\n",
            "Epoch 11/20\n",
            "205/205 [==============================] - ETA: 0s - loss: 1.9559\n",
            " mean perplexity: 7.416958323199366 \n",
            "\n"
          ]
        },
        {
          "name": "stderr",
          "output_type": "stream",
          "text": [
            "WARNING:absl:Found untraced functions such as gru_cell_11_layer_call_fn, gru_cell_11_layer_call_and_return_conditional_losses, gru_cell_12_layer_call_fn, gru_cell_12_layer_call_and_return_conditional_losses, gru_cell_13_layer_call_fn while saving (showing 5 of 10). These functions will not be directly callable after loading.\n"
          ]
        },
        {
          "name": "stdout",
          "output_type": "stream",
          "text": [
            "INFO:tensorflow:Assets written to: my_model_GRU2\\assets\n"
          ]
        },
        {
          "name": "stderr",
          "output_type": "stream",
          "text": [
            "INFO:tensorflow:Assets written to: my_model_GRU2\\assets\n"
          ]
        },
        {
          "name": "stdout",
          "output_type": "stream",
          "text": [
            "Saved new model!\n",
            "205/205 [==============================] - 38s 188ms/step - loss: 1.9559\n",
            "Epoch 12/20\n",
            "205/205 [==============================] - ETA: 0s - loss: 1.9293\n",
            " mean perplexity: 7.292804186260267 \n",
            "\n"
          ]
        },
        {
          "name": "stderr",
          "output_type": "stream",
          "text": [
            "WARNING:absl:Found untraced functions such as gru_cell_11_layer_call_fn, gru_cell_11_layer_call_and_return_conditional_losses, gru_cell_12_layer_call_fn, gru_cell_12_layer_call_and_return_conditional_losses, gru_cell_13_layer_call_fn while saving (showing 5 of 10). These functions will not be directly callable after loading.\n"
          ]
        },
        {
          "name": "stdout",
          "output_type": "stream",
          "text": [
            "INFO:tensorflow:Assets written to: my_model_GRU2\\assets\n"
          ]
        },
        {
          "name": "stderr",
          "output_type": "stream",
          "text": [
            "INFO:tensorflow:Assets written to: my_model_GRU2\\assets\n"
          ]
        },
        {
          "name": "stdout",
          "output_type": "stream",
          "text": [
            "Saved new model!\n",
            "205/205 [==============================] - 38s 184ms/step - loss: 1.9293\n",
            "Epoch 13/20\n",
            "205/205 [==============================] - ETA: 0s - loss: 1.9027\n",
            " mean perplexity: 7.185393539563165 \n",
            "\n"
          ]
        },
        {
          "name": "stderr",
          "output_type": "stream",
          "text": [
            "WARNING:absl:Found untraced functions such as gru_cell_11_layer_call_fn, gru_cell_11_layer_call_and_return_conditional_losses, gru_cell_12_layer_call_fn, gru_cell_12_layer_call_and_return_conditional_losses, gru_cell_13_layer_call_fn while saving (showing 5 of 10). These functions will not be directly callable after loading.\n"
          ]
        },
        {
          "name": "stdout",
          "output_type": "stream",
          "text": [
            "INFO:tensorflow:Assets written to: my_model_GRU2\\assets\n"
          ]
        },
        {
          "name": "stderr",
          "output_type": "stream",
          "text": [
            "INFO:tensorflow:Assets written to: my_model_GRU2\\assets\n"
          ]
        },
        {
          "name": "stdout",
          "output_type": "stream",
          "text": [
            "Saved new model!\n",
            "205/205 [==============================] - 37s 182ms/step - loss: 1.9027\n",
            "Epoch 14/20\n",
            "205/205 [==============================] - ETA: 0s - loss: 1.8772\n",
            " mean perplexity: 6.897955787637963 \n",
            "\n"
          ]
        },
        {
          "name": "stderr",
          "output_type": "stream",
          "text": [
            "WARNING:absl:Found untraced functions such as gru_cell_11_layer_call_fn, gru_cell_11_layer_call_and_return_conditional_losses, gru_cell_12_layer_call_fn, gru_cell_12_layer_call_and_return_conditional_losses, gru_cell_13_layer_call_fn while saving (showing 5 of 10). These functions will not be directly callable after loading.\n"
          ]
        },
        {
          "name": "stdout",
          "output_type": "stream",
          "text": [
            "INFO:tensorflow:Assets written to: my_model_GRU2\\assets\n"
          ]
        },
        {
          "name": "stderr",
          "output_type": "stream",
          "text": [
            "INFO:tensorflow:Assets written to: my_model_GRU2\\assets\n"
          ]
        },
        {
          "name": "stdout",
          "output_type": "stream",
          "text": [
            "Saved new model!\n",
            "205/205 [==============================] - 39s 189ms/step - loss: 1.8772\n",
            "Epoch 15/20\n",
            "205/205 [==============================] - ETA: 0s - loss: 1.8527\n",
            " mean perplexity: 6.766035193904627 \n",
            "\n"
          ]
        },
        {
          "name": "stderr",
          "output_type": "stream",
          "text": [
            "WARNING:absl:Found untraced functions such as gru_cell_11_layer_call_fn, gru_cell_11_layer_call_and_return_conditional_losses, gru_cell_12_layer_call_fn, gru_cell_12_layer_call_and_return_conditional_losses, gru_cell_13_layer_call_fn while saving (showing 5 of 10). These functions will not be directly callable after loading.\n"
          ]
        },
        {
          "name": "stdout",
          "output_type": "stream",
          "text": [
            "INFO:tensorflow:Assets written to: my_model_GRU2\\assets\n"
          ]
        },
        {
          "name": "stderr",
          "output_type": "stream",
          "text": [
            "INFO:tensorflow:Assets written to: my_model_GRU2\\assets\n"
          ]
        },
        {
          "name": "stdout",
          "output_type": "stream",
          "text": [
            "Saved new model!\n",
            "205/205 [==============================] - 38s 185ms/step - loss: 1.8527\n",
            "Epoch 16/20\n",
            "205/205 [==============================] - ETA: 0s - loss: 1.8301\n",
            " mean perplexity: 6.692481020115681 \n",
            "\n"
          ]
        },
        {
          "name": "stderr",
          "output_type": "stream",
          "text": [
            "WARNING:absl:Found untraced functions such as gru_cell_11_layer_call_fn, gru_cell_11_layer_call_and_return_conditional_losses, gru_cell_12_layer_call_fn, gru_cell_12_layer_call_and_return_conditional_losses, gru_cell_13_layer_call_fn while saving (showing 5 of 10). These functions will not be directly callable after loading.\n"
          ]
        },
        {
          "name": "stdout",
          "output_type": "stream",
          "text": [
            "INFO:tensorflow:Assets written to: my_model_GRU2\\assets\n"
          ]
        },
        {
          "name": "stderr",
          "output_type": "stream",
          "text": [
            "INFO:tensorflow:Assets written to: my_model_GRU2\\assets\n"
          ]
        },
        {
          "name": "stdout",
          "output_type": "stream",
          "text": [
            "Saved new model!\n",
            "205/205 [==============================] - 38s 185ms/step - loss: 1.8301\n",
            "Epoch 17/20\n",
            "205/205 [==============================] - ETA: 0s - loss: 1.8099\n",
            " mean perplexity: 6.50414745553233 \n",
            "\n"
          ]
        },
        {
          "name": "stderr",
          "output_type": "stream",
          "text": [
            "WARNING:absl:Found untraced functions such as gru_cell_11_layer_call_fn, gru_cell_11_layer_call_and_return_conditional_losses, gru_cell_12_layer_call_fn, gru_cell_12_layer_call_and_return_conditional_losses, gru_cell_13_layer_call_fn while saving (showing 5 of 10). These functions will not be directly callable after loading.\n"
          ]
        },
        {
          "name": "stdout",
          "output_type": "stream",
          "text": [
            "INFO:tensorflow:Assets written to: my_model_GRU2\\assets\n"
          ]
        },
        {
          "name": "stderr",
          "output_type": "stream",
          "text": [
            "INFO:tensorflow:Assets written to: my_model_GRU2\\assets\n"
          ]
        },
        {
          "name": "stdout",
          "output_type": "stream",
          "text": [
            "Saved new model!\n",
            "205/205 [==============================] - 39s 190ms/step - loss: 1.8099\n",
            "Epoch 18/20\n",
            "205/205 [==============================] - ETA: 0s - loss: 1.7908\n",
            " mean perplexity: 6.437474122566175 \n",
            "\n"
          ]
        },
        {
          "name": "stderr",
          "output_type": "stream",
          "text": [
            "WARNING:absl:Found untraced functions such as gru_cell_11_layer_call_fn, gru_cell_11_layer_call_and_return_conditional_losses, gru_cell_12_layer_call_fn, gru_cell_12_layer_call_and_return_conditional_losses, gru_cell_13_layer_call_fn while saving (showing 5 of 10). These functions will not be directly callable after loading.\n"
          ]
        },
        {
          "name": "stdout",
          "output_type": "stream",
          "text": [
            "INFO:tensorflow:Assets written to: my_model_GRU2\\assets\n"
          ]
        },
        {
          "name": "stderr",
          "output_type": "stream",
          "text": [
            "INFO:tensorflow:Assets written to: my_model_GRU2\\assets\n"
          ]
        },
        {
          "name": "stdout",
          "output_type": "stream",
          "text": [
            "Saved new model!\n",
            "205/205 [==============================] - 36s 176ms/step - loss: 1.7908\n",
            "Epoch 19/20\n",
            "205/205 [==============================] - ETA: 0s - loss: 1.7727\n",
            " mean perplexity: 6.40163631757194 \n",
            "\n"
          ]
        },
        {
          "name": "stderr",
          "output_type": "stream",
          "text": [
            "WARNING:absl:Found untraced functions such as gru_cell_11_layer_call_fn, gru_cell_11_layer_call_and_return_conditional_losses, gru_cell_12_layer_call_fn, gru_cell_12_layer_call_and_return_conditional_losses, gru_cell_13_layer_call_fn while saving (showing 5 of 10). These functions will not be directly callable after loading.\n"
          ]
        },
        {
          "name": "stdout",
          "output_type": "stream",
          "text": [
            "INFO:tensorflow:Assets written to: my_model_GRU2\\assets\n"
          ]
        },
        {
          "name": "stderr",
          "output_type": "stream",
          "text": [
            "INFO:tensorflow:Assets written to: my_model_GRU2\\assets\n"
          ]
        },
        {
          "name": "stdout",
          "output_type": "stream",
          "text": [
            "Saved new model!\n",
            "205/205 [==============================] - 38s 184ms/step - loss: 1.7727\n",
            "Epoch 20/20\n",
            "205/205 [==============================] - ETA: 0s - loss: 1.7564\n",
            " mean perplexity: 6.231876692497312 \n",
            "\n"
          ]
        },
        {
          "name": "stderr",
          "output_type": "stream",
          "text": [
            "WARNING:absl:Found untraced functions such as gru_cell_11_layer_call_fn, gru_cell_11_layer_call_and_return_conditional_losses, gru_cell_12_layer_call_fn, gru_cell_12_layer_call_and_return_conditional_losses, gru_cell_13_layer_call_fn while saving (showing 5 of 10). These functions will not be directly callable after loading.\n"
          ]
        },
        {
          "name": "stdout",
          "output_type": "stream",
          "text": [
            "INFO:tensorflow:Assets written to: my_model_GRU2\\assets\n"
          ]
        },
        {
          "name": "stderr",
          "output_type": "stream",
          "text": [
            "INFO:tensorflow:Assets written to: my_model_GRU2\\assets\n"
          ]
        },
        {
          "name": "stdout",
          "output_type": "stream",
          "text": [
            "Saved new model!\n",
            "205/205 [==============================] - 37s 181ms/step - loss: 1.7564\n"
          ]
        }
      ],
      "source": [
        "# fiteamos, nótese el agregado del callback con su inicialización. El batch_size lo podemos seleccionar a mano\n",
        "# en general, lo mejor es escoger el batch más grande posible que minimice el tiempo de cada época.\n",
        "# En la variable `history_ppl` se guardarán los valores de perplejidad para cada época.\n",
        "history_ppl = []\n",
        "hist = model3.fit(X, y, epochs=20, callbacks=[PplCallback(tokenized_sentences_val,history_ppl,5,'my_model_GRU2')], batch_size=2048)"
      ]
    },
    {
      "cell_type": "markdown",
      "metadata": {},
      "source": [
        "Los resultados despues de entrar a cada modelo por solamente 20 epocas.\n",
        "Cabe aclarar que en el caso de GRU5 se eligio utilizar dado que las topologias GRU y LSTM se asemejan a la idea de las redes residuales, que utilizan skip connections para evitar que se degrade el gradiente. Por lo tanto serian especialmente utiles en redes con muchas capas. Y como las redes residuales, permiten entrenar mucho mas. Sin embargo al solo entrenar 20 epocas, no le podemos sacar el provecho."
      ]
    },
    {
      "cell_type": "markdown",
      "metadata": {},
      "source": [
        "| Modelo       | Parameters | Perplexity |\n",
        "|--------------|------------|------------|\n",
        "| Elman        | 66.265     | 4.85       |\n",
        "| LSTM         | 225.865    | 4.47       |\n",
        "| GRU          | 173.265    | 4.28       |\n",
        "| GRU, 5 CAPAS | 54.865     | 6.23       |"
      ]
    },
    {
      "cell_type": "markdown",
      "metadata": {
        "id": "KN6Fg_BsxJe6"
      },
      "source": [
        "\n",
        "### Predicción del próximo caracter"
      ]
    },
    {
      "cell_type": "code",
      "execution_count": 41,
      "metadata": {
        "id": "IBvKHFPmzpy2"
      },
      "outputs": [
        {
          "name": "stderr",
          "output_type": "stream",
          "text": [
            "ERROR: pip's dependency resolver does not currently take into account all the packages that are installed. This behaviour is the source of the following dependency conflicts.\n",
            "mlserver 1.3.5 requires fastapi!=0.89.0,<=0.89.1,>=0.88.0, but you have fastapi 0.111.1 which is incompatible.\n"
          ]
        }
      ],
      "source": [
        "# Se puede usar gradio para probar el modelo\n",
        "# Gradio es una herramienta muy útil para crear interfaces para ensayar modelos\n",
        "# https://gradio.app/\n",
        "\n",
        "!pip install -q gradio"
      ]
    },
    {
      "cell_type": "code",
      "execution_count": 42,
      "metadata": {
        "id": "HNyBykvhzs7-"
      },
      "outputs": [
        {
          "name": "stderr",
          "output_type": "stream",
          "text": [
            "c:\\Users\\Gonzalo\\miniconda3\\lib\\site-packages\\tqdm\\auto.py:21: TqdmWarning: IProgress not found. Please update jupyter and ipywidgets. See https://ipywidgets.readthedocs.io/en/stable/user_install.html\n",
            "  from .autonotebook import tqdm as notebook_tqdm\n"
          ]
        },
        {
          "name": "stdout",
          "output_type": "stream",
          "text": [
            "Running on local URL:  http://127.0.0.1:7860\n",
            "\n",
            "To create a public link, set `share=True` in `launch()`.\n"
          ]
        },
        {
          "data": {
            "text/html": [
              "<div><iframe src=\"http://127.0.0.1:7860/\" width=\"100%\" height=\"500\" allow=\"autoplay; camera; microphone; clipboard-read; clipboard-write;\" frameborder=\"0\" allowfullscreen></iframe></div>"
            ],
            "text/plain": [
              "<IPython.core.display.HTML object>"
            ]
          },
          "metadata": {},
          "output_type": "display_data"
        },
        {
          "name": "stdout",
          "output_type": "stream",
          "text": [
            "1/1 [==============================] - 0s 206ms/step\n",
            "1/1 [==============================] - 0s 38ms/step\n",
            "Keyboard interruption in main thread... closing server.\n"
          ]
        },
        {
          "data": {
            "text/plain": []
          },
          "execution_count": 42,
          "metadata": {},
          "output_type": "execute_result"
        }
      ],
      "source": [
        "import gradio as gr\n",
        "\n",
        "def model_response(human_text):\n",
        "\n",
        "    # Encodeamos\n",
        "    encoded = [char2idx[ch] for ch in human_text.lower() ]\n",
        "    # Si tienen distinto largo\n",
        "    encoded = pad_sequences([encoded], maxlen=max_context_size, padding='pre')\n",
        "\n",
        "    # Predicción softmax\n",
        "    y_hat = np.argmax(model.predict(encoded)[0,-1,:])\n",
        "\n",
        "\n",
        "    # Debemos buscar en el vocabulario el caracter\n",
        "    # que corresopnde al indice (y_hat) predicho por le modelo\n",
        "    out_word = ''\n",
        "    out_word = idx2char[y_hat]\n",
        "\n",
        "    # Agrego la palabra a la frase predicha\n",
        "    return human_text + out_word\n",
        "\n",
        "iface = gr.Interface(\n",
        "    fn=model_response,\n",
        "    inputs=[\"textbox\"],\n",
        "    outputs=\"text\")\n",
        "\n",
        "iface.launch(debug=True)"
      ]
    },
    {
      "cell_type": "markdown",
      "metadata": {
        "id": "mCeMWWupxN1-"
      },
      "source": [
        "### Generación de secuencias"
      ]
    },
    {
      "cell_type": "code",
      "execution_count": 44,
      "metadata": {
        "id": "bwbS_pfhxvB3"
      },
      "outputs": [],
      "source": [
        "def generate_seq(model, seed_text, max_length, n_words):\n",
        "    \"\"\"\n",
        "        Exec model sequence prediction\n",
        "\n",
        "        Args:\n",
        "            model (keras): modelo entrenado\n",
        "            seed_text (string): texto de entrada (input_seq)\n",
        "            max_length (int): máxima longitud de la sequencia de entrada\n",
        "            n_words (int): números de caracteres a agregar a la sequencia de entrada\n",
        "        returns:\n",
        "            output_text (string): sentencia con las \"n_words\" agregadas\n",
        "    \"\"\"\n",
        "    output_text = seed_text\n",
        "\t# generate a fixed number of words\n",
        "    for _ in range(n_words):\n",
        "\t\t# Encodeamos\n",
        "        encoded = [char2idx[ch] for ch in output_text.lower() ]\n",
        "\t\t# Si tienen distinto largo\n",
        "        encoded = pad_sequences([encoded], maxlen=max_length, padding='pre')\n",
        "\n",
        "\t\t# Predicción softmax\n",
        "        y_hat = np.argmax(model.predict(encoded,verbose=0)[0,-1,:])\n",
        "\t\t# Vamos concatenando las predicciones\n",
        "        out_word = ''\n",
        "\n",
        "        out_word = idx2char[y_hat]\n",
        "\n",
        "\t\t# Agrego las palabras a la frase predicha\n",
        "        output_text += out_word\n",
        "    return output_text"
      ]
    },
    {
      "cell_type": "code",
      "execution_count": 47,
      "metadata": {
        "id": "JoFqRC5pxzqS"
      },
      "outputs": [
        {
          "name": "stdout",
          "output_type": "stream",
          "text": [
            "el retrato de la puerta de la puerta de \n",
            "el retrato de la mano en el pecado en la\n",
            "el retrato de la mesa, y la mesa y la pu\n",
            "el retrato de la marande de la marande d\n"
          ]
        }
      ],
      "source": [
        "input_text='el retrato'\n",
        "\n",
        "\n",
        "print(generate_seq(model, input_text, max_length=max_context_size, n_words=30)) # Elman\n",
        "print(generate_seq(model1, input_text, max_length=max_context_size, n_words=30)) #LSTM\n",
        "print(generate_seq(model2, input_text, max_length=max_context_size, n_words=30)) # GRU\n",
        "print(generate_seq(model3, input_text, max_length=max_context_size, n_words=30)) # GRU5\n"
      ]
    },
    {
      "cell_type": "markdown",
      "metadata": {
        "id": "drJ6xn5qW1Hl"
      },
      "source": [
        "###  Beam search y muestreo aleatorio"
      ]
    },
    {
      "cell_type": "code",
      "execution_count": 50,
      "metadata": {
        "id": "_vovn9XZW1Hl"
      },
      "outputs": [],
      "source": [
        "# funcionalidades para hacer encoding y decoding\n",
        "\n",
        "def encode(text,max_length=max_context_size):\n",
        "\n",
        "    encoded = [char2idx[ch] for ch in text]\n",
        "    encoded = pad_sequences([encoded], maxlen=max_length, padding='pre')\n",
        "\n",
        "    return encoded\n",
        "\n",
        "def decode(seq):\n",
        "    return ''.join([idx2char[ch] for ch in seq])"
      ]
    },
    {
      "cell_type": "code",
      "execution_count": 48,
      "metadata": {
        "id": "I_lZiQwkW1Hl"
      },
      "outputs": [],
      "source": [
        "from scipy.special import softmax\n",
        "\n",
        "# función que selecciona candidatos para el beam search\n",
        "def select_candidates(pred,num_beams,vocab_size,history_probs,history_tokens,temp,mode):\n",
        "\n",
        "  # colectar todas las probabilidades para la siguiente búsqueda\n",
        "  pred_large = []\n",
        "\n",
        "  for idx,pp in enumerate(pred):\n",
        "    pred_large.extend(np.log(pp+1E-10)+history_probs[idx])\n",
        "\n",
        "  pred_large = np.array(pred_large)\n",
        "\n",
        "  # criterio de selección\n",
        "  if mode == 'det':\n",
        "    idx_select = np.argsort(pred_large)[::-1][:num_beams] # beam search determinista\n",
        "  elif mode == 'sto':\n",
        "    idx_select = np.random.choice(np.arange(pred_large.shape[0]), num_beams, p=softmax(pred_large/temp)) # beam search con muestreo aleatorio\n",
        "  else:\n",
        "    raise ValueError(f'Wrong selection mode. {mode} was given. det and sto are supported.')\n",
        "\n",
        "  # traducir a índices de token en el vocabulario\n",
        "  new_history_tokens = np.concatenate((np.array(history_tokens)[idx_select//vocab_size],\n",
        "                        np.array([idx_select%vocab_size]).T),\n",
        "                      axis=1)\n",
        "\n",
        "  # devolver el producto de las probabilidades (log) y la secuencia de tokens seleccionados\n",
        "  return pred_large[idx_select.astype(int)], new_history_tokens.astype(int)\n",
        "\n",
        "\n",
        "def beam_search(model,num_beams,num_words,input,temp=1,mode='det'):\n",
        "\n",
        "    # first iteration\n",
        "\n",
        "    # encode\n",
        "    encoded = encode(input)\n",
        "\n",
        "    # first prediction\n",
        "    y_hat = model.predict(encoded,verbose=0)[0,-1,:]\n",
        "\n",
        "    # get vocabulary size\n",
        "    vocab_size = y_hat.shape[0]\n",
        "\n",
        "    # initialize history\n",
        "    history_probs = [0]*num_beams\n",
        "    history_tokens = [encoded[0]]*num_beams\n",
        "\n",
        "    # select num_beams candidates\n",
        "    history_probs, history_tokens = select_candidates([y_hat],\n",
        "                                        num_beams,\n",
        "                                        vocab_size,\n",
        "                                        history_probs,\n",
        "                                        history_tokens,\n",
        "                                        temp,\n",
        "                                        mode)\n",
        "\n",
        "    # beam search loop\n",
        "    for i in range(num_words-1):\n",
        "\n",
        "      preds = []\n",
        "\n",
        "      for hist in history_tokens:\n",
        "\n",
        "        # actualizar secuencia de tokens\n",
        "        input_update = np.array([hist[i+1:]]).copy()\n",
        "\n",
        "        # predicción\n",
        "        y_hat = model.predict(input_update,verbose=0)[0,-1,:]\n",
        "\n",
        "        preds.append(y_hat)\n",
        "\n",
        "      history_probs, history_tokens = select_candidates(preds,\n",
        "                                                        num_beams,\n",
        "                                                        vocab_size,\n",
        "                                                        history_probs,\n",
        "                                                        history_tokens,\n",
        "                                                        temp,\n",
        "                                                        mode)\n",
        "\n",
        "    return history_tokens[:,-(len(input)+num_words):]"
      ]
    },
    {
      "cell_type": "code",
      "execution_count": 55,
      "metadata": {
        "id": "GeLqAoOYW1Hm"
      },
      "outputs": [
        {
          "name": "stdout",
          "output_type": "stream",
          "text": [
            "--- Elman ---\n",
            "dorian gray estaba en el mundo en el mundo en el mundo en el mundo e\n",
            "dorian gray estaba en el mundo en el mundo en el mundo en la cabeza \n",
            "dorian gray estaba en el mundo en el mundo en el retrato de la vida \n",
            "dorian gray estaba en el mundo en el mundo en el mundo en el mundo. \n",
            "dorian gray estaba en el mundo en el mundo en el mundo en el pintor \n",
            "dorian gray estaba en el mundo en el mundo en el mundo en el mundo, \n",
            "dorian gray estaba en el mundo en el mundo en el mundo en la cabeza.\n",
            "dorian gray estaba en el mundo en el mundo en el mundo en el mundo a\n",
            "dorian gray estaba en el mundo en el mundo en el mundo en el mundo l\n",
            "dorian gray estaba en el mundo en el mundo en el mundo en el mundo s\n",
            "--- LSTM ---\n",
            "dorian gray estaba en el cuadro de las mujeres que se había encontra\n",
            "dorian gray estaba en el cuadro de las mujeres que había algo en el \n",
            "dorian gray estaba en el cuadro de las mujeres que se había sido una\n",
            "dorian gray estaba en el cuadro de las mujeres que había algo en la \n",
            "dorian gray estaba en el cuadro de las mujeres que se había sido un \n",
            "dorian gray estaba en el cuadro de las mujeres que se había sido el \n",
            "dorian gray estaba en el cuadro de las mujeres que se había sido en \n",
            "dorian gray estaba en el cuadro de las mujeres que había algo que se\n",
            "dorian gray estaba en el cuadro de las mujeres que había sido una ma\n",
            "dorian gray estaba en el cuadro de las mujeres que había algo que el\n",
            "--- GRU ---\n",
            "dorian gray estaba en una persona de las mujeres de los sentidos de \n",
            "dorian gray estaba en una persona de las mujeres de las mujeres de l\n",
            "dorian gray estaba en una persona de las mujeres de las mujeres de s\n",
            "dorian gray estaba en una persona de las mujeres de las mujeres del \n",
            "dorian gray estaba en una persona de las mujeres de los sentidos en \n",
            "dorian gray estaba en una persona de las mujeres de las cosas que se\n",
            "dorian gray estaba en una persona de las mujeres de la cabeza de la \n",
            "dorian gray estaba en una persona de las mujeres de las mujeres de c\n",
            "dorian gray estaba en una persona de las mujeres de las mujeres de \n",
            "dorian gray estaba en una persona de las mujeres de las mujeres \n",
            "de\n",
            "--- GRU5 ---\n",
            "dorian gray estaba que lo que había que lo que lo que lo que lo que \n",
            "dorian gray estaba que lo que lo que lo que lo que lo que lo que se \n",
            "dorian gray estaba que lo que lo que lo que lo que lo que lo que no \n",
            "dorian gray estaba que lo que lo que lo que lo que lo que lo que lo \n",
            "dorian gray estaba que lo que lo que lo que lo que lo que lo que la \n",
            "dorian gray estaba que lo que lo que lo que lo que lo que lo que es \n",
            "dorian gray estaba que lo que lo que lo que lo que lo que lo que te \n",
            "dorian gray estaba que lo que había que lo que lo que lo que lo habí\n",
            "dorian gray estaba que lo que lo que lo que lo que lo que lo había e\n",
            "dorian gray estaba que lo que lo que lo que lo que lo que lo había d\n"
          ]
        }
      ],
      "source": [
        "# predicción con beam search\n",
        "print('--- Elman ---')\n",
        "beam= beam_search(model,num_beams=10,num_words=50,input=\"dorian gray estaba\");\n",
        "for item in range(10):\n",
        "    print(decode(beam[item]))\n",
        "print('--- LSTM ---')\n",
        "beam= beam_search(model1,num_beams=10,num_words=50,input=\"dorian gray estaba\");\n",
        "for item in range(10):\n",
        "    print(decode(beam[item]))\n",
        "print('--- GRU ---')\n",
        "beam= beam_search(model2,num_beams=10,num_words=50,input=\"dorian gray estaba\");\n",
        "for item in range(10):\n",
        "    print(decode(beam[item]))\n",
        "print('--- GRU5 ---')\n",
        "beam= beam_search(model3,num_beams=10,num_words=50,input=\"dorian gray estaba\");\n",
        "for item in range(10):\n",
        "    print(decode(beam[item]))\n"
      ]
    },
    {
      "cell_type": "code",
      "execution_count": 57,
      "metadata": {},
      "outputs": [
        {
          "name": "stdout",
          "output_type": "stream",
          "text": [
            "--- Elman ---\n",
            "dorian gray estaba en el mundo en el mundo en el mundo en el mundo e\n",
            "dorian gray estaba en el mundo en el mundo en el mundo en la cabeza \n",
            "dorian gray estaba en el mundo en el mundo en el retrato de la vida \n",
            "dorian gray estaba en el mundo en el mundo en el mundo en el mundo. \n",
            "dorian gray estaba en el mundo en el mundo en el mundo en el pintor \n",
            "dorian gray estaba en el mundo en el mundo en el mundo en el mundo, \n",
            "dorian gray estaba en el mundo en el mundo en el mundo en la cabeza.\n",
            "dorian gray estaba en el mundo en el mundo en el mundo en el mundo a\n",
            "dorian gray estaba en el mundo en el mundo en el mundo en el mundo l\n",
            "dorian gray estaba en el mundo en el mundo en el mundo en el mundo s\n",
            "--- LSTM ---\n",
            "dorian gray estaba en el cuadro de las mujeres que se había encontra\n",
            "dorian gray estaba en el cuadro de las mujeres que había algo en el \n",
            "dorian gray estaba en el cuadro de las mujeres que se había sido una\n",
            "dorian gray estaba en el cuadro de las mujeres que había algo en la \n",
            "dorian gray estaba en el cuadro de las mujeres que se había sido un \n",
            "dorian gray estaba en el cuadro de las mujeres que se había sido el \n",
            "dorian gray estaba en el cuadro de las mujeres que se había sido en \n",
            "dorian gray estaba en el cuadro de las mujeres que había algo que se\n",
            "dorian gray estaba en el cuadro de las mujeres que había sido una ma\n",
            "dorian gray estaba en el cuadro de las mujeres que había algo que el\n",
            "--- GRU ---\n",
            "dorian gray estaba en una persona de las mujeres de los sentidos de \n",
            "dorian gray estaba en una persona de las mujeres de las mujeres de l\n",
            "dorian gray estaba en una persona de las mujeres de las mujeres de s\n",
            "dorian gray estaba en una persona de las mujeres de las mujeres del \n",
            "dorian gray estaba en una persona de las mujeres de los sentidos en \n",
            "dorian gray estaba en una persona de las mujeres de las cosas que se\n",
            "dorian gray estaba en una persona de las mujeres de la cabeza de la \n",
            "dorian gray estaba en una persona de las mujeres de las mujeres de c\n",
            "dorian gray estaba en una persona de las mujeres de las mujeres de \n",
            "dorian gray estaba en una persona de las mujeres de las mujeres \n",
            "de\n",
            "--- GRU5 ---\n",
            "dorian gray estaba que lo que había que lo que lo que lo que lo que \n",
            "dorian gray estaba que lo que lo que lo que lo que lo que lo que se \n",
            "dorian gray estaba que lo que lo que lo que lo que lo que lo que no \n",
            "dorian gray estaba que lo que lo que lo que lo que lo que lo que lo \n",
            "dorian gray estaba que lo que lo que lo que lo que lo que lo que la \n",
            "dorian gray estaba que lo que lo que lo que lo que lo que lo que es \n",
            "dorian gray estaba que lo que lo que lo que lo que lo que lo que te \n",
            "dorian gray estaba que lo que había que lo que lo que lo que lo habí\n",
            "dorian gray estaba que lo que lo que lo que lo que lo que lo había e\n",
            "dorian gray estaba que lo que lo que lo que lo que lo que lo había d\n"
          ]
        }
      ],
      "source": [
        "# predicción con beam search con temperatura 10\n",
        "print('--- Elman ---')\n",
        "beam= beam_search(model,num_beams=10,num_words=50,input=\"dorian gray estaba\",temp=10);\n",
        "for item in range(10):\n",
        "    print(decode(beam[item]))\n",
        "print('--- LSTM ---')\n",
        "beam= beam_search(model1,num_beams=10,num_words=50,input=\"dorian gray estaba\",temp=10);\n",
        "for item in range(10):\n",
        "    print(decode(beam[item]))\n",
        "print('--- GRU ---')\n",
        "beam= beam_search(model2,num_beams=10,num_words=50,input=\"dorian gray estaba\",temp=10);\n",
        "for item in range(10):\n",
        "    print(decode(beam[item]))\n",
        "print('--- GRU5 ---')\n",
        "beam= beam_search(model3,num_beams=10,num_words=50,input=\"dorian gray estaba\",temp=10);\n",
        "for item in range(10):\n",
        "    print(decode(beam[item]))"
      ]
    },
    {
      "cell_type": "markdown",
      "metadata": {},
      "source": [
        "A ojo desnudo las oraciones mas humanas vienen de LSTM Y GRU que son los dos modelos de minima perplexity."
      ]
    },
    {
      "cell_type": "markdown",
      "metadata": {},
      "source": [
        "Para verificar y explorar un poco mas, propongo entrenar 20 epocas mas el mejor modelo, GRU"
      ]
    },
    {
      "cell_type": "code",
      "execution_count": 61,
      "metadata": {},
      "outputs": [
        {
          "name": "stdout",
          "output_type": "stream",
          "text": [
            "Epoch 1/20\n",
            "205/205 [==============================] - ETA: 0s - loss: 1.3832\n",
            " mean perplexity: 4.258897235967298 \n",
            "\n",
            "INFO:tensorflow:Assets written to: my_model_GRU\\assets\n"
          ]
        },
        {
          "name": "stderr",
          "output_type": "stream",
          "text": [
            "INFO:tensorflow:Assets written to: my_model_GRU\\assets\n"
          ]
        },
        {
          "name": "stdout",
          "output_type": "stream",
          "text": [
            "Saved new model!\n",
            "205/205 [==============================] - 121s 591ms/step - loss: 1.3832\n",
            "Epoch 2/20\n",
            "205/205 [==============================] - ETA: 0s - loss: 1.3784\n",
            " mean perplexity: 4.233474987545185 \n",
            "\n",
            "INFO:tensorflow:Assets written to: my_model_GRU\\assets\n"
          ]
        },
        {
          "name": "stderr",
          "output_type": "stream",
          "text": [
            "INFO:tensorflow:Assets written to: my_model_GRU\\assets\n"
          ]
        },
        {
          "name": "stdout",
          "output_type": "stream",
          "text": [
            "Saved new model!\n",
            "205/205 [==============================] - 124s 604ms/step - loss: 1.3784\n",
            "Epoch 3/20\n",
            "205/205 [==============================] - ETA: 0s - loss: 1.3739\n",
            " mean perplexity: 4.2340882880780395 \n",
            "\n",
            "205/205 [==============================] - 117s 572ms/step - loss: 1.3739\n",
            "Epoch 4/20\n",
            "205/205 [==============================] - ETA: 0s - loss: 1.3700\n",
            " mean perplexity: 4.234792194326168 \n",
            "\n",
            "205/205 [==============================] - 115s 562ms/step - loss: 1.3700\n",
            "Epoch 5/20\n",
            "205/205 [==============================] - ETA: 0s - loss: 1.3662\n",
            " mean perplexity: 4.227513137912837 \n",
            "\n",
            "INFO:tensorflow:Assets written to: my_model_GRU\\assets\n"
          ]
        },
        {
          "name": "stderr",
          "output_type": "stream",
          "text": [
            "INFO:tensorflow:Assets written to: my_model_GRU\\assets\n"
          ]
        },
        {
          "name": "stdout",
          "output_type": "stream",
          "text": [
            "Saved new model!\n",
            "205/205 [==============================] - 120s 586ms/step - loss: 1.3662\n",
            "Epoch 6/20\n",
            "205/205 [==============================] - ETA: 0s - loss: 1.3627\n",
            " mean perplexity: 4.215819880061064 \n",
            "\n",
            "INFO:tensorflow:Assets written to: my_model_GRU\\assets\n"
          ]
        },
        {
          "name": "stderr",
          "output_type": "stream",
          "text": [
            "INFO:tensorflow:Assets written to: my_model_GRU\\assets\n"
          ]
        },
        {
          "name": "stdout",
          "output_type": "stream",
          "text": [
            "Saved new model!\n",
            "205/205 [==============================] - 118s 574ms/step - loss: 1.3627\n",
            "Epoch 7/20\n",
            "205/205 [==============================] - ETA: 0s - loss: 1.3595\n",
            " mean perplexity: 4.201654175042858 \n",
            "\n",
            "INFO:tensorflow:Assets written to: my_model_GRU\\assets\n"
          ]
        },
        {
          "name": "stderr",
          "output_type": "stream",
          "text": [
            "INFO:tensorflow:Assets written to: my_model_GRU\\assets\n"
          ]
        },
        {
          "name": "stdout",
          "output_type": "stream",
          "text": [
            "Saved new model!\n",
            "205/205 [==============================] - 117s 571ms/step - loss: 1.3595\n",
            "Epoch 8/20\n",
            "205/205 [==============================] - ETA: 0s - loss: 1.3563\n",
            " mean perplexity: 4.211527819363268 \n",
            "\n",
            "205/205 [==============================] - 116s 565ms/step - loss: 1.3563\n",
            "Epoch 9/20\n",
            "205/205 [==============================] - ETA: 0s - loss: 1.3535\n",
            " mean perplexity: 4.19811999954962 \n",
            "\n",
            "INFO:tensorflow:Assets written to: my_model_GRU\\assets\n"
          ]
        },
        {
          "name": "stderr",
          "output_type": "stream",
          "text": [
            "INFO:tensorflow:Assets written to: my_model_GRU\\assets\n"
          ]
        },
        {
          "name": "stdout",
          "output_type": "stream",
          "text": [
            "Saved new model!\n",
            "205/205 [==============================] - 117s 571ms/step - loss: 1.3535\n",
            "Epoch 10/20\n",
            "205/205 [==============================] - ETA: 0s - loss: 1.3509\n",
            " mean perplexity: 4.182627813236662 \n",
            "\n",
            "INFO:tensorflow:Assets written to: my_model_GRU\\assets\n"
          ]
        },
        {
          "name": "stderr",
          "output_type": "stream",
          "text": [
            "INFO:tensorflow:Assets written to: my_model_GRU\\assets\n"
          ]
        },
        {
          "name": "stdout",
          "output_type": "stream",
          "text": [
            "Saved new model!\n",
            "205/205 [==============================] - 120s 584ms/step - loss: 1.3509\n",
            "Epoch 11/20\n",
            "205/205 [==============================] - ETA: 0s - loss: 1.3483\n",
            " mean perplexity: 4.195216977082096 \n",
            "\n",
            "205/205 [==============================] - 117s 571ms/step - loss: 1.3483\n",
            "Epoch 12/20\n",
            "205/205 [==============================] - ETA: 0s - loss: 1.3459\n",
            " mean perplexity: 4.1753532335427925 \n",
            "\n",
            "INFO:tensorflow:Assets written to: my_model_GRU\\assets\n"
          ]
        },
        {
          "name": "stderr",
          "output_type": "stream",
          "text": [
            "INFO:tensorflow:Assets written to: my_model_GRU\\assets\n"
          ]
        },
        {
          "name": "stdout",
          "output_type": "stream",
          "text": [
            "Saved new model!\n",
            "205/205 [==============================] - 118s 578ms/step - loss: 1.3459\n",
            "Epoch 13/20\n",
            "205/205 [==============================] - ETA: 0s - loss: 1.3438\n",
            " mean perplexity: 4.18966756654183 \n",
            "\n",
            "205/205 [==============================] - 115s 561ms/step - loss: 1.3438\n",
            "Epoch 14/20\n",
            "205/205 [==============================] - ETA: 0s - loss: 1.3417\n",
            " mean perplexity: 4.191606138060005 \n",
            "\n",
            "205/205 [==============================] - 115s 562ms/step - loss: 1.3417\n",
            "Epoch 15/20\n",
            "205/205 [==============================] - ETA: 0s - loss: 1.3396\n",
            " mean perplexity: 4.18762665598782 \n",
            "\n",
            "205/205 [==============================] - 114s 557ms/step - loss: 1.3396\n",
            "Epoch 16/20\n",
            "205/205 [==============================] - ETA: 0s - loss: 1.3376\n",
            " mean perplexity: 4.177427859228957 \n",
            "\n",
            "205/205 [==============================] - 119s 583ms/step - loss: 1.3376\n",
            "Epoch 17/20\n",
            "205/205 [==============================] - ETA: 0s - loss: 1.3356\n",
            " mean perplexity: 4.17243857544966 \n",
            "\n",
            "INFO:tensorflow:Assets written to: my_model_GRU\\assets\n"
          ]
        },
        {
          "name": "stderr",
          "output_type": "stream",
          "text": [
            "INFO:tensorflow:Assets written to: my_model_GRU\\assets\n"
          ]
        },
        {
          "name": "stdout",
          "output_type": "stream",
          "text": [
            "Saved new model!\n",
            "205/205 [==============================] - 117s 571ms/step - loss: 1.3356\n",
            "Epoch 18/20\n",
            "205/205 [==============================] - ETA: 0s - loss: 1.3340\n",
            " mean perplexity: 4.209343747903034 \n",
            "\n",
            "205/205 [==============================] - 120s 583ms/step - loss: 1.3340\n",
            "Epoch 19/20\n",
            "205/205 [==============================] - ETA: 0s - loss: 1.3322\n",
            " mean perplexity: 4.191259932981212 \n",
            "\n",
            "205/205 [==============================] - 116s 565ms/step - loss: 1.3322\n",
            "Epoch 20/20\n",
            "205/205 [==============================] - ETA: 0s - loss: 1.3307\n",
            " mean perplexity: 4.216023009831537 \n",
            "\n",
            "205/205 [==============================] - 116s 565ms/step - loss: 1.3307\n"
          ]
        }
      ],
      "source": [
        "#Entrenemos GRU POR 20 epocas mas! (o hasta el early stopping)\n",
        "history_ppl = []\n",
        "hist = model2.fit(X, y, epochs=20, callbacks=[PplCallback(tokenized_sentences_val,history_ppl,5,'my_model_GRU')], batch_size=2048)"
      ]
    },
    {
      "cell_type": "markdown",
      "metadata": {
        "id": "Q_LlqmtEW1Hn"
      },
      "source": []
    },
    {
      "cell_type": "code",
      "execution_count": 62,
      "metadata": {},
      "outputs": [
        {
          "name": "stdout",
          "output_type": "stream",
          "text": [
            "WARNING:tensorflow:Layer gru will not use cuDNN kernels since it doesn't meet the criteria. It will use a generic GPU kernel as fallback when running on GPU.\n"
          ]
        },
        {
          "name": "stderr",
          "output_type": "stream",
          "text": [
            "WARNING:tensorflow:Layer gru will not use cuDNN kernels since it doesn't meet the criteria. It will use a generic GPU kernel as fallback when running on GPU.\n"
          ]
        }
      ],
      "source": [
        "model2 = keras.models.load_model('my_model_GRU')"
      ]
    },
    {
      "cell_type": "markdown",
      "metadata": {},
      "source": [
        "Cargamos el mejor modelo y generamos 5 textos para ver que tan humano es!"
      ]
    },
    {
      "cell_type": "code",
      "execution_count": 67,
      "metadata": {},
      "outputs": [
        {
          "name": "stdout",
          "output_type": "stream",
          "text": [
            "--- GRU ---\n",
            "dorian gray es lo que había encontrado por la cabeza de las cosas\n",
            "dorian gray es lo que había encontrado por la cabeza de las mujer\n",
            "dorian gray es lo que había encontrado por la cabeza de las manos\n",
            "dorian gray es lo que había encontrado con las mujeres de los ojo\n",
            "dorian gray es lo que había encontrado con las mujeres de las cos\n",
            "dorian gray es lo que había encontrado con las mujeres de las man\n",
            "dorian gray es lo que había encontrado con las mujeres de las muj\n",
            "dorian gray es lo que había encontrado con las mujeres de las \n",
            "c\n",
            "dorian gray es lo que había encontrado con las mujeres de las \n",
            "p\n",
            "dorian gray es lo que había encontrado con las mujeres de las pal\n"
          ]
        }
      ],
      "source": [
        "print('--- GRU ---')\n",
        "beam= beam_search(model2,num_beams=10,num_words=50,input=\"dorian gray es \",temp=10);\n",
        "for item in range(10):\n",
        "    print(decode(beam[item]))"
      ]
    },
    {
      "cell_type": "markdown",
      "metadata": {},
      "source": [
        "No es excelente, pero para ser un modelo tan secillo, entrenado por una hora, es bastante bueno."
      ]
    }
  ],
  "metadata": {
    "accelerator": "GPU",
    "colab": {
      "gpuType": "L4",
      "provenance": []
    },
    "kernelspec": {
      "display_name": "Python 3",
      "name": "python3"
    },
    "language_info": {
      "codemirror_mode": {
        "name": "ipython",
        "version": 3
      },
      "file_extension": ".py",
      "mimetype": "text/x-python",
      "name": "python",
      "nbconvert_exporter": "python",
      "pygments_lexer": "ipython3",
      "version": "3.10.14"
    }
  },
  "nbformat": 4,
  "nbformat_minor": 0
}
