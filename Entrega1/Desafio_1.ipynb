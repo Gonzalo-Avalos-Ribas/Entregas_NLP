{
  "cells": [
    {
      "cell_type": "markdown",
      "metadata": {
        "id": "zq6j8LsYq1Dr"
      },
      "source": [
        "### Vectorización de texto y modelo de clasificación Naïve Bayes con el dataset 20 newsgroups"
      ]
    },
    {
      "cell_type": "code",
      "execution_count": 1,
      "metadata": {
        "id": "l7cXR6CI30ry"
      },
      "outputs": [],
      "source": [
        "from sklearn.feature_extraction.text import CountVectorizer, TfidfVectorizer\n",
        "from sklearn.metrics.pairwise import cosine_similarity\n",
        "from sklearn.naive_bayes import MultinomialNB, ComplementNB\n",
        "from sklearn.metrics import f1_score\n",
        "\n",
        "# 20newsgroups por ser un dataset clásico de NLP ya viene incluido y formateado\n",
        "# en sklearn\n",
        "from sklearn.datasets import fetch_20newsgroups\n",
        "import numpy as np"
      ]
    },
    {
      "cell_type": "markdown",
      "metadata": {
        "id": "yD-pVDWV_rQc"
      },
      "source": [
        "## Carga de datos"
      ]
    },
    {
      "cell_type": "code",
      "execution_count": 2,
      "metadata": {
        "id": "Ech9qJaUo9vK"
      },
      "outputs": [],
      "source": [
        "# cargamos los datos (ya separados de forma predeterminada en train y test)\n",
        "newsgroups_train = fetch_20newsgroups(subset='train', remove=('headers', 'footers', 'quotes'))\n",
        "newsgroups_test = fetch_20newsgroups(subset='test', remove=('headers', 'footers', 'quotes'))"
      ]
    },
    {
      "cell_type": "markdown",
      "metadata": {
        "id": "UxjSI7su_uWI"
      },
      "source": [
        "## Vectorización"
      ]
    },
    {
      "cell_type": "code",
      "execution_count": 3,
      "metadata": {
        "id": "-94VP0QYCzDn"
      },
      "outputs": [],
      "source": [
        "# instanciamos un vectorizador\n",
        "# ver diferentes parámetros de instanciación en la documentación de sklearn\n",
        "tfidfvect = TfidfVectorizer()"
      ]
    },
    {
      "cell_type": "code",
      "execution_count": 4,
      "metadata": {
        "colab": {
          "base_uri": "https://localhost:8080/",
          "height": 104
        },
        "id": "ftPlyanuak8n",
        "outputId": "45a94d0e-49e7-4f7c-c806-7d5b66779dd0"
      },
      "outputs": [
        {
          "data": {
            "text/plain": [
              "'I was wondering if anyone out there could enlighten me on this car I saw\\nthe other day. It was a 2-door sports car, looked to be from the late 60s/\\nearly 70s. It was called a Bricklin. The doors were really small. In addition,\\nthe front bumper was separate from the rest of the body. This is \\nall I know. If anyone can tellme a model name, engine specs, years\\nof production, where this car is made, history, or whatever info you\\nhave on this funky looking car, please e-mail.'"
            ]
          },
          "execution_count": 4,
          "metadata": {},
          "output_type": "execute_result"
        }
      ],
      "source": [
        "# en el atributo `data` accedemos al texto\n",
        "newsgroups_train.data[0]"
      ]
    },
    {
      "cell_type": "code",
      "execution_count": 5,
      "metadata": {
        "id": "1zxcXV6aC_oL"
      },
      "outputs": [],
      "source": [
        "# con la interfaz habitual de sklearn podemos fitear el vectorizador\n",
        "# (obtener el vocabulario y calcular el vector IDF)\n",
        "# y transformar directamente los datos\n",
        "X_train = tfidfvect.fit_transform(newsgroups_train.data)\n",
        "# `X_train` la podemos denominar como la matriz documento-término"
      ]
    },
    {
      "cell_type": "code",
      "execution_count": 6,
      "metadata": {
        "colab": {
          "base_uri": "https://localhost:8080/"
        },
        "id": "4Sv7TXbda41-",
        "outputId": "dcca5de6-dac1-4d68-d284-ce7be2ed9e2f"
      },
      "outputs": [
        {
          "name": "stdout",
          "output_type": "stream",
          "text": [
            "<class 'scipy.sparse._csr.csr_matrix'>\n",
            "shape: (11314, 101631)\n",
            "cantidad de documentos: 11314\n",
            "tamaño del vocabulario (dimensionalidad de los vectores): 101631\n"
          ]
        }
      ],
      "source": [
        "# recordar que las vectorizaciones por conteos son esparsas\n",
        "# por ello sklearn convenientemente devuelve los vectores de documentos\n",
        "# como matrices esparsas\n",
        "print(type(X_train))\n",
        "print(f'shape: {X_train.shape}')\n",
        "print(f'cantidad de documentos: {X_train.shape[0]}')\n",
        "print(f'tamaño del vocabulario (dimensionalidad de los vectores): {X_train.shape[1]}')"
      ]
    },
    {
      "cell_type": "code",
      "execution_count": 7,
      "metadata": {
        "colab": {
          "base_uri": "https://localhost:8080/"
        },
        "id": "dgydNTZ2pAgR",
        "outputId": "95111464-e40c-4b57-d154-ede153739a82"
      },
      "outputs": [
        {
          "data": {
            "text/plain": [
              "25775"
            ]
          },
          "execution_count": 7,
          "metadata": {},
          "output_type": "execute_result"
        }
      ],
      "source": [
        "# una vez fiteado el vectorizador, podemos acceder a atributos como el vocabulario\n",
        "# aprendido. Es un diccionario que va de términos a índices.\n",
        "# El índice es la posición en el vector de documento.\n",
        "tfidfvect.vocabulary_['car']"
      ]
    },
    {
      "cell_type": "code",
      "execution_count": 8,
      "metadata": {
        "id": "xnTSZuvyrTcP"
      },
      "outputs": [],
      "source": [
        "# es muy útil tener el diccionario opuesto que va de índices a términos\n",
        "idx2word = {v: k for k,v in tfidfvect.vocabulary_.items()}"
      ]
    },
    {
      "cell_type": "code",
      "execution_count": 10,
      "metadata": {
        "colab": {
          "base_uri": "https://localhost:8080/"
        },
        "id": "je5kxvQMDLvf",
        "outputId": "59799046-9799-406f-c4be-81c5765de58d"
      },
      "outputs": [
        {
          "name": "stdout",
          "output_type": "stream",
          "text": [
            "clases [ 0  1  2  3  4  5  6  7  8  9 10 11 12 13 14 15 16 17 18 19]\n"
          ]
        },
        {
          "data": {
            "text/plain": [
              "['alt.atheism',\n",
              " 'comp.graphics',\n",
              " 'comp.os.ms-windows.misc',\n",
              " 'comp.sys.ibm.pc.hardware',\n",
              " 'comp.sys.mac.hardware',\n",
              " 'comp.windows.x',\n",
              " 'misc.forsale',\n",
              " 'rec.autos',\n",
              " 'rec.motorcycles',\n",
              " 'rec.sport.baseball',\n",
              " 'rec.sport.hockey',\n",
              " 'sci.crypt',\n",
              " 'sci.electronics',\n",
              " 'sci.med',\n",
              " 'sci.space',\n",
              " 'soc.religion.christian',\n",
              " 'talk.politics.guns',\n",
              " 'talk.politics.mideast',\n",
              " 'talk.politics.misc',\n",
              " 'talk.religion.misc']"
            ]
          },
          "execution_count": 10,
          "metadata": {},
          "output_type": "execute_result"
        }
      ],
      "source": [
        "# hay 20 clases correspondientes a los 20 grupos de noticias\n",
        "print(f'clases {np.unique(newsgroups_test.target)}')\n",
        "newsgroups_test.target_names"
      ]
    },
    {
      "cell_type": "markdown",
      "metadata": {
        "id": "McArD4rSDR2K"
      },
      "source": [
        "### Consigna del desafío 1"
      ]
    },
    {
      "cell_type": "markdown",
      "metadata": {
        "id": "lJgf6GQIIEH1"
      },
      "source": [
        "**1**. Vectorizar documentos. Tomar 5 documentos al azar y medir similaridad con el resto de los documentos.\n",
        "Estudiar los 5 documentos más similares de cada uno analizar si tiene sentido\n",
        "la similaridad según el contenido del texto y la etiqueta de clasificación.\n",
        "\n",
        "**2**. Entrenar modelos de clasificación Naïve Bayes para maximizar el desempeño de clasificación\n",
        "(f1-score macro) en el conjunto de datos de test. Considerar cambiar parámteros\n",
        "de instanciación del vectorizador y los modelos y probar modelos de Naïve Bayes Multinomial\n",
        "y ComplementNB.\n",
        "\n",
        "**3**. Transponer la matriz documento-término. De esa manera se obtiene una matriz\n",
        "término-documento que puede ser interpretada como una colección de vectorización de palabras.\n",
        "Estudiar ahora similaridad entre palabras tomando 5 palabras y estudiando sus 5 más similares.\n"
      ]
    },
    {
      "cell_type": "markdown",
      "metadata": {},
      "source": [
        "## Ejercicio 1"
      ]
    },
    {
      "cell_type": "code",
      "execution_count": 47,
      "metadata": {},
      "outputs": [],
      "source": [
        "# Genero un vector de 5 enteros aleatorios, representan los indices que vamos a seleccionar\n",
        "randomIdx = np.random.randint(len(newsgroups_train.data), size=5)\n",
        "# Recuperamos los documentos, luego los mostraremos.\n",
        "randomDocuments = list(map(lambda idx : newsgroups_train.data[idx],randomIdx))"
      ]
    },
    {
      "cell_type": "code",
      "execution_count": 48,
      "metadata": {},
      "outputs": [],
      "source": [
        "# Instanciamos un vectorizador\n",
        "tfidfvect = TfidfVectorizer()"
      ]
    },
    {
      "cell_type": "code",
      "execution_count": 49,
      "metadata": {},
      "outputs": [],
      "source": [
        "# Entrenamos el vectorizador y transformamos los datos\n",
        "X_train = tfidfvect.fit_transform(newsgroups_train.data)"
      ]
    },
    {
      "cell_type": "code",
      "execution_count": 50,
      "metadata": {},
      "outputs": [],
      "source": [
        "def get_highest_similarity_texts(idx,docTermMatrix,number=5):\n",
        "    # midamos la similaridad coseno con todos los documentos de train\n",
        "    cossim = cosine_similarity(docTermMatrix[idx], docTermMatrix)[0]\n",
        "    # los N documentos más similares:\n",
        "    # empezamos del primero por que consideramos que el documento mas similar es siempre el mismo.\n",
        "    return np.argsort(cossim)[::-1][1:number+1]"
      ]
    },
    {
      "cell_type": "markdown",
      "metadata": {},
      "source": [
        "### Primer documento"
      ]
    },
    {
      "cell_type": "code",
      "execution_count": 51,
      "metadata": {},
      "outputs": [
        {
          "name": "stdout",
          "output_type": "stream",
          "text": [
            "sci.space\n"
          ]
        }
      ],
      "source": [
        "##Tipo\n",
        "print(newsgroups_train.target_names[y_train[randomIdx[0]]])"
      ]
    },
    {
      "cell_type": "code",
      "execution_count": 52,
      "metadata": {},
      "outputs": [
        {
          "name": "stdout",
          "output_type": "stream",
          "text": [
            "Is anybody out there willing to discuss with me careers in the Army that deal\n",
            "with space?  After I graduate, I will have a commitment to serve in the Army, \n",
            "and I would like to spend it in a space-related field.  I saw a post a long\n",
            "time ago about the Air Force Space Command which made a fleeting reference to\n",
            "its Army counter-part.  Any more info on that would be appreciated.  I'm \n",
            "looking for things like: do I branch Intelligence, or Signal, or other?  To\n",
            "whom do I voice my interest in space?  What qualifications are necessary?\n",
            "Etc, etc.  BTW, my major is computer science engineering.\n",
            "\n",
            "Please reply to ktj@reef.cis.ufl.edu\n",
            "sci.space\n",
            "sci.space\n",
            "sci.space\n",
            "sci.space\n",
            "sci.space\n"
          ]
        }
      ],
      "source": [
        "highest_sim = get_highest_similarity_texts(randomIdx[0],X_train)\n",
        "\n",
        "print(randomDocuments[0])\n",
        "for i in highest_sim:\n",
        "  print(newsgroups_train.target_names[y_train[i]])"
      ]
    },
    {
      "cell_type": "markdown",
      "metadata": {},
      "source": [
        "Al parecer todos tienen la misma tematica, por lo que tiene sentido que se midan como alta similitud coseno."
      ]
    },
    {
      "cell_type": "markdown",
      "metadata": {},
      "source": [
        "### Segundo documento"
      ]
    },
    {
      "cell_type": "code",
      "execution_count": 53,
      "metadata": {},
      "outputs": [
        {
          "name": "stdout",
          "output_type": "stream",
          "text": [
            "comp.os.ms-windows.misc\n"
          ]
        }
      ],
      "source": [
        "##Tipo\n",
        "print(newsgroups_train.target_names[y_train[randomIdx[1]]])"
      ]
    },
    {
      "cell_type": "code",
      "execution_count": 54,
      "metadata": {},
      "outputs": [
        {
          "name": "stdout",
          "output_type": "stream",
          "text": [
            "\n",
            "\n",
            "I don't believe IRQ5 is the problem. I tried a mouse on COM3, IRQ4 (the\n",
            "usual place) and it still did not like it. Simply, Windows seems to only\n",
            "support mice on COM1 or COM2. The funny part is, though, that\n",
            "Microsoft's own mouse driver (8.xx) was quite happy with my mouse\n",
            "sitting on COM3. Why can't Windows use the mouse driver, or at least\n",
            "support COM3? :-)\n",
            "\n",
            "\n",
            "I've tried this too. Actually, I wanted to be able to use my second\n",
            "modem (COM3/IRQ5) from Windows. It still will not talk to that modem. I\n",
            "created two profiles, AMSTRAD (for my Amstrad modem on COM1/IRQ4) and\n",
            "MAESTRO (for my Maestro on COM3/IRQ5). It will not talk to the Maestro\n",
            "at all.\n",
            "\n",
            "\n",
            "Nor here. (Windows 3.0).\n",
            "\n",
            "\n",
            "I've seen nothing like that. I've experimented with Logitech's mouse\n",
            "driver too, with no sucess.\n",
            "\n",
            "\n",
            "If you have a SoundBlaster Pro, it should support IRQ10 as well.\n",
            "Finally, a board that supports IRQs >9. The only one I have (except my\n",
            "IDE controller).\n",
            "\n",
            "hamish\n",
            "\n",
            "comp.os.ms-windows.misc\n",
            "comp.sys.ibm.pc.hardware\n",
            "comp.sys.ibm.pc.hardware\n",
            "comp.os.ms-windows.misc\n",
            "comp.sys.ibm.pc.hardware\n"
          ]
        }
      ],
      "source": [
        "highest_sim = get_highest_similarity_texts(randomIdx[1],X_train)\n",
        "\n",
        "print(randomDocuments[1])\n",
        "for i in highest_sim:\n",
        "  print(newsgroups_train.target_names[y_train[i]])"
      ]
    },
    {
      "cell_type": "markdown",
      "metadata": {},
      "source": [
        "Podemos ver que hay cierta confusion por lo menos en el tipo al que corresponde. Podriamos elegir alguno de los textos por ejemplo el 2do y mostrarlo para analizar el contenido."
      ]
    },
    {
      "cell_type": "code",
      "execution_count": 56,
      "metadata": {},
      "outputs": [
        {
          "name": "stdout",
          "output_type": "stream",
          "text": [
            "\n",
            "Not completly true.  For AT class and later machines, IRQ5 is\n",
            "reserved for LPT2.  Since it's rare to have a second parallel\n",
            "port in a PC, it's usually a good safe choice if you need an\n",
            "interrupt.\n",
            "\n",
            "On the other hand, we just ran into a problem with that here\n",
            "at work on a Gateway computer (4DX-33V).  It has a Modem on COM1,\n",
            "a Mouse on COM2, and the other serial port was set to COM3 (which\n",
            "normally uses the same interrupt as COM1).  We had a real fight\n",
            "with a board when trying to use IRQ5, and discoverd the problem\n",
            "was that Gateway had set it up such that COM3 used IRQ5.  As soon\n",
            "as we disabled COM3, our problems went away.  Grumble ... after\n",
            "several days of trying to figure out why the interrupt didn't work.\n"
          ]
        }
      ],
      "source": [
        "print(newsgroups_train.data[highest_sim[1]])"
      ]
    },
    {
      "cell_type": "markdown",
      "metadata": {},
      "source": [
        "Si bien la tematica es comp.sys.ibm.pc.hardware tambien se estan hablando de modems, por lo tanto es logico que la simulitud sea alta."
      ]
    },
    {
      "cell_type": "markdown",
      "metadata": {},
      "source": [
        "### Tercer documento"
      ]
    },
    {
      "cell_type": "code",
      "execution_count": 57,
      "metadata": {},
      "outputs": [
        {
          "name": "stdout",
          "output_type": "stream",
          "text": [
            "rec.sport.baseball\n"
          ]
        }
      ],
      "source": [
        "##Tipo\n",
        "print(newsgroups_train.target_names[y_train[randomIdx[2]]])"
      ]
    },
    {
      "cell_type": "code",
      "execution_count": 60,
      "metadata": {},
      "outputs": [
        {
          "name": "stdout",
          "output_type": "stream",
          "text": [
            "Was going over some videos last night.....\n",
            "\n",
            "Studying 1986 and 1992 videotapes of Jose Canseco proved to be very\n",
            "interesting.  And enlightening.\n",
            "\n",
            "Here's my analysis of Jose Canseco, circa Sep '92, and Jose Canseco,\n",
            "circa June 1986.\n",
            "\n",
            "1.  He's bulked up too much.  Period.  He needs to LOSE about 20 pounds,\n",
            "    not gain more bulk.\n",
            "\n",
            "2.  His bat speed has absolutely VANISHED.  Conservatively, I'd say he's\n",
            "    lost 4%-7% of his bat speed, and that's a HUGE amount of speed.\n",
            "\n",
            "3.  That open stance is KILLING him.   Note that he acts sort of like\n",
            "    Brian Downing - way open to start, then closes up as ball is\n",
            "    released.  Downing could do this without significant head movement -\n",
            "    Canseco can't.  Also, note that Canseco doesn't always close his\n",
            "    stance the same way - sometimes, his hips are open, sometimes,\n",
            "    they're fully closed.  Without a good starting point, it's hard\n",
            "    to make adjustments in your swing.\n",
            "\n",
            "What would I do, if I were Jose?\n",
            "\n",
            "Aside from salting away a large sum of a cash that I could never touch,\n",
            "so that I'd never have to work again, I'd restructure my entire swing.\n",
            "\n",
            "First, minimize movement before the swing.  Close and widen the stance,\n",
            "and severely cut down the stride I take on my swing.  Hopefully, this\n",
            "will cut down on the time I need to swing, and will allow me to move\n",
            "the bathead more freely.\n",
            "\n",
            "Second, drop 20 pounds.  Cut out the weight work.\n",
            "\n",
            "Third, relax the wrists.  Will cost some power, but until I can find\n",
            "my 1988 stroke, concentrate on keeping the back shoulder up, rolling\n",
            "the wrists through the strike zone, and hit line drives.  His strength\n",
            " is more than enough so that some of those line drives will get out of\n",
            "the park.\n",
            "\n",
            "If Canseco's open stance and resulting bad habits are a result of his back\n",
            "problems, he'll be out of baseball in three years.  If not, he could\n",
            "still hit 600+ HR.\n",
            "\n",
            "\n",
            "rec.sport.baseball\n",
            "rec.sport.baseball\n",
            "rec.sport.baseball\n",
            "soc.religion.christian\n",
            "alt.atheism\n"
          ]
        }
      ],
      "source": [
        "highest_sim = get_highest_similarity_texts(randomIdx[2],X_train)\n",
        "\n",
        "print(randomDocuments[2])\n",
        "for i in highest_sim:\n",
        "  print(newsgroups_train.target_names[y_train[i]])"
      ]
    },
    {
      "cell_type": "markdown",
      "metadata": {},
      "source": [
        "Al parecer el texto es de baseball, sin embargo en la lista de los 5 mas parecido aparace un texto sobre religion, imprimamoslo para notar similitudes."
      ]
    },
    {
      "cell_type": "code",
      "execution_count": 61,
      "metadata": {},
      "outputs": [
        {
          "name": "stdout",
          "output_type": "stream",
          "text": [
            "A listmember (D Andrew Killie, I think) wrote, in response to the\n",
            "suggestion that genocide may sometimes be the will of God:\n",
            "\n",
            " > Any God who works that way is indescribably evil,\n",
            " > and unworthy of my worship or faith.\n",
            "\n",
            "Nobuya \"Higgy\" Higashiyama replied (as, in substance, did others):\n",
            "\n",
            " > Where is your source of moral standards by which you judge God's\n",
            " > behavior?\n",
            "\n",
            "It is often argued that we have no standing by which to judge God's\n",
            "actions.  Who is the clay to talk back to the potter? But we find a\n",
            "contrary view in Scripture. When God proposes to destroy the city of\n",
            "\n",
            " + Suppose that there are some good men in the city.\n",
            " + Will you destroy the righteous along with the wicked?\n",
            " + Far be it from you, Lord, to do such a thing!\n",
            " + Shall not the Judge of all the earth do right?\n",
            "\n",
            "I am told that the Hebrew is actually a bit stronger than this, and\n",
            "can perhaps be better rendered (dynamic equivalence) as\n",
            "\n",
            " + Shame on you, Lord, if you do such a thing!\n",
            "\n",
            "There are those who say that the definition of \"good\" is \"whatever\n",
            "God happens to want.\" But if that is so, then the statement that God\n",
            "is good has no meaning.  It simply says that God does what He wants.\n",
            "That being the case, no one can either love or obey God because He\n",
            "is good. The only motive left for obeying Him is that He is\n",
            "powerful. Just as it makes sense to obey a dictator, even when he\n",
            "tells you to round up all Jews and exterminate them, because if you\n",
            "defy him you might end up in the gas chamber yourself, so it makes\n",
            "sense to obey God, because He has the power to punish you if you\n",
            "don't. This ethical theory I take to be in radical contradiction to\n",
            "Genesis 18 and to Christianity in general.\n",
            "\n",
            "Any theory that makes our moral judgements worthless makes any\n",
            "further discussion of morality (or of the goodness of God)\n",
            "meaningless. However, it does not follow that our moral judgements\n",
            "are always infallible in particular cases, still less our judgements\n",
            "in particular cases about the course of action most likely to\n",
            "achieve a good result.\n",
            "\n",
            "When I read the Scriptural accounts of the actions of God in\n",
            "history, those actions often seem to me very different from what I\n",
            "might expect of a God who loves us and desires what is best for us.\n",
            "Moreover, leaving the Scriptures aside, and considering the natural\n",
            "world, I find that Nature is often very different from what I might\n",
            "\"Those who believe that the Author of Nature is also the Author of\n",
            "the Scriptures must expect to find in the Scriptures the same sort\n",
            "of difficulties that they find in Nature.\")\n",
            "\n",
            "Now, that some such difficulties should exist is not in itself an\n",
            "argument against the existence, power, wisdom, and goodness of God.\n",
            "On the contrary, their ABSENCE would be such an argument. Suppose\n",
            "that I am watching Bobby Fisher play chess, and suppose that every\n",
            "time he makes a move, I find myself nodding and saying: \"Good move!\n",
            "Just what I was expecting him to do.  Same move I would have made if\n",
            "I were playing.\" That would be a sign that Fisher is no better a\n",
            "chess player than myself. Given that he is better, I expect that at\n",
            "least some of his moves will have me thinking, \"Now, what do suppose\n",
            "induced him to do that?\" or even, \"Boy, that was a real slip -- he's\n",
            "just thrown the game away!\" Similarly, if God understands the\n",
            "workings of the universe better than I do, it is to be expected that\n",
            "sometimes it will look to me as if He has made a mistake.\n",
            "\n",
            "One difference between Fisher at the chessboard and God at the\n",
            "controls of the universe is that I can see the end of the chess\n",
            "game. If Fisher wins, I revise my earlier inference that it was\n",
            "carelessness that made him lose his queen 23 moves earlier.\n",
            "However, if he loses, and particularly if I can see that there was a\n",
            "time when he had an opportunity for a checkmate in two moves and did\n",
            "not take it, then I know that he is not as good a player as I had\n",
            "thought.\n",
            "\n",
            "With God, on the other hand, I shall not in this life see the total\n",
            "result of some of His actions. Therefore, my grounds for judging\n",
            "that I have seen a bad move on His part must always be far shakier\n",
            "than my grounds for making a similar judgement about Fisher.\n",
            "\n",
            "     *****     *****     *****     *****     *****\n",
            "\n",
            "In the book of Genesis, we read that Joseph's ten older brothers,\n",
            "who (with good reason) found  him insufferable, conspired to sell\n",
            "him into slavery in Egypt. There he eventually became Viceroy, and\n",
            "when there was a famine in Canaan, he was able to provide for his\n",
            "family. When his brothers nervously apologized, he told them: \"Do\n",
            "not worry. You meant to do me evil, but God turned it into good.\"\n",
            "\n",
            "\n",
            "        The history of the Jews is largely a history of events\n",
            "   that look like catastrophes that threaten the continued\n",
            "   survival of the religion, or the people, or both. But,\n",
            "   amazingly, those events turn out to be the saving of the Jews\n",
            "   and of Judaism.\n",
            "        The sale of Joseph by his brothers looked like the breakup\n",
            "   of the family.  But in fact, it ended with a reconciliation of\n",
            "   the quarrel between them. The famine that drove the family out\n",
            "   of Canaan looked like a misfortune for them.  But in fact, if\n",
            "   they had stayed in Canaan, they would almost certainly have\n",
            "   intermarried with the Canaanites and been assimilated into\n",
            "   their culture.  Their oppression by the Egyptians a few\n",
            "   generations after their arrival in Egypt again looked like a\n",
            "   disaster. But God used it to bring them out of Egypt, and into\n",
            "   the Promised Land.\n",
            "        Here the people built a Temple, and regularly offered\n",
            "   sacrifices. But the Babylonians captured Jerusalem and Judea,\n",
            "   destroyed Temple and city and countryside, and deported most of\n",
            "   the people to Babylon. You might have thought that that would\n",
            "   be the end of the people and the religion. But it was not.\n",
            "   Living in Canaan, the people had been under constant danger of\n",
            "   assimilation.  Again and again, they had turned from the\n",
            "   worship of the LORD to the worship of the Canaanite fertility\n",
            "   cults, with their ritual prostitution and ritual human\n",
            "   sacrifice. The Babylonian captivity put a stop to that. Never\n",
            "   again did the Jews show any interest in polytheism or idolatry.\n",
            "   Neither the worship of the Canaanites mor that of the\n",
            "   Babylonians ever again had a foothold among them.\n",
            "        Nor is that all. Judaism had been in danger of becoming\n",
            "   simply a system of sacrifices and Temple observances. The only\n",
            "   prescribed acts of worship consisted of coming to Jerusalem\n",
            "   every so often and offering a sacrifice. During the Captivity,\n",
            "   with the Temple gone, the Jews invented the synagogue, a place\n",
            "   of meeting for reading and study and discussion of the\n",
            "   Scriptures. They came to realize clearly, what they were in\n",
            "   danger of forgetting while they continued to live in Judea,\n",
            "   that God is not simply a local or tribal deity, not just the\n",
            "   controller of the land of Canaan, or the patron of the Jewish\n",
            "   people, but the Creator of the world, and the Ruler and Judge\n",
            "   of all humans everywhere.\n",
            "        Time passed, and the Babylonian Empire was replaced by\n",
            "   that of the Persians, and then that of the Greeks, or rather\n",
            "   the Macedonians. The ruler, Antiochus Epiphanes, was determined\n",
            "   to stamp out Judaism, and to this end he made the reading and\n",
            "   the study of the Torah punishable by death. Again, one might\n",
            "   think that this would be the end of Judaism. But it was not.\n",
            "   The people met for worship, and instead of reading the Torah\n",
            "   portion appointed for the day, they would read some passage\n",
            "   from the prophets that had a similar theme, and then discuss\n",
            "   that.  Before this time, the Torah, the so-called Five Books of\n",
            "   Moses (Genesis, Exodus, Leviticus, Numbers, and Deuteronomy)\n",
            "   were the only books read and studied in the synagogue.  If it\n",
            "   had not been for Antiochus, the books of the prophets would\n",
            "   probably have been forgotten altogether. His hatred for Judaism\n",
            "   saved them.\n",
            "\n",
            "        [Other examples here omitted for brevity's sake.]\n",
            "\n",
            "        Some of you may remember that Julie Andrews first became\n",
            "   famous as Eliza Doolittle in the stage production of MY FAIR\n",
            "   LADY. When Warner Brothers undertook to make a movie of it,\n",
            "   everyone expected that Julie, who had been so magnificent on\n",
            "   stage, would play the same role in the movie. Instead, the\n",
            "   studio decided to go with an established screen star, and cast\n",
            "   Audrey Hepburn.  Julie Andrews was naturally crushed. But she\n",
            "   later realized that if she had played the screen role, she\n",
            "   would have been type-cast for life as an Elize Doolittle type.\n",
            "   It would have been a disaster for her. As it was, Walt Disney\n",
            "   offered her the role of Mary Poppins, and she won an Oscar for\n",
            "   it.  At the presentation, she stood there, smiling, and looking\n",
            "   at Walt Disney, she said, \"And now, my special thanks to the\n",
            "   man who made all this possible -- JACK WARNER!\" It was the most\n",
            "   memorable line of the evening.\n",
            "        In a similar spirit, we Jews might thank the men who in\n",
            "   the providence of God have preserved Judaism, and kept it alive\n",
            "   to this day, beginning with Joseph's brothers, and continuing\n",
            "   with two Pharaohs, with Nebuchadnezzar, with Antiochus\n",
            "   Epiphanes....\n",
            "\n",
            "After the formal meeting had broken up, one woman came up to him\n",
            "privately and said, \"You were talking about the Holocaust, weren't\n",
            "you?\" He answered, \"If that is an example that came to your mind,\n",
            "then you are right, I was talking about it to you. But I would not\n",
            "talk about it to everyone, for not everyone can bear it.\" I assume\n",
            "that he meant that, without the Holocaust, there would have been no\n",
            "state of Israel.\n",
            "\n",
            "Someone hearing the rabbi's lecture might leap to the conclusion\n",
            "that God is dependent on the wickedness of men to accomplish His\n",
            "purposes -- or at least that the rabbi thought so. He might then  go\n",
            "on to suppose that the wickedness is in fact God's doing -- that He\n",
            "stirred up Joseph's brothers to a murderous hate against him, and\n",
            "that when the Israelites were in Egypt, God hardened Pharaoh's\n",
            "heart, so that he oppressed the people, and would not let them go.\n",
            "And this raises questions about how an action can be considered\n",
            "wicked and at the same time be considered something that God has\n",
            "brought about.\n",
            "\n",
            "I suggest another way of looking at it. Consider a sculptor who has\n",
            "a log of wood from which he proposes to carve a statue. But the log,\n",
            "instead of having a smooth even grain throughout, has a large knot\n",
            "that spoils the appearance of the surface. The sculptor considers\n",
            "the wood for a while, and then carves a statue that features the\n",
            "knot, that makes that particular interruption in the grain and color\n",
            "of the wood correspond to some feature of the statue, so that\n",
            "observers will say: \"How fortunate the sculptor was in finding a\n",
            "piece of wood with a knot like that in just the right place. Its\n",
            "presence is the crowning touch, the thing that makes the statue a\n",
            "great work of art.\" In reality, the knot, far from being what the sculptor was\n",
            "looking for, was a challenge to his skill. If the wood had not\n",
            "contained that flaw, he would still have made a great work of art,\n",
            "but a different one. So, if Joseph's brothers had not sold him, God\n",
            "would still have brought about His purposes for the Jewish people,\n",
            "but He would have done so in another manner. If Judas had not\n",
            "betrayed Jesus, if Caiaphas and his fellow leaders had not rejected\n",
            "Jesus, but had rather acknowledged Him as the Annointed of God, if\n",
            "Pilate had followed his conscience rather than his fears and had set\n",
            "Jesus free, it might appear that there would have been no\n",
            "Crucifixion, and therefore no Redemption, and therefore no\n",
            "Salvation. Not so. God did not need Judas' sin to redeem us. If\n",
            "Judas had done right, then God in Christ would still have reconciled\n",
            "the world to Himself.  We do not know how, just as we do not know\n",
            "how Michelangelo would have painted the Sistine Chapel if its\n",
            "interior had instead been shaped like Grand Central Station, and\n",
            "just as we do not know how Bobby Fisher would have won his fourth\n",
            "game agianst Spassky if Spassky had refused the exchange of bishops\n",
            "and had attacked Fisher's knight instead (don't bother to look up\n",
            "the game in question--I am making up this example, but the point is\n",
            "none the less valid).\n",
            "\n",
            "Thus, we may say both (1) that God used, say, the cowardice of\n",
            "Pilate to accomplish His purposes, and (2) that the said cowardice\n",
            "was not God's doing, and that Pilate would not have thwarted God's\n",
            "plans by behaving justly and courageously.\n",
            "\n",
            "What, then, are we to make of the place where God says to Moses, \"I\n",
            "will harden Pharaoh's heart, so that he will not let the people go\"?\n",
            "Some Christians have taken this to mean that Pharaoh was a puppet\n",
            "with God pulling the strings, and that his stubbornness and cruelty\n",
            "were not his own work, but the work of God in him. I suppose rather\n",
            "that what God was telling Moses was something like this: \"If you see\n",
            "that Pharaoh is not willing to let the people go, do not be\n",
            "discouraged, or suppose that the situation is out of my control. My\n",
            "purposes will not be thwarted. If Pharaoh chooses to hear you and\n",
            "let the people go, well and good. If he does not, I will fit his\n",
            "resistance into my plans, and fit it so perfectly that future\n",
            "historians and theologians will suppose that I would have been\n",
            "thrown for a loss if Pharaoh had obeyed me.\"\n",
            "\n",
            "To return to the question that started this all off. Is it possible\n",
            "that the Serbs, in slaughtering the Moslems of Bosnia, are\n",
            "instruments of God's will?\n",
            "     First point. What they are doing is wrong, just as what\n",
            "Joseph's brothers did was wrong, just as what Judas did was wrong.\n",
            "They intend it for evil. If God somehow brings good out of it, that\n",
            "does not make them any less subject to just condemnation and\n",
            "punishment.\n",
            "     Second point. Of course, God will bring good out of it. But not\n",
            "the same good that He would have brought if the Serbians had\n",
            "refrained from the sins of robbery and rape and murder. Nor does the\n",
            "good He purposes excuse us from the duty of doing what is right.\n"
          ]
        }
      ],
      "source": [
        "print(newsgroups_train.data[highest_sim[3]])"
      ]
    },
    {
      "cell_type": "markdown",
      "metadata": {},
      "source": [
        "Este texto es bastante largo, pero parece estar criticando posturas respecto a Dios, si bien lejos de estar relacionado con baseball, el texto de baseball es la critica a un jugador, prodriamos decir que en ese sentido tienen alta similitud."
      ]
    },
    {
      "cell_type": "markdown",
      "metadata": {},
      "source": [
        "### Cuarto documento"
      ]
    },
    {
      "cell_type": "code",
      "execution_count": 64,
      "metadata": {},
      "outputs": [
        {
          "name": "stdout",
          "output_type": "stream",
          "text": [
            "rec.sport.baseball\n"
          ]
        }
      ],
      "source": [
        "##Tipo\n",
        "print(newsgroups_train.target_names[y_train[randomIdx[3]]])"
      ]
    },
    {
      "cell_type": "code",
      "execution_count": 65,
      "metadata": {},
      "outputs": [
        {
          "name": "stdout",
          "output_type": "stream",
          "text": [
            "Count me interested in a Cardinal's mailing list.  If anyone\n",
            "finds one or starts one, please let me know.\n",
            "\n",
            "Thanks,\n",
            "\n",
            "Dick Detweiler\n",
            "comp.windows.x\n",
            "sci.electronics\n",
            "rec.sport.baseball\n",
            "rec.sport.baseball\n",
            "rec.sport.baseball\n"
          ]
        }
      ],
      "source": [
        "highest_sim = get_highest_similarity_texts(randomIdx[3],X_train)\n",
        "\n",
        "print(randomDocuments[3])\n",
        "for i in highest_sim:\n",
        "  print(newsgroups_train.target_names[y_train[i]])"
      ]
    },
    {
      "cell_type": "markdown",
      "metadata": {},
      "source": [
        "Analicemos el mas similar, que es sobre computacion."
      ]
    },
    {
      "cell_type": "code",
      "execution_count": 66,
      "metadata": {},
      "outputs": [
        {
          "name": "stdout",
          "output_type": "stream",
          "text": [
            "Please subscribe me to this mailing list\n"
          ]
        }
      ],
      "source": [
        "print(newsgroups_train.data[highest_sim[0]])"
      ]
    },
    {
      "cell_type": "markdown",
      "metadata": {},
      "source": [
        "Como podemos ver, tienen muchas palabras repetidas, el primer texto es dificil de clasificar a ciegas como uno de baseball. Y por eso se confunde con otros topicos no muy cercanos."
      ]
    },
    {
      "cell_type": "markdown",
      "metadata": {},
      "source": [
        "### Quinto documento"
      ]
    },
    {
      "cell_type": "code",
      "execution_count": 67,
      "metadata": {},
      "outputs": [
        {
          "name": "stdout",
          "output_type": "stream",
          "text": [
            "comp.sys.mac.hardware\n"
          ]
        }
      ],
      "source": [
        "##Tipo\n",
        "print(newsgroups_train.target_names[y_train[randomIdx[4]]])"
      ]
    },
    {
      "cell_type": "code",
      "execution_count": 68,
      "metadata": {},
      "outputs": [
        {
          "name": "stdout",
          "output_type": "stream",
          "text": [
            "\n",
            "\n",
            "OTOH, some of us get lucky-- I've unplugged and replugged SCSI and ADB\n",
            "quite often, and never blown anything.  I blew out the ADB by shorting\n",
            "the cable, though.\n",
            "\n",
            "comp.sys.mac.hardware\n",
            "comp.sys.mac.hardware\n",
            "comp.sys.mac.hardware\n",
            "comp.sys.mac.hardware\n",
            "comp.sys.mac.hardware\n"
          ]
        }
      ],
      "source": [
        "highest_sim = get_highest_similarity_texts(randomIdx[4],X_train)\n",
        "\n",
        "print(randomDocuments[4])\n",
        "for i in highest_sim:\n",
        "  print(newsgroups_train.target_names[y_train[i]])"
      ]
    },
    {
      "cell_type": "markdown",
      "metadata": {},
      "source": [
        "En este caso todos los mas similares comparten el mismo tema, debe ser por la mencion de SCSI y ADB"
      ]
    },
    {
      "cell_type": "markdown",
      "metadata": {},
      "source": [
        "## Ejercicio 2"
      ]
    },
    {
      "cell_type": "code",
      "execution_count": 72,
      "metadata": {},
      "outputs": [],
      "source": [
        "X_test = tfidfvect.transform(newsgroups_test.data)\n",
        "y_test = newsgroups_test.target"
      ]
    },
    {
      "cell_type": "code",
      "execution_count": 73,
      "metadata": {},
      "outputs": [
        {
          "data": {
            "text/plain": [
              "0.5854345727938506"
            ]
          },
          "execution_count": 73,
          "metadata": {},
          "output_type": "execute_result"
        }
      ],
      "source": [
        "# Entrenamos Naive Bayes\n",
        "clf = MultinomialNB()\n",
        "clf.fit(X_train, y_train)\n",
        "# Medimos el F1 score de los datos de test\n",
        "y_pred =  clf.predict(X_test)\n",
        "f1_score(y_test, y_pred, average='macro')"
      ]
    },
    {
      "cell_type": "code",
      "execution_count": 75,
      "metadata": {},
      "outputs": [
        {
          "data": {
            "text/plain": [
              "0.5854345727938506"
            ]
          },
          "execution_count": 75,
          "metadata": {},
          "output_type": "execute_result"
        }
      ],
      "source": [
        "# Entrenamos Naive Bayes\n",
        "clf = MultinomialNB(force_alpha=True)\n",
        "clf.fit(X_train, y_train)\n",
        "# Medimos el F1 score de los datos de test\n",
        "y_pred =  clf.predict(X_test)\n",
        "f1_score(y_test, y_pred, average='macro')"
      ]
    },
    {
      "cell_type": "code",
      "execution_count": 82,
      "metadata": {},
      "outputs": [
        {
          "data": {
            "text/plain": [
              "0.682861129525057"
            ]
          },
          "execution_count": 82,
          "metadata": {},
          "output_type": "execute_result"
        }
      ],
      "source": [
        "# Entrenamos Naive Bayes\n",
        "clf = MultinomialNB(alpha=0.01,force_alpha=True)\n",
        "clf.fit(X_train, y_train)\n",
        "# Medimos el F1 score de los datos de test\n",
        "y_pred =  clf.predict(X_test)\n",
        "f1_score(y_test, y_pred, average='macro')"
      ]
    },
    {
      "cell_type": "markdown",
      "metadata": {},
      "source": [
        "Llevando el alpha a 0.01 mejora mucho el f1-score!"
      ]
    },
    {
      "cell_type": "markdown",
      "metadata": {},
      "source": [
        "Problemos ahora con un ComplementNB"
      ]
    },
    {
      "cell_type": "code",
      "execution_count": 83,
      "metadata": {},
      "outputs": [
        {
          "data": {
            "text/plain": [
              "0.692953349950875"
            ]
          },
          "execution_count": 83,
          "metadata": {},
          "output_type": "execute_result"
        }
      ],
      "source": [
        "# Entrenamos Naive Bayes\n",
        "clf = ComplementNB()\n",
        "clf.fit(X_train, y_train)\n",
        "# Medimos el F1 score de los datos de test\n",
        "y_pred =  clf.predict(X_test)\n",
        "f1_score(y_test, y_pred, average='macro')"
      ]
    },
    {
      "cell_type": "code",
      "execution_count": 99,
      "metadata": {},
      "outputs": [
        {
          "data": {
            "text/plain": [
              "0.6999368058272992"
            ]
          },
          "execution_count": 99,
          "metadata": {},
          "output_type": "execute_result"
        }
      ],
      "source": [
        "# Entrenamos Naive Bayes\n",
        "clf = ComplementNB(alpha=0.3,force_alpha=True)\n",
        "clf.fit(X_train, y_train)\n",
        "# Medimos el F1 score de los datos de test\n",
        "y_pred =  clf.predict(X_test)\n",
        "f1_score(y_test, y_pred, average='macro')"
      ]
    },
    {
      "cell_type": "markdown",
      "metadata": {},
      "source": [
        "## Ejercicio 3"
      ]
    },
    {
      "cell_type": "code",
      "execution_count": 169,
      "metadata": {},
      "outputs": [],
      "source": [
        "termDocMatrix = X_train.T\n",
        "def find_closest_words(word):\n",
        "    cossim = cosine_similarity(termDocMatrix[tfidfvect.vocabulary_[word]], termDocMatrix)[0]\n",
        "    top5 = np.argsort(cossim)[::-1][1:6]\n",
        "    print(f'Las palabras mas parecidas a {word} son: ')\n",
        "    for i in top5:\n",
        "        print(idx2word[i])"
      ]
    },
    {
      "cell_type": "code",
      "execution_count": 170,
      "metadata": {},
      "outputs": [
        {
          "name": "stdout",
          "output_type": "stream",
          "text": [
            "Las palabras mas parecidas a car son: \n",
            "cars\n",
            "criterium\n",
            "civic\n",
            "owner\n",
            "dealer\n"
          ]
        }
      ],
      "source": [
        "find_closest_words('car')"
      ]
    },
    {
      "cell_type": "code",
      "execution_count": 165,
      "metadata": {},
      "outputs": [
        {
          "name": "stdout",
          "output_type": "stream",
          "text": [
            "Las palabras mas parecidas a god son: \n",
            "jesus\n",
            "bible\n",
            "that\n",
            "existence\n",
            "christ\n"
          ]
        }
      ],
      "source": [
        "find_closest_words('god')"
      ]
    },
    {
      "cell_type": "code",
      "execution_count": 166,
      "metadata": {},
      "outputs": [
        {
          "name": "stdout",
          "output_type": "stream",
          "text": [
            "Las palabras mas parecidas a politics son: \n",
            "iftccu\n",
            "hesh\n",
            "fascism\n",
            "bmwmoa\n",
            "lapse\n"
          ]
        }
      ],
      "source": [
        "find_closest_words('politics')"
      ]
    },
    {
      "cell_type": "code",
      "execution_count": 167,
      "metadata": {},
      "outputs": [
        {
          "name": "stdout",
          "output_type": "stream",
          "text": [
            "Las palabras mas parecidas a windows son: \n",
            "dos\n",
            "ms\n",
            "microsoft\n",
            "nt\n",
            "for\n"
          ]
        }
      ],
      "source": [
        "find_closest_words('windows')"
      ]
    },
    {
      "cell_type": "code",
      "execution_count": 168,
      "metadata": {},
      "outputs": [
        {
          "name": "stdout",
          "output_type": "stream",
          "text": [
            "Las palabras mas parecidas a email son: \n",
            "please\n",
            "me\n",
            "replies\n",
            "reconsidered\n",
            "address\n"
          ]
        }
      ],
      "source": [
        "find_closest_words('email')"
      ]
    },
    {
      "cell_type": "markdown",
      "metadata": {},
      "source": [
        "Los resultados no son 'ideales' pero se ajustan a lo observado en el dataset."
      ]
    }
  ],
  "metadata": {
    "colab": {
      "provenance": []
    },
    "kernelspec": {
      "display_name": "Python 3",
      "name": "python3"
    },
    "language_info": {
      "codemirror_mode": {
        "name": "ipython",
        "version": 3
      },
      "file_extension": ".py",
      "mimetype": "text/x-python",
      "name": "python",
      "nbconvert_exporter": "python",
      "pygments_lexer": "ipython3",
      "version": "3.10.14"
    }
  },
  "nbformat": 4,
  "nbformat_minor": 0
}
